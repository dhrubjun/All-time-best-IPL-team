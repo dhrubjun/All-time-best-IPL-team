{
  "nbformat": 4,
  "nbformat_minor": 0,
  "metadata": {
    "colab": {
      "name": "IPL points.ipynb",
      "provenance": [],
      "authorship_tag": "ABX9TyNzm9Q/e26d9Yb9xlmy4Afb",
      "include_colab_link": true
    },
    "kernelspec": {
      "name": "python3",
      "display_name": "Python 3"
    },
    "language_info": {
      "name": "python"
    }
  },
  "cells": [
    {
      "cell_type": "markdown",
      "metadata": {
        "id": "view-in-github",
        "colab_type": "text"
      },
      "source": [
        "<a href=\"https://colab.research.google.com/github/dhrubjun/All-time-best-IPL-team/blob/main/IPL_points.ipynb\" target=\"_parent\"><img src=\"https://colab.research.google.com/assets/colab-badge.svg\" alt=\"Open In Colab\"/></a>"
      ]
    },
    {
      "cell_type": "code",
      "metadata": {
        "id": "mJM_31eMf6rH"
      },
      "source": [
        "import pandas as pd\n",
        "import numpy as np\n",
        "import matplotlib.pyplot as plt\n",
        "import seaborn as sns\n",
        "%matplotlib inline"
      ],
      "execution_count": 1,
      "outputs": []
    },
    {
      "cell_type": "code",
      "metadata": {
        "colab": {
          "base_uri": "https://localhost:8080/"
        },
        "id": "v3qE-jvQhZ9E",
        "outputId": "06c95ee7-11dc-4ce8-8547-d23a34a2a754"
      },
      "source": [
        "from google.colab import drive\n",
        "drive.mount('/content/drive')"
      ],
      "execution_count": 2,
      "outputs": [
        {
          "output_type": "stream",
          "text": [
            "Drive already mounted at /content/drive; to attempt to forcibly remount, call drive.mount(\"/content/drive\", force_remount=True).\n"
          ],
          "name": "stdout"
        }
      ]
    },
    {
      "cell_type": "code",
      "metadata": {
        "id": "P6JDsZarhasy"
      },
      "source": [
        "df = pd.read_csv('/content/drive/MyDrive/data/IPL Ball-by-Ball 2008-2020.csv')"
      ],
      "execution_count": 3,
      "outputs": []
    },
    {
      "cell_type": "code",
      "metadata": {
        "colab": {
          "base_uri": "https://localhost:8080/",
          "height": 395
        },
        "id": "zsrxzMpth73q",
        "outputId": "837627a4-b2f8-4114-811e-7cbf6fd70c89"
      },
      "source": [
        "df.head()"
      ],
      "execution_count": 4,
      "outputs": [
        {
          "output_type": "execute_result",
          "data": {
            "text/html": [
              "<div>\n",
              "<style scoped>\n",
              "    .dataframe tbody tr th:only-of-type {\n",
              "        vertical-align: middle;\n",
              "    }\n",
              "\n",
              "    .dataframe tbody tr th {\n",
              "        vertical-align: top;\n",
              "    }\n",
              "\n",
              "    .dataframe thead th {\n",
              "        text-align: right;\n",
              "    }\n",
              "</style>\n",
              "<table border=\"1\" class=\"dataframe\">\n",
              "  <thead>\n",
              "    <tr style=\"text-align: right;\">\n",
              "      <th></th>\n",
              "      <th>id</th>\n",
              "      <th>inning</th>\n",
              "      <th>over</th>\n",
              "      <th>ball</th>\n",
              "      <th>batsman</th>\n",
              "      <th>non_striker</th>\n",
              "      <th>bowler</th>\n",
              "      <th>batsman_runs</th>\n",
              "      <th>extra_runs</th>\n",
              "      <th>total_runs</th>\n",
              "      <th>non_boundary</th>\n",
              "      <th>is_wicket</th>\n",
              "      <th>dismissal_kind</th>\n",
              "      <th>player_dismissed</th>\n",
              "      <th>fielder</th>\n",
              "      <th>extras_type</th>\n",
              "      <th>batting_team</th>\n",
              "      <th>bowling_team</th>\n",
              "    </tr>\n",
              "  </thead>\n",
              "  <tbody>\n",
              "    <tr>\n",
              "      <th>0</th>\n",
              "      <td>335982</td>\n",
              "      <td>1</td>\n",
              "      <td>6</td>\n",
              "      <td>5</td>\n",
              "      <td>RT Ponting</td>\n",
              "      <td>BB McCullum</td>\n",
              "      <td>AA Noffke</td>\n",
              "      <td>1</td>\n",
              "      <td>0</td>\n",
              "      <td>1</td>\n",
              "      <td>0</td>\n",
              "      <td>0</td>\n",
              "      <td>NaN</td>\n",
              "      <td>NaN</td>\n",
              "      <td>NaN</td>\n",
              "      <td>NaN</td>\n",
              "      <td>Kolkata Knight Riders</td>\n",
              "      <td>Royal Challengers Bangalore</td>\n",
              "    </tr>\n",
              "    <tr>\n",
              "      <th>1</th>\n",
              "      <td>335982</td>\n",
              "      <td>1</td>\n",
              "      <td>6</td>\n",
              "      <td>6</td>\n",
              "      <td>BB McCullum</td>\n",
              "      <td>RT Ponting</td>\n",
              "      <td>AA Noffke</td>\n",
              "      <td>1</td>\n",
              "      <td>0</td>\n",
              "      <td>1</td>\n",
              "      <td>0</td>\n",
              "      <td>0</td>\n",
              "      <td>NaN</td>\n",
              "      <td>NaN</td>\n",
              "      <td>NaN</td>\n",
              "      <td>NaN</td>\n",
              "      <td>Kolkata Knight Riders</td>\n",
              "      <td>Royal Challengers Bangalore</td>\n",
              "    </tr>\n",
              "    <tr>\n",
              "      <th>2</th>\n",
              "      <td>335982</td>\n",
              "      <td>1</td>\n",
              "      <td>7</td>\n",
              "      <td>1</td>\n",
              "      <td>BB McCullum</td>\n",
              "      <td>RT Ponting</td>\n",
              "      <td>Z Khan</td>\n",
              "      <td>0</td>\n",
              "      <td>0</td>\n",
              "      <td>0</td>\n",
              "      <td>0</td>\n",
              "      <td>0</td>\n",
              "      <td>NaN</td>\n",
              "      <td>NaN</td>\n",
              "      <td>NaN</td>\n",
              "      <td>NaN</td>\n",
              "      <td>Kolkata Knight Riders</td>\n",
              "      <td>Royal Challengers Bangalore</td>\n",
              "    </tr>\n",
              "    <tr>\n",
              "      <th>3</th>\n",
              "      <td>335982</td>\n",
              "      <td>1</td>\n",
              "      <td>7</td>\n",
              "      <td>2</td>\n",
              "      <td>BB McCullum</td>\n",
              "      <td>RT Ponting</td>\n",
              "      <td>Z Khan</td>\n",
              "      <td>1</td>\n",
              "      <td>0</td>\n",
              "      <td>1</td>\n",
              "      <td>0</td>\n",
              "      <td>0</td>\n",
              "      <td>NaN</td>\n",
              "      <td>NaN</td>\n",
              "      <td>NaN</td>\n",
              "      <td>NaN</td>\n",
              "      <td>Kolkata Knight Riders</td>\n",
              "      <td>Royal Challengers Bangalore</td>\n",
              "    </tr>\n",
              "    <tr>\n",
              "      <th>4</th>\n",
              "      <td>335982</td>\n",
              "      <td>1</td>\n",
              "      <td>7</td>\n",
              "      <td>3</td>\n",
              "      <td>RT Ponting</td>\n",
              "      <td>BB McCullum</td>\n",
              "      <td>Z Khan</td>\n",
              "      <td>1</td>\n",
              "      <td>0</td>\n",
              "      <td>1</td>\n",
              "      <td>0</td>\n",
              "      <td>0</td>\n",
              "      <td>NaN</td>\n",
              "      <td>NaN</td>\n",
              "      <td>NaN</td>\n",
              "      <td>NaN</td>\n",
              "      <td>Kolkata Knight Riders</td>\n",
              "      <td>Royal Challengers Bangalore</td>\n",
              "    </tr>\n",
              "  </tbody>\n",
              "</table>\n",
              "</div>"
            ],
            "text/plain": [
              "       id  inning  ...           batting_team                 bowling_team\n",
              "0  335982       1  ...  Kolkata Knight Riders  Royal Challengers Bangalore\n",
              "1  335982       1  ...  Kolkata Knight Riders  Royal Challengers Bangalore\n",
              "2  335982       1  ...  Kolkata Knight Riders  Royal Challengers Bangalore\n",
              "3  335982       1  ...  Kolkata Knight Riders  Royal Challengers Bangalore\n",
              "4  335982       1  ...  Kolkata Knight Riders  Royal Challengers Bangalore\n",
              "\n",
              "[5 rows x 18 columns]"
            ]
          },
          "metadata": {},
          "execution_count": 4
        }
      ]
    },
    {
      "cell_type": "code",
      "metadata": {
        "colab": {
          "base_uri": "https://localhost:8080/"
        },
        "id": "ouC3Vmo4h-CF",
        "outputId": "650347cc-45d8-4b95-b4b9-33877d963131"
      },
      "source": [
        "df.id.argsort"
      ],
      "execution_count": 5,
      "outputs": [
        {
          "output_type": "execute_result",
          "data": {
            "text/plain": [
              "<bound method Series.argsort of 0          335982\n",
              "1          335982\n",
              "2          335982\n",
              "3          335982\n",
              "4          335982\n",
              "           ...   \n",
              "193463    1237181\n",
              "193464    1237181\n",
              "193465    1237181\n",
              "193466    1237181\n",
              "193467    1237181\n",
              "Name: id, Length: 193468, dtype: int64>"
            ]
          },
          "metadata": {},
          "execution_count": 5
        }
      ]
    },
    {
      "cell_type": "code",
      "metadata": {
        "colab": {
          "base_uri": "https://localhost:8080/",
          "height": 395
        },
        "id": "4kyI_3pKiUOW",
        "outputId": "19f44d6b-1270-4c48-aa0e-5a30a79fc841"
      },
      "source": [
        "df.head()"
      ],
      "execution_count": 6,
      "outputs": [
        {
          "output_type": "execute_result",
          "data": {
            "text/html": [
              "<div>\n",
              "<style scoped>\n",
              "    .dataframe tbody tr th:only-of-type {\n",
              "        vertical-align: middle;\n",
              "    }\n",
              "\n",
              "    .dataframe tbody tr th {\n",
              "        vertical-align: top;\n",
              "    }\n",
              "\n",
              "    .dataframe thead th {\n",
              "        text-align: right;\n",
              "    }\n",
              "</style>\n",
              "<table border=\"1\" class=\"dataframe\">\n",
              "  <thead>\n",
              "    <tr style=\"text-align: right;\">\n",
              "      <th></th>\n",
              "      <th>id</th>\n",
              "      <th>inning</th>\n",
              "      <th>over</th>\n",
              "      <th>ball</th>\n",
              "      <th>batsman</th>\n",
              "      <th>non_striker</th>\n",
              "      <th>bowler</th>\n",
              "      <th>batsman_runs</th>\n",
              "      <th>extra_runs</th>\n",
              "      <th>total_runs</th>\n",
              "      <th>non_boundary</th>\n",
              "      <th>is_wicket</th>\n",
              "      <th>dismissal_kind</th>\n",
              "      <th>player_dismissed</th>\n",
              "      <th>fielder</th>\n",
              "      <th>extras_type</th>\n",
              "      <th>batting_team</th>\n",
              "      <th>bowling_team</th>\n",
              "    </tr>\n",
              "  </thead>\n",
              "  <tbody>\n",
              "    <tr>\n",
              "      <th>0</th>\n",
              "      <td>335982</td>\n",
              "      <td>1</td>\n",
              "      <td>6</td>\n",
              "      <td>5</td>\n",
              "      <td>RT Ponting</td>\n",
              "      <td>BB McCullum</td>\n",
              "      <td>AA Noffke</td>\n",
              "      <td>1</td>\n",
              "      <td>0</td>\n",
              "      <td>1</td>\n",
              "      <td>0</td>\n",
              "      <td>0</td>\n",
              "      <td>NaN</td>\n",
              "      <td>NaN</td>\n",
              "      <td>NaN</td>\n",
              "      <td>NaN</td>\n",
              "      <td>Kolkata Knight Riders</td>\n",
              "      <td>Royal Challengers Bangalore</td>\n",
              "    </tr>\n",
              "    <tr>\n",
              "      <th>1</th>\n",
              "      <td>335982</td>\n",
              "      <td>1</td>\n",
              "      <td>6</td>\n",
              "      <td>6</td>\n",
              "      <td>BB McCullum</td>\n",
              "      <td>RT Ponting</td>\n",
              "      <td>AA Noffke</td>\n",
              "      <td>1</td>\n",
              "      <td>0</td>\n",
              "      <td>1</td>\n",
              "      <td>0</td>\n",
              "      <td>0</td>\n",
              "      <td>NaN</td>\n",
              "      <td>NaN</td>\n",
              "      <td>NaN</td>\n",
              "      <td>NaN</td>\n",
              "      <td>Kolkata Knight Riders</td>\n",
              "      <td>Royal Challengers Bangalore</td>\n",
              "    </tr>\n",
              "    <tr>\n",
              "      <th>2</th>\n",
              "      <td>335982</td>\n",
              "      <td>1</td>\n",
              "      <td>7</td>\n",
              "      <td>1</td>\n",
              "      <td>BB McCullum</td>\n",
              "      <td>RT Ponting</td>\n",
              "      <td>Z Khan</td>\n",
              "      <td>0</td>\n",
              "      <td>0</td>\n",
              "      <td>0</td>\n",
              "      <td>0</td>\n",
              "      <td>0</td>\n",
              "      <td>NaN</td>\n",
              "      <td>NaN</td>\n",
              "      <td>NaN</td>\n",
              "      <td>NaN</td>\n",
              "      <td>Kolkata Knight Riders</td>\n",
              "      <td>Royal Challengers Bangalore</td>\n",
              "    </tr>\n",
              "    <tr>\n",
              "      <th>3</th>\n",
              "      <td>335982</td>\n",
              "      <td>1</td>\n",
              "      <td>7</td>\n",
              "      <td>2</td>\n",
              "      <td>BB McCullum</td>\n",
              "      <td>RT Ponting</td>\n",
              "      <td>Z Khan</td>\n",
              "      <td>1</td>\n",
              "      <td>0</td>\n",
              "      <td>1</td>\n",
              "      <td>0</td>\n",
              "      <td>0</td>\n",
              "      <td>NaN</td>\n",
              "      <td>NaN</td>\n",
              "      <td>NaN</td>\n",
              "      <td>NaN</td>\n",
              "      <td>Kolkata Knight Riders</td>\n",
              "      <td>Royal Challengers Bangalore</td>\n",
              "    </tr>\n",
              "    <tr>\n",
              "      <th>4</th>\n",
              "      <td>335982</td>\n",
              "      <td>1</td>\n",
              "      <td>7</td>\n",
              "      <td>3</td>\n",
              "      <td>RT Ponting</td>\n",
              "      <td>BB McCullum</td>\n",
              "      <td>Z Khan</td>\n",
              "      <td>1</td>\n",
              "      <td>0</td>\n",
              "      <td>1</td>\n",
              "      <td>0</td>\n",
              "      <td>0</td>\n",
              "      <td>NaN</td>\n",
              "      <td>NaN</td>\n",
              "      <td>NaN</td>\n",
              "      <td>NaN</td>\n",
              "      <td>Kolkata Knight Riders</td>\n",
              "      <td>Royal Challengers Bangalore</td>\n",
              "    </tr>\n",
              "  </tbody>\n",
              "</table>\n",
              "</div>"
            ],
            "text/plain": [
              "       id  inning  ...           batting_team                 bowling_team\n",
              "0  335982       1  ...  Kolkata Knight Riders  Royal Challengers Bangalore\n",
              "1  335982       1  ...  Kolkata Knight Riders  Royal Challengers Bangalore\n",
              "2  335982       1  ...  Kolkata Knight Riders  Royal Challengers Bangalore\n",
              "3  335982       1  ...  Kolkata Knight Riders  Royal Challengers Bangalore\n",
              "4  335982       1  ...  Kolkata Knight Riders  Royal Challengers Bangalore\n",
              "\n",
              "[5 rows x 18 columns]"
            ]
          },
          "metadata": {},
          "execution_count": 6
        }
      ]
    },
    {
      "cell_type": "code",
      "metadata": {
        "colab": {
          "base_uri": "https://localhost:8080/"
        },
        "id": "EBUX98G4iY05",
        "outputId": "ca23b3cc-54ff-40cd-fe90-6278d5f1bfd5"
      },
      "source": [
        "df.id.nunique()"
      ],
      "execution_count": 7,
      "outputs": [
        {
          "output_type": "execute_result",
          "data": {
            "text/plain": [
              "816"
            ]
          },
          "metadata": {},
          "execution_count": 7
        }
      ]
    },
    {
      "cell_type": "code",
      "metadata": {
        "id": "ktCZBw_7kBbM"
      },
      "source": [
        "df = df.iloc[0:225,:]"
      ],
      "execution_count": 8,
      "outputs": []
    },
    {
      "cell_type": "code",
      "metadata": {
        "colab": {
          "base_uri": "https://localhost:8080/",
          "height": 395
        },
        "id": "ES5va3p_l9BD",
        "outputId": "974a64db-ab86-48db-ff73-d521d244c5c6"
      },
      "source": [
        "df.head()"
      ],
      "execution_count": 9,
      "outputs": [
        {
          "output_type": "execute_result",
          "data": {
            "text/html": [
              "<div>\n",
              "<style scoped>\n",
              "    .dataframe tbody tr th:only-of-type {\n",
              "        vertical-align: middle;\n",
              "    }\n",
              "\n",
              "    .dataframe tbody tr th {\n",
              "        vertical-align: top;\n",
              "    }\n",
              "\n",
              "    .dataframe thead th {\n",
              "        text-align: right;\n",
              "    }\n",
              "</style>\n",
              "<table border=\"1\" class=\"dataframe\">\n",
              "  <thead>\n",
              "    <tr style=\"text-align: right;\">\n",
              "      <th></th>\n",
              "      <th>id</th>\n",
              "      <th>inning</th>\n",
              "      <th>over</th>\n",
              "      <th>ball</th>\n",
              "      <th>batsman</th>\n",
              "      <th>non_striker</th>\n",
              "      <th>bowler</th>\n",
              "      <th>batsman_runs</th>\n",
              "      <th>extra_runs</th>\n",
              "      <th>total_runs</th>\n",
              "      <th>non_boundary</th>\n",
              "      <th>is_wicket</th>\n",
              "      <th>dismissal_kind</th>\n",
              "      <th>player_dismissed</th>\n",
              "      <th>fielder</th>\n",
              "      <th>extras_type</th>\n",
              "      <th>batting_team</th>\n",
              "      <th>bowling_team</th>\n",
              "    </tr>\n",
              "  </thead>\n",
              "  <tbody>\n",
              "    <tr>\n",
              "      <th>0</th>\n",
              "      <td>335982</td>\n",
              "      <td>1</td>\n",
              "      <td>6</td>\n",
              "      <td>5</td>\n",
              "      <td>RT Ponting</td>\n",
              "      <td>BB McCullum</td>\n",
              "      <td>AA Noffke</td>\n",
              "      <td>1</td>\n",
              "      <td>0</td>\n",
              "      <td>1</td>\n",
              "      <td>0</td>\n",
              "      <td>0</td>\n",
              "      <td>NaN</td>\n",
              "      <td>NaN</td>\n",
              "      <td>NaN</td>\n",
              "      <td>NaN</td>\n",
              "      <td>Kolkata Knight Riders</td>\n",
              "      <td>Royal Challengers Bangalore</td>\n",
              "    </tr>\n",
              "    <tr>\n",
              "      <th>1</th>\n",
              "      <td>335982</td>\n",
              "      <td>1</td>\n",
              "      <td>6</td>\n",
              "      <td>6</td>\n",
              "      <td>BB McCullum</td>\n",
              "      <td>RT Ponting</td>\n",
              "      <td>AA Noffke</td>\n",
              "      <td>1</td>\n",
              "      <td>0</td>\n",
              "      <td>1</td>\n",
              "      <td>0</td>\n",
              "      <td>0</td>\n",
              "      <td>NaN</td>\n",
              "      <td>NaN</td>\n",
              "      <td>NaN</td>\n",
              "      <td>NaN</td>\n",
              "      <td>Kolkata Knight Riders</td>\n",
              "      <td>Royal Challengers Bangalore</td>\n",
              "    </tr>\n",
              "    <tr>\n",
              "      <th>2</th>\n",
              "      <td>335982</td>\n",
              "      <td>1</td>\n",
              "      <td>7</td>\n",
              "      <td>1</td>\n",
              "      <td>BB McCullum</td>\n",
              "      <td>RT Ponting</td>\n",
              "      <td>Z Khan</td>\n",
              "      <td>0</td>\n",
              "      <td>0</td>\n",
              "      <td>0</td>\n",
              "      <td>0</td>\n",
              "      <td>0</td>\n",
              "      <td>NaN</td>\n",
              "      <td>NaN</td>\n",
              "      <td>NaN</td>\n",
              "      <td>NaN</td>\n",
              "      <td>Kolkata Knight Riders</td>\n",
              "      <td>Royal Challengers Bangalore</td>\n",
              "    </tr>\n",
              "    <tr>\n",
              "      <th>3</th>\n",
              "      <td>335982</td>\n",
              "      <td>1</td>\n",
              "      <td>7</td>\n",
              "      <td>2</td>\n",
              "      <td>BB McCullum</td>\n",
              "      <td>RT Ponting</td>\n",
              "      <td>Z Khan</td>\n",
              "      <td>1</td>\n",
              "      <td>0</td>\n",
              "      <td>1</td>\n",
              "      <td>0</td>\n",
              "      <td>0</td>\n",
              "      <td>NaN</td>\n",
              "      <td>NaN</td>\n",
              "      <td>NaN</td>\n",
              "      <td>NaN</td>\n",
              "      <td>Kolkata Knight Riders</td>\n",
              "      <td>Royal Challengers Bangalore</td>\n",
              "    </tr>\n",
              "    <tr>\n",
              "      <th>4</th>\n",
              "      <td>335982</td>\n",
              "      <td>1</td>\n",
              "      <td>7</td>\n",
              "      <td>3</td>\n",
              "      <td>RT Ponting</td>\n",
              "      <td>BB McCullum</td>\n",
              "      <td>Z Khan</td>\n",
              "      <td>1</td>\n",
              "      <td>0</td>\n",
              "      <td>1</td>\n",
              "      <td>0</td>\n",
              "      <td>0</td>\n",
              "      <td>NaN</td>\n",
              "      <td>NaN</td>\n",
              "      <td>NaN</td>\n",
              "      <td>NaN</td>\n",
              "      <td>Kolkata Knight Riders</td>\n",
              "      <td>Royal Challengers Bangalore</td>\n",
              "    </tr>\n",
              "  </tbody>\n",
              "</table>\n",
              "</div>"
            ],
            "text/plain": [
              "       id  inning  ...           batting_team                 bowling_team\n",
              "0  335982       1  ...  Kolkata Knight Riders  Royal Challengers Bangalore\n",
              "1  335982       1  ...  Kolkata Knight Riders  Royal Challengers Bangalore\n",
              "2  335982       1  ...  Kolkata Knight Riders  Royal Challengers Bangalore\n",
              "3  335982       1  ...  Kolkata Knight Riders  Royal Challengers Bangalore\n",
              "4  335982       1  ...  Kolkata Knight Riders  Royal Challengers Bangalore\n",
              "\n",
              "[5 rows x 18 columns]"
            ]
          },
          "metadata": {},
          "execution_count": 9
        }
      ]
    },
    {
      "cell_type": "code",
      "metadata": {
        "id": "sO28d7p-mCf1"
      },
      "source": [
        "df_total_run = df.groupby('batsman').sum().sort_values(by='batsman_runs', ascending=False)['batsman_runs']"
      ],
      "execution_count": 10,
      "outputs": []
    },
    {
      "cell_type": "code",
      "metadata": {
        "id": "ZwXQtXPEm7fz"
      },
      "source": [
        "df_total_ball_faced = df[df['extras_type']!='wides'].groupby('batsman').count().sort_values(by='batsman_runs', ascending=False)['batsman_runs']"
      ],
      "execution_count": 11,
      "outputs": []
    },
    {
      "cell_type": "code",
      "metadata": {
        "colab": {
          "base_uri": "https://localhost:8080/"
        },
        "id": "hAYiD7Nsl427",
        "outputId": "7e64d6bd-966a-4682-e4e0-2c84a6375b4d"
      },
      "source": [
        "df_total_ball_faced.rename(\"Total ball faced\", inplace=True)"
      ],
      "execution_count": 12,
      "outputs": [
        {
          "output_type": "execute_result",
          "data": {
            "text/plain": [
              "batsman\n",
              "BB McCullum        73\n",
              "RT Ponting         20\n",
              "W Jaffer           16\n",
              "P Kumar            15\n",
              "DJ Hussey          12\n",
              "SC Ganguly         12\n",
              "AA Noffke          10\n",
              "CL White           10\n",
              "MV Boucher          9\n",
              "Z Khan              8\n",
              "JH Kallis           7\n",
              "SB Joshi            6\n",
              "V Kohli             5\n",
              "Mohammad Hafeez     3\n",
              "R Dravid            3\n",
              "B Akhil             2\n",
              "Name: Total ball faced, dtype: int64"
            ]
          },
          "metadata": {},
          "execution_count": 12
        }
      ]
    },
    {
      "cell_type": "code",
      "metadata": {
        "id": "61JSXObNrJvm"
      },
      "source": [
        ""
      ],
      "execution_count": 12,
      "outputs": []
    },
    {
      "cell_type": "code",
      "metadata": {
        "id": "_Y01auHjq1VF"
      },
      "source": [
        "df_batsman = pd.concat([df_total_run,df_total_ball_faced], axis=1)"
      ],
      "execution_count": 13,
      "outputs": []
    },
    {
      "cell_type": "code",
      "metadata": {
        "id": "bikJmzyjrLvi"
      },
      "source": [
        "df_batsman['Batting Strike Rate'] = round((df_batsman['batsman_runs']/df_batsman['Total ball faced'])* 100 , 2)"
      ],
      "execution_count": 14,
      "outputs": []
    },
    {
      "cell_type": "code",
      "metadata": {
        "colab": {
          "base_uri": "https://localhost:8080/",
          "height": 545
        },
        "id": "t3kb84bgrBBA",
        "outputId": "05a370b0-a1b5-41ef-f063-539ab74c9800"
      },
      "source": [
        "df_batsman"
      ],
      "execution_count": 15,
      "outputs": [
        {
          "output_type": "execute_result",
          "data": {
            "text/html": [
              "<div>\n",
              "<style scoped>\n",
              "    .dataframe tbody tr th:only-of-type {\n",
              "        vertical-align: middle;\n",
              "    }\n",
              "\n",
              "    .dataframe tbody tr th {\n",
              "        vertical-align: top;\n",
              "    }\n",
              "\n",
              "    .dataframe thead th {\n",
              "        text-align: right;\n",
              "    }\n",
              "</style>\n",
              "<table border=\"1\" class=\"dataframe\">\n",
              "  <thead>\n",
              "    <tr style=\"text-align: right;\">\n",
              "      <th></th>\n",
              "      <th>batsman_runs</th>\n",
              "      <th>Total ball faced</th>\n",
              "      <th>Batting Strike Rate</th>\n",
              "    </tr>\n",
              "  </thead>\n",
              "  <tbody>\n",
              "    <tr>\n",
              "      <th>BB McCullum</th>\n",
              "      <td>158</td>\n",
              "      <td>73</td>\n",
              "      <td>216.44</td>\n",
              "    </tr>\n",
              "    <tr>\n",
              "      <th>RT Ponting</th>\n",
              "      <td>20</td>\n",
              "      <td>20</td>\n",
              "      <td>100.00</td>\n",
              "    </tr>\n",
              "    <tr>\n",
              "      <th>P Kumar</th>\n",
              "      <td>18</td>\n",
              "      <td>15</td>\n",
              "      <td>120.00</td>\n",
              "    </tr>\n",
              "    <tr>\n",
              "      <th>DJ Hussey</th>\n",
              "      <td>12</td>\n",
              "      <td>12</td>\n",
              "      <td>100.00</td>\n",
              "    </tr>\n",
              "    <tr>\n",
              "      <th>SC Ganguly</th>\n",
              "      <td>10</td>\n",
              "      <td>12</td>\n",
              "      <td>83.33</td>\n",
              "    </tr>\n",
              "    <tr>\n",
              "      <th>AA Noffke</th>\n",
              "      <td>9</td>\n",
              "      <td>10</td>\n",
              "      <td>90.00</td>\n",
              "    </tr>\n",
              "    <tr>\n",
              "      <th>JH Kallis</th>\n",
              "      <td>8</td>\n",
              "      <td>7</td>\n",
              "      <td>114.29</td>\n",
              "    </tr>\n",
              "    <tr>\n",
              "      <th>MV Boucher</th>\n",
              "      <td>7</td>\n",
              "      <td>9</td>\n",
              "      <td>77.78</td>\n",
              "    </tr>\n",
              "    <tr>\n",
              "      <th>CL White</th>\n",
              "      <td>6</td>\n",
              "      <td>10</td>\n",
              "      <td>60.00</td>\n",
              "    </tr>\n",
              "    <tr>\n",
              "      <th>W Jaffer</th>\n",
              "      <td>6</td>\n",
              "      <td>16</td>\n",
              "      <td>37.50</td>\n",
              "    </tr>\n",
              "    <tr>\n",
              "      <th>Mohammad Hafeez</th>\n",
              "      <td>5</td>\n",
              "      <td>3</td>\n",
              "      <td>166.67</td>\n",
              "    </tr>\n",
              "    <tr>\n",
              "      <th>SB Joshi</th>\n",
              "      <td>3</td>\n",
              "      <td>6</td>\n",
              "      <td>50.00</td>\n",
              "    </tr>\n",
              "    <tr>\n",
              "      <th>Z Khan</th>\n",
              "      <td>3</td>\n",
              "      <td>8</td>\n",
              "      <td>37.50</td>\n",
              "    </tr>\n",
              "    <tr>\n",
              "      <th>R Dravid</th>\n",
              "      <td>2</td>\n",
              "      <td>3</td>\n",
              "      <td>66.67</td>\n",
              "    </tr>\n",
              "    <tr>\n",
              "      <th>V Kohli</th>\n",
              "      <td>1</td>\n",
              "      <td>5</td>\n",
              "      <td>20.00</td>\n",
              "    </tr>\n",
              "    <tr>\n",
              "      <th>B Akhil</th>\n",
              "      <td>0</td>\n",
              "      <td>2</td>\n",
              "      <td>0.00</td>\n",
              "    </tr>\n",
              "  </tbody>\n",
              "</table>\n",
              "</div>"
            ],
            "text/plain": [
              "                 batsman_runs  Total ball faced  Batting Strike Rate\n",
              "BB McCullum               158                73               216.44\n",
              "RT Ponting                 20                20               100.00\n",
              "P Kumar                    18                15               120.00\n",
              "DJ Hussey                  12                12               100.00\n",
              "SC Ganguly                 10                12                83.33\n",
              "AA Noffke                   9                10                90.00\n",
              "JH Kallis                   8                 7               114.29\n",
              "MV Boucher                  7                 9                77.78\n",
              "CL White                    6                10                60.00\n",
              "W Jaffer                    6                16                37.50\n",
              "Mohammad Hafeez             5                 3               166.67\n",
              "SB Joshi                    3                 6                50.00\n",
              "Z Khan                      3                 8                37.50\n",
              "R Dravid                    2                 3                66.67\n",
              "V Kohli                     1                 5                20.00\n",
              "B Akhil                     0                 2                 0.00"
            ]
          },
          "metadata": {},
          "execution_count": 15
        }
      ]
    },
    {
      "cell_type": "code",
      "metadata": {
        "id": "4ZJk4Q8HrDd4"
      },
      "source": [
        ""
      ],
      "execution_count": 15,
      "outputs": []
    },
    {
      "cell_type": "code",
      "metadata": {
        "id": "K720CiuSl00U"
      },
      "source": [
        "no_of_sixes = df[df['batsman_runs']==6].groupby('batsman').count().sort_values(by='batsman_runs', ascending=False)['batsman_runs']"
      ],
      "execution_count": 16,
      "outputs": []
    },
    {
      "cell_type": "code",
      "metadata": {
        "id": "wEgY_rU8t18k"
      },
      "source": [
        "no_of_fours = df[df['batsman_runs']==4].groupby('batsman').count().sort_values(by='batsman_runs', ascending=False)['batsman_runs']"
      ],
      "execution_count": 17,
      "outputs": []
    },
    {
      "cell_type": "code",
      "metadata": {
        "id": "vQ3zgT4ztaLe"
      },
      "source": [
        ""
      ],
      "execution_count": 17,
      "outputs": []
    },
    {
      "cell_type": "code",
      "metadata": {
        "id": "8SMDeK62uVsU"
      },
      "source": [
        ""
      ],
      "execution_count": 17,
      "outputs": []
    },
    {
      "cell_type": "code",
      "metadata": {
        "colab": {
          "base_uri": "https://localhost:8080/"
        },
        "id": "nVBTZNFZtNID",
        "outputId": "a2efffa1-0437-46d6-f982-70fb7ec729ca"
      },
      "source": [
        "no_of_sixes.rename(\"Number of sixes\", inplace=True)\n",
        "no_of_fours.rename(\"Number of fours\", inplace=True)"
      ],
      "execution_count": 18,
      "outputs": [
        {
          "output_type": "execute_result",
          "data": {
            "text/plain": [
              "batsman\n",
              "BB McCullum        10\n",
              "SC Ganguly          2\n",
              "AA Noffke           1\n",
              "DJ Hussey           1\n",
              "MV Boucher          1\n",
              "Mohammad Hafeez     1\n",
              "P Kumar             1\n",
              "RT Ponting          1\n",
              "Name: Number of fours, dtype: int64"
            ]
          },
          "metadata": {},
          "execution_count": 18
        }
      ]
    },
    {
      "cell_type": "code",
      "metadata": {
        "colab": {
          "base_uri": "https://localhost:8080/"
        },
        "id": "gatHBhRsujsu",
        "outputId": "c3a3a66d-bbf6-4dfa-a4ff-f4877ecb552c"
      },
      "source": [
        "no_of_fours"
      ],
      "execution_count": 19,
      "outputs": [
        {
          "output_type": "execute_result",
          "data": {
            "text/plain": [
              "batsman\n",
              "BB McCullum        10\n",
              "SC Ganguly          2\n",
              "AA Noffke           1\n",
              "DJ Hussey           1\n",
              "MV Boucher          1\n",
              "Mohammad Hafeez     1\n",
              "P Kumar             1\n",
              "RT Ponting          1\n",
              "Name: Number of fours, dtype: int64"
            ]
          },
          "metadata": {},
          "execution_count": 19
        }
      ]
    },
    {
      "cell_type": "code",
      "metadata": {
        "id": "g1gRXKEkvSdX"
      },
      "source": [
        "df_batsman['no of fours'] = no_of_fours"
      ],
      "execution_count": 20,
      "outputs": []
    },
    {
      "cell_type": "code",
      "metadata": {
        "id": "TT_0AW9MAhKT",
        "outputId": "58b15c97-9af5-4ee2-b1ba-2e032b956298",
        "colab": {
          "base_uri": "https://localhost:8080/"
        }
      },
      "source": [
        "df_batsman['no of fours']"
      ],
      "execution_count": 41,
      "outputs": [
        {
          "output_type": "execute_result",
          "data": {
            "text/plain": [
              "BB McCullum        10.0\n",
              "RT Ponting          1.0\n",
              "P Kumar             1.0\n",
              "DJ Hussey           1.0\n",
              "SC Ganguly          2.0\n",
              "AA Noffke           1.0\n",
              "JH Kallis           NaN\n",
              "MV Boucher          1.0\n",
              "CL White            NaN\n",
              "W Jaffer            NaN\n",
              "Mohammad Hafeez     1.0\n",
              "SB Joshi            NaN\n",
              "Z Khan              NaN\n",
              "R Dravid            NaN\n",
              "V Kohli             NaN\n",
              "B Akhil             NaN\n",
              "Name: no of fours, dtype: float64"
            ]
          },
          "metadata": {},
          "execution_count": 41
        }
      ]
    },
    {
      "cell_type": "code",
      "metadata": {
        "id": "E5kFqYL1AmQW"
      },
      "source": [
        ""
      ],
      "execution_count": null,
      "outputs": []
    },
    {
      "cell_type": "code",
      "metadata": {
        "id": "LgW2rFh-AixW"
      },
      "source": [
        ""
      ],
      "execution_count": null,
      "outputs": []
    },
    {
      "cell_type": "code",
      "metadata": {
        "id": "A3scZD3XAYpR"
      },
      "source": [
        ""
      ],
      "execution_count": null,
      "outputs": []
    },
    {
      "cell_type": "code",
      "metadata": {
        "id": "HdnjqJ4vAUXN"
      },
      "source": [
        ""
      ],
      "execution_count": null,
      "outputs": []
    },
    {
      "cell_type": "code",
      "metadata": {
        "id": "inln1lsPvu_1"
      },
      "source": [
        "df_batsman['no of sixes'] = no_of_sixes"
      ],
      "execution_count": 21,
      "outputs": []
    },
    {
      "cell_type": "code",
      "metadata": {
        "id": "b9h8znixwD4Z"
      },
      "source": [
        ""
      ],
      "execution_count": 21,
      "outputs": []
    },
    {
      "cell_type": "code",
      "metadata": {
        "id": "qdN0KFFn0yHO"
      },
      "source": [
        "df_batsman.loc[df_batsman['batsman_runs']>=100, \"Century bonus\"] = 16"
      ],
      "execution_count": 22,
      "outputs": []
    },
    {
      "cell_type": "code",
      "metadata": {
        "id": "ii6SvF2e2HlC"
      },
      "source": [
        "df_batsman.loc[(df_batsman['batsman_runs']>=50) & (df_batsman['batsman_runs']<100), \"Century bonus\"] = 8"
      ],
      "execution_count": 23,
      "outputs": []
    },
    {
      "cell_type": "code",
      "metadata": {
        "id": "JA2zYcUV2Jrc"
      },
      "source": [
        "df_batsman.loc[(df_batsman['batsman_runs']>=30) & (df_batsman['batsman_runs']<50), \"Century bonus\"] = 4"
      ],
      "execution_count": 24,
      "outputs": []
    },
    {
      "cell_type": "code",
      "metadata": {
        "id": "T6g3UxuK92JZ"
      },
      "source": [
        "df_batsman.loc[(df_batsman['batsman_runs']==0), \"Century bonus\"] = -2"
      ],
      "execution_count": 26,
      "outputs": []
    },
    {
      "cell_type": "code",
      "metadata": {
        "colab": {
          "base_uri": "https://localhost:8080/",
          "height": 204
        },
        "id": "tIxOAF6x39U1",
        "outputId": "f33fd4f3-4a41-4dfe-907a-dd7a0591eb80"
      },
      "source": [
        "df_batsman.head()"
      ],
      "execution_count": 27,
      "outputs": [
        {
          "output_type": "execute_result",
          "data": {
            "text/html": [
              "<div>\n",
              "<style scoped>\n",
              "    .dataframe tbody tr th:only-of-type {\n",
              "        vertical-align: middle;\n",
              "    }\n",
              "\n",
              "    .dataframe tbody tr th {\n",
              "        vertical-align: top;\n",
              "    }\n",
              "\n",
              "    .dataframe thead th {\n",
              "        text-align: right;\n",
              "    }\n",
              "</style>\n",
              "<table border=\"1\" class=\"dataframe\">\n",
              "  <thead>\n",
              "    <tr style=\"text-align: right;\">\n",
              "      <th></th>\n",
              "      <th>batsman_runs</th>\n",
              "      <th>Total ball faced</th>\n",
              "      <th>Batting Strike Rate</th>\n",
              "      <th>no of fours</th>\n",
              "      <th>no of sixes</th>\n",
              "      <th>Century bonus</th>\n",
              "    </tr>\n",
              "  </thead>\n",
              "  <tbody>\n",
              "    <tr>\n",
              "      <th>BB McCullum</th>\n",
              "      <td>158</td>\n",
              "      <td>73</td>\n",
              "      <td>216.44</td>\n",
              "      <td>10.0</td>\n",
              "      <td>13.0</td>\n",
              "      <td>16.0</td>\n",
              "    </tr>\n",
              "    <tr>\n",
              "      <th>RT Ponting</th>\n",
              "      <td>20</td>\n",
              "      <td>20</td>\n",
              "      <td>100.00</td>\n",
              "      <td>1.0</td>\n",
              "      <td>1.0</td>\n",
              "      <td>NaN</td>\n",
              "    </tr>\n",
              "    <tr>\n",
              "      <th>P Kumar</th>\n",
              "      <td>18</td>\n",
              "      <td>15</td>\n",
              "      <td>120.00</td>\n",
              "      <td>1.0</td>\n",
              "      <td>2.0</td>\n",
              "      <td>NaN</td>\n",
              "    </tr>\n",
              "    <tr>\n",
              "      <th>DJ Hussey</th>\n",
              "      <td>12</td>\n",
              "      <td>12</td>\n",
              "      <td>100.00</td>\n",
              "      <td>1.0</td>\n",
              "      <td>NaN</td>\n",
              "      <td>NaN</td>\n",
              "    </tr>\n",
              "    <tr>\n",
              "      <th>SC Ganguly</th>\n",
              "      <td>10</td>\n",
              "      <td>12</td>\n",
              "      <td>83.33</td>\n",
              "      <td>2.0</td>\n",
              "      <td>NaN</td>\n",
              "      <td>NaN</td>\n",
              "    </tr>\n",
              "  </tbody>\n",
              "</table>\n",
              "</div>"
            ],
            "text/plain": [
              "             batsman_runs  Total ball faced  ...  no of sixes  Century bonus\n",
              "BB McCullum           158                73  ...         13.0           16.0\n",
              "RT Ponting             20                20  ...          1.0            NaN\n",
              "P Kumar                18                15  ...          2.0            NaN\n",
              "DJ Hussey              12                12  ...          NaN            NaN\n",
              "SC Ganguly             10                12  ...          NaN            NaN\n",
              "\n",
              "[5 rows x 6 columns]"
            ]
          },
          "metadata": {},
          "execution_count": 27
        }
      ]
    },
    {
      "cell_type": "code",
      "metadata": {
        "id": "eaoP8b877XKJ"
      },
      "source": [
        "df_batsman.loc[(df_batsman['Batting Strike Rate']>=170), \"Strike Rate Bonus\"] = 6"
      ],
      "execution_count": 28,
      "outputs": []
    },
    {
      "cell_type": "code",
      "metadata": {
        "id": "qAXSyn4G5_1d"
      },
      "source": [
        "df_batsman.loc[(df_batsman['Batting Strike Rate']>=150) & (df_batsman['Batting Strike Rate']<170), \"Strike Rate Bonus\"] = 4"
      ],
      "execution_count": 29,
      "outputs": []
    },
    {
      "cell_type": "code",
      "metadata": {
        "id": "nGNrqWXM36DU"
      },
      "source": [
        "df_batsman.loc[(df_batsman['Batting Strike Rate']>=130) & (df_batsman['Batting Strike Rate']<150), \"Strike Rate Bonus\"] = 2"
      ],
      "execution_count": 30,
      "outputs": []
    },
    {
      "cell_type": "code",
      "metadata": {
        "id": "dCQtNSGd33NN"
      },
      "source": [
        "df_batsman.loc[(df_batsman['Batting Strike Rate']>=60) & (df_batsman['Batting Strike Rate']<70), \"Strike Rate Bonus\"] = -2"
      ],
      "execution_count": 31,
      "outputs": []
    },
    {
      "cell_type": "code",
      "metadata": {
        "id": "fv5oZWp50gz2"
      },
      "source": [
        "df_batsman.loc[(df_batsman['Batting Strike Rate']>=50) & (df_batsman['Batting Strike Rate']<60), \"Strike Rate Bonus\"] = -4"
      ],
      "execution_count": 32,
      "outputs": []
    },
    {
      "cell_type": "code",
      "metadata": {
        "id": "cFlJQzjmyD3-"
      },
      "source": [
        "df_batsman.loc[(df_batsman['Batting Strike Rate']<50), \"Strike Rate Bonus\"] = -6"
      ],
      "execution_count": 33,
      "outputs": []
    },
    {
      "cell_type": "code",
      "metadata": {
        "colab": {
          "base_uri": "https://localhost:8080/",
          "height": 545
        },
        "id": "HErwrLYtz8hh",
        "outputId": "4118f222-8788-44a4-c5ff-bcce028b11f3"
      },
      "source": [
        "df_batsman"
      ],
      "execution_count": 34,
      "outputs": [
        {
          "output_type": "execute_result",
          "data": {
            "text/html": [
              "<div>\n",
              "<style scoped>\n",
              "    .dataframe tbody tr th:only-of-type {\n",
              "        vertical-align: middle;\n",
              "    }\n",
              "\n",
              "    .dataframe tbody tr th {\n",
              "        vertical-align: top;\n",
              "    }\n",
              "\n",
              "    .dataframe thead th {\n",
              "        text-align: right;\n",
              "    }\n",
              "</style>\n",
              "<table border=\"1\" class=\"dataframe\">\n",
              "  <thead>\n",
              "    <tr style=\"text-align: right;\">\n",
              "      <th></th>\n",
              "      <th>batsman_runs</th>\n",
              "      <th>Total ball faced</th>\n",
              "      <th>Batting Strike Rate</th>\n",
              "      <th>no of fours</th>\n",
              "      <th>no of sixes</th>\n",
              "      <th>Century bonus</th>\n",
              "      <th>Strike Rate Bonus</th>\n",
              "    </tr>\n",
              "  </thead>\n",
              "  <tbody>\n",
              "    <tr>\n",
              "      <th>BB McCullum</th>\n",
              "      <td>158</td>\n",
              "      <td>73</td>\n",
              "      <td>216.44</td>\n",
              "      <td>10.0</td>\n",
              "      <td>13.0</td>\n",
              "      <td>16.0</td>\n",
              "      <td>6.0</td>\n",
              "    </tr>\n",
              "    <tr>\n",
              "      <th>RT Ponting</th>\n",
              "      <td>20</td>\n",
              "      <td>20</td>\n",
              "      <td>100.00</td>\n",
              "      <td>1.0</td>\n",
              "      <td>1.0</td>\n",
              "      <td>NaN</td>\n",
              "      <td>NaN</td>\n",
              "    </tr>\n",
              "    <tr>\n",
              "      <th>P Kumar</th>\n",
              "      <td>18</td>\n",
              "      <td>15</td>\n",
              "      <td>120.00</td>\n",
              "      <td>1.0</td>\n",
              "      <td>2.0</td>\n",
              "      <td>NaN</td>\n",
              "      <td>NaN</td>\n",
              "    </tr>\n",
              "    <tr>\n",
              "      <th>DJ Hussey</th>\n",
              "      <td>12</td>\n",
              "      <td>12</td>\n",
              "      <td>100.00</td>\n",
              "      <td>1.0</td>\n",
              "      <td>NaN</td>\n",
              "      <td>NaN</td>\n",
              "      <td>NaN</td>\n",
              "    </tr>\n",
              "    <tr>\n",
              "      <th>SC Ganguly</th>\n",
              "      <td>10</td>\n",
              "      <td>12</td>\n",
              "      <td>83.33</td>\n",
              "      <td>2.0</td>\n",
              "      <td>NaN</td>\n",
              "      <td>NaN</td>\n",
              "      <td>NaN</td>\n",
              "    </tr>\n",
              "    <tr>\n",
              "      <th>AA Noffke</th>\n",
              "      <td>9</td>\n",
              "      <td>10</td>\n",
              "      <td>90.00</td>\n",
              "      <td>1.0</td>\n",
              "      <td>NaN</td>\n",
              "      <td>NaN</td>\n",
              "      <td>NaN</td>\n",
              "    </tr>\n",
              "    <tr>\n",
              "      <th>JH Kallis</th>\n",
              "      <td>8</td>\n",
              "      <td>7</td>\n",
              "      <td>114.29</td>\n",
              "      <td>NaN</td>\n",
              "      <td>1.0</td>\n",
              "      <td>NaN</td>\n",
              "      <td>NaN</td>\n",
              "    </tr>\n",
              "    <tr>\n",
              "      <th>MV Boucher</th>\n",
              "      <td>7</td>\n",
              "      <td>9</td>\n",
              "      <td>77.78</td>\n",
              "      <td>1.0</td>\n",
              "      <td>NaN</td>\n",
              "      <td>NaN</td>\n",
              "      <td>NaN</td>\n",
              "    </tr>\n",
              "    <tr>\n",
              "      <th>CL White</th>\n",
              "      <td>6</td>\n",
              "      <td>10</td>\n",
              "      <td>60.00</td>\n",
              "      <td>NaN</td>\n",
              "      <td>NaN</td>\n",
              "      <td>NaN</td>\n",
              "      <td>-2.0</td>\n",
              "    </tr>\n",
              "    <tr>\n",
              "      <th>W Jaffer</th>\n",
              "      <td>6</td>\n",
              "      <td>16</td>\n",
              "      <td>37.50</td>\n",
              "      <td>NaN</td>\n",
              "      <td>NaN</td>\n",
              "      <td>NaN</td>\n",
              "      <td>-6.0</td>\n",
              "    </tr>\n",
              "    <tr>\n",
              "      <th>Mohammad Hafeez</th>\n",
              "      <td>5</td>\n",
              "      <td>3</td>\n",
              "      <td>166.67</td>\n",
              "      <td>1.0</td>\n",
              "      <td>NaN</td>\n",
              "      <td>NaN</td>\n",
              "      <td>4.0</td>\n",
              "    </tr>\n",
              "    <tr>\n",
              "      <th>SB Joshi</th>\n",
              "      <td>3</td>\n",
              "      <td>6</td>\n",
              "      <td>50.00</td>\n",
              "      <td>NaN</td>\n",
              "      <td>NaN</td>\n",
              "      <td>NaN</td>\n",
              "      <td>-4.0</td>\n",
              "    </tr>\n",
              "    <tr>\n",
              "      <th>Z Khan</th>\n",
              "      <td>3</td>\n",
              "      <td>8</td>\n",
              "      <td>37.50</td>\n",
              "      <td>NaN</td>\n",
              "      <td>NaN</td>\n",
              "      <td>NaN</td>\n",
              "      <td>-6.0</td>\n",
              "    </tr>\n",
              "    <tr>\n",
              "      <th>R Dravid</th>\n",
              "      <td>2</td>\n",
              "      <td>3</td>\n",
              "      <td>66.67</td>\n",
              "      <td>NaN</td>\n",
              "      <td>NaN</td>\n",
              "      <td>NaN</td>\n",
              "      <td>-2.0</td>\n",
              "    </tr>\n",
              "    <tr>\n",
              "      <th>V Kohli</th>\n",
              "      <td>1</td>\n",
              "      <td>5</td>\n",
              "      <td>20.00</td>\n",
              "      <td>NaN</td>\n",
              "      <td>NaN</td>\n",
              "      <td>NaN</td>\n",
              "      <td>-6.0</td>\n",
              "    </tr>\n",
              "    <tr>\n",
              "      <th>B Akhil</th>\n",
              "      <td>0</td>\n",
              "      <td>2</td>\n",
              "      <td>0.00</td>\n",
              "      <td>NaN</td>\n",
              "      <td>NaN</td>\n",
              "      <td>-2.0</td>\n",
              "      <td>-6.0</td>\n",
              "    </tr>\n",
              "  </tbody>\n",
              "</table>\n",
              "</div>"
            ],
            "text/plain": [
              "                 batsman_runs  ...  Strike Rate Bonus\n",
              "BB McCullum               158  ...                6.0\n",
              "RT Ponting                 20  ...                NaN\n",
              "P Kumar                    18  ...                NaN\n",
              "DJ Hussey                  12  ...                NaN\n",
              "SC Ganguly                 10  ...                NaN\n",
              "AA Noffke                   9  ...                NaN\n",
              "JH Kallis                   8  ...                NaN\n",
              "MV Boucher                  7  ...                NaN\n",
              "CL White                    6  ...               -2.0\n",
              "W Jaffer                    6  ...               -6.0\n",
              "Mohammad Hafeez             5  ...                4.0\n",
              "SB Joshi                    3  ...               -4.0\n",
              "Z Khan                      3  ...               -6.0\n",
              "R Dravid                    2  ...               -2.0\n",
              "V Kohli                     1  ...               -6.0\n",
              "B Akhil                     0  ...               -6.0\n",
              "\n",
              "[16 rows x 7 columns]"
            ]
          },
          "metadata": {},
          "execution_count": 34
        }
      ]
    },
    {
      "cell_type": "code",
      "metadata": {
        "id": "7BnGZglT8zyN"
      },
      "source": [
        "df_batsman = df_batsman.fillna(0)"
      ],
      "execution_count": 43,
      "outputs": []
    },
    {
      "cell_type": "code",
      "metadata": {
        "id": "94Gt4V4b0BlI"
      },
      "source": [
        "df_batsman['Batting Points'] = (df_batsman.loc[:, 'batsman_runs'])*1 + (df_batsman.loc[:, 'no of fours'])*1 + (df_batsman.loc[:, 'no of sixes'])*2 + (df_batsman.loc[:, 'Century bonus'])*1 + (df_batsman.loc[:, 'Strike Rate Bonus'])*1"
      ],
      "execution_count": 44,
      "outputs": []
    },
    {
      "cell_type": "code",
      "metadata": {
        "id": "kRXNzf--zh7n"
      },
      "source": [
        ""
      ],
      "execution_count": 34,
      "outputs": []
    },
    {
      "cell_type": "code",
      "metadata": {
        "colab": {
          "base_uri": "https://localhost:8080/",
          "height": 545
        },
        "id": "auM3-J8VzcGu",
        "outputId": "90928138-835a-42c4-a23f-cfc9bb35e668"
      },
      "source": [
        "df_batsman"
      ],
      "execution_count": 45,
      "outputs": [
        {
          "output_type": "execute_result",
          "data": {
            "text/html": [
              "<div>\n",
              "<style scoped>\n",
              "    .dataframe tbody tr th:only-of-type {\n",
              "        vertical-align: middle;\n",
              "    }\n",
              "\n",
              "    .dataframe tbody tr th {\n",
              "        vertical-align: top;\n",
              "    }\n",
              "\n",
              "    .dataframe thead th {\n",
              "        text-align: right;\n",
              "    }\n",
              "</style>\n",
              "<table border=\"1\" class=\"dataframe\">\n",
              "  <thead>\n",
              "    <tr style=\"text-align: right;\">\n",
              "      <th></th>\n",
              "      <th>batsman_runs</th>\n",
              "      <th>Total ball faced</th>\n",
              "      <th>Batting Strike Rate</th>\n",
              "      <th>no of fours</th>\n",
              "      <th>no of sixes</th>\n",
              "      <th>Century bonus</th>\n",
              "      <th>Strike Rate Bonus</th>\n",
              "      <th>Batting Points</th>\n",
              "    </tr>\n",
              "  </thead>\n",
              "  <tbody>\n",
              "    <tr>\n",
              "      <th>BB McCullum</th>\n",
              "      <td>158</td>\n",
              "      <td>73</td>\n",
              "      <td>216.44</td>\n",
              "      <td>10.0</td>\n",
              "      <td>13.0</td>\n",
              "      <td>16.0</td>\n",
              "      <td>6.0</td>\n",
              "      <td>216.0</td>\n",
              "    </tr>\n",
              "    <tr>\n",
              "      <th>RT Ponting</th>\n",
              "      <td>20</td>\n",
              "      <td>20</td>\n",
              "      <td>100.00</td>\n",
              "      <td>1.0</td>\n",
              "      <td>1.0</td>\n",
              "      <td>0.0</td>\n",
              "      <td>0.0</td>\n",
              "      <td>23.0</td>\n",
              "    </tr>\n",
              "    <tr>\n",
              "      <th>P Kumar</th>\n",
              "      <td>18</td>\n",
              "      <td>15</td>\n",
              "      <td>120.00</td>\n",
              "      <td>1.0</td>\n",
              "      <td>2.0</td>\n",
              "      <td>0.0</td>\n",
              "      <td>0.0</td>\n",
              "      <td>23.0</td>\n",
              "    </tr>\n",
              "    <tr>\n",
              "      <th>DJ Hussey</th>\n",
              "      <td>12</td>\n",
              "      <td>12</td>\n",
              "      <td>100.00</td>\n",
              "      <td>1.0</td>\n",
              "      <td>0.0</td>\n",
              "      <td>0.0</td>\n",
              "      <td>0.0</td>\n",
              "      <td>13.0</td>\n",
              "    </tr>\n",
              "    <tr>\n",
              "      <th>SC Ganguly</th>\n",
              "      <td>10</td>\n",
              "      <td>12</td>\n",
              "      <td>83.33</td>\n",
              "      <td>2.0</td>\n",
              "      <td>0.0</td>\n",
              "      <td>0.0</td>\n",
              "      <td>0.0</td>\n",
              "      <td>12.0</td>\n",
              "    </tr>\n",
              "    <tr>\n",
              "      <th>AA Noffke</th>\n",
              "      <td>9</td>\n",
              "      <td>10</td>\n",
              "      <td>90.00</td>\n",
              "      <td>1.0</td>\n",
              "      <td>0.0</td>\n",
              "      <td>0.0</td>\n",
              "      <td>0.0</td>\n",
              "      <td>10.0</td>\n",
              "    </tr>\n",
              "    <tr>\n",
              "      <th>JH Kallis</th>\n",
              "      <td>8</td>\n",
              "      <td>7</td>\n",
              "      <td>114.29</td>\n",
              "      <td>0.0</td>\n",
              "      <td>1.0</td>\n",
              "      <td>0.0</td>\n",
              "      <td>0.0</td>\n",
              "      <td>10.0</td>\n",
              "    </tr>\n",
              "    <tr>\n",
              "      <th>MV Boucher</th>\n",
              "      <td>7</td>\n",
              "      <td>9</td>\n",
              "      <td>77.78</td>\n",
              "      <td>1.0</td>\n",
              "      <td>0.0</td>\n",
              "      <td>0.0</td>\n",
              "      <td>0.0</td>\n",
              "      <td>8.0</td>\n",
              "    </tr>\n",
              "    <tr>\n",
              "      <th>CL White</th>\n",
              "      <td>6</td>\n",
              "      <td>10</td>\n",
              "      <td>60.00</td>\n",
              "      <td>0.0</td>\n",
              "      <td>0.0</td>\n",
              "      <td>0.0</td>\n",
              "      <td>-2.0</td>\n",
              "      <td>4.0</td>\n",
              "    </tr>\n",
              "    <tr>\n",
              "      <th>W Jaffer</th>\n",
              "      <td>6</td>\n",
              "      <td>16</td>\n",
              "      <td>37.50</td>\n",
              "      <td>0.0</td>\n",
              "      <td>0.0</td>\n",
              "      <td>0.0</td>\n",
              "      <td>-6.0</td>\n",
              "      <td>0.0</td>\n",
              "    </tr>\n",
              "    <tr>\n",
              "      <th>Mohammad Hafeez</th>\n",
              "      <td>5</td>\n",
              "      <td>3</td>\n",
              "      <td>166.67</td>\n",
              "      <td>1.0</td>\n",
              "      <td>0.0</td>\n",
              "      <td>0.0</td>\n",
              "      <td>4.0</td>\n",
              "      <td>10.0</td>\n",
              "    </tr>\n",
              "    <tr>\n",
              "      <th>SB Joshi</th>\n",
              "      <td>3</td>\n",
              "      <td>6</td>\n",
              "      <td>50.00</td>\n",
              "      <td>0.0</td>\n",
              "      <td>0.0</td>\n",
              "      <td>0.0</td>\n",
              "      <td>-4.0</td>\n",
              "      <td>-1.0</td>\n",
              "    </tr>\n",
              "    <tr>\n",
              "      <th>Z Khan</th>\n",
              "      <td>3</td>\n",
              "      <td>8</td>\n",
              "      <td>37.50</td>\n",
              "      <td>0.0</td>\n",
              "      <td>0.0</td>\n",
              "      <td>0.0</td>\n",
              "      <td>-6.0</td>\n",
              "      <td>-3.0</td>\n",
              "    </tr>\n",
              "    <tr>\n",
              "      <th>R Dravid</th>\n",
              "      <td>2</td>\n",
              "      <td>3</td>\n",
              "      <td>66.67</td>\n",
              "      <td>0.0</td>\n",
              "      <td>0.0</td>\n",
              "      <td>0.0</td>\n",
              "      <td>-2.0</td>\n",
              "      <td>0.0</td>\n",
              "    </tr>\n",
              "    <tr>\n",
              "      <th>V Kohli</th>\n",
              "      <td>1</td>\n",
              "      <td>5</td>\n",
              "      <td>20.00</td>\n",
              "      <td>0.0</td>\n",
              "      <td>0.0</td>\n",
              "      <td>0.0</td>\n",
              "      <td>-6.0</td>\n",
              "      <td>-5.0</td>\n",
              "    </tr>\n",
              "    <tr>\n",
              "      <th>B Akhil</th>\n",
              "      <td>0</td>\n",
              "      <td>2</td>\n",
              "      <td>0.00</td>\n",
              "      <td>0.0</td>\n",
              "      <td>0.0</td>\n",
              "      <td>-2.0</td>\n",
              "      <td>-6.0</td>\n",
              "      <td>-8.0</td>\n",
              "    </tr>\n",
              "  </tbody>\n",
              "</table>\n",
              "</div>"
            ],
            "text/plain": [
              "                 batsman_runs  ...  Batting Points\n",
              "BB McCullum               158  ...           216.0\n",
              "RT Ponting                 20  ...            23.0\n",
              "P Kumar                    18  ...            23.0\n",
              "DJ Hussey                  12  ...            13.0\n",
              "SC Ganguly                 10  ...            12.0\n",
              "AA Noffke                   9  ...            10.0\n",
              "JH Kallis                   8  ...            10.0\n",
              "MV Boucher                  7  ...             8.0\n",
              "CL White                    6  ...             4.0\n",
              "W Jaffer                    6  ...             0.0\n",
              "Mohammad Hafeez             5  ...            10.0\n",
              "SB Joshi                    3  ...            -1.0\n",
              "Z Khan                      3  ...            -3.0\n",
              "R Dravid                    2  ...             0.0\n",
              "V Kohli                     1  ...            -5.0\n",
              "B Akhil                     0  ...            -8.0\n",
              "\n",
              "[16 rows x 8 columns]"
            ]
          },
          "metadata": {},
          "execution_count": 45
        }
      ]
    },
    {
      "cell_type": "code",
      "metadata": {
        "id": "n3yHjtuqA4EI"
      },
      "source": [
        ""
      ],
      "execution_count": null,
      "outputs": []
    },
    {
      "cell_type": "code",
      "metadata": {
        "id": "5zcOhWdjyLZb"
      },
      "source": [
        ""
      ],
      "execution_count": 34,
      "outputs": []
    },
    {
      "cell_type": "code",
      "metadata": {
        "id": "0lroWCFDx0HQ"
      },
      "source": [
        ""
      ],
      "execution_count": 34,
      "outputs": []
    },
    {
      "cell_type": "code",
      "metadata": {
        "id": "tWDmzjckxwmW"
      },
      "source": [
        ""
      ],
      "execution_count": 34,
      "outputs": []
    },
    {
      "cell_type": "code",
      "metadata": {
        "id": "HXRr9CyExt3e"
      },
      "source": [
        ""
      ],
      "execution_count": 34,
      "outputs": []
    },
    {
      "cell_type": "code",
      "metadata": {
        "id": "Sd_f2BsmvNma"
      },
      "source": [
        ""
      ],
      "execution_count": 34,
      "outputs": []
    },
    {
      "cell_type": "code",
      "metadata": {
        "id": "qvegRZWguobW"
      },
      "source": [
        ""
      ],
      "execution_count": 34,
      "outputs": []
    },
    {
      "cell_type": "code",
      "metadata": {
        "id": "rAEsuPButD-n"
      },
      "source": [
        ""
      ],
      "execution_count": 34,
      "outputs": []
    },
    {
      "cell_type": "code",
      "metadata": {
        "id": "ThkJEmepswE4"
      },
      "source": [
        ""
      ],
      "execution_count": 34,
      "outputs": []
    },
    {
      "cell_type": "code",
      "metadata": {
        "id": "mcfr47a2lukh"
      },
      "source": [
        ""
      ],
      "execution_count": 34,
      "outputs": []
    },
    {
      "cell_type": "code",
      "metadata": {
        "id": "yOEhdd9uldSx"
      },
      "source": [
        ""
      ],
      "execution_count": 34,
      "outputs": []
    },
    {
      "cell_type": "code",
      "metadata": {
        "id": "VjtfEje6lWJn"
      },
      "source": [
        ""
      ],
      "execution_count": 34,
      "outputs": []
    },
    {
      "cell_type": "code",
      "metadata": {
        "id": "mzdE-J3YlJBI"
      },
      "source": [
        ""
      ],
      "execution_count": 34,
      "outputs": []
    },
    {
      "cell_type": "code",
      "metadata": {
        "id": "RGuv7-anlHsL"
      },
      "source": [
        ""
      ],
      "execution_count": 34,
      "outputs": []
    },
    {
      "cell_type": "code",
      "metadata": {
        "id": "j6dIzY7ylAz7"
      },
      "source": [
        ""
      ],
      "execution_count": 34,
      "outputs": []
    },
    {
      "cell_type": "code",
      "metadata": {
        "id": "WM0qbd4Ok_C7"
      },
      "source": [
        ""
      ],
      "execution_count": 34,
      "outputs": []
    },
    {
      "cell_type": "code",
      "metadata": {
        "id": "6Evb4FnXkxu4"
      },
      "source": [
        ""
      ],
      "execution_count": 34,
      "outputs": []
    },
    {
      "cell_type": "code",
      "metadata": {
        "id": "Jj4Xp3cakwr5"
      },
      "source": [
        ""
      ],
      "execution_count": 34,
      "outputs": []
    },
    {
      "cell_type": "code",
      "metadata": {
        "id": "dRA3leF6kpo4"
      },
      "source": [
        ""
      ],
      "execution_count": 34,
      "outputs": []
    },
    {
      "cell_type": "code",
      "metadata": {
        "id": "05yrS4jokfyU"
      },
      "source": [
        ""
      ],
      "execution_count": 34,
      "outputs": []
    },
    {
      "cell_type": "code",
      "metadata": {
        "id": "8UJ4s2UkifCC"
      },
      "source": [
        ""
      ],
      "execution_count": 34,
      "outputs": []
    },
    {
      "cell_type": "code",
      "metadata": {
        "id": "TUK4sLltid3M"
      },
      "source": [
        ""
      ],
      "execution_count": 34,
      "outputs": []
    },
    {
      "cell_type": "code",
      "metadata": {
        "id": "m_T_8ZuOhGJG"
      },
      "source": [
        ""
      ],
      "execution_count": 34,
      "outputs": []
    },
    {
      "cell_type": "code",
      "metadata": {
        "id": "XxL1K99wg9t3"
      },
      "source": [
        ""
      ],
      "execution_count": 34,
      "outputs": []
    }
  ]
}