{
  "nbformat": 4,
  "nbformat_minor": 0,
  "metadata": {
    "colab": {
      "name": "All time best IPL team.ipynb",
      "provenance": [],
      "collapsed_sections": [],
      "authorship_tag": "ABX9TyMWJn9vUT6hntBaIkY7Sv+2",
      "include_colab_link": true
    },
    "kernelspec": {
      "display_name": "Python 3",
      "name": "python3"
    },
    "language_info": {
      "name": "python"
    }
  },
  "cells": [
    {
      "cell_type": "markdown",
      "metadata": {
        "id": "view-in-github",
        "colab_type": "text"
      },
      "source": [
        "<a href=\"https://colab.research.google.com/github/dhrubjun/All-time-best-IPL-team/blob/main/All_time_best_IPL_team.ipynb\" target=\"_parent\"><img src=\"https://colab.research.google.com/assets/colab-badge.svg\" alt=\"Open In Colab\"/></a>"
      ]
    },
    {
      "cell_type": "code",
      "metadata": {
        "colab": {
          "base_uri": "https://localhost:8080/"
        },
        "id": "bdADmyEulZRr",
        "outputId": "71d33671-ac1b-44bd-d057-42400f685300"
      },
      "source": [
        "from google.colab import drive\n",
        "drive.mount('/content/drive')"
      ],
      "execution_count": 1,
      "outputs": [
        {
          "output_type": "stream",
          "text": [
            "Mounted at /content/drive\n"
          ],
          "name": "stdout"
        }
      ]
    },
    {
      "cell_type": "markdown",
      "metadata": {
        "id": "XW6cVuD9m1oa"
      },
      "source": [
        "The team team will consists of 12 player (1 extra player). \n",
        "It will have -\n",
        "1. **4 Batsman**\n",
        "2. **1 Wicket keeper batsman**\n",
        "3. **2 all rounder**\n",
        "4. **4 bowlers (2 spinners and 2 pacers)**\n",
        "5. **1 extra player (preferably an all rounder)**"
      ]
    },
    {
      "cell_type": "code",
      "metadata": {
        "id": "TS10cRillaOU"
      },
      "source": [
        "import pandas as pd\n",
        "import numpy as np\n",
        "import matplotlib.pyplot as plt\n",
        "import seaborn as sns\n",
        "%matplotlib inline\n",
        "\n",
        "path = \"/content/drive/MyDrive/data/IPL Ball-by-Ball 2008-2020.csv\"\n",
        "df = pd.read_csv(path)\n"
      ],
      "execution_count": 2,
      "outputs": []
    },
    {
      "cell_type": "code",
      "metadata": {
        "colab": {
          "base_uri": "https://localhost:8080/",
          "height": 395
        },
        "id": "uAB0aIQ4l-yR",
        "outputId": "976c66f0-18e6-4ba2-da4f-66a7d136a414"
      },
      "source": [
        "df.head()"
      ],
      "execution_count": 3,
      "outputs": [
        {
          "output_type": "execute_result",
          "data": {
            "text/html": [
              "<div>\n",
              "<style scoped>\n",
              "    .dataframe tbody tr th:only-of-type {\n",
              "        vertical-align: middle;\n",
              "    }\n",
              "\n",
              "    .dataframe tbody tr th {\n",
              "        vertical-align: top;\n",
              "    }\n",
              "\n",
              "    .dataframe thead th {\n",
              "        text-align: right;\n",
              "    }\n",
              "</style>\n",
              "<table border=\"1\" class=\"dataframe\">\n",
              "  <thead>\n",
              "    <tr style=\"text-align: right;\">\n",
              "      <th></th>\n",
              "      <th>id</th>\n",
              "      <th>inning</th>\n",
              "      <th>over</th>\n",
              "      <th>ball</th>\n",
              "      <th>batsman</th>\n",
              "      <th>non_striker</th>\n",
              "      <th>bowler</th>\n",
              "      <th>batsman_runs</th>\n",
              "      <th>extra_runs</th>\n",
              "      <th>total_runs</th>\n",
              "      <th>non_boundary</th>\n",
              "      <th>is_wicket</th>\n",
              "      <th>dismissal_kind</th>\n",
              "      <th>player_dismissed</th>\n",
              "      <th>fielder</th>\n",
              "      <th>extras_type</th>\n",
              "      <th>batting_team</th>\n",
              "      <th>bowling_team</th>\n",
              "    </tr>\n",
              "  </thead>\n",
              "  <tbody>\n",
              "    <tr>\n",
              "      <th>0</th>\n",
              "      <td>335982</td>\n",
              "      <td>1</td>\n",
              "      <td>6</td>\n",
              "      <td>5</td>\n",
              "      <td>RT Ponting</td>\n",
              "      <td>BB McCullum</td>\n",
              "      <td>AA Noffke</td>\n",
              "      <td>1</td>\n",
              "      <td>0</td>\n",
              "      <td>1</td>\n",
              "      <td>0</td>\n",
              "      <td>0</td>\n",
              "      <td>NaN</td>\n",
              "      <td>NaN</td>\n",
              "      <td>NaN</td>\n",
              "      <td>NaN</td>\n",
              "      <td>Kolkata Knight Riders</td>\n",
              "      <td>Royal Challengers Bangalore</td>\n",
              "    </tr>\n",
              "    <tr>\n",
              "      <th>1</th>\n",
              "      <td>335982</td>\n",
              "      <td>1</td>\n",
              "      <td>6</td>\n",
              "      <td>6</td>\n",
              "      <td>BB McCullum</td>\n",
              "      <td>RT Ponting</td>\n",
              "      <td>AA Noffke</td>\n",
              "      <td>1</td>\n",
              "      <td>0</td>\n",
              "      <td>1</td>\n",
              "      <td>0</td>\n",
              "      <td>0</td>\n",
              "      <td>NaN</td>\n",
              "      <td>NaN</td>\n",
              "      <td>NaN</td>\n",
              "      <td>NaN</td>\n",
              "      <td>Kolkata Knight Riders</td>\n",
              "      <td>Royal Challengers Bangalore</td>\n",
              "    </tr>\n",
              "    <tr>\n",
              "      <th>2</th>\n",
              "      <td>335982</td>\n",
              "      <td>1</td>\n",
              "      <td>7</td>\n",
              "      <td>1</td>\n",
              "      <td>BB McCullum</td>\n",
              "      <td>RT Ponting</td>\n",
              "      <td>Z Khan</td>\n",
              "      <td>0</td>\n",
              "      <td>0</td>\n",
              "      <td>0</td>\n",
              "      <td>0</td>\n",
              "      <td>0</td>\n",
              "      <td>NaN</td>\n",
              "      <td>NaN</td>\n",
              "      <td>NaN</td>\n",
              "      <td>NaN</td>\n",
              "      <td>Kolkata Knight Riders</td>\n",
              "      <td>Royal Challengers Bangalore</td>\n",
              "    </tr>\n",
              "    <tr>\n",
              "      <th>3</th>\n",
              "      <td>335982</td>\n",
              "      <td>1</td>\n",
              "      <td>7</td>\n",
              "      <td>2</td>\n",
              "      <td>BB McCullum</td>\n",
              "      <td>RT Ponting</td>\n",
              "      <td>Z Khan</td>\n",
              "      <td>1</td>\n",
              "      <td>0</td>\n",
              "      <td>1</td>\n",
              "      <td>0</td>\n",
              "      <td>0</td>\n",
              "      <td>NaN</td>\n",
              "      <td>NaN</td>\n",
              "      <td>NaN</td>\n",
              "      <td>NaN</td>\n",
              "      <td>Kolkata Knight Riders</td>\n",
              "      <td>Royal Challengers Bangalore</td>\n",
              "    </tr>\n",
              "    <tr>\n",
              "      <th>4</th>\n",
              "      <td>335982</td>\n",
              "      <td>1</td>\n",
              "      <td>7</td>\n",
              "      <td>3</td>\n",
              "      <td>RT Ponting</td>\n",
              "      <td>BB McCullum</td>\n",
              "      <td>Z Khan</td>\n",
              "      <td>1</td>\n",
              "      <td>0</td>\n",
              "      <td>1</td>\n",
              "      <td>0</td>\n",
              "      <td>0</td>\n",
              "      <td>NaN</td>\n",
              "      <td>NaN</td>\n",
              "      <td>NaN</td>\n",
              "      <td>NaN</td>\n",
              "      <td>Kolkata Knight Riders</td>\n",
              "      <td>Royal Challengers Bangalore</td>\n",
              "    </tr>\n",
              "  </tbody>\n",
              "</table>\n",
              "</div>"
            ],
            "text/plain": [
              "       id  inning  ...           batting_team                 bowling_team\n",
              "0  335982       1  ...  Kolkata Knight Riders  Royal Challengers Bangalore\n",
              "1  335982       1  ...  Kolkata Knight Riders  Royal Challengers Bangalore\n",
              "2  335982       1  ...  Kolkata Knight Riders  Royal Challengers Bangalore\n",
              "3  335982       1  ...  Kolkata Knight Riders  Royal Challengers Bangalore\n",
              "4  335982       1  ...  Kolkata Knight Riders  Royal Challengers Bangalore\n",
              "\n",
              "[5 rows x 18 columns]"
            ]
          },
          "metadata": {
            "tags": []
          },
          "execution_count": 3
        }
      ]
    },
    {
      "cell_type": "markdown",
      "metadata": {
        "id": "UOAGv3CTnbGV"
      },
      "source": [
        "Selection of batsman will be on following criteria-\n",
        "1. **Batting Avg.**\n",
        "2. **Strike Rate**\n",
        "3. **Batting average and strike rate at 16th to 20th Over for finisher** \n",
        "\n",
        "\n",
        "\n"
      ]
    },
    {
      "cell_type": "markdown",
      "metadata": {
        "id": "wpPF07bMxQ99"
      },
      "source": [
        "\n",
        "\n",
        "1.   **Batting Average = (Total runs)/(No. of OUT)** \n",
        "\n",
        "2.   **Strike Rate = (Total runs)/(Total no. of balls faced)**\n",
        "\n"
      ]
    },
    {
      "cell_type": "markdown",
      "metadata": {
        "id": "AV9PMdWCdpG2"
      },
      "source": [
        "# Calculation of total number of runs for each batsman\n",
        "\n",
        "\n",
        "\n",
        "\n",
        "\n",
        "\n",
        "\n",
        "\n",
        "\n",
        "\n",
        "\n",
        "\n",
        "\n",
        "\n",
        "\n"
      ]
    },
    {
      "cell_type": "code",
      "metadata": {
        "id": "RaM42RS0nl5I"
      },
      "source": [
        "df_total_run = df.groupby('batsman').sum().sort_values(by='batsman_runs', ascending=False)['batsman_runs']"
      ],
      "execution_count": 4,
      "outputs": []
    },
    {
      "cell_type": "code",
      "metadata": {
        "colab": {
          "base_uri": "https://localhost:8080/"
        },
        "id": "aWOmTKc8dtjQ",
        "outputId": "3c2e33b5-c440-4953-e51e-4dc444a98e1a"
      },
      "source": [
        "df_total_run.head(10)"
      ],
      "execution_count": 5,
      "outputs": [
        {
          "output_type": "execute_result",
          "data": {
            "text/plain": [
              "batsman\n",
              "V Kohli           5878\n",
              "SK Raina          5368\n",
              "DA Warner         5254\n",
              "RG Sharma         5230\n",
              "S Dhawan          5197\n",
              "AB de Villiers    4849\n",
              "CH Gayle          4772\n",
              "MS Dhoni          4632\n",
              "RV Uthappa        4607\n",
              "G Gambhir         4217\n",
              "Name: batsman_runs, dtype: int64"
            ]
          },
          "metadata": {
            "tags": []
          },
          "execution_count": 5
        }
      ]
    },
    {
      "cell_type": "markdown",
      "metadata": {
        "id": "Cbxnjn_fsJ7Z"
      },
      "source": [
        "# Calculation of total number of balls faced by batsman.\n",
        "\n",
        "***In calculating total number of balls faced, we will not consider wide balls. ***"
      ]
    },
    {
      "cell_type": "code",
      "metadata": {
        "id": "4hSt1DuIrf_7"
      },
      "source": [
        "df_total_ball_faced = df[df['extras_type']!='wides'].groupby('batsman').count().sort_values(by='batsman_runs', ascending=False)['batsman_runs']"
      ],
      "execution_count": 6,
      "outputs": []
    },
    {
      "cell_type": "markdown",
      "metadata": {
        "id": "XqEFpARezw-M"
      },
      "source": [
        "# Calculation of total number of OUTs"
      ]
    },
    {
      "cell_type": "code",
      "metadata": {
        "id": "ajVrkNX_rLZP"
      },
      "source": [
        "total_out = df[df['is_wicket']==1].groupby('batsman').count().sort_values(by='is_wicket', ascending=False)['is_wicket']"
      ],
      "execution_count": 7,
      "outputs": []
    },
    {
      "cell_type": "markdown",
      "metadata": {
        "id": "Lg3nqpl5z9KJ"
      },
      "source": [
        "# **Creating final dataframe for batsman**"
      ]
    },
    {
      "cell_type": "code",
      "metadata": {
        "id": "PhQOBZy3zS3k"
      },
      "source": [
        "df_batsman = pd.concat([df_total_run,total_out], axis=1)"
      ],
      "execution_count": 8,
      "outputs": []
    },
    {
      "cell_type": "code",
      "metadata": {
        "id": "P9QCBDJB5BhI"
      },
      "source": [
        "df_batsman['Total balls faced'] = df_total_ball_faced"
      ],
      "execution_count": 9,
      "outputs": []
    },
    {
      "cell_type": "code",
      "metadata": {
        "id": "VN0XGCOE5QgC"
      },
      "source": [
        "df_batsman.rename(columns={'batsman_run':'Total Run', 'is_wicket':'Total No.OUT', 'Toatal balls faced':'Total balls faced' }, inplace=True)"
      ],
      "execution_count": 10,
      "outputs": []
    },
    {
      "cell_type": "markdown",
      "metadata": {
        "id": "n5JfMkyW5HSf"
      },
      "source": [
        "**Calculation of batting average**"
      ]
    },
    {
      "cell_type": "code",
      "metadata": {
        "id": "MEZUt1j15CUG"
      },
      "source": [
        "df_batsman['Batting Average'] = round(df_batsman['batsman_runs']/df_batsman['Total No.OUT'], 2)"
      ],
      "execution_count": 11,
      "outputs": []
    },
    {
      "cell_type": "markdown",
      "metadata": {
        "id": "YVnK-Ujp5XYQ"
      },
      "source": [
        "**Calculation of batting strike rate**"
      ]
    },
    {
      "cell_type": "code",
      "metadata": {
        "id": "pgy8YAfS6c30"
      },
      "source": [
        "df_batsman['Batting Strike Rate'] = round((df_batsman['batsman_runs']/df_batsman['Total balls faced'])* 100 , 2)"
      ],
      "execution_count": 12,
      "outputs": []
    },
    {
      "cell_type": "markdown",
      "metadata": {
        "id": "F83Dw4JuzHEQ"
      },
      "source": [
        "***We will consider only those batsman who has scored more than 1000 runs.***"
      ]
    },
    {
      "cell_type": "code",
      "metadata": {
        "id": "Wh_GTixm-CGY"
      },
      "source": [
        "df_batsman = df_batsman[df_batsman['batsman_runs']>1000]"
      ],
      "execution_count": 13,
      "outputs": []
    },
    {
      "cell_type": "markdown",
      "metadata": {
        "id": "3AA-ymIP694Z"
      },
      "source": [
        "We will create a column named 'Batting Points' for each batsman based on his average and strike rate. \n",
        "\n",
        "*   **Batting points** = (Batting Avg.) x 0.8 + (Batting strike rate) x 0.2 \n",
        "   \n",
        "\n"
      ]
    },
    {
      "cell_type": "code",
      "metadata": {
        "id": "LqsH1Ibk0EQM"
      },
      "source": [
        "df_batsman['Batting Points'] = (df_batsman['Batting Average']*0.8)+(df_batsman['Batting Strike Rate']*0.2)"
      ],
      "execution_count": 132,
      "outputs": []
    },
    {
      "cell_type": "markdown",
      "metadata": {
        "id": "z3KjHdjDClMx"
      },
      "source": [
        "**Top 10 batsman according to batting points**"
      ]
    },
    {
      "cell_type": "code",
      "metadata": {
        "colab": {
          "base_uri": "https://localhost:8080/",
          "height": 355
        },
        "id": "QbUkLRTfh2IY",
        "outputId": "70bc433b-d6f7-44ec-e9f2-d151424756d3"
      },
      "source": [
        "df_batsman.sort_values(by='Batting Points', ascending=False).head(10)"
      ],
      "execution_count": 133,
      "outputs": [
        {
          "output_type": "execute_result",
          "data": {
            "text/html": [
              "<div>\n",
              "<style scoped>\n",
              "    .dataframe tbody tr th:only-of-type {\n",
              "        vertical-align: middle;\n",
              "    }\n",
              "\n",
              "    .dataframe tbody tr th {\n",
              "        vertical-align: top;\n",
              "    }\n",
              "\n",
              "    .dataframe thead th {\n",
              "        text-align: right;\n",
              "    }\n",
              "</style>\n",
              "<table border=\"1\" class=\"dataframe\">\n",
              "  <thead>\n",
              "    <tr style=\"text-align: right;\">\n",
              "      <th></th>\n",
              "      <th>batsman_runs</th>\n",
              "      <th>Total No.OUT</th>\n",
              "      <th>Total balls faced</th>\n",
              "      <th>Batting Average</th>\n",
              "      <th>Batting Strike Rate</th>\n",
              "      <th>Batting Points</th>\n",
              "    </tr>\n",
              "  </thead>\n",
              "  <tbody>\n",
              "    <tr>\n",
              "      <th>AB de Villiers</th>\n",
              "      <td>4849</td>\n",
              "      <td>114.0</td>\n",
              "      <td>3192</td>\n",
              "      <td>42.54</td>\n",
              "      <td>151.91</td>\n",
              "      <td>64.414</td>\n",
              "    </tr>\n",
              "    <tr>\n",
              "      <th>CH Gayle</th>\n",
              "      <td>4772</td>\n",
              "      <td>116.0</td>\n",
              "      <td>3179</td>\n",
              "      <td>41.14</td>\n",
              "      <td>150.11</td>\n",
              "      <td>62.934</td>\n",
              "    </tr>\n",
              "    <tr>\n",
              "      <th>DA Warner</th>\n",
              "      <td>5254</td>\n",
              "      <td>126.0</td>\n",
              "      <td>3712</td>\n",
              "      <td>41.70</td>\n",
              "      <td>141.54</td>\n",
              "      <td>61.668</td>\n",
              "    </tr>\n",
              "    <tr>\n",
              "      <th>KL Rahul</th>\n",
              "      <td>2647</td>\n",
              "      <td>62.0</td>\n",
              "      <td>1949</td>\n",
              "      <td>42.69</td>\n",
              "      <td>135.81</td>\n",
              "      <td>61.314</td>\n",
              "    </tr>\n",
              "    <tr>\n",
              "      <th>AD Russell</th>\n",
              "      <td>1517</td>\n",
              "      <td>50.0</td>\n",
              "      <td>832</td>\n",
              "      <td>30.34</td>\n",
              "      <td>182.33</td>\n",
              "      <td>60.738</td>\n",
              "    </tr>\n",
              "    <tr>\n",
              "      <th>ML Hayden</th>\n",
              "      <td>1107</td>\n",
              "      <td>27.0</td>\n",
              "      <td>805</td>\n",
              "      <td>41.00</td>\n",
              "      <td>137.52</td>\n",
              "      <td>60.304</td>\n",
              "    </tr>\n",
              "    <tr>\n",
              "      <th>RR Pant</th>\n",
              "      <td>2079</td>\n",
              "      <td>59.0</td>\n",
              "      <td>1368</td>\n",
              "      <td>35.24</td>\n",
              "      <td>151.97</td>\n",
              "      <td>58.586</td>\n",
              "    </tr>\n",
              "    <tr>\n",
              "      <th>KS Williamson</th>\n",
              "      <td>1619</td>\n",
              "      <td>41.0</td>\n",
              "      <td>1201</td>\n",
              "      <td>39.49</td>\n",
              "      <td>134.80</td>\n",
              "      <td>58.552</td>\n",
              "    </tr>\n",
              "    <tr>\n",
              "      <th>JC Buttler</th>\n",
              "      <td>1714</td>\n",
              "      <td>48.0</td>\n",
              "      <td>1146</td>\n",
              "      <td>35.71</td>\n",
              "      <td>149.56</td>\n",
              "      <td>58.480</td>\n",
              "    </tr>\n",
              "    <tr>\n",
              "      <th>JP Duminy</th>\n",
              "      <td>2029</td>\n",
              "      <td>49.0</td>\n",
              "      <td>1636</td>\n",
              "      <td>41.41</td>\n",
              "      <td>124.02</td>\n",
              "      <td>57.932</td>\n",
              "    </tr>\n",
              "  </tbody>\n",
              "</table>\n",
              "</div>"
            ],
            "text/plain": [
              "                batsman_runs  Total No.OUT  ...  Batting Strike Rate  Batting Points\n",
              "AB de Villiers          4849         114.0  ...               151.91          64.414\n",
              "CH Gayle                4772         116.0  ...               150.11          62.934\n",
              "DA Warner               5254         126.0  ...               141.54          61.668\n",
              "KL Rahul                2647          62.0  ...               135.81          61.314\n",
              "AD Russell              1517          50.0  ...               182.33          60.738\n",
              "ML Hayden               1107          27.0  ...               137.52          60.304\n",
              "RR Pant                 2079          59.0  ...               151.97          58.586\n",
              "KS Williamson           1619          41.0  ...               134.80          58.552\n",
              "JC Buttler              1714          48.0  ...               149.56          58.480\n",
              "JP Duminy               2029          49.0  ...               124.02          57.932\n",
              "\n",
              "[10 rows x 6 columns]"
            ]
          },
          "metadata": {
            "tags": []
          },
          "execution_count": 133
        }
      ]
    },
    {
      "cell_type": "markdown",
      "metadata": {
        "id": "S5wmNtmezmns"
      },
      "source": [
        "**Top 10 batsman according to batting average**"
      ]
    },
    {
      "cell_type": "code",
      "metadata": {
        "colab": {
          "base_uri": "https://localhost:8080/"
        },
        "id": "_2z7Tqa_7ief",
        "outputId": "4fafa71c-4b20-458b-9a2f-07624a3121ee"
      },
      "source": [
        "df_batsman.sort_values(by='Batting Average', ascending=False).head(10)['Batting Average']"
      ],
      "execution_count": 148,
      "outputs": [
        {
          "output_type": "execute_result",
          "data": {
            "text/plain": [
              "KL Rahul          42.69\n",
              "AB de Villiers    42.54\n",
              "DA Warner         41.70\n",
              "JP Duminy         41.41\n",
              "CH Gayle          41.14\n",
              "ML Hayden         41.00\n",
              "LMP Simmons       39.96\n",
              "KS Williamson     39.49\n",
              "SE Marsh          38.70\n",
              "MEK Hussey        38.02\n",
              "Name: Batting Average, dtype: float64"
            ]
          },
          "metadata": {
            "tags": []
          },
          "execution_count": 148
        }
      ]
    },
    {
      "cell_type": "markdown",
      "metadata": {
        "id": "r4fhazyEz8DT"
      },
      "source": [
        "**Top 10 batsman according to batting strike rate**"
      ]
    },
    {
      "cell_type": "code",
      "metadata": {
        "colab": {
          "base_uri": "https://localhost:8080/"
        },
        "id": "PjEGlDER-40q",
        "outputId": "64474275-1207-4ad0-927b-cd7e2a84043f"
      },
      "source": [
        "df_batsman.sort_values(by='Batting Strike Rate', ascending=False).head(10)['Batting Strike Rate']"
      ],
      "execution_count": 149,
      "outputs": [
        {
          "output_type": "execute_result",
          "data": {
            "text/plain": [
              "AD Russell        182.33\n",
              "HH Pandya         159.27\n",
              "V Sehwag          155.44\n",
              "GJ Maxwell        154.68\n",
              "RR Pant           151.97\n",
              "AB de Villiers    151.91\n",
              "CH Gayle          150.11\n",
              "KA Pollard        149.88\n",
              "JC Buttler        149.56\n",
              "YK Pathan         142.97\n",
              "Name: Batting Strike Rate, dtype: float64"
            ]
          },
          "metadata": {
            "tags": []
          },
          "execution_count": 149
        }
      ]
    },
    {
      "cell_type": "markdown",
      "metadata": {
        "id": "CmsFbtY_SD69"
      },
      "source": [
        "**Top 10 batsman according to batting points**"
      ]
    },
    {
      "cell_type": "code",
      "metadata": {
        "colab": {
          "base_uri": "https://localhost:8080/"
        },
        "id": "KV4KMs2bSI0_",
        "outputId": "cd80f159-b6fe-497c-fd62-1a8f76684a81"
      },
      "source": [
        "df_batsman.sort_values(by='Batting Points', ascending=False).head(10)['Batting Points']"
      ],
      "execution_count": 150,
      "outputs": [
        {
          "output_type": "execute_result",
          "data": {
            "text/plain": [
              "AB de Villiers    64.414\n",
              "CH Gayle          62.934\n",
              "DA Warner         61.668\n",
              "KL Rahul          61.314\n",
              "AD Russell        60.738\n",
              "ML Hayden         60.304\n",
              "RR Pant           58.586\n",
              "KS Williamson     58.552\n",
              "JC Buttler        58.480\n",
              "JP Duminy         57.932\n",
              "Name: Batting Points, dtype: float64"
            ]
          },
          "metadata": {
            "tags": []
          },
          "execution_count": 150
        }
      ]
    },
    {
      "cell_type": "markdown",
      "metadata": {
        "id": "xtQxudwOjZev"
      },
      "source": [
        "# Calculation of  batting average and strike rate when the batsman is batting at death overs (16th to 20th Over)"
      ]
    },
    {
      "cell_type": "code",
      "metadata": {
        "id": "2FmJV5j8h-7y"
      },
      "source": [
        "df_death = df[df['over']>15]"
      ],
      "execution_count": 20,
      "outputs": []
    },
    {
      "cell_type": "code",
      "metadata": {
        "id": "6xD7ux-9_JVc"
      },
      "source": [
        "df_batsman_run_death = df_death.groupby('batsman').sum().sort_values(by='batsman_runs', ascending=False)['batsman_runs']"
      ],
      "execution_count": 21,
      "outputs": []
    },
    {
      "cell_type": "code",
      "metadata": {
        "id": "JMFi5CDq-zxz"
      },
      "source": [
        "df_balls_faced_death  = df_death[df_death['extras_type']!='wides'].groupby('batsman').count().sort_values(by='batsman_runs', ascending=False)['batsman_runs']"
      ],
      "execution_count": 22,
      "outputs": []
    },
    {
      "cell_type": "code",
      "metadata": {
        "id": "lejNG8B07dF7"
      },
      "source": [
        "df_number_of_out_death = df_death[df_death['is_wicket']==1].groupby('batsman').count().sort_values(by='is_wicket', ascending=False)['is_wicket']"
      ],
      "execution_count": 23,
      "outputs": []
    },
    {
      "cell_type": "code",
      "metadata": {
        "id": "RanVbcs87bg4"
      },
      "source": [
        "df_death_stat = pd.concat([df_batsman_run_death, df_number_of_out_death], axis=1)"
      ],
      "execution_count": 24,
      "outputs": []
    },
    {
      "cell_type": "code",
      "metadata": {
        "id": "RwXS1XUG7WS8"
      },
      "source": [
        "df_death_stat['Total balls faced'] = df_balls_faced_death"
      ],
      "execution_count": 25,
      "outputs": []
    },
    {
      "cell_type": "code",
      "metadata": {
        "id": "o58tmCX97Gl2"
      },
      "source": [
        "df_death_stat['Average'] = round(df_death_stat['batsman_runs']/df_death_stat['is_wicket'], 2)"
      ],
      "execution_count": 26,
      "outputs": []
    },
    {
      "cell_type": "code",
      "metadata": {
        "id": "eGK2_OFo7C9k"
      },
      "source": [
        "df_death_stat['Strike Rate'] = round((df_death_stat['batsman_runs']/df_death_stat['Total balls faced'])*100, 2)"
      ],
      "execution_count": 27,
      "outputs": []
    },
    {
      "cell_type": "markdown",
      "metadata": {
        "id": "a-RslDRODvZp"
      },
      "source": [
        "**We will consider only those batsman who has scored more than 500 runs in death overs**"
      ]
    },
    {
      "cell_type": "code",
      "metadata": {
        "id": "VvhPQdrbxZkw"
      },
      "source": [
        "df_death_stat = df_death_stat[df_death_stat['batsman_runs']>500]"
      ],
      "execution_count": 28,
      "outputs": []
    },
    {
      "cell_type": "markdown",
      "metadata": {
        "id": "WNmsgbjN0b8R"
      },
      "source": [
        "**Top 10 batsman according to average at 16th to 20th over**"
      ]
    },
    {
      "cell_type": "code",
      "metadata": {
        "id": "1u0aimX7xO9R",
        "colab": {
          "base_uri": "https://localhost:8080/"
        },
        "outputId": "d100b1b1-7d5e-4b7c-97a8-2fd0d6fca0c1"
      },
      "source": [
        "df_death_stat.sort_values(by='Average', ascending=False).head(10)['Average']"
      ],
      "execution_count": 29,
      "outputs": [
        {
          "output_type": "execute_result",
          "data": {
            "text/plain": [
              "AB de Villiers    40.45\n",
              "JP Duminy         33.90\n",
              "MS Dhoni          31.55\n",
              "HH Pandya         28.90\n",
              "SK Raina          28.77\n",
              "DA Miller         28.10\n",
              "V Kohli           26.89\n",
              "YK Pathan         25.24\n",
              "AD Russell        24.63\n",
              "KA Pollard        23.60\n",
              "Name: Average, dtype: float64"
            ]
          },
          "metadata": {
            "tags": []
          },
          "execution_count": 29
        }
      ]
    },
    {
      "cell_type": "markdown",
      "metadata": {
        "id": "BzmXz8iC0oic"
      },
      "source": [
        "**Top 10 batsman according to average at 16th to 20th over**"
      ]
    },
    {
      "cell_type": "code",
      "metadata": {
        "id": "8Gz00x0gxMAf",
        "colab": {
          "base_uri": "https://localhost:8080/"
        },
        "outputId": "db38639f-c114-44fd-9ad2-efe50c60b3ac"
      },
      "source": [
        "df_death_stat.sort_values(by='Strike Rate', ascending=False).head(10)['Strike Rate']"
      ],
      "execution_count": 30,
      "outputs": [
        {
          "output_type": "execute_result",
          "data": {
            "text/plain": [
              "AB de Villiers    233.09\n",
              "AD Russell        218.03\n",
              "V Kohli           205.52\n",
              "RG Sharma         198.27\n",
              "HH Pandya         192.20\n",
              "MS Dhoni          189.08\n",
              "DA Miller         186.12\n",
              "KA Pollard        185.41\n",
              "DJ Bravo          185.04\n",
              "KD Karthik        182.38\n",
              "Name: Strike Rate, dtype: float64"
            ]
          },
          "metadata": {
            "tags": []
          },
          "execution_count": 30
        }
      ]
    },
    {
      "cell_type": "code",
      "metadata": {
        "id": "AYpiLLlSwnqn",
        "colab": {
          "base_uri": "https://localhost:8080/",
          "height": 202
        },
        "outputId": "77a80694-cbc0-4553-b3cb-5db04c2dab0b"
      },
      "source": [
        "df_death_stat.head()"
      ],
      "execution_count": 31,
      "outputs": [
        {
          "output_type": "execute_result",
          "data": {
            "text/html": [
              "<div>\n",
              "<style scoped>\n",
              "    .dataframe tbody tr th:only-of-type {\n",
              "        vertical-align: middle;\n",
              "    }\n",
              "\n",
              "    .dataframe tbody tr th {\n",
              "        vertical-align: top;\n",
              "    }\n",
              "\n",
              "    .dataframe thead th {\n",
              "        text-align: right;\n",
              "    }\n",
              "</style>\n",
              "<table border=\"1\" class=\"dataframe\">\n",
              "  <thead>\n",
              "    <tr style=\"text-align: right;\">\n",
              "      <th></th>\n",
              "      <th>batsman_runs</th>\n",
              "      <th>is_wicket</th>\n",
              "      <th>Total balls faced</th>\n",
              "      <th>Average</th>\n",
              "      <th>Strike Rate</th>\n",
              "    </tr>\n",
              "  </thead>\n",
              "  <tbody>\n",
              "    <tr>\n",
              "      <th>MS Dhoni</th>\n",
              "      <td>2303</td>\n",
              "      <td>73.0</td>\n",
              "      <td>1218</td>\n",
              "      <td>31.55</td>\n",
              "      <td>189.08</td>\n",
              "    </tr>\n",
              "    <tr>\n",
              "      <th>KA Pollard</th>\n",
              "      <td>1487</td>\n",
              "      <td>63.0</td>\n",
              "      <td>802</td>\n",
              "      <td>23.60</td>\n",
              "      <td>185.41</td>\n",
              "    </tr>\n",
              "    <tr>\n",
              "      <th>AB de Villiers</th>\n",
              "      <td>1254</td>\n",
              "      <td>31.0</td>\n",
              "      <td>538</td>\n",
              "      <td>40.45</td>\n",
              "      <td>233.09</td>\n",
              "    </tr>\n",
              "    <tr>\n",
              "      <th>RG Sharma</th>\n",
              "      <td>1144</td>\n",
              "      <td>49.0</td>\n",
              "      <td>577</td>\n",
              "      <td>23.35</td>\n",
              "      <td>198.27</td>\n",
              "    </tr>\n",
              "    <tr>\n",
              "      <th>V Kohli</th>\n",
              "      <td>968</td>\n",
              "      <td>36.0</td>\n",
              "      <td>471</td>\n",
              "      <td>26.89</td>\n",
              "      <td>205.52</td>\n",
              "    </tr>\n",
              "  </tbody>\n",
              "</table>\n",
              "</div>"
            ],
            "text/plain": [
              "                batsman_runs  is_wicket  ...  Average  Strike Rate\n",
              "MS Dhoni                2303       73.0  ...    31.55       189.08\n",
              "KA Pollard              1487       63.0  ...    23.60       185.41\n",
              "AB de Villiers          1254       31.0  ...    40.45       233.09\n",
              "RG Sharma               1144       49.0  ...    23.35       198.27\n",
              "V Kohli                  968       36.0  ...    26.89       205.52\n",
              "\n",
              "[5 rows x 5 columns]"
            ]
          },
          "metadata": {
            "tags": []
          },
          "execution_count": 31
        }
      ]
    },
    {
      "cell_type": "markdown",
      "metadata": {
        "id": "LBtEdpL9EE7w"
      },
      "source": [
        "Again we will create a column named 'Points' based on average and strike rate.\n",
        "\n",
        "\n",
        "*   **Points** = (Batting Avg.) x 0.8 + (Batting strike rate) x 0.2\n",
        "\n",
        "\n"
      ]
    },
    {
      "cell_type": "code",
      "metadata": {
        "id": "LpGfXvwHkv1I"
      },
      "source": [
        "df_death_stat['Points'] = (df_death_stat['Average']*0.8)+(df_death_stat['Strike Rate']*0.2)"
      ],
      "execution_count": 145,
      "outputs": []
    },
    {
      "cell_type": "code",
      "metadata": {
        "colab": {
          "base_uri": "https://localhost:8080/",
          "height": 355
        },
        "id": "3Cv_yRuklH_m",
        "outputId": "4772204c-685b-40f3-f9f3-6dd8aab16f8f"
      },
      "source": [
        "df_death_stat.sort_values(by='Points', ascending=False).head(10)"
      ],
      "execution_count": 146,
      "outputs": [
        {
          "output_type": "execute_result",
          "data": {
            "text/html": [
              "<div>\n",
              "<style scoped>\n",
              "    .dataframe tbody tr th:only-of-type {\n",
              "        vertical-align: middle;\n",
              "    }\n",
              "\n",
              "    .dataframe tbody tr th {\n",
              "        vertical-align: top;\n",
              "    }\n",
              "\n",
              "    .dataframe thead th {\n",
              "        text-align: right;\n",
              "    }\n",
              "</style>\n",
              "<table border=\"1\" class=\"dataframe\">\n",
              "  <thead>\n",
              "    <tr style=\"text-align: right;\">\n",
              "      <th></th>\n",
              "      <th>batsman_runs</th>\n",
              "      <th>is_wicket</th>\n",
              "      <th>Total balls faced</th>\n",
              "      <th>Average</th>\n",
              "      <th>Strike Rate</th>\n",
              "      <th>Points</th>\n",
              "    </tr>\n",
              "  </thead>\n",
              "  <tbody>\n",
              "    <tr>\n",
              "      <th>AB de Villiers</th>\n",
              "      <td>1254</td>\n",
              "      <td>31.0</td>\n",
              "      <td>538</td>\n",
              "      <td>40.45</td>\n",
              "      <td>233.09</td>\n",
              "      <td>78.978</td>\n",
              "    </tr>\n",
              "    <tr>\n",
              "      <th>AD Russell</th>\n",
              "      <td>665</td>\n",
              "      <td>27.0</td>\n",
              "      <td>305</td>\n",
              "      <td>24.63</td>\n",
              "      <td>218.03</td>\n",
              "      <td>63.310</td>\n",
              "    </tr>\n",
              "    <tr>\n",
              "      <th>JP Duminy</th>\n",
              "      <td>712</td>\n",
              "      <td>21.0</td>\n",
              "      <td>395</td>\n",
              "      <td>33.90</td>\n",
              "      <td>180.25</td>\n",
              "      <td>63.170</td>\n",
              "    </tr>\n",
              "    <tr>\n",
              "      <th>MS Dhoni</th>\n",
              "      <td>2303</td>\n",
              "      <td>73.0</td>\n",
              "      <td>1218</td>\n",
              "      <td>31.55</td>\n",
              "      <td>189.08</td>\n",
              "      <td>63.056</td>\n",
              "    </tr>\n",
              "    <tr>\n",
              "      <th>V Kohli</th>\n",
              "      <td>968</td>\n",
              "      <td>36.0</td>\n",
              "      <td>471</td>\n",
              "      <td>26.89</td>\n",
              "      <td>205.52</td>\n",
              "      <td>62.616</td>\n",
              "    </tr>\n",
              "    <tr>\n",
              "      <th>HH Pandya</th>\n",
              "      <td>838</td>\n",
              "      <td>29.0</td>\n",
              "      <td>436</td>\n",
              "      <td>28.90</td>\n",
              "      <td>192.20</td>\n",
              "      <td>61.560</td>\n",
              "    </tr>\n",
              "    <tr>\n",
              "      <th>DA Miller</th>\n",
              "      <td>590</td>\n",
              "      <td>21.0</td>\n",
              "      <td>317</td>\n",
              "      <td>28.10</td>\n",
              "      <td>186.12</td>\n",
              "      <td>59.704</td>\n",
              "    </tr>\n",
              "    <tr>\n",
              "      <th>RG Sharma</th>\n",
              "      <td>1144</td>\n",
              "      <td>49.0</td>\n",
              "      <td>577</td>\n",
              "      <td>23.35</td>\n",
              "      <td>198.27</td>\n",
              "      <td>58.334</td>\n",
              "    </tr>\n",
              "    <tr>\n",
              "      <th>SK Raina</th>\n",
              "      <td>633</td>\n",
              "      <td>22.0</td>\n",
              "      <td>369</td>\n",
              "      <td>28.77</td>\n",
              "      <td>171.54</td>\n",
              "      <td>57.324</td>\n",
              "    </tr>\n",
              "    <tr>\n",
              "      <th>KA Pollard</th>\n",
              "      <td>1487</td>\n",
              "      <td>63.0</td>\n",
              "      <td>802</td>\n",
              "      <td>23.60</td>\n",
              "      <td>185.41</td>\n",
              "      <td>55.962</td>\n",
              "    </tr>\n",
              "  </tbody>\n",
              "</table>\n",
              "</div>"
            ],
            "text/plain": [
              "                batsman_runs  is_wicket  ...  Strike Rate  Points\n",
              "AB de Villiers          1254       31.0  ...       233.09  78.978\n",
              "AD Russell               665       27.0  ...       218.03  63.310\n",
              "JP Duminy                712       21.0  ...       180.25  63.170\n",
              "MS Dhoni                2303       73.0  ...       189.08  63.056\n",
              "V Kohli                  968       36.0  ...       205.52  62.616\n",
              "HH Pandya                838       29.0  ...       192.20  61.560\n",
              "DA Miller                590       21.0  ...       186.12  59.704\n",
              "RG Sharma               1144       49.0  ...       198.27  58.334\n",
              "SK Raina                 633       22.0  ...       171.54  57.324\n",
              "KA Pollard              1487       63.0  ...       185.41  55.962\n",
              "\n",
              "[10 rows x 6 columns]"
            ]
          },
          "metadata": {
            "tags": []
          },
          "execution_count": 146
        }
      ]
    },
    {
      "cell_type": "markdown",
      "metadata": {
        "id": "4p5XWJ4dSbW_"
      },
      "source": [
        "**Top 10 Batsman at death overs according to points**"
      ]
    },
    {
      "cell_type": "code",
      "metadata": {
        "colab": {
          "base_uri": "https://localhost:8080/"
        },
        "id": "pXW3zCZ1SjBJ",
        "outputId": "e5018c13-baef-4b1d-e59a-327e227cff43"
      },
      "source": [
        "df_death_stat.sort_values(by='Points', ascending=False).head(10)['Points']"
      ],
      "execution_count": 147,
      "outputs": [
        {
          "output_type": "execute_result",
          "data": {
            "text/plain": [
              "AB de Villiers    78.978\n",
              "AD Russell        63.310\n",
              "JP Duminy         63.170\n",
              "MS Dhoni          63.056\n",
              "V Kohli           62.616\n",
              "HH Pandya         61.560\n",
              "DA Miller         59.704\n",
              "RG Sharma         58.334\n",
              "SK Raina          57.324\n",
              "KA Pollard        55.962\n",
              "Name: Points, dtype: float64"
            ]
          },
          "metadata": {
            "tags": []
          },
          "execution_count": 147
        }
      ]
    },
    {
      "cell_type": "markdown",
      "metadata": {
        "id": "x4GVUevQ9cOT"
      },
      "source": [
        "## Selection of bowlers will be on the following criteria-\n",
        "1. **Bowling average**\n",
        "2. **Bowling economy**\n",
        "3. **Bowling average and economy in death overs**\n",
        "\n",
        "\n",
        "\n",
        "*   **Bowling average = (No. of runs given)/(No. of wickets taken)**\n",
        "\n",
        "*   **Bowling economy = (No. of runs given)/(No. of overs bowled)**\n",
        "\n",
        "\n",
        "\n",
        "\n"
      ]
    },
    {
      "cell_type": "code",
      "metadata": {
        "id": "KRl1pBnMvvfW",
        "colab": {
          "base_uri": "https://localhost:8080/"
        },
        "outputId": "beba7faf-2dd6-4714-e457-f106cbe82f70"
      },
      "source": [
        "df['dismissal_kind'].unique()"
      ],
      "execution_count": 34,
      "outputs": [
        {
          "output_type": "execute_result",
          "data": {
            "text/plain": [
              "array([nan, 'caught', 'run out', 'bowled', 'lbw', 'retired hurt',\n",
              "       'stumped', 'caught and bowled', 'hit wicket',\n",
              "       'obstructing the field'], dtype=object)"
            ]
          },
          "metadata": {
            "tags": []
          },
          "execution_count": 34
        }
      ]
    },
    {
      "cell_type": "code",
      "metadata": {
        "colab": {
          "base_uri": "https://localhost:8080/"
        },
        "id": "VXp160pDFT6A",
        "outputId": "184ab5ea-daec-46d3-a2a6-d5281487cb44"
      },
      "source": [
        "df['extras_type'].unique()"
      ],
      "execution_count": 35,
      "outputs": [
        {
          "output_type": "execute_result",
          "data": {
            "text/plain": [
              "array([nan, 'byes', 'wides', 'legbyes', 'noballs', 'penalty'],\n",
              "      dtype=object)"
            ]
          },
          "metadata": {
            "tags": []
          },
          "execution_count": 35
        }
      ]
    },
    {
      "cell_type": "markdown",
      "metadata": {
        "id": "F7Buz-Smvw-6"
      },
      "source": [
        "# Calculation of Total number of wickets taken\n",
        "\n",
        "For calculation of total numbers of wickets taken by bowlers following dismissal kinds will not be considered-\n",
        "1. **Run out**\n",
        "2. **Retired hurt**\n",
        "3. **Obstructing the field**"
      ]
    },
    {
      "cell_type": "code",
      "metadata": {
        "id": "TXDyCas73Xru"
      },
      "source": [
        "df1 = df.copy()\n",
        "df2= df.copy()\n",
        "df3= df.copy()"
      ],
      "execution_count": 36,
      "outputs": []
    },
    {
      "cell_type": "code",
      "metadata": {
        "id": "7cyfcE-G5NiC"
      },
      "source": [
        "df1 = df1[df1['dismissal_kind'].notnull()]"
      ],
      "execution_count": 37,
      "outputs": []
    },
    {
      "cell_type": "code",
      "metadata": {
        "id": "r4tB4wgO7jgW"
      },
      "source": [
        "df1 = df1[df1['dismissal_kind']!='run out']"
      ],
      "execution_count": 38,
      "outputs": []
    },
    {
      "cell_type": "code",
      "metadata": {
        "id": "-Siaaa447JoK"
      },
      "source": [
        "df1 = df1[df1['dismissal_kind']!='retired hurt']"
      ],
      "execution_count": 39,
      "outputs": []
    },
    {
      "cell_type": "code",
      "metadata": {
        "id": "aOqhU1883SEf"
      },
      "source": [
        "df1 = df1[df1['dismissal_kind']!='obstructing the field']"
      ],
      "execution_count": 40,
      "outputs": []
    },
    {
      "cell_type": "code",
      "metadata": {
        "id": "7NADtin-vrwm",
        "colab": {
          "base_uri": "https://localhost:8080/"
        },
        "outputId": "1cdd4e46-b25d-414c-de74-2ff17aead1d0"
      },
      "source": [
        "df1['dismissal_kind'].unique()"
      ],
      "execution_count": 41,
      "outputs": [
        {
          "output_type": "execute_result",
          "data": {
            "text/plain": [
              "array(['caught', 'bowled', 'lbw', 'stumped', 'caught and bowled',\n",
              "       'hit wicket'], dtype=object)"
            ]
          },
          "metadata": {
            "tags": []
          },
          "execution_count": 41
        }
      ]
    },
    {
      "cell_type": "code",
      "metadata": {
        "id": "D8TGEBs4uyL4"
      },
      "source": [
        "df1_wickets = df1.groupby('bowler').count().sort_values(by='is_wicket', ascending=False)['is_wicket']"
      ],
      "execution_count": 42,
      "outputs": []
    },
    {
      "cell_type": "markdown",
      "metadata": {
        "id": "6x349tA4F5cb"
      },
      "source": [
        "**Top 10 bowlers based on total number of wickets taken**"
      ]
    },
    {
      "cell_type": "code",
      "metadata": {
        "id": "iOgDh3wxuenh",
        "colab": {
          "base_uri": "https://localhost:8080/"
        },
        "outputId": "35fc4a8f-ad61-4697-d077-41b284e7ffbe"
      },
      "source": [
        "df1_wickets.head(10)"
      ],
      "execution_count": 163,
      "outputs": [
        {
          "output_type": "execute_result",
          "data": {
            "text/plain": [
              "bowler\n",
              "SL Malinga         170\n",
              "A Mishra           160\n",
              "PP Chawla          156\n",
              "DJ Bravo           153\n",
              "Harbhajan Singh    150\n",
              "R Ashwin           138\n",
              "B Kumar            136\n",
              "SP Narine          127\n",
              "YS Chahal          121\n",
              "UT Yadav           119\n",
              "Name: is_wicket, dtype: int64"
            ]
          },
          "metadata": {
            "tags": []
          },
          "execution_count": 163
        }
      ]
    },
    {
      "cell_type": "markdown",
      "metadata": {
        "id": "SUXS2Ld4wv7K"
      },
      "source": [
        "# Calculation of total runs given by bowler\n",
        "\n",
        "For calculation of total runs given by bowler. Following extra types will not be considered-\n",
        "1. **Byes**\n",
        "2. **Legbyes**"
      ]
    },
    {
      "cell_type": "code",
      "metadata": {
        "id": "nPeyGYFRuU8G",
        "colab": {
          "base_uri": "https://localhost:8080/"
        },
        "outputId": "f1bd8050-c150-42e8-894f-e55d236c6c79"
      },
      "source": [
        "df2['extras_type'].unique()"
      ],
      "execution_count": 44,
      "outputs": [
        {
          "output_type": "execute_result",
          "data": {
            "text/plain": [
              "array([nan, 'byes', 'wides', 'legbyes', 'noballs', 'penalty'],\n",
              "      dtype=object)"
            ]
          },
          "metadata": {
            "tags": []
          },
          "execution_count": 44
        }
      ]
    },
    {
      "cell_type": "code",
      "metadata": {
        "id": "BY86bef5B31j"
      },
      "source": [
        "df2 = df2[df2['extras_type']!='byes']"
      ],
      "execution_count": 45,
      "outputs": []
    },
    {
      "cell_type": "code",
      "metadata": {
        "id": "mKpQNqSkuLCv"
      },
      "source": [
        "df2 = df2[df2['extras_type']!='legbyes']"
      ],
      "execution_count": 46,
      "outputs": []
    },
    {
      "cell_type": "code",
      "metadata": {
        "id": "dmHfg4q9uDsc"
      },
      "source": [
        "df2_total_runs_given = df2.groupby('bowler').sum().sort_values(by='total_runs', ascending=False)['total_runs']"
      ],
      "execution_count": 47,
      "outputs": []
    },
    {
      "cell_type": "markdown",
      "metadata": {
        "id": "_pxctvA1GOi9"
      },
      "source": [
        "**Top 10 bowlers based on total number of runs conceded**"
      ]
    },
    {
      "cell_type": "code",
      "metadata": {
        "id": "KAeGn_1Ct_rV",
        "colab": {
          "base_uri": "https://localhost:8080/"
        },
        "outputId": "eb2a7d80-7e16-444f-c579-c24ac00de53e"
      },
      "source": [
        "df2_total_runs_given.head(15)"
      ],
      "execution_count": 48,
      "outputs": [
        {
          "output_type": "execute_result",
          "data": {
            "text/plain": [
              "bowler\n",
              "PP Chawla          4263\n",
              "Harbhajan Singh    3967\n",
              "A Mishra           3867\n",
              "DJ Bravo           3798\n",
              "R Ashwin           3700\n",
              "UT Yadav           3578\n",
              "RA Jadeja          3470\n",
              "SL Malinga         3370\n",
              "B Kumar            3253\n",
              "P Kumar            3251\n",
              "SP Narine          3147\n",
              "R Vinay Kumar      2966\n",
              "Z Khan             2782\n",
              "YS Chahal          2723\n",
              "SR Watson          2682\n",
              "Name: total_runs, dtype: int64"
            ]
          },
          "metadata": {
            "tags": []
          },
          "execution_count": 48
        }
      ]
    },
    {
      "cell_type": "markdown",
      "metadata": {
        "id": "pjeLOsAwxbAk"
      },
      "source": [
        "# Calculation of total overs bowled by bowler\n",
        "\n",
        "For calculation of total number of overs bowled by bowler following extra types will not be considered-\n",
        "1. **Wides**\n",
        "2. **No balls**"
      ]
    },
    {
      "cell_type": "code",
      "metadata": {
        "id": "HOL4H8Aut7CK"
      },
      "source": [
        "df3 = df3[df3['extras_type']!='wides']"
      ],
      "execution_count": 49,
      "outputs": []
    },
    {
      "cell_type": "code",
      "metadata": {
        "id": "KRoVCTkBt1og"
      },
      "source": [
        "df3 = df3[df3['extras_type']!='noballs']"
      ],
      "execution_count": 50,
      "outputs": []
    },
    {
      "cell_type": "code",
      "metadata": {
        "id": "DQwzktqVtsAy"
      },
      "source": [
        "df3_total_overs = (df3.groupby('bowler').count().sort_values(by='is_wicket', ascending=False)['non_boundary'])/6"
      ],
      "execution_count": 51,
      "outputs": []
    },
    {
      "cell_type": "markdown",
      "metadata": {
        "id": "4PwnXwkcGqRx"
      },
      "source": [
        "**Top 15 bowlers according to number of overs bowled**"
      ]
    },
    {
      "cell_type": "code",
      "metadata": {
        "id": "Uc__QzVwtfvb",
        "colab": {
          "base_uri": "https://localhost:8080/"
        },
        "outputId": "21110e66-20bf-4f13-9246-9c311afaad9e"
      },
      "source": [
        "df3_total_overs.head(15)"
      ],
      "execution_count": 52,
      "outputs": [
        {
          "output_type": "execute_result",
          "data": {
            "text/plain": [
              "bowler\n",
              "Harbhajan Singh    562.333333\n",
              "PP Chawla          541.666667\n",
              "R Ashwin           538.333333\n",
              "A Mishra           526.833333\n",
              "SL Malinga         471.333333\n",
              "SP Narine          464.166667\n",
              "RA Jadeja          452.166667\n",
              "DJ Bravo           452.000000\n",
              "B Kumar            449.500000\n",
              "P Kumar            420.666667\n",
              "UT Yadav           420.500000\n",
              "Z Khan             366.666667\n",
              "DW Steyn           362.666667\n",
              "YS Chahal          355.000000\n",
              "R Vinay Kumar      353.500000\n",
              "Name: non_boundary, dtype: float64"
            ]
          },
          "metadata": {
            "tags": []
          },
          "execution_count": 52
        }
      ]
    },
    {
      "cell_type": "markdown",
      "metadata": {
        "id": "-kz1Yspz9Ow2"
      },
      "source": [
        "# Creating final dataframe for bowlers"
      ]
    },
    {
      "cell_type": "code",
      "metadata": {
        "id": "4UDjWgdgtR0G"
      },
      "source": [
        "df_bowler = pd.concat([df1_wickets, df2_total_runs_given, df3_total_overs], axis=1)"
      ],
      "execution_count": 53,
      "outputs": []
    },
    {
      "cell_type": "code",
      "metadata": {
        "id": "v2CGQWenJ1g3"
      },
      "source": [
        "df_bowler.rename(columns={'is_wicket':'No. of Wickets', 'total_runs':'Total runs given', 'non_boundary':'Total overs bowled'}, inplace=True)"
      ],
      "execution_count": 54,
      "outputs": []
    },
    {
      "cell_type": "code",
      "metadata": {
        "colab": {
          "base_uri": "https://localhost:8080/",
          "height": 202
        },
        "id": "uHM6z01fKKqD",
        "outputId": "5c4cd28e-84a0-4603-a86e-bcea45923ede"
      },
      "source": [
        "df_bowler.head()"
      ],
      "execution_count": 55,
      "outputs": [
        {
          "output_type": "execute_result",
          "data": {
            "text/html": [
              "<div>\n",
              "<style scoped>\n",
              "    .dataframe tbody tr th:only-of-type {\n",
              "        vertical-align: middle;\n",
              "    }\n",
              "\n",
              "    .dataframe tbody tr th {\n",
              "        vertical-align: top;\n",
              "    }\n",
              "\n",
              "    .dataframe thead th {\n",
              "        text-align: right;\n",
              "    }\n",
              "</style>\n",
              "<table border=\"1\" class=\"dataframe\">\n",
              "  <thead>\n",
              "    <tr style=\"text-align: right;\">\n",
              "      <th></th>\n",
              "      <th>No. of Wickets</th>\n",
              "      <th>Total runs given</th>\n",
              "      <th>Total overs bowled</th>\n",
              "    </tr>\n",
              "  </thead>\n",
              "  <tbody>\n",
              "    <tr>\n",
              "      <th>SL Malinga</th>\n",
              "      <td>170.0</td>\n",
              "      <td>3370</td>\n",
              "      <td>471.333333</td>\n",
              "    </tr>\n",
              "    <tr>\n",
              "      <th>A Mishra</th>\n",
              "      <td>160.0</td>\n",
              "      <td>3867</td>\n",
              "      <td>526.833333</td>\n",
              "    </tr>\n",
              "    <tr>\n",
              "      <th>PP Chawla</th>\n",
              "      <td>156.0</td>\n",
              "      <td>4263</td>\n",
              "      <td>541.666667</td>\n",
              "    </tr>\n",
              "    <tr>\n",
              "      <th>DJ Bravo</th>\n",
              "      <td>153.0</td>\n",
              "      <td>3798</td>\n",
              "      <td>452.000000</td>\n",
              "    </tr>\n",
              "    <tr>\n",
              "      <th>Harbhajan Singh</th>\n",
              "      <td>150.0</td>\n",
              "      <td>3967</td>\n",
              "      <td>562.333333</td>\n",
              "    </tr>\n",
              "  </tbody>\n",
              "</table>\n",
              "</div>"
            ],
            "text/plain": [
              "                 No. of Wickets  Total runs given  Total overs bowled\n",
              "SL Malinga                170.0              3370          471.333333\n",
              "A Mishra                  160.0              3867          526.833333\n",
              "PP Chawla                 156.0              4263          541.666667\n",
              "DJ Bravo                  153.0              3798          452.000000\n",
              "Harbhajan Singh           150.0              3967          562.333333"
            ]
          },
          "metadata": {
            "tags": []
          },
          "execution_count": 55
        }
      ]
    },
    {
      "cell_type": "markdown",
      "metadata": {
        "id": "OWjuus7X9csX"
      },
      "source": [
        "**Calculation of Bowling Average**"
      ]
    },
    {
      "cell_type": "code",
      "metadata": {
        "id": "Ker2WrUFKswH"
      },
      "source": [
        "df_bowler['Bowling Average'] = df_bowler['Total runs given']/df_bowler['No. of Wickets']"
      ],
      "execution_count": 56,
      "outputs": []
    },
    {
      "cell_type": "markdown",
      "metadata": {
        "id": "nlaVs1659hHi"
      },
      "source": [
        "**Calculation of bowling economy**"
      ]
    },
    {
      "cell_type": "code",
      "metadata": {
        "id": "Uw0sIkEZqhuF"
      },
      "source": [
        "df_bowler['Bowling Economy'] = df_bowler['Total runs given']/df_bowler['Total overs bowled']"
      ],
      "execution_count": 57,
      "outputs": []
    },
    {
      "cell_type": "markdown",
      "metadata": {
        "id": "zg5CLC_r9mXS"
      },
      "source": [
        "**We will consider only those bowlers who has taken greater than 70 wickets**"
      ]
    },
    {
      "cell_type": "code",
      "metadata": {
        "id": "-fcBY2edqZO6"
      },
      "source": [
        "df_bowler1 = df_bowler[df_bowler['No. of Wickets']>70]"
      ],
      "execution_count": 58,
      "outputs": []
    },
    {
      "cell_type": "markdown",
      "metadata": {
        "id": "29vhNCtf9-sH"
      },
      "source": [
        "**Top 10 bowlers according to bowling average**"
      ]
    },
    {
      "cell_type": "code",
      "metadata": {
        "colab": {
          "base_uri": "https://localhost:8080/"
        },
        "id": "kujci1OMLvSC",
        "outputId": "78c6a0b5-957d-4bcd-dfc1-7998c9ebe636"
      },
      "source": [
        "df_bowler1.sort_values(by='Bowling Average', ascending=True).head(10)['Bowling Average']"
      ],
      "execution_count": 164,
      "outputs": [
        {
          "output_type": "execute_result",
          "data": {
            "text/plain": [
              "SL Malinga     19.823529\n",
              "Rashid Khan    20.493333\n",
              "Imran Tahir    21.087500\n",
              "YS Chahal      22.504132\n",
              "MM Patel       22.945946\n",
              "A Nehra        23.537736\n",
              "JJ Bumrah      23.733945\n",
              "B Kumar        23.919118\n",
              "CH Morris      23.987500\n",
              "A Mishra       24.168750\n",
              "Name: Bowling Average, dtype: float64"
            ]
          },
          "metadata": {
            "tags": []
          },
          "execution_count": 164
        }
      ]
    },
    {
      "cell_type": "markdown",
      "metadata": {
        "id": "aveollgx-FoT"
      },
      "source": [
        "**Top 10 bowlers according to bowling economy**"
      ]
    },
    {
      "cell_type": "code",
      "metadata": {
        "id": "wxQiEuUNpS5-",
        "colab": {
          "base_uri": "https://localhost:8080/"
        },
        "outputId": "97970296-910e-4b78-9d01-56434f0d667d"
      },
      "source": [
        "df_bowler1.sort_values(by='Bowling Economy', ascending=True).head(10)['Bowling Economy']"
      ],
      "execution_count": 165,
      "outputs": [
        {
          "output_type": "execute_result",
          "data": {
            "text/plain": [
              "Rashid Khan        6.247967\n",
              "SP Narine          6.779892\n",
              "R Ashwin           6.873065\n",
              "DW Steyn           6.915441\n",
              "Harbhajan Singh    7.054535\n",
              "SL Malinga         7.149929\n",
              "B Kumar            7.236930\n",
              "AR Patel           7.298663\n",
              "A Mishra           7.340082\n",
              "PP Ojha            7.383886\n",
              "Name: Bowling Economy, dtype: float64"
            ]
          },
          "metadata": {
            "tags": []
          },
          "execution_count": 165
        }
      ]
    },
    {
      "cell_type": "markdown",
      "metadata": {
        "id": "QT6DtAP_-tiS"
      },
      "source": [
        "Total points for bowlers will be calculated as follows-\n",
        "\n",
        "\n",
        "*   **Total points = Bowling Average x 0.2 + Bowling Economy x 0.8**\n",
        "\n",
        "\n",
        "\n"
      ]
    },
    {
      "cell_type": "code",
      "metadata": {
        "colab": {
          "base_uri": "https://localhost:8080/"
        },
        "id": "83BJD5o1ifH4",
        "outputId": "f786a7bb-4405-4d1a-c489-6daac34b9d26"
      },
      "source": [
        "df_bowler1['Points'] = (df_bowler1.loc[:,'Bowling Average'])*0.2 + (df_bowler1.loc[:,'Bowling Economy'])*0.8"
      ],
      "execution_count": 130,
      "outputs": [
        {
          "output_type": "stream",
          "text": [
            "/usr/local/lib/python3.7/dist-packages/ipykernel_launcher.py:1: SettingWithCopyWarning: \n",
            "A value is trying to be set on a copy of a slice from a DataFrame.\n",
            "Try using .loc[row_indexer,col_indexer] = value instead\n",
            "\n",
            "See the caveats in the documentation: https://pandas.pydata.org/pandas-docs/stable/user_guide/indexing.html#returning-a-view-versus-a-copy\n",
            "  \"\"\"Entry point for launching an IPython kernel.\n"
          ],
          "name": "stderr"
        }
      ]
    },
    {
      "cell_type": "code",
      "metadata": {
        "colab": {
          "base_uri": "https://localhost:8080/",
          "height": 355
        },
        "id": "uE3qja8VjA-D",
        "outputId": "6c330daa-dce1-4bf1-f688-3c8785c077d5"
      },
      "source": [
        "df_bowler1.sort_values(by='Points', ascending=True).head(10)"
      ],
      "execution_count": 131,
      "outputs": [
        {
          "output_type": "execute_result",
          "data": {
            "text/html": [
              "<div>\n",
              "<style scoped>\n",
              "    .dataframe tbody tr th:only-of-type {\n",
              "        vertical-align: middle;\n",
              "    }\n",
              "\n",
              "    .dataframe tbody tr th {\n",
              "        vertical-align: top;\n",
              "    }\n",
              "\n",
              "    .dataframe thead th {\n",
              "        text-align: right;\n",
              "    }\n",
              "</style>\n",
              "<table border=\"1\" class=\"dataframe\">\n",
              "  <thead>\n",
              "    <tr style=\"text-align: right;\">\n",
              "      <th></th>\n",
              "      <th>No. of Wickets</th>\n",
              "      <th>Total runs given</th>\n",
              "      <th>Total overs bowled</th>\n",
              "      <th>Bowling Average</th>\n",
              "      <th>Bowling Economy</th>\n",
              "      <th>Points</th>\n",
              "      <th>TP</th>\n",
              "    </tr>\n",
              "  </thead>\n",
              "  <tbody>\n",
              "    <tr>\n",
              "      <th>Rashid Khan</th>\n",
              "      <td>75.0</td>\n",
              "      <td>1537</td>\n",
              "      <td>246.000000</td>\n",
              "      <td>20.493333</td>\n",
              "      <td>6.247967</td>\n",
              "      <td>9.097041</td>\n",
              "      <td>10.521577</td>\n",
              "    </tr>\n",
              "    <tr>\n",
              "      <th>SL Malinga</th>\n",
              "      <td>170.0</td>\n",
              "      <td>3370</td>\n",
              "      <td>471.333333</td>\n",
              "      <td>19.823529</td>\n",
              "      <td>7.149929</td>\n",
              "      <td>9.684649</td>\n",
              "      <td>10.952009</td>\n",
              "    </tr>\n",
              "    <tr>\n",
              "      <th>SP Narine</th>\n",
              "      <td>127.0</td>\n",
              "      <td>3147</td>\n",
              "      <td>464.166667</td>\n",
              "      <td>24.779528</td>\n",
              "      <td>6.779892</td>\n",
              "      <td>10.379819</td>\n",
              "      <td>12.179783</td>\n",
              "    </tr>\n",
              "    <tr>\n",
              "      <th>Imran Tahir</th>\n",
              "      <td>80.0</td>\n",
              "      <td>1687</td>\n",
              "      <td>215.333333</td>\n",
              "      <td>21.087500</td>\n",
              "      <td>7.834365</td>\n",
              "      <td>10.484992</td>\n",
              "      <td>11.810306</td>\n",
              "    </tr>\n",
              "    <tr>\n",
              "      <th>B Kumar</th>\n",
              "      <td>136.0</td>\n",
              "      <td>3253</td>\n",
              "      <td>449.500000</td>\n",
              "      <td>23.919118</td>\n",
              "      <td>7.236930</td>\n",
              "      <td>10.573367</td>\n",
              "      <td>12.241586</td>\n",
              "    </tr>\n",
              "    <tr>\n",
              "      <th>MM Patel</th>\n",
              "      <td>74.0</td>\n",
              "      <td>1698</td>\n",
              "      <td>225.833333</td>\n",
              "      <td>22.945946</td>\n",
              "      <td>7.518819</td>\n",
              "      <td>10.604245</td>\n",
              "      <td>12.146957</td>\n",
              "    </tr>\n",
              "    <tr>\n",
              "      <th>YS Chahal</th>\n",
              "      <td>121.0</td>\n",
              "      <td>2723</td>\n",
              "      <td>355.000000</td>\n",
              "      <td>22.504132</td>\n",
              "      <td>7.670423</td>\n",
              "      <td>10.637164</td>\n",
              "      <td>12.120535</td>\n",
              "    </tr>\n",
              "    <tr>\n",
              "      <th>JJ Bumrah</th>\n",
              "      <td>109.0</td>\n",
              "      <td>2587</td>\n",
              "      <td>348.666667</td>\n",
              "      <td>23.733945</td>\n",
              "      <td>7.419694</td>\n",
              "      <td>10.682544</td>\n",
              "      <td>12.313969</td>\n",
              "    </tr>\n",
              "    <tr>\n",
              "      <th>DW Steyn</th>\n",
              "      <td>97.0</td>\n",
              "      <td>2508</td>\n",
              "      <td>362.666667</td>\n",
              "      <td>25.855670</td>\n",
              "      <td>6.915441</td>\n",
              "      <td>10.703487</td>\n",
              "      <td>12.597510</td>\n",
              "    </tr>\n",
              "    <tr>\n",
              "      <th>A Mishra</th>\n",
              "      <td>160.0</td>\n",
              "      <td>3867</td>\n",
              "      <td>526.833333</td>\n",
              "      <td>24.168750</td>\n",
              "      <td>7.340082</td>\n",
              "      <td>10.705816</td>\n",
              "      <td>12.388683</td>\n",
              "    </tr>\n",
              "  </tbody>\n",
              "</table>\n",
              "</div>"
            ],
            "text/plain": [
              "             No. of Wickets  Total runs given  ...     Points         TP\n",
              "Rashid Khan            75.0              1537  ...   9.097041  10.521577\n",
              "SL Malinga            170.0              3370  ...   9.684649  10.952009\n",
              "SP Narine             127.0              3147  ...  10.379819  12.179783\n",
              "Imran Tahir            80.0              1687  ...  10.484992  11.810306\n",
              "B Kumar               136.0              3253  ...  10.573367  12.241586\n",
              "MM Patel               74.0              1698  ...  10.604245  12.146957\n",
              "YS Chahal             121.0              2723  ...  10.637164  12.120535\n",
              "JJ Bumrah             109.0              2587  ...  10.682544  12.313969\n",
              "DW Steyn               97.0              2508  ...  10.703487  12.597510\n",
              "A Mishra              160.0              3867  ...  10.705816  12.388683\n",
              "\n",
              "[10 rows x 7 columns]"
            ]
          },
          "metadata": {
            "tags": []
          },
          "execution_count": 131
        }
      ]
    },
    {
      "cell_type": "markdown",
      "metadata": {
        "id": "vpI6aUy7a3Ww"
      },
      "source": [
        "Top 10 bowler based on bowling points"
      ]
    },
    {
      "cell_type": "code",
      "metadata": {
        "colab": {
          "base_uri": "https://localhost:8080/"
        },
        "id": "aSBQ_dqOa7f6",
        "outputId": "50b2b323-7444-4d11-ea39-691396e57d69"
      },
      "source": [
        "df_bowler1.sort_values(by='Points', ascending=True).head(10)['Points']"
      ],
      "execution_count": 144,
      "outputs": [
        {
          "output_type": "execute_result",
          "data": {
            "text/plain": [
              "Rashid Khan     9.097041\n",
              "SL Malinga      9.684649\n",
              "SP Narine      10.379819\n",
              "Imran Tahir    10.484992\n",
              "B Kumar        10.573367\n",
              "MM Patel       10.604245\n",
              "YS Chahal      10.637164\n",
              "JJ Bumrah      10.682544\n",
              "DW Steyn       10.703487\n",
              "A Mishra       10.705816\n",
              "Name: Points, dtype: float64"
            ]
          },
          "metadata": {
            "tags": []
          },
          "execution_count": 144
        }
      ]
    },
    {
      "cell_type": "code",
      "metadata": {
        "id": "wCpkbXnoWIl1"
      },
      "source": [
        ""
      ],
      "execution_count": null,
      "outputs": []
    },
    {
      "cell_type": "code",
      "metadata": {
        "id": "8bmG6241WJm7"
      },
      "source": [
        ""
      ],
      "execution_count": null,
      "outputs": []
    },
    {
      "cell_type": "markdown",
      "metadata": {
        "id": "hO7ErDRgTxgv"
      },
      "source": [
        "**Top 10 bowlers based on bowling points**"
      ]
    },
    {
      "cell_type": "code",
      "metadata": {
        "colab": {
          "base_uri": "https://localhost:8080/"
        },
        "id": "TYcHzz2iT3Xu",
        "outputId": "27c9671d-3155-44c5-f6c4-1632a6805401"
      },
      "source": [
        "df_bowler1.sort_values(by='Points', ascending=True).head(10)['Points']"
      ],
      "execution_count": 134,
      "outputs": [
        {
          "output_type": "execute_result",
          "data": {
            "text/plain": [
              "Rashid Khan     9.097041\n",
              "SL Malinga      9.684649\n",
              "SP Narine      10.379819\n",
              "Imran Tahir    10.484992\n",
              "B Kumar        10.573367\n",
              "MM Patel       10.604245\n",
              "YS Chahal      10.637164\n",
              "JJ Bumrah      10.682544\n",
              "DW Steyn       10.703487\n",
              "A Mishra       10.705816\n",
              "Name: Points, dtype: float64"
            ]
          },
          "metadata": {
            "tags": []
          },
          "execution_count": 134
        }
      ]
    },
    {
      "cell_type": "markdown",
      "metadata": {
        "id": "p-OoOgdi_V2R"
      },
      "source": [
        "# Calculation of bowling average and bowling economy at death overs (16th to 20th Over)"
      ]
    },
    {
      "cell_type": "code",
      "metadata": {
        "id": "EP-VnCgu_mkC"
      },
      "source": [
        "df4 = df_death.copy()\n",
        "df5= df_death.copy()\n",
        "df6= df_death.copy()"
      ],
      "execution_count": 65,
      "outputs": []
    },
    {
      "cell_type": "markdown",
      "metadata": {
        "id": "mW8YDVFNBi7F"
      },
      "source": [
        "**Calculation of number of wickets taken in death overs**"
      ]
    },
    {
      "cell_type": "code",
      "metadata": {
        "id": "8O4qxiNX_nIe"
      },
      "source": [
        "df4 = df4[df4['dismissal_kind'].notnull()]"
      ],
      "execution_count": 66,
      "outputs": []
    },
    {
      "cell_type": "code",
      "metadata": {
        "id": "IHmc0u7L_nMH"
      },
      "source": [
        "df4 = df4[df4['dismissal_kind']!='run out']"
      ],
      "execution_count": 67,
      "outputs": []
    },
    {
      "cell_type": "code",
      "metadata": {
        "id": "1Je-yZ7A_nS1"
      },
      "source": [
        "df4 = df4[df4['dismissal_kind']!='retired hurt']"
      ],
      "execution_count": 68,
      "outputs": []
    },
    {
      "cell_type": "code",
      "metadata": {
        "id": "L_QxIUwG_nU2"
      },
      "source": [
        "df4 = df4[df4['dismissal_kind']!='obstructing the field']"
      ],
      "execution_count": 69,
      "outputs": []
    },
    {
      "cell_type": "code",
      "metadata": {
        "id": "wbABsblt_nWp"
      },
      "source": [
        "df_wickets_death = df4.groupby('bowler').count().sort_values(by='is_wicket', ascending=False)['is_wicket']"
      ],
      "execution_count": 70,
      "outputs": []
    },
    {
      "cell_type": "code",
      "metadata": {
        "colab": {
          "base_uri": "https://localhost:8080/"
        },
        "id": "WmKi_0oa_nYi",
        "outputId": "e9d8afa5-7c99-44a3-d649-9e0cacc90a48"
      },
      "source": [
        "df_wickets_death.head()"
      ],
      "execution_count": 71,
      "outputs": [
        {
          "output_type": "execute_result",
          "data": {
            "text/plain": [
              "bowler\n",
              "SL Malinga    90\n",
              "DJ Bravo      82\n",
              "B Kumar       66\n",
              "JJ Bumrah     53\n",
              "SP Narine     50\n",
              "Name: is_wicket, dtype: int64"
            ]
          },
          "metadata": {
            "tags": []
          },
          "execution_count": 71
        }
      ]
    },
    {
      "cell_type": "markdown",
      "metadata": {
        "id": "o06QUKiHCX52"
      },
      "source": [
        "**Calculation of total number of runs given at death**"
      ]
    },
    {
      "cell_type": "code",
      "metadata": {
        "id": "z23TpGdWBcW-"
      },
      "source": [
        "df5 = df5[df5['extras_type']!='byes']"
      ],
      "execution_count": 72,
      "outputs": []
    },
    {
      "cell_type": "code",
      "metadata": {
        "id": "dKdrUlaaBcfK"
      },
      "source": [
        "df5 = df5[df5['extras_type']!='legbyes']"
      ],
      "execution_count": 73,
      "outputs": []
    },
    {
      "cell_type": "code",
      "metadata": {
        "id": "9dJZmyAnBciX"
      },
      "source": [
        "df_total_runs_given_death = df5.groupby('bowler').sum().sort_values(by='total_runs', ascending=False)['total_runs']"
      ],
      "execution_count": 74,
      "outputs": []
    },
    {
      "cell_type": "code",
      "metadata": {
        "colab": {
          "base_uri": "https://localhost:8080/"
        },
        "id": "1FbPy_rWBclC",
        "outputId": "caaab1bd-4543-42dc-bae9-c6c45364e6d5"
      },
      "source": [
        "df_total_runs_given_death.head()"
      ],
      "execution_count": 75,
      "outputs": [
        {
          "output_type": "execute_result",
          "data": {
            "text/plain": [
              "bowler\n",
              "DJ Bravo      1567\n",
              "B Kumar       1232\n",
              "SL Malinga    1196\n",
              "JJ Bumrah     1175\n",
              "UT Yadav      1051\n",
              "Name: total_runs, dtype: int64"
            ]
          },
          "metadata": {
            "tags": []
          },
          "execution_count": 75
        }
      ]
    },
    {
      "cell_type": "markdown",
      "metadata": {
        "id": "KqiI8RjFDHNR"
      },
      "source": [
        "**Calculation of total overs bowled in death**"
      ]
    },
    {
      "cell_type": "code",
      "metadata": {
        "id": "uSaPgxoEBcpe"
      },
      "source": [
        "df6 = df6[df6['extras_type']!='wides']"
      ],
      "execution_count": 76,
      "outputs": []
    },
    {
      "cell_type": "code",
      "metadata": {
        "id": "pwqM9Ah1Cm_T"
      },
      "source": [
        "df6 = df6[df6['extras_type']!='noballs']"
      ],
      "execution_count": 77,
      "outputs": []
    },
    {
      "cell_type": "code",
      "metadata": {
        "id": "5RFMhtwGCnB_"
      },
      "source": [
        "df_total_overs_death = (df6.groupby('bowler').count().sort_values(by='is_wicket', ascending=False)['non_boundary'])/6"
      ],
      "execution_count": 78,
      "outputs": []
    },
    {
      "cell_type": "code",
      "metadata": {
        "colab": {
          "base_uri": "https://localhost:8080/"
        },
        "id": "20EOre-_CnHT",
        "outputId": "7a53ebc8-3693-49a6-ce10-9f4cfc0750b6"
      },
      "source": [
        "df_total_overs_death.head()"
      ],
      "execution_count": 79,
      "outputs": [
        {
          "output_type": "execute_result",
          "data": {
            "text/plain": [
              "bowler\n",
              "DJ Bravo      158.833333\n",
              "SL Malinga    152.833333\n",
              "B Kumar       134.333333\n",
              "JJ Bumrah     131.666667\n",
              "SP Narine     108.166667\n",
              "Name: non_boundary, dtype: float64"
            ]
          },
          "metadata": {
            "tags": []
          },
          "execution_count": 79
        }
      ]
    },
    {
      "cell_type": "code",
      "metadata": {
        "id": "PD2JxosWCnJb"
      },
      "source": [
        ""
      ],
      "execution_count": null,
      "outputs": []
    },
    {
      "cell_type": "code",
      "metadata": {
        "id": "PLNJOHPjCnO1"
      },
      "source": [
        "df_bowler_death = pd.concat([df_wickets_death, df_total_runs_given_death, df_total_overs_death], axis=1)"
      ],
      "execution_count": 80,
      "outputs": []
    },
    {
      "cell_type": "code",
      "metadata": {
        "id": "gKaCKVD1BcyO"
      },
      "source": [
        "df_bowler_death.rename(columns={'is_wicket':'No. of Wickets', 'total_runs':'Total runs given', 'non_boundary':'Total overs bowled'}, inplace=True)"
      ],
      "execution_count": 81,
      "outputs": []
    },
    {
      "cell_type": "code",
      "metadata": {
        "colab": {
          "base_uri": "https://localhost:8080/",
          "height": 202
        },
        "id": "F6ILwvEUDncm",
        "outputId": "9c997d62-d9e2-476b-b7b2-4185328e2d17"
      },
      "source": [
        "df_bowler_death.head()"
      ],
      "execution_count": 82,
      "outputs": [
        {
          "output_type": "execute_result",
          "data": {
            "text/html": [
              "<div>\n",
              "<style scoped>\n",
              "    .dataframe tbody tr th:only-of-type {\n",
              "        vertical-align: middle;\n",
              "    }\n",
              "\n",
              "    .dataframe tbody tr th {\n",
              "        vertical-align: top;\n",
              "    }\n",
              "\n",
              "    .dataframe thead th {\n",
              "        text-align: right;\n",
              "    }\n",
              "</style>\n",
              "<table border=\"1\" class=\"dataframe\">\n",
              "  <thead>\n",
              "    <tr style=\"text-align: right;\">\n",
              "      <th></th>\n",
              "      <th>No. of Wickets</th>\n",
              "      <th>Total runs given</th>\n",
              "      <th>Total overs bowled</th>\n",
              "    </tr>\n",
              "  </thead>\n",
              "  <tbody>\n",
              "    <tr>\n",
              "      <th>SL Malinga</th>\n",
              "      <td>90.0</td>\n",
              "      <td>1196</td>\n",
              "      <td>152.833333</td>\n",
              "    </tr>\n",
              "    <tr>\n",
              "      <th>DJ Bravo</th>\n",
              "      <td>82.0</td>\n",
              "      <td>1567</td>\n",
              "      <td>158.833333</td>\n",
              "    </tr>\n",
              "    <tr>\n",
              "      <th>B Kumar</th>\n",
              "      <td>66.0</td>\n",
              "      <td>1232</td>\n",
              "      <td>134.333333</td>\n",
              "    </tr>\n",
              "    <tr>\n",
              "      <th>JJ Bumrah</th>\n",
              "      <td>53.0</td>\n",
              "      <td>1175</td>\n",
              "      <td>131.666667</td>\n",
              "    </tr>\n",
              "    <tr>\n",
              "      <th>SP Narine</th>\n",
              "      <td>50.0</td>\n",
              "      <td>866</td>\n",
              "      <td>108.166667</td>\n",
              "    </tr>\n",
              "  </tbody>\n",
              "</table>\n",
              "</div>"
            ],
            "text/plain": [
              "            No. of Wickets  Total runs given  Total overs bowled\n",
              "SL Malinga            90.0              1196          152.833333\n",
              "DJ Bravo              82.0              1567          158.833333\n",
              "B Kumar               66.0              1232          134.333333\n",
              "JJ Bumrah             53.0              1175          131.666667\n",
              "SP Narine             50.0               866          108.166667"
            ]
          },
          "metadata": {
            "tags": []
          },
          "execution_count": 82
        }
      ]
    },
    {
      "cell_type": "markdown",
      "metadata": {
        "id": "I-0TwIBhIkG1"
      },
      "source": [
        "**Calculate bowling average at death overs**"
      ]
    },
    {
      "cell_type": "code",
      "metadata": {
        "id": "vP2SiTP6DQiv"
      },
      "source": [
        "df_bowler_death['Bowling Average at death'] = df_bowler_death['Total runs given']/df_bowler_death['No. of Wickets']"
      ],
      "execution_count": 83,
      "outputs": []
    },
    {
      "cell_type": "markdown",
      "metadata": {
        "id": "etsNZKofIrHN"
      },
      "source": [
        "**Calculation of bowling economy at death overs**"
      ]
    },
    {
      "cell_type": "code",
      "metadata": {
        "id": "cgCahmKxDQoU"
      },
      "source": [
        "df_bowler_death['Bowling Economy at death'] = df_bowler_death['Total runs given']/df_bowler_death['Total overs bowled']"
      ],
      "execution_count": 84,
      "outputs": []
    },
    {
      "cell_type": "code",
      "metadata": {
        "colab": {
          "base_uri": "https://localhost:8080/",
          "height": 355
        },
        "id": "OLYetT4xEZuy",
        "outputId": "dca64228-8fcb-4173-c4f3-416165f866c5"
      },
      "source": [
        "df_bowler_death.head(10)"
      ],
      "execution_count": 85,
      "outputs": [
        {
          "output_type": "execute_result",
          "data": {
            "text/html": [
              "<div>\n",
              "<style scoped>\n",
              "    .dataframe tbody tr th:only-of-type {\n",
              "        vertical-align: middle;\n",
              "    }\n",
              "\n",
              "    .dataframe tbody tr th {\n",
              "        vertical-align: top;\n",
              "    }\n",
              "\n",
              "    .dataframe thead th {\n",
              "        text-align: right;\n",
              "    }\n",
              "</style>\n",
              "<table border=\"1\" class=\"dataframe\">\n",
              "  <thead>\n",
              "    <tr style=\"text-align: right;\">\n",
              "      <th></th>\n",
              "      <th>No. of Wickets</th>\n",
              "      <th>Total runs given</th>\n",
              "      <th>Total overs bowled</th>\n",
              "      <th>Bowling Average at death</th>\n",
              "      <th>Bowling Economy at death</th>\n",
              "    </tr>\n",
              "  </thead>\n",
              "  <tbody>\n",
              "    <tr>\n",
              "      <th>SL Malinga</th>\n",
              "      <td>90.0</td>\n",
              "      <td>1196</td>\n",
              "      <td>152.833333</td>\n",
              "      <td>13.288889</td>\n",
              "      <td>7.825518</td>\n",
              "    </tr>\n",
              "    <tr>\n",
              "      <th>DJ Bravo</th>\n",
              "      <td>82.0</td>\n",
              "      <td>1567</td>\n",
              "      <td>158.833333</td>\n",
              "      <td>19.109756</td>\n",
              "      <td>9.865687</td>\n",
              "    </tr>\n",
              "    <tr>\n",
              "      <th>B Kumar</th>\n",
              "      <td>66.0</td>\n",
              "      <td>1232</td>\n",
              "      <td>134.333333</td>\n",
              "      <td>18.666667</td>\n",
              "      <td>9.171216</td>\n",
              "    </tr>\n",
              "    <tr>\n",
              "      <th>JJ Bumrah</th>\n",
              "      <td>53.0</td>\n",
              "      <td>1175</td>\n",
              "      <td>131.666667</td>\n",
              "      <td>22.169811</td>\n",
              "      <td>8.924051</td>\n",
              "    </tr>\n",
              "    <tr>\n",
              "      <th>SP Narine</th>\n",
              "      <td>50.0</td>\n",
              "      <td>866</td>\n",
              "      <td>108.166667</td>\n",
              "      <td>17.320000</td>\n",
              "      <td>8.006163</td>\n",
              "    </tr>\n",
              "    <tr>\n",
              "      <th>A Nehra</th>\n",
              "      <td>46.0</td>\n",
              "      <td>620</td>\n",
              "      <td>69.833333</td>\n",
              "      <td>13.478261</td>\n",
              "      <td>8.878282</td>\n",
              "    </tr>\n",
              "    <tr>\n",
              "      <th>CH Morris</th>\n",
              "      <td>46.0</td>\n",
              "      <td>719</td>\n",
              "      <td>86.666667</td>\n",
              "      <td>15.630435</td>\n",
              "      <td>8.296154</td>\n",
              "    </tr>\n",
              "    <tr>\n",
              "      <th>R Vinay Kumar</th>\n",
              "      <td>44.0</td>\n",
              "      <td>1007</td>\n",
              "      <td>95.500000</td>\n",
              "      <td>22.886364</td>\n",
              "      <td>10.544503</td>\n",
              "    </tr>\n",
              "    <tr>\n",
              "      <th>DW Steyn</th>\n",
              "      <td>43.0</td>\n",
              "      <td>780</td>\n",
              "      <td>88.666667</td>\n",
              "      <td>18.139535</td>\n",
              "      <td>8.796992</td>\n",
              "    </tr>\n",
              "    <tr>\n",
              "      <th>RP Singh</th>\n",
              "      <td>43.0</td>\n",
              "      <td>729</td>\n",
              "      <td>78.833333</td>\n",
              "      <td>16.953488</td>\n",
              "      <td>9.247357</td>\n",
              "    </tr>\n",
              "  </tbody>\n",
              "</table>\n",
              "</div>"
            ],
            "text/plain": [
              "               No. of Wickets  ...  Bowling Economy at death\n",
              "SL Malinga               90.0  ...                  7.825518\n",
              "DJ Bravo                 82.0  ...                  9.865687\n",
              "B Kumar                  66.0  ...                  9.171216\n",
              "JJ Bumrah                53.0  ...                  8.924051\n",
              "SP Narine                50.0  ...                  8.006163\n",
              "A Nehra                  46.0  ...                  8.878282\n",
              "CH Morris                46.0  ...                  8.296154\n",
              "R Vinay Kumar            44.0  ...                 10.544503\n",
              "DW Steyn                 43.0  ...                  8.796992\n",
              "RP Singh                 43.0  ...                  9.247357\n",
              "\n",
              "[10 rows x 5 columns]"
            ]
          },
          "metadata": {
            "tags": []
          },
          "execution_count": 85
        }
      ]
    },
    {
      "cell_type": "markdown",
      "metadata": {
        "id": "ckuOwhjEJLxp"
      },
      "source": [
        "Create a column named 'Points' based on bowler's average and strike rate.\n",
        "\n",
        "\n",
        "*  **Points** = Bowling avg. + Bowling strike rate\n",
        "\n",
        "\n"
      ]
    },
    {
      "cell_type": "code",
      "metadata": {
        "id": "3_3rovtGDQwa"
      },
      "source": [
        "df_bowler_death['Points'] = (df_bowler_death.loc[:,'Bowling Average at death'])*0.2 + (df_bowler_death.loc[:,'Bowling Economy at death'])*0.8"
      ],
      "execution_count": 169,
      "outputs": []
    },
    {
      "cell_type": "markdown",
      "metadata": {
        "id": "qEeU3k93GvBH"
      },
      "source": [
        "**Consider only those bowlers who has taken more than 50 wickets in death overs**"
      ]
    },
    {
      "cell_type": "code",
      "metadata": {
        "id": "x2m6qJdTDQ0X"
      },
      "source": [
        "df_bowler_death = df_bowler_death[df_bowler_death['No. of Wickets']>50]"
      ],
      "execution_count": 170,
      "outputs": []
    },
    {
      "cell_type": "markdown",
      "metadata": {
        "id": "NuP13oQ0JrRr"
      },
      "source": [
        "**The Final dataframe for bowlers at death overs**"
      ]
    },
    {
      "cell_type": "code",
      "metadata": {
        "colab": {
          "base_uri": "https://localhost:8080/",
          "height": 171
        },
        "id": "Uj8BdjEQFlrJ",
        "outputId": "529b5fe7-2619-4aaa-e9ff-a68ff90291b2"
      },
      "source": [
        "df_bowler_death.sort_values(by='Points', ascending=True).head()"
      ],
      "execution_count": 172,
      "outputs": [
        {
          "output_type": "execute_result",
          "data": {
            "text/html": [
              "<div>\n",
              "<style scoped>\n",
              "    .dataframe tbody tr th:only-of-type {\n",
              "        vertical-align: middle;\n",
              "    }\n",
              "\n",
              "    .dataframe tbody tr th {\n",
              "        vertical-align: top;\n",
              "    }\n",
              "\n",
              "    .dataframe thead th {\n",
              "        text-align: right;\n",
              "    }\n",
              "</style>\n",
              "<table border=\"1\" class=\"dataframe\">\n",
              "  <thead>\n",
              "    <tr style=\"text-align: right;\">\n",
              "      <th></th>\n",
              "      <th>No. of Wickets</th>\n",
              "      <th>Total runs given</th>\n",
              "      <th>Total overs bowled</th>\n",
              "      <th>Bowling Average at death</th>\n",
              "      <th>Bowling Economy at death</th>\n",
              "      <th>Points</th>\n",
              "    </tr>\n",
              "  </thead>\n",
              "  <tbody>\n",
              "    <tr>\n",
              "      <th>SL Malinga</th>\n",
              "      <td>90.0</td>\n",
              "      <td>1196</td>\n",
              "      <td>152.833333</td>\n",
              "      <td>13.288889</td>\n",
              "      <td>7.825518</td>\n",
              "      <td>8.918192</td>\n",
              "    </tr>\n",
              "    <tr>\n",
              "      <th>B Kumar</th>\n",
              "      <td>66.0</td>\n",
              "      <td>1232</td>\n",
              "      <td>134.333333</td>\n",
              "      <td>18.666667</td>\n",
              "      <td>9.171216</td>\n",
              "      <td>11.070306</td>\n",
              "    </tr>\n",
              "    <tr>\n",
              "      <th>JJ Bumrah</th>\n",
              "      <td>53.0</td>\n",
              "      <td>1175</td>\n",
              "      <td>131.666667</td>\n",
              "      <td>22.169811</td>\n",
              "      <td>8.924051</td>\n",
              "      <td>11.573203</td>\n",
              "    </tr>\n",
              "    <tr>\n",
              "      <th>DJ Bravo</th>\n",
              "      <td>82.0</td>\n",
              "      <td>1567</td>\n",
              "      <td>158.833333</td>\n",
              "      <td>19.109756</td>\n",
              "      <td>9.865687</td>\n",
              "      <td>11.714501</td>\n",
              "    </tr>\n",
              "  </tbody>\n",
              "</table>\n",
              "</div>"
            ],
            "text/plain": [
              "            No. of Wickets  ...     Points\n",
              "SL Malinga            90.0  ...   8.918192\n",
              "B Kumar               66.0  ...  11.070306\n",
              "JJ Bumrah             53.0  ...  11.573203\n",
              "DJ Bravo              82.0  ...  11.714501\n",
              "\n",
              "[4 rows x 6 columns]"
            ]
          },
          "metadata": {
            "tags": []
          },
          "execution_count": 172
        }
      ]
    },
    {
      "cell_type": "code",
      "metadata": {
        "id": "WhhNZ4rVFlts"
      },
      "source": [
        ""
      ],
      "execution_count": null,
      "outputs": []
    },
    {
      "cell_type": "markdown",
      "metadata": {
        "id": "N0sRO0cWQEXA"
      },
      "source": [
        "# **Selection of all rounder will be on the following basis-**\n",
        "1. Batting Points \n",
        "2. Bowling Points\n",
        "\n"
      ]
    },
    {
      "cell_type": "code",
      "metadata": {
        "id": "AXP3KmqLmwR6"
      },
      "source": [
        "df_all_rounder = pd.concat([df_batsman, df_bowler], axis=1)"
      ],
      "execution_count": 135,
      "outputs": []
    },
    {
      "cell_type": "markdown",
      "metadata": {
        "id": "bSFZjkirQ7Xz"
      },
      "source": [
        "***We will consider only those players who has scored more than 1000 runs and taken more than 50 wickets.***"
      ]
    },
    {
      "cell_type": "code",
      "metadata": {
        "id": "iGUDHWk5m7Zg"
      },
      "source": [
        "df_all_rounder = df_all_rounder[df_all_rounder['batsman_runs']>1000]"
      ],
      "execution_count": 136,
      "outputs": []
    },
    {
      "cell_type": "code",
      "metadata": {
        "id": "GXUEnd-WnkMS"
      },
      "source": [
        "df_all_rounder = df_all_rounder[df_all_rounder['No. of Wickets']>50]"
      ],
      "execution_count": 137,
      "outputs": []
    },
    {
      "cell_type": "code",
      "metadata": {
        "colab": {
          "base_uri": "https://localhost:8080/",
          "height": 402
        },
        "id": "c7fil3WHnyE8",
        "outputId": "dd2e8f8c-79c5-454d-bff1-e5596c1e13bd"
      },
      "source": [
        "df_all_rounder.head(10)"
      ],
      "execution_count": 138,
      "outputs": [
        {
          "output_type": "execute_result",
          "data": {
            "text/html": [
              "<div>\n",
              "<style scoped>\n",
              "    .dataframe tbody tr th:only-of-type {\n",
              "        vertical-align: middle;\n",
              "    }\n",
              "\n",
              "    .dataframe tbody tr th {\n",
              "        vertical-align: top;\n",
              "    }\n",
              "\n",
              "    .dataframe thead th {\n",
              "        text-align: right;\n",
              "    }\n",
              "</style>\n",
              "<table border=\"1\" class=\"dataframe\">\n",
              "  <thead>\n",
              "    <tr style=\"text-align: right;\">\n",
              "      <th></th>\n",
              "      <th>batsman_runs</th>\n",
              "      <th>Total No.OUT</th>\n",
              "      <th>Total balls faced</th>\n",
              "      <th>Batting Average</th>\n",
              "      <th>Batting Strike Rate</th>\n",
              "      <th>Batting Points</th>\n",
              "      <th>No. of Wickets</th>\n",
              "      <th>Total runs given</th>\n",
              "      <th>Total overs bowled</th>\n",
              "      <th>Bowling Average</th>\n",
              "      <th>Bowling Economy</th>\n",
              "    </tr>\n",
              "  </thead>\n",
              "  <tbody>\n",
              "    <tr>\n",
              "      <th>SR Watson</th>\n",
              "      <td>3874.0</td>\n",
              "      <td>125.0</td>\n",
              "      <td>2809.0</td>\n",
              "      <td>30.99</td>\n",
              "      <td>137.91</td>\n",
              "      <td>52.374</td>\n",
              "      <td>92.0</td>\n",
              "      <td>2682.0</td>\n",
              "      <td>338.166667</td>\n",
              "      <td>29.152174</td>\n",
              "      <td>7.931000</td>\n",
              "    </tr>\n",
              "    <tr>\n",
              "      <th>KA Pollard</th>\n",
              "      <td>3023.0</td>\n",
              "      <td>106.0</td>\n",
              "      <td>2017.0</td>\n",
              "      <td>28.52</td>\n",
              "      <td>149.88</td>\n",
              "      <td>52.792</td>\n",
              "      <td>60.0</td>\n",
              "      <td>1960.0</td>\n",
              "      <td>220.833333</td>\n",
              "      <td>32.666667</td>\n",
              "      <td>8.875472</td>\n",
              "    </tr>\n",
              "    <tr>\n",
              "      <th>JH Kallis</th>\n",
              "      <td>2427.0</td>\n",
              "      <td>89.0</td>\n",
              "      <td>2222.0</td>\n",
              "      <td>27.27</td>\n",
              "      <td>109.23</td>\n",
              "      <td>43.662</td>\n",
              "      <td>65.0</td>\n",
              "      <td>2293.0</td>\n",
              "      <td>290.333333</td>\n",
              "      <td>35.276923</td>\n",
              "      <td>7.897819</td>\n",
              "    </tr>\n",
              "    <tr>\n",
              "      <th>RA Jadeja</th>\n",
              "      <td>2159.0</td>\n",
              "      <td>88.0</td>\n",
              "      <td>1706.0</td>\n",
              "      <td>24.53</td>\n",
              "      <td>126.55</td>\n",
              "      <td>44.934</td>\n",
              "      <td>114.0</td>\n",
              "      <td>3470.0</td>\n",
              "      <td>452.166667</td>\n",
              "      <td>30.438596</td>\n",
              "      <td>7.674161</td>\n",
              "    </tr>\n",
              "    <tr>\n",
              "      <th>AD Russell</th>\n",
              "      <td>1517.0</td>\n",
              "      <td>50.0</td>\n",
              "      <td>832.0</td>\n",
              "      <td>30.34</td>\n",
              "      <td>182.33</td>\n",
              "      <td>60.738</td>\n",
              "      <td>61.0</td>\n",
              "      <td>1713.0</td>\n",
              "      <td>191.166667</td>\n",
              "      <td>28.081967</td>\n",
              "      <td>8.960767</td>\n",
              "    </tr>\n",
              "    <tr>\n",
              "      <th>DJ Bravo</th>\n",
              "      <td>1490.0</td>\n",
              "      <td>65.0</td>\n",
              "      <td>1162.0</td>\n",
              "      <td>22.92</td>\n",
              "      <td>128.23</td>\n",
              "      <td>43.982</td>\n",
              "      <td>153.0</td>\n",
              "      <td>3798.0</td>\n",
              "      <td>452.000000</td>\n",
              "      <td>24.823529</td>\n",
              "      <td>8.402655</td>\n",
              "    </tr>\n",
              "    <tr>\n",
              "      <th>IK Pathan</th>\n",
              "      <td>1139.0</td>\n",
              "      <td>53.0</td>\n",
              "      <td>946.0</td>\n",
              "      <td>21.49</td>\n",
              "      <td>120.40</td>\n",
              "      <td>41.272</td>\n",
              "      <td>80.0</td>\n",
              "      <td>2649.0</td>\n",
              "      <td>340.500000</td>\n",
              "      <td>33.112500</td>\n",
              "      <td>7.779736</td>\n",
              "    </tr>\n",
              "  </tbody>\n",
              "</table>\n",
              "</div>"
            ],
            "text/plain": [
              "            batsman_runs  Total No.OUT  ...  Bowling Average  Bowling Economy\n",
              "SR Watson         3874.0         125.0  ...        29.152174         7.931000\n",
              "KA Pollard        3023.0         106.0  ...        32.666667         8.875472\n",
              "JH Kallis         2427.0          89.0  ...        35.276923         7.897819\n",
              "RA Jadeja         2159.0          88.0  ...        30.438596         7.674161\n",
              "AD Russell        1517.0          50.0  ...        28.081967         8.960767\n",
              "DJ Bravo          1490.0          65.0  ...        24.823529         8.402655\n",
              "IK Pathan         1139.0          53.0  ...        33.112500         7.779736\n",
              "\n",
              "[7 rows x 11 columns]"
            ]
          },
          "metadata": {
            "tags": []
          },
          "execution_count": 138
        }
      ]
    },
    {
      "cell_type": "code",
      "metadata": {
        "id": "PeUvjxGwOudV"
      },
      "source": [
        "df_all_rounder['Bowling Points'] = (df_all_rounder['Bowling Average'])*0.2 + (df_all_rounder['Bowling Economy'])*0.8"
      ],
      "execution_count": 139,
      "outputs": []
    },
    {
      "cell_type": "code",
      "metadata": {
        "colab": {
          "base_uri": "https://localhost:8080/"
        },
        "id": "m2oSGW6lrIqc",
        "outputId": "3e60b4f4-37dd-4e18-d87e-55f0004f308c"
      },
      "source": [
        "df_all_rounder.sort_values(by='Bowling Points', ascending=True)['Bowling Points']"
      ],
      "execution_count": 140,
      "outputs": [
        {
          "output_type": "execute_result",
          "data": {
            "text/plain": [
              "DJ Bravo      11.686830\n",
              "SR Watson     12.175235\n",
              "RA Jadeja     12.227048\n",
              "AD Russell    12.785007\n",
              "IK Pathan     12.846289\n",
              "JH Kallis     13.373639\n",
              "KA Pollard    13.633711\n",
              "Name: Bowling Points, dtype: float64"
            ]
          },
          "metadata": {
            "tags": []
          },
          "execution_count": 140
        }
      ]
    },
    {
      "cell_type": "code",
      "metadata": {
        "colab": {
          "base_uri": "https://localhost:8080/"
        },
        "id": "wAsQPWMgsqkp",
        "outputId": "f501fa20-4982-4ab6-9848-ef455c70853a"
      },
      "source": [
        "df_all_rounder.sort_values(by='Batting Points', ascending=False)['Batting Points']"
      ],
      "execution_count": 141,
      "outputs": [
        {
          "output_type": "execute_result",
          "data": {
            "text/plain": [
              "AD Russell    60.738\n",
              "KA Pollard    52.792\n",
              "SR Watson     52.374\n",
              "RA Jadeja     44.934\n",
              "DJ Bravo      43.982\n",
              "JH Kallis     43.662\n",
              "IK Pathan     41.272\n",
              "Name: Batting Points, dtype: float64"
            ]
          },
          "metadata": {
            "tags": []
          },
          "execution_count": 141
        }
      ]
    },
    {
      "cell_type": "code",
      "metadata": {
        "id": "y2n4O8tauefb"
      },
      "source": [
        "df_all_rounder['Total'] = df_all_rounder['Batting Points']-df_all_rounder['Bowling Points']"
      ],
      "execution_count": 142,
      "outputs": []
    },
    {
      "cell_type": "code",
      "metadata": {
        "colab": {
          "base_uri": "https://localhost:8080/"
        },
        "id": "5YMAGWU_uwJ2",
        "outputId": "6de536bc-b908-4529-9a25-a7b0e0500d24"
      },
      "source": [
        "df_all_rounder.sort_values(by='Total', ascending=False)['Total']"
      ],
      "execution_count": 143,
      "outputs": [
        {
          "output_type": "execute_result",
          "data": {
            "text/plain": [
              "AD Russell    47.952993\n",
              "SR Watson     40.198765\n",
              "KA Pollard    39.158289\n",
              "RA Jadeja     32.706952\n",
              "DJ Bravo      32.295170\n",
              "JH Kallis     30.288361\n",
              "IK Pathan     28.425711\n",
              "Name: Total, dtype: float64"
            ]
          },
          "metadata": {
            "tags": []
          },
          "execution_count": 143
        }
      ]
    },
    {
      "cell_type": "code",
      "metadata": {
        "id": "LXT2uru6PVz5"
      },
      "source": [
        ""
      ],
      "execution_count": 110,
      "outputs": []
    },
    {
      "cell_type": "code",
      "metadata": {
        "id": "2yvfb0YRrJNw"
      },
      "source": [
        ""
      ],
      "execution_count": null,
      "outputs": []
    },
    {
      "cell_type": "code",
      "metadata": {
        "id": "uvq9mUdVrHrP"
      },
      "source": [
        ""
      ],
      "execution_count": null,
      "outputs": []
    },
    {
      "cell_type": "code",
      "metadata": {
        "id": "uQBg1njGIhAt"
      },
      "source": [
        ""
      ],
      "execution_count": null,
      "outputs": []
    },
    {
      "cell_type": "code",
      "metadata": {
        "id": "ZpTqKsUiB9UT"
      },
      "source": [
        ""
      ],
      "execution_count": null,
      "outputs": []
    },
    {
      "cell_type": "code",
      "metadata": {
        "id": "eyWNKFnLBPsC"
      },
      "source": [
        ""
      ],
      "execution_count": null,
      "outputs": []
    },
    {
      "cell_type": "code",
      "metadata": {
        "id": "lkOcrGKeBMiG"
      },
      "source": [
        ""
      ],
      "execution_count": 150,
      "outputs": []
    },
    {
      "cell_type": "code",
      "metadata": {
        "id": "TBNhAGPtBMkb"
      },
      "source": [
        ""
      ],
      "execution_count": null,
      "outputs": []
    }
  ]
}