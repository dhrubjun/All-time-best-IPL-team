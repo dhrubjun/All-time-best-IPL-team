{
  "nbformat": 4,
  "nbformat_minor": 0,
  "metadata": {
    "colab": {
      "name": "All time best IPL team.ipynb",
      "provenance": [],
      "collapsed_sections": [],
      "authorship_tag": "ABX9TyP9ecjGXtGlybMjQ5OIcv7r",
      "include_colab_link": true
    },
    "kernelspec": {
      "display_name": "Python 3",
      "name": "python3"
    },
    "language_info": {
      "name": "python"
    }
  },
  "cells": [
    {
      "cell_type": "markdown",
      "metadata": {
        "id": "view-in-github",
        "colab_type": "text"
      },
      "source": [
        "<a href=\"https://colab.research.google.com/github/dhrubjun/All-time-best-IPL-team/blob/main/All_time_best_IPL_team.ipynb\" target=\"_parent\"><img src=\"https://colab.research.google.com/assets/colab-badge.svg\" alt=\"Open In Colab\"/></a>"
      ]
    },
    {
      "cell_type": "code",
      "metadata": {
        "colab": {
          "base_uri": "https://localhost:8080/"
        },
        "id": "bdADmyEulZRr",
        "outputId": "018e55e2-5170-468f-e423-309098803b1d"
      },
      "source": [
        "from google.colab import drive\n",
        "drive.mount('/content/drive')"
      ],
      "execution_count": 1,
      "outputs": [
        {
          "output_type": "stream",
          "text": [
            "Mounted at /content/drive\n"
          ],
          "name": "stdout"
        }
      ]
    },
    {
      "cell_type": "markdown",
      "metadata": {
        "id": "XW6cVuD9m1oa"
      },
      "source": [
        "The team team will consists of 12 player (1 extra player). \n",
        "It will have -\n",
        "1. **5 Batsman**\n",
        "2. **1 Wicket keeper batsman**\n",
        "3. **1 all rounder**\n",
        "4. **4 bowlers (2 spinners and 2 pacers)**"
      ]
    },
    {
      "cell_type": "code",
      "metadata": {
        "id": "TS10cRillaOU"
      },
      "source": [
        "import pandas as pd\n",
        "import numpy as np\n",
        "import matplotlib.pyplot as plt\n",
        "import seaborn as sns\n",
        "%matplotlib inline\n",
        "\n",
        "path = \"/content/drive/MyDrive/data/IPL Ball-by-Ball 2008-2020.csv\"\n",
        "df = pd.read_csv(path)\n"
      ],
      "execution_count": 2,
      "outputs": []
    },
    {
      "cell_type": "code",
      "metadata": {
        "colab": {
          "base_uri": "https://localhost:8080/",
          "height": 395
        },
        "id": "uAB0aIQ4l-yR",
        "outputId": "5a493c61-7366-46ec-b3f0-1200f68e96c0"
      },
      "source": [
        "df.head()"
      ],
      "execution_count": 3,
      "outputs": [
        {
          "output_type": "execute_result",
          "data": {
            "text/html": [
              "<div>\n",
              "<style scoped>\n",
              "    .dataframe tbody tr th:only-of-type {\n",
              "        vertical-align: middle;\n",
              "    }\n",
              "\n",
              "    .dataframe tbody tr th {\n",
              "        vertical-align: top;\n",
              "    }\n",
              "\n",
              "    .dataframe thead th {\n",
              "        text-align: right;\n",
              "    }\n",
              "</style>\n",
              "<table border=\"1\" class=\"dataframe\">\n",
              "  <thead>\n",
              "    <tr style=\"text-align: right;\">\n",
              "      <th></th>\n",
              "      <th>id</th>\n",
              "      <th>inning</th>\n",
              "      <th>over</th>\n",
              "      <th>ball</th>\n",
              "      <th>batsman</th>\n",
              "      <th>non_striker</th>\n",
              "      <th>bowler</th>\n",
              "      <th>batsman_runs</th>\n",
              "      <th>extra_runs</th>\n",
              "      <th>total_runs</th>\n",
              "      <th>non_boundary</th>\n",
              "      <th>is_wicket</th>\n",
              "      <th>dismissal_kind</th>\n",
              "      <th>player_dismissed</th>\n",
              "      <th>fielder</th>\n",
              "      <th>extras_type</th>\n",
              "      <th>batting_team</th>\n",
              "      <th>bowling_team</th>\n",
              "    </tr>\n",
              "  </thead>\n",
              "  <tbody>\n",
              "    <tr>\n",
              "      <th>0</th>\n",
              "      <td>335982</td>\n",
              "      <td>1</td>\n",
              "      <td>6</td>\n",
              "      <td>5</td>\n",
              "      <td>RT Ponting</td>\n",
              "      <td>BB McCullum</td>\n",
              "      <td>AA Noffke</td>\n",
              "      <td>1</td>\n",
              "      <td>0</td>\n",
              "      <td>1</td>\n",
              "      <td>0</td>\n",
              "      <td>0</td>\n",
              "      <td>NaN</td>\n",
              "      <td>NaN</td>\n",
              "      <td>NaN</td>\n",
              "      <td>NaN</td>\n",
              "      <td>Kolkata Knight Riders</td>\n",
              "      <td>Royal Challengers Bangalore</td>\n",
              "    </tr>\n",
              "    <tr>\n",
              "      <th>1</th>\n",
              "      <td>335982</td>\n",
              "      <td>1</td>\n",
              "      <td>6</td>\n",
              "      <td>6</td>\n",
              "      <td>BB McCullum</td>\n",
              "      <td>RT Ponting</td>\n",
              "      <td>AA Noffke</td>\n",
              "      <td>1</td>\n",
              "      <td>0</td>\n",
              "      <td>1</td>\n",
              "      <td>0</td>\n",
              "      <td>0</td>\n",
              "      <td>NaN</td>\n",
              "      <td>NaN</td>\n",
              "      <td>NaN</td>\n",
              "      <td>NaN</td>\n",
              "      <td>Kolkata Knight Riders</td>\n",
              "      <td>Royal Challengers Bangalore</td>\n",
              "    </tr>\n",
              "    <tr>\n",
              "      <th>2</th>\n",
              "      <td>335982</td>\n",
              "      <td>1</td>\n",
              "      <td>7</td>\n",
              "      <td>1</td>\n",
              "      <td>BB McCullum</td>\n",
              "      <td>RT Ponting</td>\n",
              "      <td>Z Khan</td>\n",
              "      <td>0</td>\n",
              "      <td>0</td>\n",
              "      <td>0</td>\n",
              "      <td>0</td>\n",
              "      <td>0</td>\n",
              "      <td>NaN</td>\n",
              "      <td>NaN</td>\n",
              "      <td>NaN</td>\n",
              "      <td>NaN</td>\n",
              "      <td>Kolkata Knight Riders</td>\n",
              "      <td>Royal Challengers Bangalore</td>\n",
              "    </tr>\n",
              "    <tr>\n",
              "      <th>3</th>\n",
              "      <td>335982</td>\n",
              "      <td>1</td>\n",
              "      <td>7</td>\n",
              "      <td>2</td>\n",
              "      <td>BB McCullum</td>\n",
              "      <td>RT Ponting</td>\n",
              "      <td>Z Khan</td>\n",
              "      <td>1</td>\n",
              "      <td>0</td>\n",
              "      <td>1</td>\n",
              "      <td>0</td>\n",
              "      <td>0</td>\n",
              "      <td>NaN</td>\n",
              "      <td>NaN</td>\n",
              "      <td>NaN</td>\n",
              "      <td>NaN</td>\n",
              "      <td>Kolkata Knight Riders</td>\n",
              "      <td>Royal Challengers Bangalore</td>\n",
              "    </tr>\n",
              "    <tr>\n",
              "      <th>4</th>\n",
              "      <td>335982</td>\n",
              "      <td>1</td>\n",
              "      <td>7</td>\n",
              "      <td>3</td>\n",
              "      <td>RT Ponting</td>\n",
              "      <td>BB McCullum</td>\n",
              "      <td>Z Khan</td>\n",
              "      <td>1</td>\n",
              "      <td>0</td>\n",
              "      <td>1</td>\n",
              "      <td>0</td>\n",
              "      <td>0</td>\n",
              "      <td>NaN</td>\n",
              "      <td>NaN</td>\n",
              "      <td>NaN</td>\n",
              "      <td>NaN</td>\n",
              "      <td>Kolkata Knight Riders</td>\n",
              "      <td>Royal Challengers Bangalore</td>\n",
              "    </tr>\n",
              "  </tbody>\n",
              "</table>\n",
              "</div>"
            ],
            "text/plain": [
              "       id  inning  ...           batting_team                 bowling_team\n",
              "0  335982       1  ...  Kolkata Knight Riders  Royal Challengers Bangalore\n",
              "1  335982       1  ...  Kolkata Knight Riders  Royal Challengers Bangalore\n",
              "2  335982       1  ...  Kolkata Knight Riders  Royal Challengers Bangalore\n",
              "3  335982       1  ...  Kolkata Knight Riders  Royal Challengers Bangalore\n",
              "4  335982       1  ...  Kolkata Knight Riders  Royal Challengers Bangalore\n",
              "\n",
              "[5 rows x 18 columns]"
            ]
          },
          "metadata": {
            "tags": []
          },
          "execution_count": 3
        }
      ]
    },
    {
      "cell_type": "markdown",
      "metadata": {
        "id": "UOAGv3CTnbGV"
      },
      "source": [
        "Selection of batsman will be on following criteria-\n",
        "1. **Batting Avg.**\n",
        "2. **Strike Rate**\n",
        "3. **Batting average and strike rate at 16th to 20th Over for finisher** \n",
        "\n",
        "\n",
        "\n"
      ]
    },
    {
      "cell_type": "markdown",
      "metadata": {
        "id": "wpPF07bMxQ99"
      },
      "source": [
        "\n",
        "\n",
        "1.   **Batting Average = (Total runs)/(No. of OUT)** \n",
        "\n",
        "2.   **Strike Rate = (Total runs)/(Total no. of balls faced)**\n",
        "\n"
      ]
    },
    {
      "cell_type": "markdown",
      "metadata": {
        "id": "AV9PMdWCdpG2"
      },
      "source": [
        "**First we will calculate total number of runs for each batsman**\n",
        "\n",
        "\n",
        "\n",
        "\n",
        "\n",
        "\n",
        "\n",
        "\n",
        "\n",
        "\n",
        "\n",
        "\n",
        "\n",
        "\n",
        "\n"
      ]
    },
    {
      "cell_type": "code",
      "metadata": {
        "id": "RaM42RS0nl5I"
      },
      "source": [
        "df_total_run = df.groupby('batsman').sum().sort_values(by='batsman_runs', ascending=False)['batsman_runs']"
      ],
      "execution_count": 6,
      "outputs": []
    },
    {
      "cell_type": "code",
      "metadata": {
        "colab": {
          "base_uri": "https://localhost:8080/"
        },
        "id": "aWOmTKc8dtjQ",
        "outputId": "a1530789-df17-4863-d5f6-94840c2b3a61"
      },
      "source": [
        "df_total_run.head(10)"
      ],
      "execution_count": 48,
      "outputs": [
        {
          "output_type": "execute_result",
          "data": {
            "text/plain": [
              "batsman\n",
              "V Kohli           5878\n",
              "SK Raina          5368\n",
              "DA Warner         5254\n",
              "RG Sharma         5230\n",
              "S Dhawan          5197\n",
              "AB de Villiers    4849\n",
              "CH Gayle          4772\n",
              "MS Dhoni          4632\n",
              "RV Uthappa        4607\n",
              "G Gambhir         4217\n",
              "Name: batsman_runs, dtype: int64"
            ]
          },
          "metadata": {
            "tags": []
          },
          "execution_count": 48
        }
      ]
    },
    {
      "cell_type": "markdown",
      "metadata": {
        "id": "Cbxnjn_fsJ7Z"
      },
      "source": [
        "**Then we will calculate the total number of balls faced by batsman and total no. of OUT.** \n",
        "\n",
        "***In calculating total number of balls faced, we will not consider wide balls. ***"
      ]
    },
    {
      "cell_type": "code",
      "metadata": {
        "id": "4hSt1DuIrf_7"
      },
      "source": [
        "df_total_ball_faced = df[df['extras_type']!='wides'].groupby('batsman').count().sort_values(by='batsman_runs', ascending=False)['batsman_runs']"
      ],
      "execution_count": 8,
      "outputs": []
    },
    {
      "cell_type": "code",
      "metadata": {
        "id": "ajVrkNX_rLZP"
      },
      "source": [
        "total_out = df[df['is_wicket']==1].groupby('batsman').count().sort_values(by='is_wicket', ascending=False)['is_wicket']"
      ],
      "execution_count": 10,
      "outputs": []
    },
    {
      "cell_type": "code",
      "metadata": {
        "id": "PhQOBZy3zS3k"
      },
      "source": [
        "df_batsman = pd.concat([df_total_run,total_out], axis=1)"
      ],
      "execution_count": 11,
      "outputs": []
    },
    {
      "cell_type": "code",
      "metadata": {
        "id": "P9QCBDJB5BhI"
      },
      "source": [
        "df_batsman['Total balls faced'] = df_total_ball_faced"
      ],
      "execution_count": 12,
      "outputs": []
    },
    {
      "cell_type": "code",
      "metadata": {
        "id": "VN0XGCOE5QgC"
      },
      "source": [
        "df_batsman.rename(columns={'batsman_run':'Total Run', 'is_wicket':'Total No.OUT', 'Toatal balls faced':'Total balls faced' }, inplace=True)"
      ],
      "execution_count": 21,
      "outputs": []
    },
    {
      "cell_type": "code",
      "metadata": {
        "colab": {
          "base_uri": "https://localhost:8080/",
          "height": 355
        },
        "id": "ldlDQYtZzMRV",
        "outputId": "0f09d693-db50-410e-e784-f2516f7e2a2e"
      },
      "source": [
        "df_batsman.head(10)"
      ],
      "execution_count": 22,
      "outputs": [
        {
          "output_type": "execute_result",
          "data": {
            "text/html": [
              "<div>\n",
              "<style scoped>\n",
              "    .dataframe tbody tr th:only-of-type {\n",
              "        vertical-align: middle;\n",
              "    }\n",
              "\n",
              "    .dataframe tbody tr th {\n",
              "        vertical-align: top;\n",
              "    }\n",
              "\n",
              "    .dataframe thead th {\n",
              "        text-align: right;\n",
              "    }\n",
              "</style>\n",
              "<table border=\"1\" class=\"dataframe\">\n",
              "  <thead>\n",
              "    <tr style=\"text-align: right;\">\n",
              "      <th></th>\n",
              "      <th>batsman_runs</th>\n",
              "      <th>Total No.OUT</th>\n",
              "      <th>Total balls faced</th>\n",
              "    </tr>\n",
              "  </thead>\n",
              "  <tbody>\n",
              "    <tr>\n",
              "      <th>V Kohli</th>\n",
              "      <td>5878</td>\n",
              "      <td>163.0</td>\n",
              "      <td>4496</td>\n",
              "    </tr>\n",
              "    <tr>\n",
              "      <th>SK Raina</th>\n",
              "      <td>5368</td>\n",
              "      <td>160.0</td>\n",
              "      <td>3914</td>\n",
              "    </tr>\n",
              "    <tr>\n",
              "      <th>DA Warner</th>\n",
              "      <td>5254</td>\n",
              "      <td>126.0</td>\n",
              "      <td>3712</td>\n",
              "    </tr>\n",
              "    <tr>\n",
              "      <th>RG Sharma</th>\n",
              "      <td>5230</td>\n",
              "      <td>177.0</td>\n",
              "      <td>4004</td>\n",
              "    </tr>\n",
              "    <tr>\n",
              "      <th>S Dhawan</th>\n",
              "      <td>5197</td>\n",
              "      <td>152.0</td>\n",
              "      <td>4096</td>\n",
              "    </tr>\n",
              "    <tr>\n",
              "      <th>AB de Villiers</th>\n",
              "      <td>4849</td>\n",
              "      <td>114.0</td>\n",
              "      <td>3192</td>\n",
              "    </tr>\n",
              "    <tr>\n",
              "      <th>CH Gayle</th>\n",
              "      <td>4772</td>\n",
              "      <td>116.0</td>\n",
              "      <td>3179</td>\n",
              "    </tr>\n",
              "    <tr>\n",
              "      <th>MS Dhoni</th>\n",
              "      <td>4632</td>\n",
              "      <td>126.0</td>\n",
              "      <td>3387</td>\n",
              "    </tr>\n",
              "    <tr>\n",
              "      <th>RV Uthappa</th>\n",
              "      <td>4607</td>\n",
              "      <td>169.0</td>\n",
              "      <td>3544</td>\n",
              "    </tr>\n",
              "    <tr>\n",
              "      <th>G Gambhir</th>\n",
              "      <td>4217</td>\n",
              "      <td>135.0</td>\n",
              "      <td>3404</td>\n",
              "    </tr>\n",
              "  </tbody>\n",
              "</table>\n",
              "</div>"
            ],
            "text/plain": [
              "                batsman_runs  Total No.OUT  Total balls faced\n",
              "V Kohli                 5878         163.0               4496\n",
              "SK Raina                5368         160.0               3914\n",
              "DA Warner               5254         126.0               3712\n",
              "RG Sharma               5230         177.0               4004\n",
              "S Dhawan                5197         152.0               4096\n",
              "AB de Villiers          4849         114.0               3192\n",
              "CH Gayle                4772         116.0               3179\n",
              "MS Dhoni                4632         126.0               3387\n",
              "RV Uthappa              4607         169.0               3544\n",
              "G Gambhir               4217         135.0               3404"
            ]
          },
          "metadata": {
            "tags": []
          },
          "execution_count": 22
        }
      ]
    },
    {
      "cell_type": "code",
      "metadata": {
        "id": "MEZUt1j15CUG"
      },
      "source": [
        "df_batsman['Average'] = round(df_batsman['batsman_runs']/df_batsman['Total No.OUT'], 2)"
      ],
      "execution_count": 24,
      "outputs": []
    },
    {
      "cell_type": "code",
      "metadata": {
        "colab": {
          "base_uri": "https://localhost:8080/",
          "height": 355
        },
        "id": "LV9sIfp04pc9",
        "outputId": "5720240c-7311-4ee2-f3d4-8147002980eb"
      },
      "source": [
        "df_batsman.head(10)"
      ],
      "execution_count": 25,
      "outputs": [
        {
          "output_type": "execute_result",
          "data": {
            "text/html": [
              "<div>\n",
              "<style scoped>\n",
              "    .dataframe tbody tr th:only-of-type {\n",
              "        vertical-align: middle;\n",
              "    }\n",
              "\n",
              "    .dataframe tbody tr th {\n",
              "        vertical-align: top;\n",
              "    }\n",
              "\n",
              "    .dataframe thead th {\n",
              "        text-align: right;\n",
              "    }\n",
              "</style>\n",
              "<table border=\"1\" class=\"dataframe\">\n",
              "  <thead>\n",
              "    <tr style=\"text-align: right;\">\n",
              "      <th></th>\n",
              "      <th>batsman_runs</th>\n",
              "      <th>Total No.OUT</th>\n",
              "      <th>Total balls faced</th>\n",
              "      <th>Average</th>\n",
              "    </tr>\n",
              "  </thead>\n",
              "  <tbody>\n",
              "    <tr>\n",
              "      <th>V Kohli</th>\n",
              "      <td>5878</td>\n",
              "      <td>163.0</td>\n",
              "      <td>4496</td>\n",
              "      <td>36.06</td>\n",
              "    </tr>\n",
              "    <tr>\n",
              "      <th>SK Raina</th>\n",
              "      <td>5368</td>\n",
              "      <td>160.0</td>\n",
              "      <td>3914</td>\n",
              "      <td>33.55</td>\n",
              "    </tr>\n",
              "    <tr>\n",
              "      <th>DA Warner</th>\n",
              "      <td>5254</td>\n",
              "      <td>126.0</td>\n",
              "      <td>3712</td>\n",
              "      <td>41.70</td>\n",
              "    </tr>\n",
              "    <tr>\n",
              "      <th>RG Sharma</th>\n",
              "      <td>5230</td>\n",
              "      <td>177.0</td>\n",
              "      <td>4004</td>\n",
              "      <td>29.55</td>\n",
              "    </tr>\n",
              "    <tr>\n",
              "      <th>S Dhawan</th>\n",
              "      <td>5197</td>\n",
              "      <td>152.0</td>\n",
              "      <td>4096</td>\n",
              "      <td>34.19</td>\n",
              "    </tr>\n",
              "    <tr>\n",
              "      <th>AB de Villiers</th>\n",
              "      <td>4849</td>\n",
              "      <td>114.0</td>\n",
              "      <td>3192</td>\n",
              "      <td>42.54</td>\n",
              "    </tr>\n",
              "    <tr>\n",
              "      <th>CH Gayle</th>\n",
              "      <td>4772</td>\n",
              "      <td>116.0</td>\n",
              "      <td>3179</td>\n",
              "      <td>41.14</td>\n",
              "    </tr>\n",
              "    <tr>\n",
              "      <th>MS Dhoni</th>\n",
              "      <td>4632</td>\n",
              "      <td>126.0</td>\n",
              "      <td>3387</td>\n",
              "      <td>36.76</td>\n",
              "    </tr>\n",
              "    <tr>\n",
              "      <th>RV Uthappa</th>\n",
              "      <td>4607</td>\n",
              "      <td>169.0</td>\n",
              "      <td>3544</td>\n",
              "      <td>27.26</td>\n",
              "    </tr>\n",
              "    <tr>\n",
              "      <th>G Gambhir</th>\n",
              "      <td>4217</td>\n",
              "      <td>135.0</td>\n",
              "      <td>3404</td>\n",
              "      <td>31.24</td>\n",
              "    </tr>\n",
              "  </tbody>\n",
              "</table>\n",
              "</div>"
            ],
            "text/plain": [
              "                batsman_runs  Total No.OUT  Total balls faced  Average\n",
              "V Kohli                 5878         163.0               4496    36.06\n",
              "SK Raina                5368         160.0               3914    33.55\n",
              "DA Warner               5254         126.0               3712    41.70\n",
              "RG Sharma               5230         177.0               4004    29.55\n",
              "S Dhawan                5197         152.0               4096    34.19\n",
              "AB de Villiers          4849         114.0               3192    42.54\n",
              "CH Gayle                4772         116.0               3179    41.14\n",
              "MS Dhoni                4632         126.0               3387    36.76\n",
              "RV Uthappa              4607         169.0               3544    27.26\n",
              "G Gambhir               4217         135.0               3404    31.24"
            ]
          },
          "metadata": {
            "tags": []
          },
          "execution_count": 25
        }
      ]
    },
    {
      "cell_type": "code",
      "metadata": {
        "id": "pgy8YAfS6c30"
      },
      "source": [
        "df_batsman['Strike Rate'] = round((df_batsman['batsman_runs']/df_batsman['Total balls faced'])* 100 , 2)"
      ],
      "execution_count": 26,
      "outputs": []
    },
    {
      "cell_type": "code",
      "metadata": {
        "colab": {
          "base_uri": "https://localhost:8080/",
          "height": 662
        },
        "id": "tQ5ivyJLy4z4",
        "outputId": "c4679bb2-182f-4fcc-dc57-ba8e19573f9e"
      },
      "source": [
        "df_batsman.head(20)"
      ],
      "execution_count": 27,
      "outputs": [
        {
          "output_type": "execute_result",
          "data": {
            "text/html": [
              "<div>\n",
              "<style scoped>\n",
              "    .dataframe tbody tr th:only-of-type {\n",
              "        vertical-align: middle;\n",
              "    }\n",
              "\n",
              "    .dataframe tbody tr th {\n",
              "        vertical-align: top;\n",
              "    }\n",
              "\n",
              "    .dataframe thead th {\n",
              "        text-align: right;\n",
              "    }\n",
              "</style>\n",
              "<table border=\"1\" class=\"dataframe\">\n",
              "  <thead>\n",
              "    <tr style=\"text-align: right;\">\n",
              "      <th></th>\n",
              "      <th>batsman_runs</th>\n",
              "      <th>Total No.OUT</th>\n",
              "      <th>Total balls faced</th>\n",
              "      <th>Average</th>\n",
              "      <th>Strike Rate</th>\n",
              "    </tr>\n",
              "  </thead>\n",
              "  <tbody>\n",
              "    <tr>\n",
              "      <th>V Kohli</th>\n",
              "      <td>5878</td>\n",
              "      <td>163.0</td>\n",
              "      <td>4496</td>\n",
              "      <td>36.06</td>\n",
              "      <td>130.74</td>\n",
              "    </tr>\n",
              "    <tr>\n",
              "      <th>SK Raina</th>\n",
              "      <td>5368</td>\n",
              "      <td>160.0</td>\n",
              "      <td>3914</td>\n",
              "      <td>33.55</td>\n",
              "      <td>137.15</td>\n",
              "    </tr>\n",
              "    <tr>\n",
              "      <th>DA Warner</th>\n",
              "      <td>5254</td>\n",
              "      <td>126.0</td>\n",
              "      <td>3712</td>\n",
              "      <td>41.70</td>\n",
              "      <td>141.54</td>\n",
              "    </tr>\n",
              "    <tr>\n",
              "      <th>RG Sharma</th>\n",
              "      <td>5230</td>\n",
              "      <td>177.0</td>\n",
              "      <td>4004</td>\n",
              "      <td>29.55</td>\n",
              "      <td>130.62</td>\n",
              "    </tr>\n",
              "    <tr>\n",
              "      <th>S Dhawan</th>\n",
              "      <td>5197</td>\n",
              "      <td>152.0</td>\n",
              "      <td>4096</td>\n",
              "      <td>34.19</td>\n",
              "      <td>126.88</td>\n",
              "    </tr>\n",
              "    <tr>\n",
              "      <th>AB de Villiers</th>\n",
              "      <td>4849</td>\n",
              "      <td>114.0</td>\n",
              "      <td>3192</td>\n",
              "      <td>42.54</td>\n",
              "      <td>151.91</td>\n",
              "    </tr>\n",
              "    <tr>\n",
              "      <th>CH Gayle</th>\n",
              "      <td>4772</td>\n",
              "      <td>116.0</td>\n",
              "      <td>3179</td>\n",
              "      <td>41.14</td>\n",
              "      <td>150.11</td>\n",
              "    </tr>\n",
              "    <tr>\n",
              "      <th>MS Dhoni</th>\n",
              "      <td>4632</td>\n",
              "      <td>126.0</td>\n",
              "      <td>3387</td>\n",
              "      <td>36.76</td>\n",
              "      <td>136.76</td>\n",
              "    </tr>\n",
              "    <tr>\n",
              "      <th>RV Uthappa</th>\n",
              "      <td>4607</td>\n",
              "      <td>169.0</td>\n",
              "      <td>3544</td>\n",
              "      <td>27.26</td>\n",
              "      <td>129.99</td>\n",
              "    </tr>\n",
              "    <tr>\n",
              "      <th>G Gambhir</th>\n",
              "      <td>4217</td>\n",
              "      <td>135.0</td>\n",
              "      <td>3404</td>\n",
              "      <td>31.24</td>\n",
              "      <td>123.88</td>\n",
              "    </tr>\n",
              "    <tr>\n",
              "      <th>AM Rahane</th>\n",
              "      <td>3933</td>\n",
              "      <td>125.0</td>\n",
              "      <td>3240</td>\n",
              "      <td>31.46</td>\n",
              "      <td>121.39</td>\n",
              "    </tr>\n",
              "    <tr>\n",
              "      <th>SR Watson</th>\n",
              "      <td>3874</td>\n",
              "      <td>125.0</td>\n",
              "      <td>2809</td>\n",
              "      <td>30.99</td>\n",
              "      <td>137.91</td>\n",
              "    </tr>\n",
              "    <tr>\n",
              "      <th>KD Karthik</th>\n",
              "      <td>3823</td>\n",
              "      <td>152.0</td>\n",
              "      <td>2949</td>\n",
              "      <td>25.15</td>\n",
              "      <td>129.64</td>\n",
              "    </tr>\n",
              "    <tr>\n",
              "      <th>AT Rayudu</th>\n",
              "      <td>3659</td>\n",
              "      <td>123.0</td>\n",
              "      <td>2902</td>\n",
              "      <td>29.75</td>\n",
              "      <td>126.09</td>\n",
              "    </tr>\n",
              "    <tr>\n",
              "      <th>MK Pandey</th>\n",
              "      <td>3268</td>\n",
              "      <td>109.0</td>\n",
              "      <td>2686</td>\n",
              "      <td>29.98</td>\n",
              "      <td>121.67</td>\n",
              "    </tr>\n",
              "    <tr>\n",
              "      <th>YK Pathan</th>\n",
              "      <td>3204</td>\n",
              "      <td>111.0</td>\n",
              "      <td>2241</td>\n",
              "      <td>28.86</td>\n",
              "      <td>142.97</td>\n",
              "    </tr>\n",
              "    <tr>\n",
              "      <th>KA Pollard</th>\n",
              "      <td>3023</td>\n",
              "      <td>106.0</td>\n",
              "      <td>2017</td>\n",
              "      <td>28.52</td>\n",
              "      <td>149.88</td>\n",
              "    </tr>\n",
              "    <tr>\n",
              "      <th>BB McCullum</th>\n",
              "      <td>2880</td>\n",
              "      <td>106.0</td>\n",
              "      <td>2186</td>\n",
              "      <td>27.17</td>\n",
              "      <td>131.75</td>\n",
              "    </tr>\n",
              "    <tr>\n",
              "      <th>PA Patel</th>\n",
              "      <td>2848</td>\n",
              "      <td>127.0</td>\n",
              "      <td>2358</td>\n",
              "      <td>22.43</td>\n",
              "      <td>120.78</td>\n",
              "    </tr>\n",
              "    <tr>\n",
              "      <th>Yuvraj Singh</th>\n",
              "      <td>2750</td>\n",
              "      <td>109.0</td>\n",
              "      <td>2120</td>\n",
              "      <td>25.23</td>\n",
              "      <td>129.72</td>\n",
              "    </tr>\n",
              "  </tbody>\n",
              "</table>\n",
              "</div>"
            ],
            "text/plain": [
              "                batsman_runs  Total No.OUT  ...  Average  Strike Rate\n",
              "V Kohli                 5878         163.0  ...    36.06       130.74\n",
              "SK Raina                5368         160.0  ...    33.55       137.15\n",
              "DA Warner               5254         126.0  ...    41.70       141.54\n",
              "RG Sharma               5230         177.0  ...    29.55       130.62\n",
              "S Dhawan                5197         152.0  ...    34.19       126.88\n",
              "AB de Villiers          4849         114.0  ...    42.54       151.91\n",
              "CH Gayle                4772         116.0  ...    41.14       150.11\n",
              "MS Dhoni                4632         126.0  ...    36.76       136.76\n",
              "RV Uthappa              4607         169.0  ...    27.26       129.99\n",
              "G Gambhir               4217         135.0  ...    31.24       123.88\n",
              "AM Rahane               3933         125.0  ...    31.46       121.39\n",
              "SR Watson               3874         125.0  ...    30.99       137.91\n",
              "KD Karthik              3823         152.0  ...    25.15       129.64\n",
              "AT Rayudu               3659         123.0  ...    29.75       126.09\n",
              "MK Pandey               3268         109.0  ...    29.98       121.67\n",
              "YK Pathan               3204         111.0  ...    28.86       142.97\n",
              "KA Pollard              3023         106.0  ...    28.52       149.88\n",
              "BB McCullum             2880         106.0  ...    27.17       131.75\n",
              "PA Patel                2848         127.0  ...    22.43       120.78\n",
              "Yuvraj Singh            2750         109.0  ...    25.23       129.72\n",
              "\n",
              "[20 rows x 5 columns]"
            ]
          },
          "metadata": {
            "tags": []
          },
          "execution_count": 27
        }
      ]
    },
    {
      "cell_type": "markdown",
      "metadata": {
        "id": "F83Dw4JuzHEQ"
      },
      "source": [
        "***We will consider only those batsman who has scored more than 1000 runs.***"
      ]
    },
    {
      "cell_type": "code",
      "metadata": {
        "colab": {
          "base_uri": "https://localhost:8080/",
          "height": 415
        },
        "id": "sDhn_9Yn77EB",
        "outputId": "0bc880ad-33f6-48cc-850c-df680b764810"
      },
      "source": [
        "df_batsman[df_batsman['batsman_runs']>1000]"
      ],
      "execution_count": 28,
      "outputs": [
        {
          "output_type": "execute_result",
          "data": {
            "text/html": [
              "<div>\n",
              "<style scoped>\n",
              "    .dataframe tbody tr th:only-of-type {\n",
              "        vertical-align: middle;\n",
              "    }\n",
              "\n",
              "    .dataframe tbody tr th {\n",
              "        vertical-align: top;\n",
              "    }\n",
              "\n",
              "    .dataframe thead th {\n",
              "        text-align: right;\n",
              "    }\n",
              "</style>\n",
              "<table border=\"1\" class=\"dataframe\">\n",
              "  <thead>\n",
              "    <tr style=\"text-align: right;\">\n",
              "      <th></th>\n",
              "      <th>batsman_runs</th>\n",
              "      <th>Total No.OUT</th>\n",
              "      <th>Total balls faced</th>\n",
              "      <th>Average</th>\n",
              "      <th>Strike Rate</th>\n",
              "    </tr>\n",
              "  </thead>\n",
              "  <tbody>\n",
              "    <tr>\n",
              "      <th>V Kohli</th>\n",
              "      <td>5878</td>\n",
              "      <td>163.0</td>\n",
              "      <td>4496</td>\n",
              "      <td>36.06</td>\n",
              "      <td>130.74</td>\n",
              "    </tr>\n",
              "    <tr>\n",
              "      <th>SK Raina</th>\n",
              "      <td>5368</td>\n",
              "      <td>160.0</td>\n",
              "      <td>3914</td>\n",
              "      <td>33.55</td>\n",
              "      <td>137.15</td>\n",
              "    </tr>\n",
              "    <tr>\n",
              "      <th>DA Warner</th>\n",
              "      <td>5254</td>\n",
              "      <td>126.0</td>\n",
              "      <td>3712</td>\n",
              "      <td>41.70</td>\n",
              "      <td>141.54</td>\n",
              "    </tr>\n",
              "    <tr>\n",
              "      <th>RG Sharma</th>\n",
              "      <td>5230</td>\n",
              "      <td>177.0</td>\n",
              "      <td>4004</td>\n",
              "      <td>29.55</td>\n",
              "      <td>130.62</td>\n",
              "    </tr>\n",
              "    <tr>\n",
              "      <th>S Dhawan</th>\n",
              "      <td>5197</td>\n",
              "      <td>152.0</td>\n",
              "      <td>4096</td>\n",
              "      <td>34.19</td>\n",
              "      <td>126.88</td>\n",
              "    </tr>\n",
              "    <tr>\n",
              "      <th>...</th>\n",
              "      <td>...</td>\n",
              "      <td>...</td>\n",
              "      <td>...</td>\n",
              "      <td>...</td>\n",
              "      <td>...</td>\n",
              "    </tr>\n",
              "    <tr>\n",
              "      <th>ML Hayden</th>\n",
              "      <td>1107</td>\n",
              "      <td>27.0</td>\n",
              "      <td>805</td>\n",
              "      <td>41.00</td>\n",
              "      <td>137.52</td>\n",
              "    </tr>\n",
              "    <tr>\n",
              "      <th>LMP Simmons</th>\n",
              "      <td>1079</td>\n",
              "      <td>27.0</td>\n",
              "      <td>852</td>\n",
              "      <td>39.96</td>\n",
              "      <td>126.64</td>\n",
              "    </tr>\n",
              "    <tr>\n",
              "      <th>LRPL Taylor</th>\n",
              "      <td>1017</td>\n",
              "      <td>41.0</td>\n",
              "      <td>822</td>\n",
              "      <td>24.80</td>\n",
              "      <td>123.72</td>\n",
              "    </tr>\n",
              "    <tr>\n",
              "      <th>M Vohra</th>\n",
              "      <td>1012</td>\n",
              "      <td>42.0</td>\n",
              "      <td>768</td>\n",
              "      <td>24.10</td>\n",
              "      <td>131.77</td>\n",
              "    </tr>\n",
              "    <tr>\n",
              "      <th>KP Pietersen</th>\n",
              "      <td>1001</td>\n",
              "      <td>29.0</td>\n",
              "      <td>743</td>\n",
              "      <td>34.52</td>\n",
              "      <td>134.72</td>\n",
              "    </tr>\n",
              "  </tbody>\n",
              "</table>\n",
              "<p>72 rows × 5 columns</p>\n",
              "</div>"
            ],
            "text/plain": [
              "              batsman_runs  Total No.OUT  ...  Average  Strike Rate\n",
              "V Kohli               5878         163.0  ...    36.06       130.74\n",
              "SK Raina              5368         160.0  ...    33.55       137.15\n",
              "DA Warner             5254         126.0  ...    41.70       141.54\n",
              "RG Sharma             5230         177.0  ...    29.55       130.62\n",
              "S Dhawan              5197         152.0  ...    34.19       126.88\n",
              "...                    ...           ...  ...      ...          ...\n",
              "ML Hayden             1107          27.0  ...    41.00       137.52\n",
              "LMP Simmons           1079          27.0  ...    39.96       126.64\n",
              "LRPL Taylor           1017          41.0  ...    24.80       123.72\n",
              "M Vohra               1012          42.0  ...    24.10       131.77\n",
              "KP Pietersen          1001          29.0  ...    34.52       134.72\n",
              "\n",
              "[72 rows x 5 columns]"
            ]
          },
          "metadata": {
            "tags": []
          },
          "execution_count": 28
        }
      ]
    },
    {
      "cell_type": "code",
      "metadata": {
        "id": "Wh_GTixm-CGY"
      },
      "source": [
        "df_batsman = df_batsman[df_batsman['batsman_runs']>1000]"
      ],
      "execution_count": 29,
      "outputs": []
    },
    {
      "cell_type": "code",
      "metadata": {
        "id": "LqsH1Ibk0EQM"
      },
      "source": [
        ""
      ],
      "execution_count": null,
      "outputs": []
    },
    {
      "cell_type": "markdown",
      "metadata": {
        "id": "S5wmNtmezmns"
      },
      "source": [
        "**Top 20 batsman according to batting average**"
      ]
    },
    {
      "cell_type": "code",
      "metadata": {
        "colab": {
          "base_uri": "https://localhost:8080/"
        },
        "id": "_2z7Tqa_7ief",
        "outputId": "e5937aca-8eb5-4185-8181-24b59c53c966"
      },
      "source": [
        "df_batsman.sort_values(by='Average', ascending=False).head(20)['Average']"
      ],
      "execution_count": 30,
      "outputs": [
        {
          "output_type": "execute_result",
          "data": {
            "text/plain": [
              "KL Rahul          42.69\n",
              "AB de Villiers    42.54\n",
              "DA Warner         41.70\n",
              "JP Duminy         41.41\n",
              "CH Gayle          41.14\n",
              "ML Hayden         41.00\n",
              "LMP Simmons       39.96\n",
              "KS Williamson     39.49\n",
              "SE Marsh          38.70\n",
              "MEK Hussey        38.02\n",
              "MS Dhoni          36.76\n",
              "V Kohli           36.06\n",
              "JC Buttler        35.71\n",
              "RR Pant           35.24\n",
              "CA Lynn           34.59\n",
              "KP Pietersen      34.52\n",
              "F du Plessis      34.36\n",
              "DA Miller         34.26\n",
              "S Dhawan          34.19\n",
              "SK Raina          33.55\n",
              "Name: Average, dtype: float64"
            ]
          },
          "metadata": {
            "tags": []
          },
          "execution_count": 30
        }
      ]
    },
    {
      "cell_type": "code",
      "metadata": {
        "id": "oA0POdta-89s"
      },
      "source": [
        ""
      ],
      "execution_count": null,
      "outputs": []
    },
    {
      "cell_type": "markdown",
      "metadata": {
        "id": "r4fhazyEz8DT"
      },
      "source": [
        "**Top 20 batsman according to batting strike rate**"
      ]
    },
    {
      "cell_type": "code",
      "metadata": {
        "colab": {
          "base_uri": "https://localhost:8080/"
        },
        "id": "PjEGlDER-40q",
        "outputId": "deaa0791-87d1-4090-cad6-c9488b5c8138"
      },
      "source": [
        "df_batsman.sort_values(by='Strike Rate', ascending=False).head(20)['Strike Rate']"
      ],
      "execution_count": 31,
      "outputs": [
        {
          "output_type": "execute_result",
          "data": {
            "text/plain": [
              "AD Russell        182.33\n",
              "HH Pandya         159.27\n",
              "V Sehwag          155.44\n",
              "GJ Maxwell        154.68\n",
              "RR Pant           151.97\n",
              "AB de Villiers    151.91\n",
              "CH Gayle          150.11\n",
              "KA Pollard        149.88\n",
              "JC Buttler        149.56\n",
              "YK Pathan         142.97\n",
              "DA Warner         141.54\n",
              "CA Lynn           140.66\n",
              "DA Miller         138.78\n",
              "AC Gilchrist      138.39\n",
              "SR Watson         137.91\n",
              "ML Hayden         137.52\n",
              "SK Raina          137.15\n",
              "Ishan Kishan      136.84\n",
              "MS Dhoni          136.76\n",
              "KL Rahul          135.81\n",
              "Name: Strike Rate, dtype: float64"
            ]
          },
          "metadata": {
            "tags": []
          },
          "execution_count": 31
        }
      ]
    },
    {
      "cell_type": "code",
      "metadata": {
        "id": "qQ-SH0qkioKz"
      },
      "source": [
        ""
      ],
      "execution_count": null,
      "outputs": []
    },
    {
      "cell_type": "code",
      "metadata": {
        "id": "5oCo_091iDWf"
      },
      "source": [
        ""
      ],
      "execution_count": null,
      "outputs": []
    },
    {
      "cell_type": "markdown",
      "metadata": {
        "id": "xtQxudwOjZev"
      },
      "source": [
        "**Now, we will calculate batting average and strike rate at 16th to 20th over for finisher.**"
      ]
    },
    {
      "cell_type": "code",
      "metadata": {
        "id": "2FmJV5j8h-7y"
      },
      "source": [
        "df_powerplay = df[df['over']>15]"
      ],
      "execution_count": 32,
      "outputs": []
    },
    {
      "cell_type": "code",
      "metadata": {
        "id": "6xD7ux-9_JVc"
      },
      "source": [
        "df_batsman_run_power = df_powerplay.groupby('batsman').sum().sort_values(by='batsman_runs', ascending=False)['batsman_runs']"
      ],
      "execution_count": 33,
      "outputs": []
    },
    {
      "cell_type": "code",
      "metadata": {
        "id": "JMFi5CDq-zxz"
      },
      "source": [
        "df_balls_faced_power  = df_powerplay[df_powerplay['extras_type']!='wides'].groupby('batsman').count().sort_values(by='batsman_runs', ascending=False)['batsman_runs']"
      ],
      "execution_count": 34,
      "outputs": []
    },
    {
      "cell_type": "code",
      "metadata": {
        "id": "lejNG8B07dF7"
      },
      "source": [
        "df_number_of_out_power = df_powerplay[df_powerplay['is_wicket']==1].groupby('batsman').count().sort_values(by='is_wicket', ascending=False)['is_wicket']"
      ],
      "execution_count": 35,
      "outputs": []
    },
    {
      "cell_type": "code",
      "metadata": {
        "id": "RanVbcs87bg4"
      },
      "source": [
        "df_powerplay_stat = pd.concat([df_batsman_run_power, df_number_of_out_power], axis=1)"
      ],
      "execution_count": 36,
      "outputs": []
    },
    {
      "cell_type": "code",
      "metadata": {
        "id": "RwXS1XUG7WS8"
      },
      "source": [
        "df_powerplay_stat['Total balls faced'] = df_balls_faced_power"
      ],
      "execution_count": 37,
      "outputs": []
    },
    {
      "cell_type": "code",
      "metadata": {
        "id": "o58tmCX97Gl2"
      },
      "source": [
        "df_powerplay_stat['Average'] = round(df_powerplay_stat['batsman_runs']/df_powerplay_stat['is_wicket'], 2)"
      ],
      "execution_count": 41,
      "outputs": []
    },
    {
      "cell_type": "code",
      "metadata": {
        "id": "eGK2_OFo7C9k"
      },
      "source": [
        "df_powerplay_stat['Strike Rate'] = round((df_powerplay_stat['batsman_runs']/df_powerplay_stat['Total balls faced'])*100, 2)"
      ],
      "execution_count": 42,
      "outputs": []
    },
    {
      "cell_type": "code",
      "metadata": {
        "id": "VvhPQdrbxZkw"
      },
      "source": [
        "df_powerplay_stat = df_powerplay_stat[df_powerplay_stat['batsman_runs']>500]"
      ],
      "execution_count": 43,
      "outputs": []
    },
    {
      "cell_type": "markdown",
      "metadata": {
        "id": "WNmsgbjN0b8R"
      },
      "source": [
        "**Top 10 batsman according to average at 16th to 20th over**"
      ]
    },
    {
      "cell_type": "code",
      "metadata": {
        "id": "1u0aimX7xO9R",
        "colab": {
          "base_uri": "https://localhost:8080/"
        },
        "outputId": "31b60a80-125d-403a-8c80-978139c68085"
      },
      "source": [
        "df_powerplay_stat.sort_values(by='Average', ascending=False).head(10)['Average']"
      ],
      "execution_count": 44,
      "outputs": [
        {
          "output_type": "execute_result",
          "data": {
            "text/plain": [
              "AB de Villiers    40.45\n",
              "JP Duminy         33.90\n",
              "MS Dhoni          31.55\n",
              "HH Pandya         28.90\n",
              "SK Raina          28.77\n",
              "DA Miller         28.10\n",
              "V Kohli           26.89\n",
              "YK Pathan         25.24\n",
              "AD Russell        24.63\n",
              "KA Pollard        23.60\n",
              "Name: Average, dtype: float64"
            ]
          },
          "metadata": {
            "tags": []
          },
          "execution_count": 44
        }
      ]
    },
    {
      "cell_type": "markdown",
      "metadata": {
        "id": "BzmXz8iC0oic"
      },
      "source": [
        "**Top 10 batsman according to average at 16th to 20th over**"
      ]
    },
    {
      "cell_type": "code",
      "metadata": {
        "id": "8Gz00x0gxMAf",
        "colab": {
          "base_uri": "https://localhost:8080/"
        },
        "outputId": "e7b0364a-d9c0-4061-e2ab-e6338cd3eaf6"
      },
      "source": [
        "df_powerplay_stat.sort_values(by='Strike Rate', ascending=False).head(10)['Strike Rate']"
      ],
      "execution_count": 45,
      "outputs": [
        {
          "output_type": "execute_result",
          "data": {
            "text/plain": [
              "AB de Villiers    233.09\n",
              "AD Russell        218.03\n",
              "V Kohli           205.52\n",
              "RG Sharma         198.27\n",
              "HH Pandya         192.20\n",
              "MS Dhoni          189.08\n",
              "DA Miller         186.12\n",
              "KA Pollard        185.41\n",
              "DJ Bravo          185.04\n",
              "KD Karthik        182.38\n",
              "Name: Strike Rate, dtype: float64"
            ]
          },
          "metadata": {
            "tags": []
          },
          "execution_count": 45
        }
      ]
    },
    {
      "cell_type": "code",
      "metadata": {
        "id": "AYpiLLlSwnqn"
      },
      "source": [
        ""
      ],
      "execution_count": null,
      "outputs": []
    },
    {
      "cell_type": "markdown",
      "metadata": {
        "id": "x4GVUevQ9cOT"
      },
      "source": [
        "Selection of bowlers will be on the following criteria-\n",
        "1. **Bowling average**\n",
        "2. **Bowling economy**\n",
        "\n",
        "\n",
        "\n",
        "*   **Bowling average = (No. of runs given)/(No. of wickets taken)**\n",
        "\n",
        "*   **Bowling economy = (No. of runs given)/(No. of overs bowled)**\n",
        "\n",
        "\n",
        "\n",
        "\n",
        "In this calculation, we will not consider following dismissal kinds \n",
        "1. **Run out** \n",
        "2. **Retired hurt**\n",
        "3. **Obstructing the field** "
      ]
    },
    {
      "cell_type": "code",
      "metadata": {
        "id": "KRl1pBnMvvfW",
        "colab": {
          "base_uri": "https://localhost:8080/"
        },
        "outputId": "a2b56e0a-36c4-4875-f8ff-ba72931a47ef"
      },
      "source": [
        "df['dismissal_kind'].unique()"
      ],
      "execution_count": 55,
      "outputs": [
        {
          "output_type": "execute_result",
          "data": {
            "text/plain": [
              "array([nan, 'caught', 'run out', 'bowled', 'lbw', 'retired hurt',\n",
              "       'stumped', 'caught and bowled', 'hit wicket',\n",
              "       'obstructing the field'], dtype=object)"
            ]
          },
          "metadata": {
            "tags": []
          },
          "execution_count": 55
        }
      ]
    },
    {
      "cell_type": "code",
      "metadata": {
        "id": "TXDyCas73Xru"
      },
      "source": [
        "df1 = df.copy()\n",
        "df2= df.copy()\n",
        "df3= df.copy()"
      ],
      "execution_count": 112,
      "outputs": []
    },
    {
      "cell_type": "code",
      "metadata": {
        "id": "7cyfcE-G5NiC"
      },
      "source": [
        "df1 = df1[df1['dismissal_kind'].notnull()]"
      ],
      "execution_count": 83,
      "outputs": []
    },
    {
      "cell_type": "code",
      "metadata": {
        "id": "r4tB4wgO7jgW"
      },
      "source": [
        "df1 = df1[df1['dismissal_kind']!='run out']"
      ],
      "execution_count": 87,
      "outputs": []
    },
    {
      "cell_type": "code",
      "metadata": {
        "id": "-Siaaa447JoK"
      },
      "source": [
        "df1 = df1[df1['dismissal_kind']!='retired hurt']"
      ],
      "execution_count": 88,
      "outputs": []
    },
    {
      "cell_type": "code",
      "metadata": {
        "id": "aOqhU1883SEf"
      },
      "source": [
        "df1 = df1[df1['dismissal_kind']!='obstructing the field']"
      ],
      "execution_count": 89,
      "outputs": []
    },
    {
      "cell_type": "code",
      "metadata": {
        "id": "7NADtin-vrwm",
        "colab": {
          "base_uri": "https://localhost:8080/"
        },
        "outputId": "54c27bb1-38fc-45ea-f05f-ae77e64544f3"
      },
      "source": [
        "df1['dismissal_kind'].unique()"
      ],
      "execution_count": 91,
      "outputs": [
        {
          "output_type": "execute_result",
          "data": {
            "text/plain": [
              "array(['caught', 'bowled', 'lbw', 'stumped', 'caught and bowled',\n",
              "       'hit wicket'], dtype=object)"
            ]
          },
          "metadata": {
            "tags": []
          },
          "execution_count": 91
        }
      ]
    },
    {
      "cell_type": "code",
      "metadata": {
        "id": "7OiM_ROo_pnn"
      },
      "source": [
        ""
      ],
      "execution_count": null,
      "outputs": []
    },
    {
      "cell_type": "code",
      "metadata": {
        "id": "D8TGEBs4uyL4"
      },
      "source": [
        "df1_wickets = df1.groupby('bowler').count().sort_values(by='is_wicket', ascending=False)['is_wicket']"
      ],
      "execution_count": 95,
      "outputs": []
    },
    {
      "cell_type": "code",
      "metadata": {
        "id": "iOgDh3wxuenh",
        "colab": {
          "base_uri": "https://localhost:8080/"
        },
        "outputId": "97ec8b5f-a696-47c8-bde4-d5afb6d780e5"
      },
      "source": [
        "df1_wickets.head(15)"
      ],
      "execution_count": 144,
      "outputs": [
        {
          "output_type": "execute_result",
          "data": {
            "text/plain": [
              "bowler\n",
              "SL Malinga         170\n",
              "A Mishra           160\n",
              "PP Chawla          156\n",
              "DJ Bravo           153\n",
              "Harbhajan Singh    150\n",
              "R Ashwin           138\n",
              "B Kumar            136\n",
              "SP Narine          127\n",
              "YS Chahal          121\n",
              "UT Yadav           119\n",
              "RA Jadeja          114\n",
              "Sandeep Sharma     109\n",
              "JJ Bumrah          109\n",
              "A Nehra            106\n",
              "R Vinay Kumar      105\n",
              "Name: is_wicket, dtype: int64"
            ]
          },
          "metadata": {
            "tags": []
          },
          "execution_count": 144
        }
      ]
    },
    {
      "cell_type": "code",
      "metadata": {
        "id": "jMAm7a26AJJ7"
      },
      "source": [
        ""
      ],
      "execution_count": null,
      "outputs": []
    },
    {
      "cell_type": "code",
      "metadata": {
        "id": "nPeyGYFRuU8G",
        "colab": {
          "base_uri": "https://localhost:8080/"
        },
        "outputId": "181cbfdc-d089-4b7c-8939-718b8706ecca"
      },
      "source": [
        "df2['extras_type'].unique()"
      ],
      "execution_count": 102,
      "outputs": [
        {
          "output_type": "execute_result",
          "data": {
            "text/plain": [
              "array([nan, 'byes', 'wides', 'legbyes', 'noballs', 'penalty'],\n",
              "      dtype=object)"
            ]
          },
          "metadata": {
            "tags": []
          },
          "execution_count": 102
        }
      ]
    },
    {
      "cell_type": "code",
      "metadata": {
        "id": "BY86bef5B31j"
      },
      "source": [
        "df2 = df2[df2['extras_type']!='byes']"
      ],
      "execution_count": 104,
      "outputs": []
    },
    {
      "cell_type": "code",
      "metadata": {
        "id": "mKpQNqSkuLCv"
      },
      "source": [
        "df2 = df2[df2['extras_type']!='legbyes']"
      ],
      "execution_count": 105,
      "outputs": []
    },
    {
      "cell_type": "code",
      "metadata": {
        "id": "dmHfg4q9uDsc"
      },
      "source": [
        "df2_total_runs_given = df2.groupby('bowler').sum().sort_values(by='total_runs', ascending=False)['total_runs']"
      ],
      "execution_count": 109,
      "outputs": []
    },
    {
      "cell_type": "code",
      "metadata": {
        "id": "KAeGn_1Ct_rV"
      },
      "source": [
        ""
      ],
      "execution_count": null,
      "outputs": []
    },
    {
      "cell_type": "code",
      "metadata": {
        "id": "HOL4H8Aut7CK"
      },
      "source": [
        "df3 = df3[df3['extras_type']!='wides']"
      ],
      "execution_count": 113,
      "outputs": []
    },
    {
      "cell_type": "code",
      "metadata": {
        "id": "KRoVCTkBt1og"
      },
      "source": [
        "df3 = df3[df3['extras_type']!='noballs']"
      ],
      "execution_count": 114,
      "outputs": []
    },
    {
      "cell_type": "code",
      "metadata": {
        "id": "DQwzktqVtsAy"
      },
      "source": [
        "df3_total_overs = (df3.groupby('bowler').count().sort_values(by='is_wicket', ascending=False)['non_boundary'])/6"
      ],
      "execution_count": 125,
      "outputs": []
    },
    {
      "cell_type": "code",
      "metadata": {
        "id": "Uc__QzVwtfvb"
      },
      "source": [
        ""
      ],
      "execution_count": null,
      "outputs": []
    },
    {
      "cell_type": "code",
      "metadata": {
        "id": "4UDjWgdgtR0G"
      },
      "source": [
        "df_bowler = pd.concat([df1_wickets, df2_total_runs_given, df3_total_overs], axis=1)"
      ],
      "execution_count": 126,
      "outputs": []
    },
    {
      "cell_type": "code",
      "metadata": {
        "id": "v2CGQWenJ1g3"
      },
      "source": [
        "df_bowler.rename(columns={'is_wicket':'No. of Wickets', 'total_runs':'Total runs given', 'non_boundary':'Total overs bowled'}, inplace=True)"
      ],
      "execution_count": 129,
      "outputs": []
    },
    {
      "cell_type": "code",
      "metadata": {
        "colab": {
          "base_uri": "https://localhost:8080/",
          "height": 202
        },
        "id": "uHM6z01fKKqD",
        "outputId": "5bda31d2-3edf-4a4e-a7bb-3082285bc61f"
      },
      "source": [
        "df_bowler.head()"
      ],
      "execution_count": 130,
      "outputs": [
        {
          "output_type": "execute_result",
          "data": {
            "text/html": [
              "<div>\n",
              "<style scoped>\n",
              "    .dataframe tbody tr th:only-of-type {\n",
              "        vertical-align: middle;\n",
              "    }\n",
              "\n",
              "    .dataframe tbody tr th {\n",
              "        vertical-align: top;\n",
              "    }\n",
              "\n",
              "    .dataframe thead th {\n",
              "        text-align: right;\n",
              "    }\n",
              "</style>\n",
              "<table border=\"1\" class=\"dataframe\">\n",
              "  <thead>\n",
              "    <tr style=\"text-align: right;\">\n",
              "      <th></th>\n",
              "      <th>No. of Wickets</th>\n",
              "      <th>Total runs given</th>\n",
              "      <th>Total overs bowled</th>\n",
              "    </tr>\n",
              "  </thead>\n",
              "  <tbody>\n",
              "    <tr>\n",
              "      <th>SL Malinga</th>\n",
              "      <td>170.0</td>\n",
              "      <td>3370</td>\n",
              "      <td>471.333333</td>\n",
              "    </tr>\n",
              "    <tr>\n",
              "      <th>A Mishra</th>\n",
              "      <td>160.0</td>\n",
              "      <td>3867</td>\n",
              "      <td>526.833333</td>\n",
              "    </tr>\n",
              "    <tr>\n",
              "      <th>PP Chawla</th>\n",
              "      <td>156.0</td>\n",
              "      <td>4263</td>\n",
              "      <td>541.666667</td>\n",
              "    </tr>\n",
              "    <tr>\n",
              "      <th>DJ Bravo</th>\n",
              "      <td>153.0</td>\n",
              "      <td>3798</td>\n",
              "      <td>452.000000</td>\n",
              "    </tr>\n",
              "    <tr>\n",
              "      <th>Harbhajan Singh</th>\n",
              "      <td>150.0</td>\n",
              "      <td>3967</td>\n",
              "      <td>562.333333</td>\n",
              "    </tr>\n",
              "  </tbody>\n",
              "</table>\n",
              "</div>"
            ],
            "text/plain": [
              "                 No. of Wickets  Total runs given  Total overs bowled\n",
              "SL Malinga                170.0              3370          471.333333\n",
              "A Mishra                  160.0              3867          526.833333\n",
              "PP Chawla                 156.0              4263          541.666667\n",
              "DJ Bravo                  153.0              3798          452.000000\n",
              "Harbhajan Singh           150.0              3967          562.333333"
            ]
          },
          "metadata": {
            "tags": []
          },
          "execution_count": 130
        }
      ]
    },
    {
      "cell_type": "code",
      "metadata": {
        "id": "Ker2WrUFKswH"
      },
      "source": [
        "df_bowler['Average'] = df_bowler['Total runs given']/df_bowler['No. of Wickets']"
      ],
      "execution_count": 132,
      "outputs": []
    },
    {
      "cell_type": "code",
      "metadata": {
        "id": "Uw0sIkEZqhuF"
      },
      "source": [
        "df_bowler['Economy'] = df_bowler['Total runs given']/df_bowler['Total overs bowled']"
      ],
      "execution_count": 133,
      "outputs": []
    },
    {
      "cell_type": "code",
      "metadata": {
        "id": "-fcBY2edqZO6"
      },
      "source": [
        "df_bowler = df_bowler[df_bowler['No. of Wickets']>70]"
      ],
      "execution_count": 139,
      "outputs": []
    },
    {
      "cell_type": "code",
      "metadata": {
        "colab": {
          "base_uri": "https://localhost:8080/"
        },
        "id": "kujci1OMLvSC",
        "outputId": "dce1aff1-9d39-4a88-dd25-11bd784bd30f"
      },
      "source": [
        "df_bowler.sort_values(by='Average', ascending=True).head(15)['Average']"
      ],
      "execution_count": 142,
      "outputs": [
        {
          "output_type": "execute_result",
          "data": {
            "text/plain": [
              "SL Malinga        19.823529\n",
              "Rashid Khan       20.493333\n",
              "Imran Tahir       21.087500\n",
              "YS Chahal         22.504132\n",
              "MM Patel          22.945946\n",
              "A Nehra           23.537736\n",
              "JJ Bumrah         23.733945\n",
              "B Kumar           23.919118\n",
              "CH Morris         23.987500\n",
              "A Mishra          24.168750\n",
              "Sandeep Sharma    24.275229\n",
              "SP Narine         24.779528\n",
              "DJ Bravo          24.823529\n",
              "MJ McClenaghan    25.394366\n",
              "DW Steyn          25.855670\n",
              "Name: Average, dtype: float64"
            ]
          },
          "metadata": {
            "tags": []
          },
          "execution_count": 142
        }
      ]
    },
    {
      "cell_type": "code",
      "metadata": {
        "id": "vSvBuw92qNTw"
      },
      "source": [
        ""
      ],
      "execution_count": null,
      "outputs": []
    },
    {
      "cell_type": "code",
      "metadata": {
        "id": "wxQiEuUNpS5-",
        "colab": {
          "base_uri": "https://localhost:8080/"
        },
        "outputId": "1d8276ef-dbf6-4921-e6d4-dddcd161baf8"
      },
      "source": [
        "df_bowler.sort_values(by='Economy', ascending=True).head(15)['Economy']"
      ],
      "execution_count": 143,
      "outputs": [
        {
          "output_type": "execute_result",
          "data": {
            "text/plain": [
              "Rashid Khan        6.247967\n",
              "SP Narine          6.779892\n",
              "R Ashwin           6.873065\n",
              "DW Steyn           6.915441\n",
              "Harbhajan Singh    7.054535\n",
              "SL Malinga         7.149929\n",
              "B Kumar            7.236930\n",
              "AR Patel           7.298663\n",
              "A Mishra           7.340082\n",
              "PP Ojha            7.383886\n",
              "R Bhatia           7.408313\n",
              "JJ Bumrah          7.419694\n",
              "MM Patel           7.518819\n",
              "Z Khan             7.587273\n",
              "YS Chahal          7.670423\n",
              "Name: Economy, dtype: float64"
            ]
          },
          "metadata": {
            "tags": []
          },
          "execution_count": 143
        }
      ]
    }
  ]
}