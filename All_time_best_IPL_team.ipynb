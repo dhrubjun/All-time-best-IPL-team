{
  "nbformat": 4,
  "nbformat_minor": 0,
  "metadata": {
    "colab": {
      "name": "All time best IPL team.ipynb",
      "provenance": [],
      "collapsed_sections": [],
      "authorship_tag": "ABX9TyPi6JMDLoA19lsrxfBy0xMn",
      "include_colab_link": true
    },
    "kernelspec": {
      "display_name": "Python 3",
      "name": "python3"
    },
    "language_info": {
      "name": "python"
    }
  },
  "cells": [
    {
      "cell_type": "markdown",
      "metadata": {
        "id": "view-in-github",
        "colab_type": "text"
      },
      "source": [
        "<a href=\"https://colab.research.google.com/github/dhrubjun/All-time-best-IPL-team/blob/main/All_time_best_IPL_team.ipynb\" target=\"_parent\"><img src=\"https://colab.research.google.com/assets/colab-badge.svg\" alt=\"Open In Colab\"/></a>"
      ]
    },
    {
      "cell_type": "code",
      "metadata": {
        "colab": {
          "base_uri": "https://localhost:8080/"
        },
        "id": "bdADmyEulZRr",
        "outputId": "66edcb8d-2fba-4f4c-b33c-d7ce654aa76f"
      },
      "source": [
        "from google.colab import drive\n",
        "drive.mount('/content/drive')"
      ],
      "execution_count": 267,
      "outputs": [
        {
          "output_type": "stream",
          "text": [
            "Drive already mounted at /content/drive; to attempt to forcibly remount, call drive.mount(\"/content/drive\", force_remount=True).\n"
          ],
          "name": "stdout"
        }
      ]
    },
    {
      "cell_type": "markdown",
      "metadata": {
        "id": "XW6cVuD9m1oa"
      },
      "source": [
        "The team team will consists of 12 player (1 extra player). \n",
        "It will have -\n",
        "1. **5 Batsman**\n",
        "2. **1 Wicket keeper batsman**\n",
        "3. **1 all rounder**\n",
        "4. **4 bowlers (2 spinners and 2 pacers)**"
      ]
    },
    {
      "cell_type": "code",
      "metadata": {
        "id": "TS10cRillaOU"
      },
      "source": [
        "import pandas as pd\n",
        "import numpy as np\n",
        "import matplotlib.pyplot as plt\n",
        "import seaborn as sns\n",
        "%matplotlib inline\n",
        "\n",
        "path = \"/content/drive/MyDrive/data/IPL Ball-by-Ball 2008-2020.csv\"\n",
        "df = pd.read_csv(path)\n"
      ],
      "execution_count": 263,
      "outputs": []
    },
    {
      "cell_type": "code",
      "metadata": {
        "colab": {
          "base_uri": "https://localhost:8080/",
          "height": 395
        },
        "id": "uAB0aIQ4l-yR",
        "outputId": "8be7b0f4-1b19-48b5-9939-9fd81770331d"
      },
      "source": [
        "df.head()"
      ],
      "execution_count": null,
      "outputs": [
        {
          "output_type": "execute_result",
          "data": {
            "text/html": [
              "<div>\n",
              "<style scoped>\n",
              "    .dataframe tbody tr th:only-of-type {\n",
              "        vertical-align: middle;\n",
              "    }\n",
              "\n",
              "    .dataframe tbody tr th {\n",
              "        vertical-align: top;\n",
              "    }\n",
              "\n",
              "    .dataframe thead th {\n",
              "        text-align: right;\n",
              "    }\n",
              "</style>\n",
              "<table border=\"1\" class=\"dataframe\">\n",
              "  <thead>\n",
              "    <tr style=\"text-align: right;\">\n",
              "      <th></th>\n",
              "      <th>id</th>\n",
              "      <th>inning</th>\n",
              "      <th>over</th>\n",
              "      <th>ball</th>\n",
              "      <th>batsman</th>\n",
              "      <th>non_striker</th>\n",
              "      <th>bowler</th>\n",
              "      <th>batsman_runs</th>\n",
              "      <th>extra_runs</th>\n",
              "      <th>total_runs</th>\n",
              "      <th>non_boundary</th>\n",
              "      <th>is_wicket</th>\n",
              "      <th>dismissal_kind</th>\n",
              "      <th>player_dismissed</th>\n",
              "      <th>fielder</th>\n",
              "      <th>extras_type</th>\n",
              "      <th>batting_team</th>\n",
              "      <th>bowling_team</th>\n",
              "    </tr>\n",
              "  </thead>\n",
              "  <tbody>\n",
              "    <tr>\n",
              "      <th>0</th>\n",
              "      <td>335982</td>\n",
              "      <td>1</td>\n",
              "      <td>6</td>\n",
              "      <td>5</td>\n",
              "      <td>RT Ponting</td>\n",
              "      <td>BB McCullum</td>\n",
              "      <td>AA Noffke</td>\n",
              "      <td>1</td>\n",
              "      <td>0</td>\n",
              "      <td>1</td>\n",
              "      <td>0</td>\n",
              "      <td>0</td>\n",
              "      <td>NaN</td>\n",
              "      <td>NaN</td>\n",
              "      <td>NaN</td>\n",
              "      <td>NaN</td>\n",
              "      <td>Kolkata Knight Riders</td>\n",
              "      <td>Royal Challengers Bangalore</td>\n",
              "    </tr>\n",
              "    <tr>\n",
              "      <th>1</th>\n",
              "      <td>335982</td>\n",
              "      <td>1</td>\n",
              "      <td>6</td>\n",
              "      <td>6</td>\n",
              "      <td>BB McCullum</td>\n",
              "      <td>RT Ponting</td>\n",
              "      <td>AA Noffke</td>\n",
              "      <td>1</td>\n",
              "      <td>0</td>\n",
              "      <td>1</td>\n",
              "      <td>0</td>\n",
              "      <td>0</td>\n",
              "      <td>NaN</td>\n",
              "      <td>NaN</td>\n",
              "      <td>NaN</td>\n",
              "      <td>NaN</td>\n",
              "      <td>Kolkata Knight Riders</td>\n",
              "      <td>Royal Challengers Bangalore</td>\n",
              "    </tr>\n",
              "    <tr>\n",
              "      <th>2</th>\n",
              "      <td>335982</td>\n",
              "      <td>1</td>\n",
              "      <td>7</td>\n",
              "      <td>1</td>\n",
              "      <td>BB McCullum</td>\n",
              "      <td>RT Ponting</td>\n",
              "      <td>Z Khan</td>\n",
              "      <td>0</td>\n",
              "      <td>0</td>\n",
              "      <td>0</td>\n",
              "      <td>0</td>\n",
              "      <td>0</td>\n",
              "      <td>NaN</td>\n",
              "      <td>NaN</td>\n",
              "      <td>NaN</td>\n",
              "      <td>NaN</td>\n",
              "      <td>Kolkata Knight Riders</td>\n",
              "      <td>Royal Challengers Bangalore</td>\n",
              "    </tr>\n",
              "    <tr>\n",
              "      <th>3</th>\n",
              "      <td>335982</td>\n",
              "      <td>1</td>\n",
              "      <td>7</td>\n",
              "      <td>2</td>\n",
              "      <td>BB McCullum</td>\n",
              "      <td>RT Ponting</td>\n",
              "      <td>Z Khan</td>\n",
              "      <td>1</td>\n",
              "      <td>0</td>\n",
              "      <td>1</td>\n",
              "      <td>0</td>\n",
              "      <td>0</td>\n",
              "      <td>NaN</td>\n",
              "      <td>NaN</td>\n",
              "      <td>NaN</td>\n",
              "      <td>NaN</td>\n",
              "      <td>Kolkata Knight Riders</td>\n",
              "      <td>Royal Challengers Bangalore</td>\n",
              "    </tr>\n",
              "    <tr>\n",
              "      <th>4</th>\n",
              "      <td>335982</td>\n",
              "      <td>1</td>\n",
              "      <td>7</td>\n",
              "      <td>3</td>\n",
              "      <td>RT Ponting</td>\n",
              "      <td>BB McCullum</td>\n",
              "      <td>Z Khan</td>\n",
              "      <td>1</td>\n",
              "      <td>0</td>\n",
              "      <td>1</td>\n",
              "      <td>0</td>\n",
              "      <td>0</td>\n",
              "      <td>NaN</td>\n",
              "      <td>NaN</td>\n",
              "      <td>NaN</td>\n",
              "      <td>NaN</td>\n",
              "      <td>Kolkata Knight Riders</td>\n",
              "      <td>Royal Challengers Bangalore</td>\n",
              "    </tr>\n",
              "  </tbody>\n",
              "</table>\n",
              "</div>"
            ],
            "text/plain": [
              "       id  inning  ...           batting_team                 bowling_team\n",
              "0  335982       1  ...  Kolkata Knight Riders  Royal Challengers Bangalore\n",
              "1  335982       1  ...  Kolkata Knight Riders  Royal Challengers Bangalore\n",
              "2  335982       1  ...  Kolkata Knight Riders  Royal Challengers Bangalore\n",
              "3  335982       1  ...  Kolkata Knight Riders  Royal Challengers Bangalore\n",
              "4  335982       1  ...  Kolkata Knight Riders  Royal Challengers Bangalore\n",
              "\n",
              "[5 rows x 18 columns]"
            ]
          },
          "metadata": {
            "tags": []
          },
          "execution_count": 262
        }
      ]
    },
    {
      "cell_type": "markdown",
      "metadata": {
        "id": "UOAGv3CTnbGV"
      },
      "source": [
        "Selection of batsman will be on following criteria-\n",
        "1. **Batting Avg.**\n",
        "2. **Strike Rate**\n",
        "3. **Batting average and strike rate at 16th to 20th Over for finisher** \n",
        "\n",
        "\n",
        "\n"
      ]
    },
    {
      "cell_type": "markdown",
      "metadata": {
        "id": "wpPF07bMxQ99"
      },
      "source": [
        "\n",
        "\n",
        "1.   **Batting Average = (Total runs)/(No. of OUT)** \n",
        "\n",
        "2.   **Strike Rate = (Total runs)/(Total no. of balls faced)**\n",
        "\n"
      ]
    },
    {
      "cell_type": "markdown",
      "metadata": {
        "id": "AV9PMdWCdpG2"
      },
      "source": [
        "# Calculation of total number of runs for each batsman\n",
        "\n",
        "\n",
        "\n",
        "\n",
        "\n",
        "\n",
        "\n",
        "\n",
        "\n",
        "\n",
        "\n",
        "\n",
        "\n",
        "\n",
        "\n"
      ]
    },
    {
      "cell_type": "code",
      "metadata": {
        "id": "RaM42RS0nl5I"
      },
      "source": [
        "df_total_run = df.groupby('batsman').sum().sort_values(by='batsman_runs', ascending=False)['batsman_runs']"
      ],
      "execution_count": null,
      "outputs": []
    },
    {
      "cell_type": "code",
      "metadata": {
        "colab": {
          "base_uri": "https://localhost:8080/"
        },
        "id": "aWOmTKc8dtjQ",
        "outputId": "a1530789-df17-4863-d5f6-94840c2b3a61"
      },
      "source": [
        "df_total_run.head(10)"
      ],
      "execution_count": null,
      "outputs": [
        {
          "output_type": "execute_result",
          "data": {
            "text/plain": [
              "batsman\n",
              "V Kohli           5878\n",
              "SK Raina          5368\n",
              "DA Warner         5254\n",
              "RG Sharma         5230\n",
              "S Dhawan          5197\n",
              "AB de Villiers    4849\n",
              "CH Gayle          4772\n",
              "MS Dhoni          4632\n",
              "RV Uthappa        4607\n",
              "G Gambhir         4217\n",
              "Name: batsman_runs, dtype: int64"
            ]
          },
          "metadata": {
            "tags": []
          },
          "execution_count": 48
        }
      ]
    },
    {
      "cell_type": "markdown",
      "metadata": {
        "id": "Cbxnjn_fsJ7Z"
      },
      "source": [
        "# Calculation of total number of balls faced by batsman.\n",
        "\n",
        "***In calculating total number of balls faced, we will not consider wide balls. ***"
      ]
    },
    {
      "cell_type": "code",
      "metadata": {
        "id": "4hSt1DuIrf_7"
      },
      "source": [
        "df_total_ball_faced = df[df['extras_type']!='wides'].groupby('batsman').count().sort_values(by='batsman_runs', ascending=False)['batsman_runs']"
      ],
      "execution_count": null,
      "outputs": []
    },
    {
      "cell_type": "markdown",
      "metadata": {
        "id": "XqEFpARezw-M"
      },
      "source": [
        "# Calculation of total number of OUTs"
      ]
    },
    {
      "cell_type": "code",
      "metadata": {
        "id": "ajVrkNX_rLZP"
      },
      "source": [
        "total_out = df[df['is_wicket']==1].groupby('batsman').count().sort_values(by='is_wicket', ascending=False)['is_wicket']"
      ],
      "execution_count": null,
      "outputs": []
    },
    {
      "cell_type": "markdown",
      "metadata": {
        "id": "Lg3nqpl5z9KJ"
      },
      "source": [
        "# **Creating final dataframe for batsman**"
      ]
    },
    {
      "cell_type": "code",
      "metadata": {
        "id": "PhQOBZy3zS3k"
      },
      "source": [
        "df_batsman = pd.concat([df_total_run,total_out], axis=1)"
      ],
      "execution_count": null,
      "outputs": []
    },
    {
      "cell_type": "code",
      "metadata": {
        "id": "P9QCBDJB5BhI"
      },
      "source": [
        "df_batsman['Total balls faced'] = df_total_ball_faced"
      ],
      "execution_count": null,
      "outputs": []
    },
    {
      "cell_type": "code",
      "metadata": {
        "id": "VN0XGCOE5QgC"
      },
      "source": [
        "df_batsman.rename(columns={'batsman_run':'Total Run', 'is_wicket':'Total No.OUT', 'Toatal balls faced':'Total balls faced' }, inplace=True)"
      ],
      "execution_count": null,
      "outputs": []
    },
    {
      "cell_type": "markdown",
      "metadata": {
        "id": "n5JfMkyW5HSf"
      },
      "source": [
        "**Calculation of batting average**"
      ]
    },
    {
      "cell_type": "code",
      "metadata": {
        "id": "MEZUt1j15CUG"
      },
      "source": [
        "df_batsman['Batting Average'] = round(df_batsman['batsman_runs']/df_batsman['Total No.OUT'], 2)"
      ],
      "execution_count": 264,
      "outputs": []
    },
    {
      "cell_type": "markdown",
      "metadata": {
        "id": "YVnK-Ujp5XYQ"
      },
      "source": [
        "**Calculation of batting strike rate**"
      ]
    },
    {
      "cell_type": "code",
      "metadata": {
        "id": "pgy8YAfS6c30"
      },
      "source": [
        "df_batsman['Batting Strike Rate'] = round((df_batsman['batsman_runs']/df_batsman['Total balls faced'])* 100 , 2)"
      ],
      "execution_count": 266,
      "outputs": []
    },
    {
      "cell_type": "code",
      "metadata": {
        "id": "tQ5ivyJLy4z4"
      },
      "source": [
        "df_batsman.drop(columns=['Average', 'Strike Rate', 'Points'], inplace=True)"
      ],
      "execution_count": 271,
      "outputs": []
    },
    {
      "cell_type": "markdown",
      "metadata": {
        "id": "F83Dw4JuzHEQ"
      },
      "source": [
        "***We will consider only those batsman who has scored more than 1000 runs.***"
      ]
    },
    {
      "cell_type": "code",
      "metadata": {
        "id": "Wh_GTixm-CGY"
      },
      "source": [
        "df_batsman = df_batsman[df_batsman['batsman_runs']>1000]"
      ],
      "execution_count": 272,
      "outputs": []
    },
    {
      "cell_type": "markdown",
      "metadata": {
        "id": "3AA-ymIP694Z"
      },
      "source": [
        "We will "
      ]
    },
    {
      "cell_type": "code",
      "metadata": {
        "id": "LqsH1Ibk0EQM"
      },
      "source": [
        "df_batsman['Points'] = (df_batsman['Batting Average']*0.7)+(df_batsman['Batting Strike Rate']*0.3)"
      ],
      "execution_count": 274,
      "outputs": []
    },
    {
      "cell_type": "code",
      "metadata": {
        "colab": {
          "base_uri": "https://localhost:8080/",
          "height": 509
        },
        "id": "QbUkLRTfh2IY",
        "outputId": "c06a6b59-8e18-4424-b32f-8480edea8321"
      },
      "source": [
        "df_batsman.sort_values(by='Points', ascending=False).head(15)"
      ],
      "execution_count": 275,
      "outputs": [
        {
          "output_type": "execute_result",
          "data": {
            "text/html": [
              "<div>\n",
              "<style scoped>\n",
              "    .dataframe tbody tr th:only-of-type {\n",
              "        vertical-align: middle;\n",
              "    }\n",
              "\n",
              "    .dataframe tbody tr th {\n",
              "        vertical-align: top;\n",
              "    }\n",
              "\n",
              "    .dataframe thead th {\n",
              "        text-align: right;\n",
              "    }\n",
              "</style>\n",
              "<table border=\"1\" class=\"dataframe\">\n",
              "  <thead>\n",
              "    <tr style=\"text-align: right;\">\n",
              "      <th></th>\n",
              "      <th>batsman_runs</th>\n",
              "      <th>Total No.OUT</th>\n",
              "      <th>Total balls faced</th>\n",
              "      <th>Batting Average</th>\n",
              "      <th>Batting Strike Rate</th>\n",
              "      <th>Points</th>\n",
              "    </tr>\n",
              "  </thead>\n",
              "  <tbody>\n",
              "    <tr>\n",
              "      <th>AD Russell</th>\n",
              "      <td>1517</td>\n",
              "      <td>50.0</td>\n",
              "      <td>832</td>\n",
              "      <td>30.34</td>\n",
              "      <td>182.33</td>\n",
              "      <td>75.937</td>\n",
              "    </tr>\n",
              "    <tr>\n",
              "      <th>AB de Villiers</th>\n",
              "      <td>4849</td>\n",
              "      <td>114.0</td>\n",
              "      <td>3192</td>\n",
              "      <td>42.54</td>\n",
              "      <td>151.91</td>\n",
              "      <td>75.351</td>\n",
              "    </tr>\n",
              "    <tr>\n",
              "      <th>CH Gayle</th>\n",
              "      <td>4772</td>\n",
              "      <td>116.0</td>\n",
              "      <td>3179</td>\n",
              "      <td>41.14</td>\n",
              "      <td>150.11</td>\n",
              "      <td>73.831</td>\n",
              "    </tr>\n",
              "    <tr>\n",
              "      <th>DA Warner</th>\n",
              "      <td>5254</td>\n",
              "      <td>126.0</td>\n",
              "      <td>3712</td>\n",
              "      <td>41.70</td>\n",
              "      <td>141.54</td>\n",
              "      <td>71.652</td>\n",
              "    </tr>\n",
              "    <tr>\n",
              "      <th>KL Rahul</th>\n",
              "      <td>2647</td>\n",
              "      <td>62.0</td>\n",
              "      <td>1949</td>\n",
              "      <td>42.69</td>\n",
              "      <td>135.81</td>\n",
              "      <td>70.626</td>\n",
              "    </tr>\n",
              "    <tr>\n",
              "      <th>RR Pant</th>\n",
              "      <td>2079</td>\n",
              "      <td>59.0</td>\n",
              "      <td>1368</td>\n",
              "      <td>35.24</td>\n",
              "      <td>151.97</td>\n",
              "      <td>70.259</td>\n",
              "    </tr>\n",
              "    <tr>\n",
              "      <th>ML Hayden</th>\n",
              "      <td>1107</td>\n",
              "      <td>27.0</td>\n",
              "      <td>805</td>\n",
              "      <td>41.00</td>\n",
              "      <td>137.52</td>\n",
              "      <td>69.956</td>\n",
              "    </tr>\n",
              "    <tr>\n",
              "      <th>JC Buttler</th>\n",
              "      <td>1714</td>\n",
              "      <td>48.0</td>\n",
              "      <td>1146</td>\n",
              "      <td>35.71</td>\n",
              "      <td>149.56</td>\n",
              "      <td>69.865</td>\n",
              "    </tr>\n",
              "    <tr>\n",
              "      <th>KS Williamson</th>\n",
              "      <td>1619</td>\n",
              "      <td>41.0</td>\n",
              "      <td>1201</td>\n",
              "      <td>39.49</td>\n",
              "      <td>134.80</td>\n",
              "      <td>68.083</td>\n",
              "    </tr>\n",
              "    <tr>\n",
              "      <th>HH Pandya</th>\n",
              "      <td>1349</td>\n",
              "      <td>47.0</td>\n",
              "      <td>847</td>\n",
              "      <td>28.70</td>\n",
              "      <td>159.27</td>\n",
              "      <td>67.871</td>\n",
              "    </tr>\n",
              "    <tr>\n",
              "      <th>SE Marsh</th>\n",
              "      <td>2477</td>\n",
              "      <td>64.0</td>\n",
              "      <td>1866</td>\n",
              "      <td>38.70</td>\n",
              "      <td>132.74</td>\n",
              "      <td>66.912</td>\n",
              "    </tr>\n",
              "    <tr>\n",
              "      <th>MS Dhoni</th>\n",
              "      <td>4632</td>\n",
              "      <td>126.0</td>\n",
              "      <td>3387</td>\n",
              "      <td>36.76</td>\n",
              "      <td>136.76</td>\n",
              "      <td>66.760</td>\n",
              "    </tr>\n",
              "    <tr>\n",
              "      <th>CA Lynn</th>\n",
              "      <td>1280</td>\n",
              "      <td>37.0</td>\n",
              "      <td>910</td>\n",
              "      <td>34.59</td>\n",
              "      <td>140.66</td>\n",
              "      <td>66.411</td>\n",
              "    </tr>\n",
              "    <tr>\n",
              "      <th>JP Duminy</th>\n",
              "      <td>2029</td>\n",
              "      <td>49.0</td>\n",
              "      <td>1636</td>\n",
              "      <td>41.41</td>\n",
              "      <td>124.02</td>\n",
              "      <td>66.193</td>\n",
              "    </tr>\n",
              "    <tr>\n",
              "      <th>V Sehwag</th>\n",
              "      <td>2728</td>\n",
              "      <td>98.0</td>\n",
              "      <td>1755</td>\n",
              "      <td>27.84</td>\n",
              "      <td>155.44</td>\n",
              "      <td>66.120</td>\n",
              "    </tr>\n",
              "  </tbody>\n",
              "</table>\n",
              "</div>"
            ],
            "text/plain": [
              "                batsman_runs  Total No.OUT  ...  Batting Strike Rate  Points\n",
              "AD Russell              1517          50.0  ...               182.33  75.937\n",
              "AB de Villiers          4849         114.0  ...               151.91  75.351\n",
              "CH Gayle                4772         116.0  ...               150.11  73.831\n",
              "DA Warner               5254         126.0  ...               141.54  71.652\n",
              "KL Rahul                2647          62.0  ...               135.81  70.626\n",
              "RR Pant                 2079          59.0  ...               151.97  70.259\n",
              "ML Hayden               1107          27.0  ...               137.52  69.956\n",
              "JC Buttler              1714          48.0  ...               149.56  69.865\n",
              "KS Williamson           1619          41.0  ...               134.80  68.083\n",
              "HH Pandya               1349          47.0  ...               159.27  67.871\n",
              "SE Marsh                2477          64.0  ...               132.74  66.912\n",
              "MS Dhoni                4632         126.0  ...               136.76  66.760\n",
              "CA Lynn                 1280          37.0  ...               140.66  66.411\n",
              "JP Duminy               2029          49.0  ...               124.02  66.193\n",
              "V Sehwag                2728          98.0  ...               155.44  66.120\n",
              "\n",
              "[15 rows x 6 columns]"
            ]
          },
          "metadata": {
            "tags": []
          },
          "execution_count": 275
        }
      ]
    },
    {
      "cell_type": "markdown",
      "metadata": {
        "id": "S5wmNtmezmns"
      },
      "source": [
        "**Top 20 batsman according to batting average**"
      ]
    },
    {
      "cell_type": "code",
      "metadata": {
        "colab": {
          "base_uri": "https://localhost:8080/"
        },
        "id": "_2z7Tqa_7ief",
        "outputId": "e5937aca-8eb5-4185-8181-24b59c53c966"
      },
      "source": [
        "df_batsman.sort_values(by='Average', ascending=False).head(20)['Average']"
      ],
      "execution_count": null,
      "outputs": [
        {
          "output_type": "execute_result",
          "data": {
            "text/plain": [
              "KL Rahul          42.69\n",
              "AB de Villiers    42.54\n",
              "DA Warner         41.70\n",
              "JP Duminy         41.41\n",
              "CH Gayle          41.14\n",
              "ML Hayden         41.00\n",
              "LMP Simmons       39.96\n",
              "KS Williamson     39.49\n",
              "SE Marsh          38.70\n",
              "MEK Hussey        38.02\n",
              "MS Dhoni          36.76\n",
              "V Kohli           36.06\n",
              "JC Buttler        35.71\n",
              "RR Pant           35.24\n",
              "CA Lynn           34.59\n",
              "KP Pietersen      34.52\n",
              "F du Plessis      34.36\n",
              "DA Miller         34.26\n",
              "S Dhawan          34.19\n",
              "SK Raina          33.55\n",
              "Name: Average, dtype: float64"
            ]
          },
          "metadata": {
            "tags": []
          },
          "execution_count": 30
        }
      ]
    },
    {
      "cell_type": "code",
      "metadata": {
        "id": "oA0POdta-89s"
      },
      "source": [
        ""
      ],
      "execution_count": null,
      "outputs": []
    },
    {
      "cell_type": "markdown",
      "metadata": {
        "id": "r4fhazyEz8DT"
      },
      "source": [
        "**Top 20 batsman according to batting strike rate**"
      ]
    },
    {
      "cell_type": "code",
      "metadata": {
        "colab": {
          "base_uri": "https://localhost:8080/"
        },
        "id": "PjEGlDER-40q",
        "outputId": "deaa0791-87d1-4090-cad6-c9488b5c8138"
      },
      "source": [
        "df_batsman.sort_values(by='Strike Rate', ascending=False).head(20)['Strike Rate']"
      ],
      "execution_count": null,
      "outputs": [
        {
          "output_type": "execute_result",
          "data": {
            "text/plain": [
              "AD Russell        182.33\n",
              "HH Pandya         159.27\n",
              "V Sehwag          155.44\n",
              "GJ Maxwell        154.68\n",
              "RR Pant           151.97\n",
              "AB de Villiers    151.91\n",
              "CH Gayle          150.11\n",
              "KA Pollard        149.88\n",
              "JC Buttler        149.56\n",
              "YK Pathan         142.97\n",
              "DA Warner         141.54\n",
              "CA Lynn           140.66\n",
              "DA Miller         138.78\n",
              "AC Gilchrist      138.39\n",
              "SR Watson         137.91\n",
              "ML Hayden         137.52\n",
              "SK Raina          137.15\n",
              "Ishan Kishan      136.84\n",
              "MS Dhoni          136.76\n",
              "KL Rahul          135.81\n",
              "Name: Strike Rate, dtype: float64"
            ]
          },
          "metadata": {
            "tags": []
          },
          "execution_count": 31
        }
      ]
    },
    {
      "cell_type": "code",
      "metadata": {
        "id": "qQ-SH0qkioKz"
      },
      "source": [
        ""
      ],
      "execution_count": null,
      "outputs": []
    },
    {
      "cell_type": "code",
      "metadata": {
        "id": "5oCo_091iDWf"
      },
      "source": [
        ""
      ],
      "execution_count": null,
      "outputs": []
    },
    {
      "cell_type": "markdown",
      "metadata": {
        "id": "xtQxudwOjZev"
      },
      "source": [
        "# Calculation of  batting average and strike rate when the batsman is batting at death overs (16th to 20th Over)"
      ]
    },
    {
      "cell_type": "code",
      "metadata": {
        "id": "2FmJV5j8h-7y"
      },
      "source": [
        "df_death = df[df['over']>15]"
      ],
      "execution_count": 276,
      "outputs": []
    },
    {
      "cell_type": "code",
      "metadata": {
        "id": "6xD7ux-9_JVc"
      },
      "source": [
        "df_batsman_run_death = df_death.groupby('batsman').sum().sort_values(by='batsman_runs', ascending=False)['batsman_runs']"
      ],
      "execution_count": 277,
      "outputs": []
    },
    {
      "cell_type": "code",
      "metadata": {
        "id": "JMFi5CDq-zxz"
      },
      "source": [
        "df_balls_faced_death  = df_death[df_death['extras_type']!='wides'].groupby('batsman').count().sort_values(by='batsman_runs', ascending=False)['batsman_runs']"
      ],
      "execution_count": 278,
      "outputs": []
    },
    {
      "cell_type": "code",
      "metadata": {
        "id": "lejNG8B07dF7"
      },
      "source": [
        "df_number_of_out_death = df_death[df_death['is_wicket']==1].groupby('batsman').count().sort_values(by='is_wicket', ascending=False)['is_wicket']"
      ],
      "execution_count": 279,
      "outputs": []
    },
    {
      "cell_type": "code",
      "metadata": {
        "id": "RanVbcs87bg4"
      },
      "source": [
        "df_death_stat = pd.concat([df_batsman_run_death, df_number_of_out_death], axis=1)"
      ],
      "execution_count": 280,
      "outputs": []
    },
    {
      "cell_type": "code",
      "metadata": {
        "id": "RwXS1XUG7WS8"
      },
      "source": [
        "df_death_stat['Total balls faced'] = df_balls_faced_death"
      ],
      "execution_count": 281,
      "outputs": []
    },
    {
      "cell_type": "code",
      "metadata": {
        "id": "o58tmCX97Gl2"
      },
      "source": [
        "df_death_stat['Average'] = round(df_death_stat['batsman_runs']/df_death_stat['is_wicket'], 2)"
      ],
      "execution_count": 283,
      "outputs": []
    },
    {
      "cell_type": "code",
      "metadata": {
        "id": "eGK2_OFo7C9k"
      },
      "source": [
        "df_death_stat['Strike Rate'] = round((df_death_stat['batsman_runs']/df_death_stat['Total balls faced'])*100, 2)"
      ],
      "execution_count": 284,
      "outputs": []
    },
    {
      "cell_type": "code",
      "metadata": {
        "id": "VvhPQdrbxZkw"
      },
      "source": [
        "df_death_stat = df_death_stat[df_death_stat['batsman_runs']>500]"
      ],
      "execution_count": 285,
      "outputs": []
    },
    {
      "cell_type": "markdown",
      "metadata": {
        "id": "WNmsgbjN0b8R"
      },
      "source": [
        "**Top 10 batsman according to average at 16th to 20th over**"
      ]
    },
    {
      "cell_type": "code",
      "metadata": {
        "id": "1u0aimX7xO9R",
        "colab": {
          "base_uri": "https://localhost:8080/"
        },
        "outputId": "48140c82-7cb2-4c94-a6f6-8e34f75187c3"
      },
      "source": [
        "df_death_stat.sort_values(by='Average', ascending=False).head(10)['Average']"
      ],
      "execution_count": 286,
      "outputs": [
        {
          "output_type": "execute_result",
          "data": {
            "text/plain": [
              "AB de Villiers    40.45\n",
              "JP Duminy         33.90\n",
              "MS Dhoni          31.55\n",
              "HH Pandya         28.90\n",
              "SK Raina          28.77\n",
              "DA Miller         28.10\n",
              "V Kohli           26.89\n",
              "YK Pathan         25.24\n",
              "AD Russell        24.63\n",
              "KA Pollard        23.60\n",
              "Name: Average, dtype: float64"
            ]
          },
          "metadata": {
            "tags": []
          },
          "execution_count": 286
        }
      ]
    },
    {
      "cell_type": "markdown",
      "metadata": {
        "id": "BzmXz8iC0oic"
      },
      "source": [
        "**Top 10 batsman according to average at 16th to 20th over**"
      ]
    },
    {
      "cell_type": "code",
      "metadata": {
        "id": "8Gz00x0gxMAf",
        "colab": {
          "base_uri": "https://localhost:8080/"
        },
        "outputId": "8cd0e961-13af-440f-cf46-1848b011fe1b"
      },
      "source": [
        "df_death_stat.sort_values(by='Strike Rate', ascending=False).head(10)['Strike Rate']"
      ],
      "execution_count": 287,
      "outputs": [
        {
          "output_type": "execute_result",
          "data": {
            "text/plain": [
              "AB de Villiers    233.09\n",
              "AD Russell        218.03\n",
              "V Kohli           205.52\n",
              "RG Sharma         198.27\n",
              "HH Pandya         192.20\n",
              "MS Dhoni          189.08\n",
              "DA Miller         186.12\n",
              "KA Pollard        185.41\n",
              "DJ Bravo          185.04\n",
              "KD Karthik        182.38\n",
              "Name: Strike Rate, dtype: float64"
            ]
          },
          "metadata": {
            "tags": []
          },
          "execution_count": 287
        }
      ]
    },
    {
      "cell_type": "code",
      "metadata": {
        "id": "AYpiLLlSwnqn",
        "colab": {
          "base_uri": "https://localhost:8080/",
          "height": 202
        },
        "outputId": "c97dfbbc-ae85-45ee-9c2c-cb01a9cdf51c"
      },
      "source": [
        "df_death_stat.head()"
      ],
      "execution_count": 288,
      "outputs": [
        {
          "output_type": "execute_result",
          "data": {
            "text/html": [
              "<div>\n",
              "<style scoped>\n",
              "    .dataframe tbody tr th:only-of-type {\n",
              "        vertical-align: middle;\n",
              "    }\n",
              "\n",
              "    .dataframe tbody tr th {\n",
              "        vertical-align: top;\n",
              "    }\n",
              "\n",
              "    .dataframe thead th {\n",
              "        text-align: right;\n",
              "    }\n",
              "</style>\n",
              "<table border=\"1\" class=\"dataframe\">\n",
              "  <thead>\n",
              "    <tr style=\"text-align: right;\">\n",
              "      <th></th>\n",
              "      <th>batsman_runs</th>\n",
              "      <th>is_wicket</th>\n",
              "      <th>Total balls faced</th>\n",
              "      <th>Average</th>\n",
              "      <th>Strike Rate</th>\n",
              "    </tr>\n",
              "  </thead>\n",
              "  <tbody>\n",
              "    <tr>\n",
              "      <th>MS Dhoni</th>\n",
              "      <td>2303</td>\n",
              "      <td>73.0</td>\n",
              "      <td>1218</td>\n",
              "      <td>31.55</td>\n",
              "      <td>189.08</td>\n",
              "    </tr>\n",
              "    <tr>\n",
              "      <th>KA Pollard</th>\n",
              "      <td>1487</td>\n",
              "      <td>63.0</td>\n",
              "      <td>802</td>\n",
              "      <td>23.60</td>\n",
              "      <td>185.41</td>\n",
              "    </tr>\n",
              "    <tr>\n",
              "      <th>AB de Villiers</th>\n",
              "      <td>1254</td>\n",
              "      <td>31.0</td>\n",
              "      <td>538</td>\n",
              "      <td>40.45</td>\n",
              "      <td>233.09</td>\n",
              "    </tr>\n",
              "    <tr>\n",
              "      <th>RG Sharma</th>\n",
              "      <td>1144</td>\n",
              "      <td>49.0</td>\n",
              "      <td>577</td>\n",
              "      <td>23.35</td>\n",
              "      <td>198.27</td>\n",
              "    </tr>\n",
              "    <tr>\n",
              "      <th>V Kohli</th>\n",
              "      <td>968</td>\n",
              "      <td>36.0</td>\n",
              "      <td>471</td>\n",
              "      <td>26.89</td>\n",
              "      <td>205.52</td>\n",
              "    </tr>\n",
              "  </tbody>\n",
              "</table>\n",
              "</div>"
            ],
            "text/plain": [
              "                batsman_runs  is_wicket  ...  Average  Strike Rate\n",
              "MS Dhoni                2303       73.0  ...    31.55       189.08\n",
              "KA Pollard              1487       63.0  ...    23.60       185.41\n",
              "AB de Villiers          1254       31.0  ...    40.45       233.09\n",
              "RG Sharma               1144       49.0  ...    23.35       198.27\n",
              "V Kohli                  968       36.0  ...    26.89       205.52\n",
              "\n",
              "[5 rows x 5 columns]"
            ]
          },
          "metadata": {
            "tags": []
          },
          "execution_count": 288
        }
      ]
    },
    {
      "cell_type": "code",
      "metadata": {
        "id": "LpGfXvwHkv1I"
      },
      "source": [
        "df_death_stat['Points'] = (df_death_stat['Average']*0.7)+(df_death_stat['Strike Rate']*0.3)"
      ],
      "execution_count": 289,
      "outputs": []
    },
    {
      "cell_type": "code",
      "metadata": {
        "colab": {
          "base_uri": "https://localhost:8080/",
          "height": 355
        },
        "id": "3Cv_yRuklH_m",
        "outputId": "739efd3f-544b-46bf-f2d9-8ceaff2af702"
      },
      "source": [
        "df_death_stat.sort_values(by='Points', ascending=False).head(10)"
      ],
      "execution_count": 330,
      "outputs": [
        {
          "output_type": "execute_result",
          "data": {
            "text/html": [
              "<div>\n",
              "<style scoped>\n",
              "    .dataframe tbody tr th:only-of-type {\n",
              "        vertical-align: middle;\n",
              "    }\n",
              "\n",
              "    .dataframe tbody tr th {\n",
              "        vertical-align: top;\n",
              "    }\n",
              "\n",
              "    .dataframe thead th {\n",
              "        text-align: right;\n",
              "    }\n",
              "</style>\n",
              "<table border=\"1\" class=\"dataframe\">\n",
              "  <thead>\n",
              "    <tr style=\"text-align: right;\">\n",
              "      <th></th>\n",
              "      <th>batsman_runs</th>\n",
              "      <th>is_wicket</th>\n",
              "      <th>Total balls faced</th>\n",
              "      <th>Average</th>\n",
              "      <th>Strike Rate</th>\n",
              "      <th>Points</th>\n",
              "    </tr>\n",
              "  </thead>\n",
              "  <tbody>\n",
              "    <tr>\n",
              "      <th>AB de Villiers</th>\n",
              "      <td>1254</td>\n",
              "      <td>31.0</td>\n",
              "      <td>538</td>\n",
              "      <td>40.45</td>\n",
              "      <td>233.09</td>\n",
              "      <td>98.242</td>\n",
              "    </tr>\n",
              "    <tr>\n",
              "      <th>AD Russell</th>\n",
              "      <td>665</td>\n",
              "      <td>27.0</td>\n",
              "      <td>305</td>\n",
              "      <td>24.63</td>\n",
              "      <td>218.03</td>\n",
              "      <td>82.650</td>\n",
              "    </tr>\n",
              "    <tr>\n",
              "      <th>V Kohli</th>\n",
              "      <td>968</td>\n",
              "      <td>36.0</td>\n",
              "      <td>471</td>\n",
              "      <td>26.89</td>\n",
              "      <td>205.52</td>\n",
              "      <td>80.479</td>\n",
              "    </tr>\n",
              "    <tr>\n",
              "      <th>MS Dhoni</th>\n",
              "      <td>2303</td>\n",
              "      <td>73.0</td>\n",
              "      <td>1218</td>\n",
              "      <td>31.55</td>\n",
              "      <td>189.08</td>\n",
              "      <td>78.809</td>\n",
              "    </tr>\n",
              "    <tr>\n",
              "      <th>HH Pandya</th>\n",
              "      <td>838</td>\n",
              "      <td>29.0</td>\n",
              "      <td>436</td>\n",
              "      <td>28.90</td>\n",
              "      <td>192.20</td>\n",
              "      <td>77.890</td>\n",
              "    </tr>\n",
              "    <tr>\n",
              "      <th>JP Duminy</th>\n",
              "      <td>712</td>\n",
              "      <td>21.0</td>\n",
              "      <td>395</td>\n",
              "      <td>33.90</td>\n",
              "      <td>180.25</td>\n",
              "      <td>77.805</td>\n",
              "    </tr>\n",
              "    <tr>\n",
              "      <th>RG Sharma</th>\n",
              "      <td>1144</td>\n",
              "      <td>49.0</td>\n",
              "      <td>577</td>\n",
              "      <td>23.35</td>\n",
              "      <td>198.27</td>\n",
              "      <td>75.826</td>\n",
              "    </tr>\n",
              "    <tr>\n",
              "      <th>DA Miller</th>\n",
              "      <td>590</td>\n",
              "      <td>21.0</td>\n",
              "      <td>317</td>\n",
              "      <td>28.10</td>\n",
              "      <td>186.12</td>\n",
              "      <td>75.506</td>\n",
              "    </tr>\n",
              "    <tr>\n",
              "      <th>KA Pollard</th>\n",
              "      <td>1487</td>\n",
              "      <td>63.0</td>\n",
              "      <td>802</td>\n",
              "      <td>23.60</td>\n",
              "      <td>185.41</td>\n",
              "      <td>72.143</td>\n",
              "    </tr>\n",
              "    <tr>\n",
              "      <th>DJ Bravo</th>\n",
              "      <td>742</td>\n",
              "      <td>32.0</td>\n",
              "      <td>401</td>\n",
              "      <td>23.19</td>\n",
              "      <td>185.04</td>\n",
              "      <td>71.745</td>\n",
              "    </tr>\n",
              "  </tbody>\n",
              "</table>\n",
              "</div>"
            ],
            "text/plain": [
              "                batsman_runs  is_wicket  ...  Strike Rate  Points\n",
              "AB de Villiers          1254       31.0  ...       233.09  98.242\n",
              "AD Russell               665       27.0  ...       218.03  82.650\n",
              "V Kohli                  968       36.0  ...       205.52  80.479\n",
              "MS Dhoni                2303       73.0  ...       189.08  78.809\n",
              "HH Pandya                838       29.0  ...       192.20  77.890\n",
              "JP Duminy                712       21.0  ...       180.25  77.805\n",
              "RG Sharma               1144       49.0  ...       198.27  75.826\n",
              "DA Miller                590       21.0  ...       186.12  75.506\n",
              "KA Pollard              1487       63.0  ...       185.41  72.143\n",
              "DJ Bravo                 742       32.0  ...       185.04  71.745\n",
              "\n",
              "[10 rows x 6 columns]"
            ]
          },
          "metadata": {
            "tags": []
          },
          "execution_count": 330
        }
      ]
    },
    {
      "cell_type": "markdown",
      "metadata": {
        "id": "x4GVUevQ9cOT"
      },
      "source": [
        "Selection of bowlers will be on the following criteria-\n",
        "1. **Bowling average**\n",
        "2. **Bowling economy**\n",
        "\n",
        "\n",
        "\n",
        "*   **Bowling average = (No. of runs given)/(No. of wickets taken)**\n",
        "\n",
        "*   **Bowling economy = (No. of runs given)/(No. of overs bowled)**\n",
        "\n",
        "\n",
        "\n",
        "\n"
      ]
    },
    {
      "cell_type": "code",
      "metadata": {
        "id": "KRl1pBnMvvfW",
        "colab": {
          "base_uri": "https://localhost:8080/"
        },
        "outputId": "a2b56e0a-36c4-4875-f8ff-ba72931a47ef"
      },
      "source": [
        "df['dismissal_kind'].unique()"
      ],
      "execution_count": null,
      "outputs": [
        {
          "output_type": "execute_result",
          "data": {
            "text/plain": [
              "array([nan, 'caught', 'run out', 'bowled', 'lbw', 'retired hurt',\n",
              "       'stumped', 'caught and bowled', 'hit wicket',\n",
              "       'obstructing the field'], dtype=object)"
            ]
          },
          "metadata": {
            "tags": []
          },
          "execution_count": 55
        }
      ]
    },
    {
      "cell_type": "markdown",
      "metadata": {
        "id": "F7Buz-Smvw-6"
      },
      "source": [
        "# Calculation of Total number of wickets taken\n",
        "\n",
        "For calculation of total numbers of wickets taken by bowlers following dismissal kinds will not be considered-\n",
        "1. **Run out**\n",
        "2. **Retired hurt**\n",
        "3. **Obstructing the field**"
      ]
    },
    {
      "cell_type": "code",
      "metadata": {
        "id": "TXDyCas73Xru"
      },
      "source": [
        "df1 = df.copy()\n",
        "df2= df.copy()\n",
        "df3= df.copy()"
      ],
      "execution_count": null,
      "outputs": []
    },
    {
      "cell_type": "code",
      "metadata": {
        "id": "7cyfcE-G5NiC"
      },
      "source": [
        "df1 = df1[df1['dismissal_kind'].notnull()]"
      ],
      "execution_count": null,
      "outputs": []
    },
    {
      "cell_type": "code",
      "metadata": {
        "id": "r4tB4wgO7jgW"
      },
      "source": [
        "df1 = df1[df1['dismissal_kind']!='run out']"
      ],
      "execution_count": null,
      "outputs": []
    },
    {
      "cell_type": "code",
      "metadata": {
        "id": "-Siaaa447JoK"
      },
      "source": [
        "df1 = df1[df1['dismissal_kind']!='retired hurt']"
      ],
      "execution_count": null,
      "outputs": []
    },
    {
      "cell_type": "code",
      "metadata": {
        "id": "aOqhU1883SEf"
      },
      "source": [
        "df1 = df1[df1['dismissal_kind']!='obstructing the field']"
      ],
      "execution_count": null,
      "outputs": []
    },
    {
      "cell_type": "code",
      "metadata": {
        "id": "7NADtin-vrwm",
        "colab": {
          "base_uri": "https://localhost:8080/"
        },
        "outputId": "54c27bb1-38fc-45ea-f05f-ae77e64544f3"
      },
      "source": [
        "df1['dismissal_kind'].unique()"
      ],
      "execution_count": null,
      "outputs": [
        {
          "output_type": "execute_result",
          "data": {
            "text/plain": [
              "array(['caught', 'bowled', 'lbw', 'stumped', 'caught and bowled',\n",
              "       'hit wicket'], dtype=object)"
            ]
          },
          "metadata": {
            "tags": []
          },
          "execution_count": 91
        }
      ]
    },
    {
      "cell_type": "code",
      "metadata": {
        "id": "D8TGEBs4uyL4"
      },
      "source": [
        "df1_wickets = df1.groupby('bowler').count().sort_values(by='is_wicket', ascending=False)['is_wicket']"
      ],
      "execution_count": null,
      "outputs": []
    },
    {
      "cell_type": "code",
      "metadata": {
        "id": "iOgDh3wxuenh",
        "colab": {
          "base_uri": "https://localhost:8080/"
        },
        "outputId": "46fd2952-f809-47be-e088-687c8b60dace"
      },
      "source": [
        "df1_wickets.head(15)"
      ],
      "execution_count": null,
      "outputs": [
        {
          "output_type": "execute_result",
          "data": {
            "text/plain": [
              "bowler\n",
              "SL Malinga         170\n",
              "A Mishra           160\n",
              "PP Chawla          156\n",
              "DJ Bravo           153\n",
              "Harbhajan Singh    150\n",
              "R Ashwin           138\n",
              "B Kumar            136\n",
              "SP Narine          127\n",
              "YS Chahal          121\n",
              "UT Yadav           119\n",
              "RA Jadeja          114\n",
              "Sandeep Sharma     109\n",
              "JJ Bumrah          109\n",
              "A Nehra            106\n",
              "R Vinay Kumar      105\n",
              "Name: is_wicket, dtype: int64"
            ]
          },
          "metadata": {
            "tags": []
          },
          "execution_count": 253
        }
      ]
    },
    {
      "cell_type": "markdown",
      "metadata": {
        "id": "SUXS2Ld4wv7K"
      },
      "source": [
        "# Calculation of total runs given by bowler\n",
        "\n",
        "For calculation of total runs given by bowler following extra types will not be considered-\n",
        "1. **Byes**\n",
        "2. **Legbyes**"
      ]
    },
    {
      "cell_type": "code",
      "metadata": {
        "id": "nPeyGYFRuU8G",
        "colab": {
          "base_uri": "https://localhost:8080/"
        },
        "outputId": "181cbfdc-d089-4b7c-8939-718b8706ecca"
      },
      "source": [
        "df2['extras_type'].unique()"
      ],
      "execution_count": null,
      "outputs": [
        {
          "output_type": "execute_result",
          "data": {
            "text/plain": [
              "array([nan, 'byes', 'wides', 'legbyes', 'noballs', 'penalty'],\n",
              "      dtype=object)"
            ]
          },
          "metadata": {
            "tags": []
          },
          "execution_count": 102
        }
      ]
    },
    {
      "cell_type": "code",
      "metadata": {
        "id": "BY86bef5B31j"
      },
      "source": [
        "df2 = df2[df2['extras_type']!='byes']"
      ],
      "execution_count": null,
      "outputs": []
    },
    {
      "cell_type": "code",
      "metadata": {
        "id": "mKpQNqSkuLCv"
      },
      "source": [
        "df2 = df2[df2['extras_type']!='legbyes']"
      ],
      "execution_count": null,
      "outputs": []
    },
    {
      "cell_type": "code",
      "metadata": {
        "id": "dmHfg4q9uDsc"
      },
      "source": [
        "df2_total_runs_given = df2.groupby('bowler').sum().sort_values(by='total_runs', ascending=False)['total_runs']"
      ],
      "execution_count": null,
      "outputs": []
    },
    {
      "cell_type": "code",
      "metadata": {
        "id": "KAeGn_1Ct_rV",
        "colab": {
          "base_uri": "https://localhost:8080/"
        },
        "outputId": "cee80d8b-bc28-4e36-fa66-3f719f998c64"
      },
      "source": [
        "df2_total_runs_given.head(15)"
      ],
      "execution_count": null,
      "outputs": [
        {
          "output_type": "execute_result",
          "data": {
            "text/plain": [
              "bowler\n",
              "PP Chawla          4263\n",
              "Harbhajan Singh    3967\n",
              "A Mishra           3867\n",
              "DJ Bravo           3798\n",
              "R Ashwin           3700\n",
              "UT Yadav           3578\n",
              "RA Jadeja          3470\n",
              "SL Malinga         3370\n",
              "B Kumar            3253\n",
              "P Kumar            3251\n",
              "SP Narine          3147\n",
              "R Vinay Kumar      2966\n",
              "Z Khan             2782\n",
              "YS Chahal          2723\n",
              "SR Watson          2682\n",
              "Name: total_runs, dtype: int64"
            ]
          },
          "metadata": {
            "tags": []
          },
          "execution_count": 254
        }
      ]
    },
    {
      "cell_type": "markdown",
      "metadata": {
        "id": "pjeLOsAwxbAk"
      },
      "source": [
        "# Calculation of total overs bowled by bowler\n",
        "\n",
        "For calculation of total number of overs bowled by bowler following extra types will not be considered-\n",
        "1. **Wides**\n",
        "2. **No balls**"
      ]
    },
    {
      "cell_type": "code",
      "metadata": {
        "id": "HOL4H8Aut7CK"
      },
      "source": [
        "df3 = df3[df3['extras_type']!='wides']"
      ],
      "execution_count": null,
      "outputs": []
    },
    {
      "cell_type": "code",
      "metadata": {
        "id": "KRoVCTkBt1og"
      },
      "source": [
        "df3 = df3[df3['extras_type']!='noballs']"
      ],
      "execution_count": null,
      "outputs": []
    },
    {
      "cell_type": "code",
      "metadata": {
        "id": "DQwzktqVtsAy"
      },
      "source": [
        "df3_total_overs = (df3.groupby('bowler').count().sort_values(by='is_wicket', ascending=False)['non_boundary'])/6"
      ],
      "execution_count": null,
      "outputs": []
    },
    {
      "cell_type": "code",
      "metadata": {
        "id": "Uc__QzVwtfvb",
        "colab": {
          "base_uri": "https://localhost:8080/"
        },
        "outputId": "69446a3d-80c4-47b2-9963-2d5721d1a2b1"
      },
      "source": [
        "df3_total_overs.head(15)"
      ],
      "execution_count": null,
      "outputs": [
        {
          "output_type": "execute_result",
          "data": {
            "text/plain": [
              "bowler\n",
              "Harbhajan Singh    562.333333\n",
              "PP Chawla          541.666667\n",
              "R Ashwin           538.333333\n",
              "A Mishra           526.833333\n",
              "SL Malinga         471.333333\n",
              "SP Narine          464.166667\n",
              "RA Jadeja          452.166667\n",
              "DJ Bravo           452.000000\n",
              "B Kumar            449.500000\n",
              "P Kumar            420.666667\n",
              "UT Yadav           420.500000\n",
              "Z Khan             366.666667\n",
              "DW Steyn           362.666667\n",
              "YS Chahal          355.000000\n",
              "R Vinay Kumar      353.500000\n",
              "Name: non_boundary, dtype: float64"
            ]
          },
          "metadata": {
            "tags": []
          },
          "execution_count": 255
        }
      ]
    },
    {
      "cell_type": "code",
      "metadata": {
        "id": "pw_rMgvsx4U0"
      },
      "source": [
        ""
      ],
      "execution_count": null,
      "outputs": []
    },
    {
      "cell_type": "markdown",
      "metadata": {
        "id": "-kz1Yspz9Ow2"
      },
      "source": [
        "# Creating final dataframe for bowlers"
      ]
    },
    {
      "cell_type": "code",
      "metadata": {
        "id": "4UDjWgdgtR0G"
      },
      "source": [
        "df_bowler = pd.concat([df1_wickets, df2_total_runs_given, df3_total_overs], axis=1)"
      ],
      "execution_count": null,
      "outputs": []
    },
    {
      "cell_type": "code",
      "metadata": {
        "id": "v2CGQWenJ1g3"
      },
      "source": [
        "df_bowler.rename(columns={'is_wicket':'No. of Wickets', 'total_runs':'Total runs given', 'non_boundary':'Total overs bowled'}, inplace=True)"
      ],
      "execution_count": null,
      "outputs": []
    },
    {
      "cell_type": "code",
      "metadata": {
        "colab": {
          "base_uri": "https://localhost:8080/",
          "height": 202
        },
        "id": "uHM6z01fKKqD",
        "outputId": "fede7cdd-d783-4cb5-edea-1adc46ab79c8"
      },
      "source": [
        "df_bowler.head()"
      ],
      "execution_count": null,
      "outputs": [
        {
          "output_type": "execute_result",
          "data": {
            "text/html": [
              "<div>\n",
              "<style scoped>\n",
              "    .dataframe tbody tr th:only-of-type {\n",
              "        vertical-align: middle;\n",
              "    }\n",
              "\n",
              "    .dataframe tbody tr th {\n",
              "        vertical-align: top;\n",
              "    }\n",
              "\n",
              "    .dataframe thead th {\n",
              "        text-align: right;\n",
              "    }\n",
              "</style>\n",
              "<table border=\"1\" class=\"dataframe\">\n",
              "  <thead>\n",
              "    <tr style=\"text-align: right;\">\n",
              "      <th></th>\n",
              "      <th>No. of Wickets</th>\n",
              "      <th>Total runs given</th>\n",
              "      <th>Total overs bowled</th>\n",
              "    </tr>\n",
              "  </thead>\n",
              "  <tbody>\n",
              "    <tr>\n",
              "      <th>SL Malinga</th>\n",
              "      <td>170.0</td>\n",
              "      <td>3370</td>\n",
              "      <td>471.333333</td>\n",
              "    </tr>\n",
              "    <tr>\n",
              "      <th>A Mishra</th>\n",
              "      <td>160.0</td>\n",
              "      <td>3867</td>\n",
              "      <td>526.833333</td>\n",
              "    </tr>\n",
              "    <tr>\n",
              "      <th>PP Chawla</th>\n",
              "      <td>156.0</td>\n",
              "      <td>4263</td>\n",
              "      <td>541.666667</td>\n",
              "    </tr>\n",
              "    <tr>\n",
              "      <th>DJ Bravo</th>\n",
              "      <td>153.0</td>\n",
              "      <td>3798</td>\n",
              "      <td>452.000000</td>\n",
              "    </tr>\n",
              "    <tr>\n",
              "      <th>Harbhajan Singh</th>\n",
              "      <td>150.0</td>\n",
              "      <td>3967</td>\n",
              "      <td>562.333333</td>\n",
              "    </tr>\n",
              "  </tbody>\n",
              "</table>\n",
              "</div>"
            ],
            "text/plain": [
              "                 No. of Wickets  Total runs given  Total overs bowled\n",
              "SL Malinga                170.0              3370          471.333333\n",
              "A Mishra                  160.0              3867          526.833333\n",
              "PP Chawla                 156.0              4263          541.666667\n",
              "DJ Bravo                  153.0              3798          452.000000\n",
              "Harbhajan Singh           150.0              3967          562.333333"
            ]
          },
          "metadata": {
            "tags": []
          },
          "execution_count": 213
        }
      ]
    },
    {
      "cell_type": "markdown",
      "metadata": {
        "id": "OWjuus7X9csX"
      },
      "source": [
        "**Calculation of Bowling Average**"
      ]
    },
    {
      "cell_type": "code",
      "metadata": {
        "id": "Ker2WrUFKswH"
      },
      "source": [
        "df_bowler['Bowling Average'] = df_bowler['Total runs given']/df_bowler['No. of Wickets']"
      ],
      "execution_count": null,
      "outputs": []
    },
    {
      "cell_type": "markdown",
      "metadata": {
        "id": "nlaVs1659hHi"
      },
      "source": [
        "**Calculation of bowling economy**"
      ]
    },
    {
      "cell_type": "code",
      "metadata": {
        "id": "Uw0sIkEZqhuF"
      },
      "source": [
        "df_bowler['Bowling Economy'] = df_bowler['Total runs given']/df_bowler['Total overs bowled']"
      ],
      "execution_count": null,
      "outputs": []
    },
    {
      "cell_type": "markdown",
      "metadata": {
        "id": "zg5CLC_r9mXS"
      },
      "source": [
        "**We will consider only those bowlers who has taken greater than 70 wickets**"
      ]
    },
    {
      "cell_type": "code",
      "metadata": {
        "id": "-fcBY2edqZO6"
      },
      "source": [
        "df_bowler1 = df_bowler[df_bowler['No. of Wickets']>70]"
      ],
      "execution_count": null,
      "outputs": []
    },
    {
      "cell_type": "markdown",
      "metadata": {
        "id": "29vhNCtf9-sH"
      },
      "source": [
        "**Top 15 bowlers according to bowling average**"
      ]
    },
    {
      "cell_type": "code",
      "metadata": {
        "colab": {
          "base_uri": "https://localhost:8080/"
        },
        "id": "kujci1OMLvSC",
        "outputId": "481c4407-736b-47d7-cbe6-758b4d3979c3"
      },
      "source": [
        "df_bowler1.sort_values(by='Average', ascending=True).head(15)['Average']"
      ],
      "execution_count": null,
      "outputs": [
        {
          "output_type": "execute_result",
          "data": {
            "text/plain": [
              "SL Malinga        19.823529\n",
              "Rashid Khan       20.493333\n",
              "Imran Tahir       21.087500\n",
              "YS Chahal         22.504132\n",
              "MM Patel          22.945946\n",
              "A Nehra           23.537736\n",
              "JJ Bumrah         23.733945\n",
              "B Kumar           23.919118\n",
              "CH Morris         23.987500\n",
              "A Mishra          24.168750\n",
              "Sandeep Sharma    24.275229\n",
              "SP Narine         24.779528\n",
              "DJ Bravo          24.823529\n",
              "MJ McClenaghan    25.394366\n",
              "DW Steyn          25.855670\n",
              "Name: Average, dtype: float64"
            ]
          },
          "metadata": {
            "tags": []
          },
          "execution_count": 235
        }
      ]
    },
    {
      "cell_type": "markdown",
      "metadata": {
        "id": "aveollgx-FoT"
      },
      "source": [
        "**Top 15 bowlers accrding to bowling economy**"
      ]
    },
    {
      "cell_type": "code",
      "metadata": {
        "id": "wxQiEuUNpS5-",
        "colab": {
          "base_uri": "https://localhost:8080/"
        },
        "outputId": "84c23b65-a57f-4f46-a7dc-0752b43a0558"
      },
      "source": [
        "df_bowler1.sort_values(by='Economy', ascending=True).head(15)['Economy']"
      ],
      "execution_count": null,
      "outputs": [
        {
          "output_type": "execute_result",
          "data": {
            "text/plain": [
              "Rashid Khan        6.247967\n",
              "SP Narine          6.779892\n",
              "R Ashwin           6.873065\n",
              "DW Steyn           6.915441\n",
              "Harbhajan Singh    7.054535\n",
              "SL Malinga         7.149929\n",
              "B Kumar            7.236930\n",
              "AR Patel           7.298663\n",
              "A Mishra           7.340082\n",
              "PP Ojha            7.383886\n",
              "R Bhatia           7.408313\n",
              "JJ Bumrah          7.419694\n",
              "MM Patel           7.518819\n",
              "Z Khan             7.587273\n",
              "YS Chahal          7.670423\n",
              "Name: Economy, dtype: float64"
            ]
          },
          "metadata": {
            "tags": []
          },
          "execution_count": 236
        }
      ]
    },
    {
      "cell_type": "markdown",
      "metadata": {
        "id": "QT6DtAP_-tiS"
      },
      "source": [
        "Total points for bowlers will be calculated as follows-\n",
        "\n",
        "\n",
        "*   **Total points = Bowling Average + Bowling Economy**\n",
        "\n",
        "\n",
        "\n"
      ]
    },
    {
      "cell_type": "code",
      "metadata": {
        "colab": {
          "base_uri": "https://localhost:8080/"
        },
        "id": "83BJD5o1ifH4",
        "outputId": "caf81258-6a5e-4a9d-c128-f7fcabe02752"
      },
      "source": [
        "df_bowler1['Points'] = df_bowler1.loc[:,'Average'] + df_bowler1.loc[:,'Economy']"
      ],
      "execution_count": 291,
      "outputs": [
        {
          "output_type": "stream",
          "text": [
            "/usr/local/lib/python3.7/dist-packages/ipykernel_launcher.py:1: SettingWithCopyWarning: \n",
            "A value is trying to be set on a copy of a slice from a DataFrame.\n",
            "Try using .loc[row_indexer,col_indexer] = value instead\n",
            "\n",
            "See the caveats in the documentation: https://pandas.pydata.org/pandas-docs/stable/user_guide/indexing.html#returning-a-view-versus-a-copy\n",
            "  \"\"\"Entry point for launching an IPython kernel.\n"
          ],
          "name": "stderr"
        }
      ]
    },
    {
      "cell_type": "code",
      "metadata": {
        "colab": {
          "base_uri": "https://localhost:8080/",
          "height": 355
        },
        "id": "uE3qja8VjA-D",
        "outputId": "4aa9548b-1380-43e9-ae35-4d6579f3480d"
      },
      "source": [
        "df_bowler1.sort_values(by='Points', ascending=True).head(10)"
      ],
      "execution_count": 322,
      "outputs": [
        {
          "output_type": "execute_result",
          "data": {
            "text/html": [
              "<div>\n",
              "<style scoped>\n",
              "    .dataframe tbody tr th:only-of-type {\n",
              "        vertical-align: middle;\n",
              "    }\n",
              "\n",
              "    .dataframe tbody tr th {\n",
              "        vertical-align: top;\n",
              "    }\n",
              "\n",
              "    .dataframe thead th {\n",
              "        text-align: right;\n",
              "    }\n",
              "</style>\n",
              "<table border=\"1\" class=\"dataframe\">\n",
              "  <thead>\n",
              "    <tr style=\"text-align: right;\">\n",
              "      <th></th>\n",
              "      <th>No. of Wickets</th>\n",
              "      <th>Total runs given</th>\n",
              "      <th>Total overs bowled</th>\n",
              "      <th>Average</th>\n",
              "      <th>Economy</th>\n",
              "      <th>Bowling Average</th>\n",
              "      <th>Bowling Economy</th>\n",
              "      <th>Points</th>\n",
              "    </tr>\n",
              "  </thead>\n",
              "  <tbody>\n",
              "    <tr>\n",
              "      <th>Rashid Khan</th>\n",
              "      <td>75.0</td>\n",
              "      <td>1537</td>\n",
              "      <td>246.000000</td>\n",
              "      <td>20.493333</td>\n",
              "      <td>6.247967</td>\n",
              "      <td>20.493333</td>\n",
              "      <td>6.247967</td>\n",
              "      <td>26.741301</td>\n",
              "    </tr>\n",
              "    <tr>\n",
              "      <th>SL Malinga</th>\n",
              "      <td>170.0</td>\n",
              "      <td>3370</td>\n",
              "      <td>471.333333</td>\n",
              "      <td>19.823529</td>\n",
              "      <td>7.149929</td>\n",
              "      <td>19.823529</td>\n",
              "      <td>7.149929</td>\n",
              "      <td>26.973459</td>\n",
              "    </tr>\n",
              "    <tr>\n",
              "      <th>Imran Tahir</th>\n",
              "      <td>80.0</td>\n",
              "      <td>1687</td>\n",
              "      <td>215.333333</td>\n",
              "      <td>21.087500</td>\n",
              "      <td>7.834365</td>\n",
              "      <td>21.087500</td>\n",
              "      <td>7.834365</td>\n",
              "      <td>28.921865</td>\n",
              "    </tr>\n",
              "    <tr>\n",
              "      <th>YS Chahal</th>\n",
              "      <td>121.0</td>\n",
              "      <td>2723</td>\n",
              "      <td>355.000000</td>\n",
              "      <td>22.504132</td>\n",
              "      <td>7.670423</td>\n",
              "      <td>22.504132</td>\n",
              "      <td>7.670423</td>\n",
              "      <td>30.174555</td>\n",
              "    </tr>\n",
              "    <tr>\n",
              "      <th>MM Patel</th>\n",
              "      <td>74.0</td>\n",
              "      <td>1698</td>\n",
              "      <td>225.833333</td>\n",
              "      <td>22.945946</td>\n",
              "      <td>7.518819</td>\n",
              "      <td>22.945946</td>\n",
              "      <td>7.518819</td>\n",
              "      <td>30.464765</td>\n",
              "    </tr>\n",
              "    <tr>\n",
              "      <th>JJ Bumrah</th>\n",
              "      <td>109.0</td>\n",
              "      <td>2587</td>\n",
              "      <td>348.666667</td>\n",
              "      <td>23.733945</td>\n",
              "      <td>7.419694</td>\n",
              "      <td>23.733945</td>\n",
              "      <td>7.419694</td>\n",
              "      <td>31.153639</td>\n",
              "    </tr>\n",
              "    <tr>\n",
              "      <th>B Kumar</th>\n",
              "      <td>136.0</td>\n",
              "      <td>3253</td>\n",
              "      <td>449.500000</td>\n",
              "      <td>23.919118</td>\n",
              "      <td>7.236930</td>\n",
              "      <td>23.919118</td>\n",
              "      <td>7.236930</td>\n",
              "      <td>31.156048</td>\n",
              "    </tr>\n",
              "    <tr>\n",
              "      <th>A Nehra</th>\n",
              "      <td>106.0</td>\n",
              "      <td>2495</td>\n",
              "      <td>318.000000</td>\n",
              "      <td>23.537736</td>\n",
              "      <td>7.845912</td>\n",
              "      <td>23.537736</td>\n",
              "      <td>7.845912</td>\n",
              "      <td>31.383648</td>\n",
              "    </tr>\n",
              "    <tr>\n",
              "      <th>A Mishra</th>\n",
              "      <td>160.0</td>\n",
              "      <td>3867</td>\n",
              "      <td>526.833333</td>\n",
              "      <td>24.168750</td>\n",
              "      <td>7.340082</td>\n",
              "      <td>24.168750</td>\n",
              "      <td>7.340082</td>\n",
              "      <td>31.508832</td>\n",
              "    </tr>\n",
              "    <tr>\n",
              "      <th>SP Narine</th>\n",
              "      <td>127.0</td>\n",
              "      <td>3147</td>\n",
              "      <td>464.166667</td>\n",
              "      <td>24.779528</td>\n",
              "      <td>6.779892</td>\n",
              "      <td>24.779528</td>\n",
              "      <td>6.779892</td>\n",
              "      <td>31.559420</td>\n",
              "    </tr>\n",
              "  </tbody>\n",
              "</table>\n",
              "</div>"
            ],
            "text/plain": [
              "             No. of Wickets  Total runs given  ...  Bowling Economy     Points\n",
              "Rashid Khan            75.0              1537  ...         6.247967  26.741301\n",
              "SL Malinga            170.0              3370  ...         7.149929  26.973459\n",
              "Imran Tahir            80.0              1687  ...         7.834365  28.921865\n",
              "YS Chahal             121.0              2723  ...         7.670423  30.174555\n",
              "MM Patel               74.0              1698  ...         7.518819  30.464765\n",
              "JJ Bumrah             109.0              2587  ...         7.419694  31.153639\n",
              "B Kumar               136.0              3253  ...         7.236930  31.156048\n",
              "A Nehra               106.0              2495  ...         7.845912  31.383648\n",
              "A Mishra              160.0              3867  ...         7.340082  31.508832\n",
              "SP Narine             127.0              3147  ...         6.779892  31.559420\n",
              "\n",
              "[10 rows x 8 columns]"
            ]
          },
          "metadata": {
            "tags": []
          },
          "execution_count": 322
        }
      ]
    },
    {
      "cell_type": "code",
      "metadata": {
        "id": "w6n93J4qlhiu"
      },
      "source": [
        ""
      ],
      "execution_count": null,
      "outputs": []
    },
    {
      "cell_type": "markdown",
      "metadata": {
        "id": "p-OoOgdi_V2R"
      },
      "source": [
        "# Calculation of bowling average and bowling economy at death overs (16th to 20th Over)"
      ]
    },
    {
      "cell_type": "code",
      "metadata": {
        "id": "EP-VnCgu_mkC"
      },
      "source": [
        "df4 = df_death.copy()\n",
        "df5= df_death.copy()\n",
        "df6= df_death.copy()"
      ],
      "execution_count": 292,
      "outputs": []
    },
    {
      "cell_type": "markdown",
      "metadata": {
        "id": "mW8YDVFNBi7F"
      },
      "source": [
        "**Calculation number of wickets taken in death overs**"
      ]
    },
    {
      "cell_type": "code",
      "metadata": {
        "id": "8O4qxiNX_nIe"
      },
      "source": [
        "df4 = df4[df4['dismissal_kind'].notnull()]"
      ],
      "execution_count": 293,
      "outputs": []
    },
    {
      "cell_type": "code",
      "metadata": {
        "id": "IHmc0u7L_nMH"
      },
      "source": [
        "df4 = df4[df4['dismissal_kind']!='run out']"
      ],
      "execution_count": 294,
      "outputs": []
    },
    {
      "cell_type": "code",
      "metadata": {
        "id": "1Je-yZ7A_nS1"
      },
      "source": [
        "df4 = df4[df4['dismissal_kind']!='retired hurt']"
      ],
      "execution_count": 295,
      "outputs": []
    },
    {
      "cell_type": "code",
      "metadata": {
        "id": "L_QxIUwG_nU2"
      },
      "source": [
        "df4 = df4[df4['dismissal_kind']!='obstructing the field']"
      ],
      "execution_count": 296,
      "outputs": []
    },
    {
      "cell_type": "code",
      "metadata": {
        "id": "wbABsblt_nWp"
      },
      "source": [
        "df_wickets_death = df4.groupby('bowler').count().sort_values(by='is_wicket', ascending=False)['is_wicket']"
      ],
      "execution_count": 297,
      "outputs": []
    },
    {
      "cell_type": "code",
      "metadata": {
        "colab": {
          "base_uri": "https://localhost:8080/"
        },
        "id": "WmKi_0oa_nYi",
        "outputId": "de072100-c81c-4417-8406-f3a069de991d"
      },
      "source": [
        "df_wickets_death.head()"
      ],
      "execution_count": 298,
      "outputs": [
        {
          "output_type": "execute_result",
          "data": {
            "text/plain": [
              "bowler\n",
              "SL Malinga    90\n",
              "DJ Bravo      82\n",
              "B Kumar       66\n",
              "JJ Bumrah     53\n",
              "SP Narine     50\n",
              "Name: is_wicket, dtype: int64"
            ]
          },
          "metadata": {
            "tags": []
          },
          "execution_count": 298
        }
      ]
    },
    {
      "cell_type": "code",
      "metadata": {
        "id": "8y5crMvFBa_Q"
      },
      "source": [
        ""
      ],
      "execution_count": 298,
      "outputs": []
    },
    {
      "cell_type": "markdown",
      "metadata": {
        "id": "o06QUKiHCX52"
      },
      "source": [
        "**Calculation of total number of runs given at death**"
      ]
    },
    {
      "cell_type": "code",
      "metadata": {
        "id": "z23TpGdWBcW-"
      },
      "source": [
        "df5 = df5[df5['extras_type']!='byes']"
      ],
      "execution_count": 299,
      "outputs": []
    },
    {
      "cell_type": "code",
      "metadata": {
        "id": "dKdrUlaaBcfK"
      },
      "source": [
        "df5 = df5[df5['extras_type']!='legbyes']"
      ],
      "execution_count": 300,
      "outputs": []
    },
    {
      "cell_type": "code",
      "metadata": {
        "id": "9dJZmyAnBciX"
      },
      "source": [
        "df_total_runs_given_death = df5.groupby('bowler').sum().sort_values(by='total_runs', ascending=False)['total_runs']"
      ],
      "execution_count": 301,
      "outputs": []
    },
    {
      "cell_type": "code",
      "metadata": {
        "colab": {
          "base_uri": "https://localhost:8080/"
        },
        "id": "1FbPy_rWBclC",
        "outputId": "581ab31e-1ad0-4487-9469-a03cfdf4a879"
      },
      "source": [
        "df_total_runs_given_death.head()"
      ],
      "execution_count": 302,
      "outputs": [
        {
          "output_type": "execute_result",
          "data": {
            "text/plain": [
              "bowler\n",
              "DJ Bravo      1567\n",
              "B Kumar       1232\n",
              "SL Malinga    1196\n",
              "JJ Bumrah     1175\n",
              "UT Yadav      1051\n",
              "Name: total_runs, dtype: int64"
            ]
          },
          "metadata": {
            "tags": []
          },
          "execution_count": 302
        }
      ]
    },
    {
      "cell_type": "markdown",
      "metadata": {
        "id": "KqiI8RjFDHNR"
      },
      "source": [
        "**Calculation of total overs bowled in death**"
      ]
    },
    {
      "cell_type": "code",
      "metadata": {
        "id": "uSaPgxoEBcpe"
      },
      "source": [
        "df6 = df6[df6['extras_type']!='wides']"
      ],
      "execution_count": 303,
      "outputs": []
    },
    {
      "cell_type": "code",
      "metadata": {
        "id": "pwqM9Ah1Cm_T"
      },
      "source": [
        "df6 = df6[df6['extras_type']!='noballs']"
      ],
      "execution_count": 304,
      "outputs": []
    },
    {
      "cell_type": "code",
      "metadata": {
        "id": "5RFMhtwGCnB_"
      },
      "source": [
        "df_total_overs_death = (df6.groupby('bowler').count().sort_values(by='is_wicket', ascending=False)['non_boundary'])/6"
      ],
      "execution_count": 305,
      "outputs": []
    },
    {
      "cell_type": "code",
      "metadata": {
        "colab": {
          "base_uri": "https://localhost:8080/"
        },
        "id": "20EOre-_CnHT",
        "outputId": "df18d26d-1572-45b4-91f9-a9105cdc5ae0"
      },
      "source": [
        "df_total_overs_death.head()"
      ],
      "execution_count": 306,
      "outputs": [
        {
          "output_type": "execute_result",
          "data": {
            "text/plain": [
              "bowler\n",
              "DJ Bravo      158.833333\n",
              "SL Malinga    152.833333\n",
              "B Kumar       134.333333\n",
              "JJ Bumrah     131.666667\n",
              "SP Narine     108.166667\n",
              "Name: non_boundary, dtype: float64"
            ]
          },
          "metadata": {
            "tags": []
          },
          "execution_count": 306
        }
      ]
    },
    {
      "cell_type": "code",
      "metadata": {
        "id": "PD2JxosWCnJb"
      },
      "source": [
        ""
      ],
      "execution_count": 302,
      "outputs": []
    },
    {
      "cell_type": "code",
      "metadata": {
        "id": "PLNJOHPjCnO1"
      },
      "source": [
        "df_bowler_death = pd.concat([df_wickets_death, df_total_runs_given_death, df_total_overs_death], axis=1)"
      ],
      "execution_count": 307,
      "outputs": []
    },
    {
      "cell_type": "code",
      "metadata": {
        "id": "gKaCKVD1BcyO"
      },
      "source": [
        "df_bowler_death.rename(columns={'is_wicket':'No. of Wickets', 'total_runs':'Total runs given', 'non_boundary':'Total overs bowled'}, inplace=True)"
      ],
      "execution_count": 309,
      "outputs": []
    },
    {
      "cell_type": "code",
      "metadata": {
        "colab": {
          "base_uri": "https://localhost:8080/",
          "height": 202
        },
        "id": "F6ILwvEUDncm",
        "outputId": "b817b683-9603-45ef-ae47-b7eca666f2dd"
      },
      "source": [
        "df_bowler_death.head()"
      ],
      "execution_count": 310,
      "outputs": [
        {
          "output_type": "execute_result",
          "data": {
            "text/html": [
              "<div>\n",
              "<style scoped>\n",
              "    .dataframe tbody tr th:only-of-type {\n",
              "        vertical-align: middle;\n",
              "    }\n",
              "\n",
              "    .dataframe tbody tr th {\n",
              "        vertical-align: top;\n",
              "    }\n",
              "\n",
              "    .dataframe thead th {\n",
              "        text-align: right;\n",
              "    }\n",
              "</style>\n",
              "<table border=\"1\" class=\"dataframe\">\n",
              "  <thead>\n",
              "    <tr style=\"text-align: right;\">\n",
              "      <th></th>\n",
              "      <th>No. of Wickets</th>\n",
              "      <th>Total runs given</th>\n",
              "      <th>Total overs bowled</th>\n",
              "    </tr>\n",
              "  </thead>\n",
              "  <tbody>\n",
              "    <tr>\n",
              "      <th>SL Malinga</th>\n",
              "      <td>90.0</td>\n",
              "      <td>1196</td>\n",
              "      <td>152.833333</td>\n",
              "    </tr>\n",
              "    <tr>\n",
              "      <th>DJ Bravo</th>\n",
              "      <td>82.0</td>\n",
              "      <td>1567</td>\n",
              "      <td>158.833333</td>\n",
              "    </tr>\n",
              "    <tr>\n",
              "      <th>B Kumar</th>\n",
              "      <td>66.0</td>\n",
              "      <td>1232</td>\n",
              "      <td>134.333333</td>\n",
              "    </tr>\n",
              "    <tr>\n",
              "      <th>JJ Bumrah</th>\n",
              "      <td>53.0</td>\n",
              "      <td>1175</td>\n",
              "      <td>131.666667</td>\n",
              "    </tr>\n",
              "    <tr>\n",
              "      <th>SP Narine</th>\n",
              "      <td>50.0</td>\n",
              "      <td>866</td>\n",
              "      <td>108.166667</td>\n",
              "    </tr>\n",
              "  </tbody>\n",
              "</table>\n",
              "</div>"
            ],
            "text/plain": [
              "            No. of Wickets  Total runs given  Total overs bowled\n",
              "SL Malinga            90.0              1196          152.833333\n",
              "DJ Bravo              82.0              1567          158.833333\n",
              "B Kumar               66.0              1232          134.333333\n",
              "JJ Bumrah             53.0              1175          131.666667\n",
              "SP Narine             50.0               866          108.166667"
            ]
          },
          "metadata": {
            "tags": []
          },
          "execution_count": 310
        }
      ]
    },
    {
      "cell_type": "code",
      "metadata": {
        "id": "dZkO3RucD2Kp"
      },
      "source": [
        ""
      ],
      "execution_count": null,
      "outputs": []
    },
    {
      "cell_type": "code",
      "metadata": {
        "id": "vP2SiTP6DQiv"
      },
      "source": [
        "df_bowler_death['Bowling Average at death'] = df_bowler_death['Total runs given']/df_bowler_death['No. of Wickets']"
      ],
      "execution_count": 313,
      "outputs": []
    },
    {
      "cell_type": "code",
      "metadata": {
        "id": "SKfJYGtKDQlg"
      },
      "source": [
        ""
      ],
      "execution_count": 306,
      "outputs": []
    },
    {
      "cell_type": "code",
      "metadata": {
        "id": "cgCahmKxDQoU"
      },
      "source": [
        "df_bowler_death['Bowling Economy at death'] = df_bowler_death['Total runs given']/df_bowler_death['Total overs bowled']"
      ],
      "execution_count": 316,
      "outputs": []
    },
    {
      "cell_type": "code",
      "metadata": {
        "id": "5rdpysYtDQrD"
      },
      "source": [
        "df_bowler_death.drop(columns='Bowling Economy', inplace=True)"
      ],
      "execution_count": 320,
      "outputs": []
    },
    {
      "cell_type": "code",
      "metadata": {
        "colab": {
          "base_uri": "https://localhost:8080/",
          "height": 202
        },
        "id": "OLYetT4xEZuy",
        "outputId": "5f3e13b4-baa1-424c-b9aa-53d6cf9c2c51"
      },
      "source": [
        "df_bowler_death.head()"
      ],
      "execution_count": 321,
      "outputs": [
        {
          "output_type": "execute_result",
          "data": {
            "text/html": [
              "<div>\n",
              "<style scoped>\n",
              "    .dataframe tbody tr th:only-of-type {\n",
              "        vertical-align: middle;\n",
              "    }\n",
              "\n",
              "    .dataframe tbody tr th {\n",
              "        vertical-align: top;\n",
              "    }\n",
              "\n",
              "    .dataframe thead th {\n",
              "        text-align: right;\n",
              "    }\n",
              "</style>\n",
              "<table border=\"1\" class=\"dataframe\">\n",
              "  <thead>\n",
              "    <tr style=\"text-align: right;\">\n",
              "      <th></th>\n",
              "      <th>No. of Wickets</th>\n",
              "      <th>Total runs given</th>\n",
              "      <th>Total overs bowled</th>\n",
              "      <th>Bowling Average at death</th>\n",
              "      <th>Bowling Economy at death</th>\n",
              "    </tr>\n",
              "  </thead>\n",
              "  <tbody>\n",
              "    <tr>\n",
              "      <th>SL Malinga</th>\n",
              "      <td>90.0</td>\n",
              "      <td>1196</td>\n",
              "      <td>152.833333</td>\n",
              "      <td>13.288889</td>\n",
              "      <td>7.825518</td>\n",
              "    </tr>\n",
              "    <tr>\n",
              "      <th>DJ Bravo</th>\n",
              "      <td>82.0</td>\n",
              "      <td>1567</td>\n",
              "      <td>158.833333</td>\n",
              "      <td>19.109756</td>\n",
              "      <td>9.865687</td>\n",
              "    </tr>\n",
              "    <tr>\n",
              "      <th>B Kumar</th>\n",
              "      <td>66.0</td>\n",
              "      <td>1232</td>\n",
              "      <td>134.333333</td>\n",
              "      <td>18.666667</td>\n",
              "      <td>9.171216</td>\n",
              "    </tr>\n",
              "    <tr>\n",
              "      <th>JJ Bumrah</th>\n",
              "      <td>53.0</td>\n",
              "      <td>1175</td>\n",
              "      <td>131.666667</td>\n",
              "      <td>22.169811</td>\n",
              "      <td>8.924051</td>\n",
              "    </tr>\n",
              "    <tr>\n",
              "      <th>SP Narine</th>\n",
              "      <td>50.0</td>\n",
              "      <td>866</td>\n",
              "      <td>108.166667</td>\n",
              "      <td>17.320000</td>\n",
              "      <td>8.006163</td>\n",
              "    </tr>\n",
              "  </tbody>\n",
              "</table>\n",
              "</div>"
            ],
            "text/plain": [
              "            No. of Wickets  ...  Bowling Economy at death\n",
              "SL Malinga            90.0  ...                  7.825518\n",
              "DJ Bravo              82.0  ...                  9.865687\n",
              "B Kumar               66.0  ...                  9.171216\n",
              "JJ Bumrah             53.0  ...                  8.924051\n",
              "SP Narine             50.0  ...                  8.006163\n",
              "\n",
              "[5 rows x 5 columns]"
            ]
          },
          "metadata": {
            "tags": []
          },
          "execution_count": 321
        }
      ]
    },
    {
      "cell_type": "code",
      "metadata": {
        "id": "jzq8xSO3DQte"
      },
      "source": [
        ""
      ],
      "execution_count": 306,
      "outputs": []
    },
    {
      "cell_type": "code",
      "metadata": {
        "id": "3_3rovtGDQwa"
      },
      "source": [
        "df_bowler_death['Points'] = df_bowler_death.loc[:,'Bowling Average at death'] + df_bowler_death.loc[:,'Bowling Economy at death']"
      ],
      "execution_count": 323,
      "outputs": []
    },
    {
      "cell_type": "markdown",
      "metadata": {
        "id": "qEeU3k93GvBH"
      },
      "source": [
        "**Consider only those bowlers who has taken more than 50 wickets in death overs**"
      ]
    },
    {
      "cell_type": "code",
      "metadata": {
        "id": "x2m6qJdTDQ0X"
      },
      "source": [
        "df_bowler_death = df_bowler_death[df_bowler_death['No. of Wickets']>50]"
      ],
      "execution_count": 328,
      "outputs": []
    },
    {
      "cell_type": "code",
      "metadata": {
        "colab": {
          "base_uri": "https://localhost:8080/",
          "height": 171
        },
        "id": "Uj8BdjEQFlrJ",
        "outputId": "ed758fe7-54c5-49bb-97ce-19b9cdeb4ff8"
      },
      "source": [
        "df_bowler_death.sort_values(by='Points', ascending=True).head(10)"
      ],
      "execution_count": 329,
      "outputs": [
        {
          "output_type": "execute_result",
          "data": {
            "text/html": [
              "<div>\n",
              "<style scoped>\n",
              "    .dataframe tbody tr th:only-of-type {\n",
              "        vertical-align: middle;\n",
              "    }\n",
              "\n",
              "    .dataframe tbody tr th {\n",
              "        vertical-align: top;\n",
              "    }\n",
              "\n",
              "    .dataframe thead th {\n",
              "        text-align: right;\n",
              "    }\n",
              "</style>\n",
              "<table border=\"1\" class=\"dataframe\">\n",
              "  <thead>\n",
              "    <tr style=\"text-align: right;\">\n",
              "      <th></th>\n",
              "      <th>No. of Wickets</th>\n",
              "      <th>Total runs given</th>\n",
              "      <th>Total overs bowled</th>\n",
              "      <th>Bowling Average at death</th>\n",
              "      <th>Bowling Economy at death</th>\n",
              "      <th>Points</th>\n",
              "    </tr>\n",
              "  </thead>\n",
              "  <tbody>\n",
              "    <tr>\n",
              "      <th>SL Malinga</th>\n",
              "      <td>90.0</td>\n",
              "      <td>1196</td>\n",
              "      <td>152.833333</td>\n",
              "      <td>13.288889</td>\n",
              "      <td>7.825518</td>\n",
              "      <td>21.114407</td>\n",
              "    </tr>\n",
              "    <tr>\n",
              "      <th>B Kumar</th>\n",
              "      <td>66.0</td>\n",
              "      <td>1232</td>\n",
              "      <td>134.333333</td>\n",
              "      <td>18.666667</td>\n",
              "      <td>9.171216</td>\n",
              "      <td>27.837883</td>\n",
              "    </tr>\n",
              "    <tr>\n",
              "      <th>DJ Bravo</th>\n",
              "      <td>82.0</td>\n",
              "      <td>1567</td>\n",
              "      <td>158.833333</td>\n",
              "      <td>19.109756</td>\n",
              "      <td>9.865687</td>\n",
              "      <td>28.975443</td>\n",
              "    </tr>\n",
              "    <tr>\n",
              "      <th>JJ Bumrah</th>\n",
              "      <td>53.0</td>\n",
              "      <td>1175</td>\n",
              "      <td>131.666667</td>\n",
              "      <td>22.169811</td>\n",
              "      <td>8.924051</td>\n",
              "      <td>31.093862</td>\n",
              "    </tr>\n",
              "  </tbody>\n",
              "</table>\n",
              "</div>"
            ],
            "text/plain": [
              "            No. of Wickets  ...     Points\n",
              "SL Malinga            90.0  ...  21.114407\n",
              "B Kumar               66.0  ...  27.837883\n",
              "DJ Bravo              82.0  ...  28.975443\n",
              "JJ Bumrah             53.0  ...  31.093862\n",
              "\n",
              "[4 rows x 6 columns]"
            ]
          },
          "metadata": {
            "tags": []
          },
          "execution_count": 329
        }
      ]
    },
    {
      "cell_type": "code",
      "metadata": {
        "id": "WhhNZ4rVFlts"
      },
      "source": [
        ""
      ],
      "execution_count": 323,
      "outputs": []
    },
    {
      "cell_type": "code",
      "metadata": {
        "id": "7DWssQBIFlv4"
      },
      "source": [
        ""
      ],
      "execution_count": 323,
      "outputs": []
    },
    {
      "cell_type": "code",
      "metadata": {
        "id": "JN9g4TVKFly_"
      },
      "source": [
        ""
      ],
      "execution_count": 323,
      "outputs": []
    },
    {
      "cell_type": "code",
      "metadata": {
        "id": "AM-uDy1QFl1x"
      },
      "source": [
        ""
      ],
      "execution_count": null,
      "outputs": []
    },
    {
      "cell_type": "code",
      "metadata": {
        "id": "3NDBCMYZ_nay"
      },
      "source": [
        ""
      ],
      "execution_count": null,
      "outputs": []
    },
    {
      "cell_type": "markdown",
      "metadata": {
        "id": "N0sRO0cWQEXA"
      },
      "source": [
        "# Selection of all rounder"
      ]
    },
    {
      "cell_type": "code",
      "metadata": {
        "id": "AXP3KmqLmwR6"
      },
      "source": [
        "df_total = pd.concat([df_batsman, df_bowler], axis=1)"
      ],
      "execution_count": null,
      "outputs": []
    },
    {
      "cell_type": "code",
      "metadata": {
        "id": "iGUDHWk5m7Zg"
      },
      "source": [
        "df_total = df_total[df_total['batsman_runs']>1000]"
      ],
      "execution_count": null,
      "outputs": []
    },
    {
      "cell_type": "code",
      "metadata": {
        "id": "GXUEnd-WnkMS"
      },
      "source": [
        "df_total = df_total[df_total['No. of Wickets']>50]"
      ],
      "execution_count": null,
      "outputs": []
    },
    {
      "cell_type": "code",
      "metadata": {
        "colab": {
          "base_uri": "https://localhost:8080/",
          "height": 402
        },
        "id": "c7fil3WHnyE8",
        "outputId": "73f0f627-8b4b-4b03-94d2-cc190b8dbda3"
      },
      "source": [
        "df_total.head(10)"
      ],
      "execution_count": null,
      "outputs": [
        {
          "output_type": "execute_result",
          "data": {
            "text/html": [
              "<div>\n",
              "<style scoped>\n",
              "    .dataframe tbody tr th:only-of-type {\n",
              "        vertical-align: middle;\n",
              "    }\n",
              "\n",
              "    .dataframe tbody tr th {\n",
              "        vertical-align: top;\n",
              "    }\n",
              "\n",
              "    .dataframe thead th {\n",
              "        text-align: right;\n",
              "    }\n",
              "</style>\n",
              "<table border=\"1\" class=\"dataframe\">\n",
              "  <thead>\n",
              "    <tr style=\"text-align: right;\">\n",
              "      <th></th>\n",
              "      <th>batsman_runs</th>\n",
              "      <th>Total No.OUT</th>\n",
              "      <th>Total balls faced</th>\n",
              "      <th>Average</th>\n",
              "      <th>Strike Rate</th>\n",
              "      <th>Points</th>\n",
              "      <th>No. of Wickets</th>\n",
              "      <th>Total runs given</th>\n",
              "      <th>Total overs bowled</th>\n",
              "      <th>Average</th>\n",
              "      <th>Economy</th>\n",
              "      <th>Bowling Average</th>\n",
              "      <th>Bowling Economy</th>\n",
              "    </tr>\n",
              "  </thead>\n",
              "  <tbody>\n",
              "    <tr>\n",
              "      <th>SR Watson</th>\n",
              "      <td>3874.0</td>\n",
              "      <td>125.0</td>\n",
              "      <td>2809.0</td>\n",
              "      <td>30.99</td>\n",
              "      <td>137.91</td>\n",
              "      <td>63.066</td>\n",
              "      <td>92.0</td>\n",
              "      <td>2682.0</td>\n",
              "      <td>338.166667</td>\n",
              "      <td>29.152174</td>\n",
              "      <td>7.931000</td>\n",
              "      <td>29.152174</td>\n",
              "      <td>7.931000</td>\n",
              "    </tr>\n",
              "    <tr>\n",
              "      <th>KA Pollard</th>\n",
              "      <td>3023.0</td>\n",
              "      <td>106.0</td>\n",
              "      <td>2017.0</td>\n",
              "      <td>28.52</td>\n",
              "      <td>149.88</td>\n",
              "      <td>64.928</td>\n",
              "      <td>60.0</td>\n",
              "      <td>1960.0</td>\n",
              "      <td>220.833333</td>\n",
              "      <td>32.666667</td>\n",
              "      <td>8.875472</td>\n",
              "      <td>32.666667</td>\n",
              "      <td>8.875472</td>\n",
              "    </tr>\n",
              "    <tr>\n",
              "      <th>JH Kallis</th>\n",
              "      <td>2427.0</td>\n",
              "      <td>89.0</td>\n",
              "      <td>2222.0</td>\n",
              "      <td>27.27</td>\n",
              "      <td>109.23</td>\n",
              "      <td>51.858</td>\n",
              "      <td>65.0</td>\n",
              "      <td>2293.0</td>\n",
              "      <td>290.333333</td>\n",
              "      <td>35.276923</td>\n",
              "      <td>7.897819</td>\n",
              "      <td>35.276923</td>\n",
              "      <td>7.897819</td>\n",
              "    </tr>\n",
              "    <tr>\n",
              "      <th>RA Jadeja</th>\n",
              "      <td>2159.0</td>\n",
              "      <td>88.0</td>\n",
              "      <td>1706.0</td>\n",
              "      <td>24.53</td>\n",
              "      <td>126.55</td>\n",
              "      <td>55.136</td>\n",
              "      <td>114.0</td>\n",
              "      <td>3470.0</td>\n",
              "      <td>452.166667</td>\n",
              "      <td>30.438596</td>\n",
              "      <td>7.674161</td>\n",
              "      <td>30.438596</td>\n",
              "      <td>7.674161</td>\n",
              "    </tr>\n",
              "    <tr>\n",
              "      <th>AD Russell</th>\n",
              "      <td>1517.0</td>\n",
              "      <td>50.0</td>\n",
              "      <td>832.0</td>\n",
              "      <td>30.34</td>\n",
              "      <td>182.33</td>\n",
              "      <td>75.937</td>\n",
              "      <td>61.0</td>\n",
              "      <td>1713.0</td>\n",
              "      <td>191.166667</td>\n",
              "      <td>28.081967</td>\n",
              "      <td>8.960767</td>\n",
              "      <td>28.081967</td>\n",
              "      <td>8.960767</td>\n",
              "    </tr>\n",
              "    <tr>\n",
              "      <th>DJ Bravo</th>\n",
              "      <td>1490.0</td>\n",
              "      <td>65.0</td>\n",
              "      <td>1162.0</td>\n",
              "      <td>22.92</td>\n",
              "      <td>128.23</td>\n",
              "      <td>54.513</td>\n",
              "      <td>153.0</td>\n",
              "      <td>3798.0</td>\n",
              "      <td>452.000000</td>\n",
              "      <td>24.823529</td>\n",
              "      <td>8.402655</td>\n",
              "      <td>24.823529</td>\n",
              "      <td>8.402655</td>\n",
              "    </tr>\n",
              "    <tr>\n",
              "      <th>IK Pathan</th>\n",
              "      <td>1139.0</td>\n",
              "      <td>53.0</td>\n",
              "      <td>946.0</td>\n",
              "      <td>21.49</td>\n",
              "      <td>120.40</td>\n",
              "      <td>51.163</td>\n",
              "      <td>80.0</td>\n",
              "      <td>2649.0</td>\n",
              "      <td>340.500000</td>\n",
              "      <td>33.112500</td>\n",
              "      <td>7.779736</td>\n",
              "      <td>33.112500</td>\n",
              "      <td>7.779736</td>\n",
              "    </tr>\n",
              "  </tbody>\n",
              "</table>\n",
              "</div>"
            ],
            "text/plain": [
              "            batsman_runs  Total No.OUT  ...  Bowling Average  Bowling Economy\n",
              "SR Watson         3874.0         125.0  ...        29.152174         7.931000\n",
              "KA Pollard        3023.0         106.0  ...        32.666667         8.875472\n",
              "JH Kallis         2427.0          89.0  ...        35.276923         7.897819\n",
              "RA Jadeja         2159.0          88.0  ...        30.438596         7.674161\n",
              "AD Russell        1517.0          50.0  ...        28.081967         8.960767\n",
              "DJ Bravo          1490.0          65.0  ...        24.823529         8.402655\n",
              "IK Pathan         1139.0          53.0  ...        33.112500         7.779736\n",
              "\n",
              "[7 rows x 13 columns]"
            ]
          },
          "metadata": {
            "tags": []
          },
          "execution_count": 243
        }
      ]
    },
    {
      "cell_type": "code",
      "metadata": {
        "id": "H6_cdytSqxH0"
      },
      "source": [
        "df_total['Bowling Points'] = df_total['Bowling Average'] + df_total['Bowling Economy']"
      ],
      "execution_count": null,
      "outputs": []
    },
    {
      "cell_type": "code",
      "metadata": {
        "colab": {
          "base_uri": "https://localhost:8080/"
        },
        "id": "m2oSGW6lrIqc",
        "outputId": "4377837a-9ca4-478e-d5fc-4fda2cd0bf75"
      },
      "source": [
        "df_total.sort_values(by='Bowling Points', ascending=True)['Bowling Points']"
      ],
      "execution_count": null,
      "outputs": [
        {
          "output_type": "execute_result",
          "data": {
            "text/plain": [
              "DJ Bravo      33.226184\n",
              "AD Russell    37.042734\n",
              "SR Watson     37.083174\n",
              "RA Jadeja     38.112758\n",
              "IK Pathan     40.892236\n",
              "KA Pollard    41.542138\n",
              "JH Kallis     43.174742\n",
              "Name: Bowling Points, dtype: float64"
            ]
          },
          "metadata": {
            "tags": []
          },
          "execution_count": 248
        }
      ]
    },
    {
      "cell_type": "code",
      "metadata": {
        "colab": {
          "base_uri": "https://localhost:8080/"
        },
        "id": "wAsQPWMgsqkp",
        "outputId": "2c178904-1b1c-44d2-c0a4-0b2a77ed0eb8"
      },
      "source": [
        "df_total.sort_values(by='Points', ascending=False)['Points']"
      ],
      "execution_count": null,
      "outputs": [
        {
          "output_type": "execute_result",
          "data": {
            "text/plain": [
              "AD Russell    75.937\n",
              "KA Pollard    64.928\n",
              "SR Watson     63.066\n",
              "RA Jadeja     55.136\n",
              "DJ Bravo      54.513\n",
              "JH Kallis     51.858\n",
              "IK Pathan     51.163\n",
              "Name: Points, dtype: float64"
            ]
          },
          "metadata": {
            "tags": []
          },
          "execution_count": 249
        }
      ]
    },
    {
      "cell_type": "code",
      "metadata": {
        "id": "y2n4O8tauefb"
      },
      "source": [
        "df_total['Total'] = df_total['Points']-df_total['Bowling Points']"
      ],
      "execution_count": null,
      "outputs": []
    },
    {
      "cell_type": "code",
      "metadata": {
        "colab": {
          "base_uri": "https://localhost:8080/"
        },
        "id": "5YMAGWU_uwJ2",
        "outputId": "390a5fdb-2344-4514-e16c-c6b0258cd9b5"
      },
      "source": [
        "df_total.sort_values(by='Total', ascending=False)['Total']"
      ],
      "execution_count": null,
      "outputs": [
        {
          "output_type": "execute_result",
          "data": {
            "text/plain": [
              "AD Russell    38.894266\n",
              "SR Watson     25.982826\n",
              "KA Pollard    23.385862\n",
              "DJ Bravo      21.286816\n",
              "RA Jadeja     17.023242\n",
              "IK Pathan     10.270764\n",
              "JH Kallis      8.683258\n",
              "Name: Total, dtype: float64"
            ]
          },
          "metadata": {
            "tags": []
          },
          "execution_count": 252
        }
      ]
    }
  ]
}