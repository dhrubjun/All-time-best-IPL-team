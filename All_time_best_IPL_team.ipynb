{
  "nbformat": 4,
  "nbformat_minor": 0,
  "metadata": {
    "colab": {
      "name": "All time best IPL team.ipynb",
      "provenance": [],
      "collapsed_sections": [],
      "authorship_tag": "ABX9TyO0qSU2Jh3As3fRhey4skm8",
      "include_colab_link": true
    },
    "kernelspec": {
      "name": "python3",
      "display_name": "Python 3"
    },
    "language_info": {
      "name": "python"
    }
  },
  "cells": [
    {
      "cell_type": "markdown",
      "metadata": {
        "id": "view-in-github",
        "colab_type": "text"
      },
      "source": [
        "<a href=\"https://colab.research.google.com/github/dhrubjun/All-time-best-IPL-team/blob/main/All_time_best_IPL_team.ipynb\" target=\"_parent\"><img src=\"https://colab.research.google.com/assets/colab-badge.svg\" alt=\"Open In Colab\"/></a>"
      ]
    },
    {
      "cell_type": "code",
      "metadata": {
        "colab": {
          "base_uri": "https://localhost:8080/"
        },
        "id": "bdADmyEulZRr",
        "outputId": "e16f4218-446e-4e5f-8530-f9f140506f3d"
      },
      "source": [
        "from google.colab import drive\n",
        "drive.mount('/content/drive')"
      ],
      "execution_count": 1,
      "outputs": [
        {
          "output_type": "stream",
          "text": [
            "Mounted at /content/drive\n"
          ],
          "name": "stdout"
        }
      ]
    },
    {
      "cell_type": "markdown",
      "metadata": {
        "id": "XW6cVuD9m1oa"
      },
      "source": [
        "The team team will consists of 12 player (1 extra player). \n",
        "It will have -\n",
        "1. 5 Batsman\n",
        "2. 1 Wicket keeper batsman\n",
        "3. 1 all rounder\n",
        "4. 4 bowlers (2 spinners and 2 pacers)"
      ]
    },
    {
      "cell_type": "code",
      "metadata": {
        "id": "TS10cRillaOU"
      },
      "source": [
        "import pandas as pd\n",
        "import numpy as np\n",
        "import matplotlib.pyplot as plt\n",
        "import seaborn as sns\n",
        "%matplotlib inline\n",
        "\n",
        "path = \"/content/drive/MyDrive/data/IPL Ball-by-Ball 2008-2020.csv\"\n",
        "df = pd.read_csv(path)\n"
      ],
      "execution_count": 4,
      "outputs": []
    },
    {
      "cell_type": "code",
      "metadata": {
        "colab": {
          "base_uri": "https://localhost:8080/",
          "height": 395
        },
        "id": "uAB0aIQ4l-yR",
        "outputId": "a959acae-30fd-43ad-ce70-a2f094411b37"
      },
      "source": [
        "df.head()"
      ],
      "execution_count": 5,
      "outputs": [
        {
          "output_type": "execute_result",
          "data": {
            "text/html": [
              "<div>\n",
              "<style scoped>\n",
              "    .dataframe tbody tr th:only-of-type {\n",
              "        vertical-align: middle;\n",
              "    }\n",
              "\n",
              "    .dataframe tbody tr th {\n",
              "        vertical-align: top;\n",
              "    }\n",
              "\n",
              "    .dataframe thead th {\n",
              "        text-align: right;\n",
              "    }\n",
              "</style>\n",
              "<table border=\"1\" class=\"dataframe\">\n",
              "  <thead>\n",
              "    <tr style=\"text-align: right;\">\n",
              "      <th></th>\n",
              "      <th>id</th>\n",
              "      <th>inning</th>\n",
              "      <th>over</th>\n",
              "      <th>ball</th>\n",
              "      <th>batsman</th>\n",
              "      <th>non_striker</th>\n",
              "      <th>bowler</th>\n",
              "      <th>batsman_runs</th>\n",
              "      <th>extra_runs</th>\n",
              "      <th>total_runs</th>\n",
              "      <th>non_boundary</th>\n",
              "      <th>is_wicket</th>\n",
              "      <th>dismissal_kind</th>\n",
              "      <th>player_dismissed</th>\n",
              "      <th>fielder</th>\n",
              "      <th>extras_type</th>\n",
              "      <th>batting_team</th>\n",
              "      <th>bowling_team</th>\n",
              "    </tr>\n",
              "  </thead>\n",
              "  <tbody>\n",
              "    <tr>\n",
              "      <th>0</th>\n",
              "      <td>335982</td>\n",
              "      <td>1</td>\n",
              "      <td>6</td>\n",
              "      <td>5</td>\n",
              "      <td>RT Ponting</td>\n",
              "      <td>BB McCullum</td>\n",
              "      <td>AA Noffke</td>\n",
              "      <td>1</td>\n",
              "      <td>0</td>\n",
              "      <td>1</td>\n",
              "      <td>0</td>\n",
              "      <td>0</td>\n",
              "      <td>NaN</td>\n",
              "      <td>NaN</td>\n",
              "      <td>NaN</td>\n",
              "      <td>NaN</td>\n",
              "      <td>Kolkata Knight Riders</td>\n",
              "      <td>Royal Challengers Bangalore</td>\n",
              "    </tr>\n",
              "    <tr>\n",
              "      <th>1</th>\n",
              "      <td>335982</td>\n",
              "      <td>1</td>\n",
              "      <td>6</td>\n",
              "      <td>6</td>\n",
              "      <td>BB McCullum</td>\n",
              "      <td>RT Ponting</td>\n",
              "      <td>AA Noffke</td>\n",
              "      <td>1</td>\n",
              "      <td>0</td>\n",
              "      <td>1</td>\n",
              "      <td>0</td>\n",
              "      <td>0</td>\n",
              "      <td>NaN</td>\n",
              "      <td>NaN</td>\n",
              "      <td>NaN</td>\n",
              "      <td>NaN</td>\n",
              "      <td>Kolkata Knight Riders</td>\n",
              "      <td>Royal Challengers Bangalore</td>\n",
              "    </tr>\n",
              "    <tr>\n",
              "      <th>2</th>\n",
              "      <td>335982</td>\n",
              "      <td>1</td>\n",
              "      <td>7</td>\n",
              "      <td>1</td>\n",
              "      <td>BB McCullum</td>\n",
              "      <td>RT Ponting</td>\n",
              "      <td>Z Khan</td>\n",
              "      <td>0</td>\n",
              "      <td>0</td>\n",
              "      <td>0</td>\n",
              "      <td>0</td>\n",
              "      <td>0</td>\n",
              "      <td>NaN</td>\n",
              "      <td>NaN</td>\n",
              "      <td>NaN</td>\n",
              "      <td>NaN</td>\n",
              "      <td>Kolkata Knight Riders</td>\n",
              "      <td>Royal Challengers Bangalore</td>\n",
              "    </tr>\n",
              "    <tr>\n",
              "      <th>3</th>\n",
              "      <td>335982</td>\n",
              "      <td>1</td>\n",
              "      <td>7</td>\n",
              "      <td>2</td>\n",
              "      <td>BB McCullum</td>\n",
              "      <td>RT Ponting</td>\n",
              "      <td>Z Khan</td>\n",
              "      <td>1</td>\n",
              "      <td>0</td>\n",
              "      <td>1</td>\n",
              "      <td>0</td>\n",
              "      <td>0</td>\n",
              "      <td>NaN</td>\n",
              "      <td>NaN</td>\n",
              "      <td>NaN</td>\n",
              "      <td>NaN</td>\n",
              "      <td>Kolkata Knight Riders</td>\n",
              "      <td>Royal Challengers Bangalore</td>\n",
              "    </tr>\n",
              "    <tr>\n",
              "      <th>4</th>\n",
              "      <td>335982</td>\n",
              "      <td>1</td>\n",
              "      <td>7</td>\n",
              "      <td>3</td>\n",
              "      <td>RT Ponting</td>\n",
              "      <td>BB McCullum</td>\n",
              "      <td>Z Khan</td>\n",
              "      <td>1</td>\n",
              "      <td>0</td>\n",
              "      <td>1</td>\n",
              "      <td>0</td>\n",
              "      <td>0</td>\n",
              "      <td>NaN</td>\n",
              "      <td>NaN</td>\n",
              "      <td>NaN</td>\n",
              "      <td>NaN</td>\n",
              "      <td>Kolkata Knight Riders</td>\n",
              "      <td>Royal Challengers Bangalore</td>\n",
              "    </tr>\n",
              "  </tbody>\n",
              "</table>\n",
              "</div>"
            ],
            "text/plain": [
              "       id  inning  ...           batting_team                 bowling_team\n",
              "0  335982       1  ...  Kolkata Knight Riders  Royal Challengers Bangalore\n",
              "1  335982       1  ...  Kolkata Knight Riders  Royal Challengers Bangalore\n",
              "2  335982       1  ...  Kolkata Knight Riders  Royal Challengers Bangalore\n",
              "3  335982       1  ...  Kolkata Knight Riders  Royal Challengers Bangalore\n",
              "4  335982       1  ...  Kolkata Knight Riders  Royal Challengers Bangalore\n",
              "\n",
              "[5 rows x 18 columns]"
            ]
          },
          "metadata": {
            "tags": []
          },
          "execution_count": 5
        }
      ]
    },
    {
      "cell_type": "code",
      "metadata": {
        "id": "fmT4HQfQmBGa"
      },
      "source": [
        ""
      ],
      "execution_count": null,
      "outputs": []
    },
    {
      "cell_type": "markdown",
      "metadata": {
        "id": "UOAGv3CTnbGV"
      },
      "source": [
        "Selection of batsman will be on following criteria-\n",
        "1. Batting Avg."
      ]
    },
    {
      "cell_type": "code",
      "metadata": {
        "id": "RaM42RS0nl5I"
      },
      "source": [
        "df_total_run = df.groupby('batsman').sum().sort_values(by='batsman_runs', ascending=False)['batsman_runs']"
      ],
      "execution_count": 48,
      "outputs": []
    },
    {
      "cell_type": "markdown",
      "metadata": {
        "id": "Cbxnjn_fsJ7Z"
      },
      "source": [
        ""
      ]
    },
    {
      "cell_type": "code",
      "metadata": {
        "id": "4hSt1DuIrf_7"
      },
      "source": [
        "df_total_ball_faced = df.groupby('batsman').count().sort_values(by='batsman_runs', ascending=False)['batsman_runs']"
      ],
      "execution_count": 56,
      "outputs": []
    },
    {
      "cell_type": "code",
      "metadata": {
        "id": "8vGQgsVN20yt"
      },
      "source": [
        ""
      ],
      "execution_count": null,
      "outputs": []
    },
    {
      "cell_type": "code",
      "metadata": {
        "id": "lwqC4yuN1Lpi"
      },
      "source": [
        ""
      ],
      "execution_count": null,
      "outputs": []
    },
    {
      "cell_type": "code",
      "metadata": {
        "id": "-ZR-M5XprwD0"
      },
      "source": [
        ""
      ],
      "execution_count": null,
      "outputs": []
    },
    {
      "cell_type": "code",
      "metadata": {
        "id": "ajVrkNX_rLZP"
      },
      "source": [
        "total_out = df[df['is_wicket']==1].groupby('batsman').count().sort_values(by='is_wicket', ascending=False)['is_wicket']"
      ],
      "execution_count": 47,
      "outputs": []
    },
    {
      "cell_type": "code",
      "metadata": {
        "id": "ukLjA4l71FwG"
      },
      "source": [
        ""
      ],
      "execution_count": null,
      "outputs": []
    },
    {
      "cell_type": "code",
      "metadata": {
        "id": "PhQOBZy3zS3k"
      },
      "source": [
        "df_batsman = pd.concat([df_total_run,total_out], axis=1)"
      ],
      "execution_count": 54,
      "outputs": []
    },
    {
      "cell_type": "code",
      "metadata": {
        "id": "P9QCBDJB5BhI"
      },
      "source": [
        "df_batsman['Total balls faced'] = df_total_ball_faced"
      ],
      "execution_count": 57,
      "outputs": []
    },
    {
      "cell_type": "code",
      "metadata": {
        "id": "VN0XGCOE5QgC"
      },
      "source": [
        ""
      ],
      "execution_count": null,
      "outputs": []
    },
    {
      "cell_type": "code",
      "metadata": {
        "colab": {
          "base_uri": "https://localhost:8080/",
          "height": 355
        },
        "id": "ldlDQYtZzMRV",
        "outputId": "4269c251-1026-4982-fe20-5f5e3737a987"
      },
      "source": [
        "df_batsman.head(10)"
      ],
      "execution_count": 58,
      "outputs": [
        {
          "output_type": "execute_result",
          "data": {
            "text/html": [
              "<div>\n",
              "<style scoped>\n",
              "    .dataframe tbody tr th:only-of-type {\n",
              "        vertical-align: middle;\n",
              "    }\n",
              "\n",
              "    .dataframe tbody tr th {\n",
              "        vertical-align: top;\n",
              "    }\n",
              "\n",
              "    .dataframe thead th {\n",
              "        text-align: right;\n",
              "    }\n",
              "</style>\n",
              "<table border=\"1\" class=\"dataframe\">\n",
              "  <thead>\n",
              "    <tr style=\"text-align: right;\">\n",
              "      <th></th>\n",
              "      <th>batsman_runs</th>\n",
              "      <th>is_wicket</th>\n",
              "      <th>Total balls faced</th>\n",
              "    </tr>\n",
              "  </thead>\n",
              "  <tbody>\n",
              "    <tr>\n",
              "      <th>V Kohli</th>\n",
              "      <td>5878</td>\n",
              "      <td>163.0</td>\n",
              "      <td>4609</td>\n",
              "    </tr>\n",
              "    <tr>\n",
              "      <th>SK Raina</th>\n",
              "      <td>5368</td>\n",
              "      <td>160.0</td>\n",
              "      <td>4041</td>\n",
              "    </tr>\n",
              "    <tr>\n",
              "      <th>DA Warner</th>\n",
              "      <td>5254</td>\n",
              "      <td>126.0</td>\n",
              "      <td>3819</td>\n",
              "    </tr>\n",
              "    <tr>\n",
              "      <th>RG Sharma</th>\n",
              "      <td>5230</td>\n",
              "      <td>177.0</td>\n",
              "      <td>4088</td>\n",
              "    </tr>\n",
              "    <tr>\n",
              "      <th>S Dhawan</th>\n",
              "      <td>5197</td>\n",
              "      <td>152.0</td>\n",
              "      <td>4208</td>\n",
              "    </tr>\n",
              "    <tr>\n",
              "      <th>AB de Villiers</th>\n",
              "      <td>4849</td>\n",
              "      <td>114.0</td>\n",
              "      <td>3264</td>\n",
              "    </tr>\n",
              "    <tr>\n",
              "      <th>CH Gayle</th>\n",
              "      <td>4772</td>\n",
              "      <td>116.0</td>\n",
              "      <td>3342</td>\n",
              "    </tr>\n",
              "    <tr>\n",
              "      <th>MS Dhoni</th>\n",
              "      <td>4632</td>\n",
              "      <td>126.0</td>\n",
              "      <td>3493</td>\n",
              "    </tr>\n",
              "    <tr>\n",
              "      <th>RV Uthappa</th>\n",
              "      <td>4607</td>\n",
              "      <td>169.0</td>\n",
              "      <td>3658</td>\n",
              "    </tr>\n",
              "    <tr>\n",
              "      <th>G Gambhir</th>\n",
              "      <td>4217</td>\n",
              "      <td>135.0</td>\n",
              "      <td>3524</td>\n",
              "    </tr>\n",
              "  </tbody>\n",
              "</table>\n",
              "</div>"
            ],
            "text/plain": [
              "                batsman_runs  is_wicket  Total balls faced\n",
              "V Kohli                 5878      163.0               4609\n",
              "SK Raina                5368      160.0               4041\n",
              "DA Warner               5254      126.0               3819\n",
              "RG Sharma               5230      177.0               4088\n",
              "S Dhawan                5197      152.0               4208\n",
              "AB de Villiers          4849      114.0               3264\n",
              "CH Gayle                4772      116.0               3342\n",
              "MS Dhoni                4632      126.0               3493\n",
              "RV Uthappa              4607      169.0               3658\n",
              "G Gambhir               4217      135.0               3524"
            ]
          },
          "metadata": {
            "tags": []
          },
          "execution_count": 58
        }
      ]
    },
    {
      "cell_type": "code",
      "metadata": {
        "id": "MEZUt1j15CUG"
      },
      "source": [
        "df_batsman['Average'] = round(df_batsman['batsman_runs']/df_batsman['is_wicket'], 2)"
      ],
      "execution_count": 61,
      "outputs": []
    },
    {
      "cell_type": "code",
      "metadata": {
        "id": "-yO11-9I6M0P"
      },
      "source": [
        ""
      ],
      "execution_count": null,
      "outputs": []
    },
    {
      "cell_type": "code",
      "metadata": {
        "colab": {
          "base_uri": "https://localhost:8080/",
          "height": 355
        },
        "id": "LV9sIfp04pc9",
        "outputId": "0c04cef1-63b6-4a93-a4b0-05410fcbed2b"
      },
      "source": [
        "df_batsman.head(10)"
      ],
      "execution_count": 62,
      "outputs": [
        {
          "output_type": "execute_result",
          "data": {
            "text/html": [
              "<div>\n",
              "<style scoped>\n",
              "    .dataframe tbody tr th:only-of-type {\n",
              "        vertical-align: middle;\n",
              "    }\n",
              "\n",
              "    .dataframe tbody tr th {\n",
              "        vertical-align: top;\n",
              "    }\n",
              "\n",
              "    .dataframe thead th {\n",
              "        text-align: right;\n",
              "    }\n",
              "</style>\n",
              "<table border=\"1\" class=\"dataframe\">\n",
              "  <thead>\n",
              "    <tr style=\"text-align: right;\">\n",
              "      <th></th>\n",
              "      <th>batsman_runs</th>\n",
              "      <th>is_wicket</th>\n",
              "      <th>Total balls faced</th>\n",
              "      <th>Average</th>\n",
              "    </tr>\n",
              "  </thead>\n",
              "  <tbody>\n",
              "    <tr>\n",
              "      <th>V Kohli</th>\n",
              "      <td>5878</td>\n",
              "      <td>163.0</td>\n",
              "      <td>4609</td>\n",
              "      <td>36.06</td>\n",
              "    </tr>\n",
              "    <tr>\n",
              "      <th>SK Raina</th>\n",
              "      <td>5368</td>\n",
              "      <td>160.0</td>\n",
              "      <td>4041</td>\n",
              "      <td>33.55</td>\n",
              "    </tr>\n",
              "    <tr>\n",
              "      <th>DA Warner</th>\n",
              "      <td>5254</td>\n",
              "      <td>126.0</td>\n",
              "      <td>3819</td>\n",
              "      <td>41.70</td>\n",
              "    </tr>\n",
              "    <tr>\n",
              "      <th>RG Sharma</th>\n",
              "      <td>5230</td>\n",
              "      <td>177.0</td>\n",
              "      <td>4088</td>\n",
              "      <td>29.55</td>\n",
              "    </tr>\n",
              "    <tr>\n",
              "      <th>S Dhawan</th>\n",
              "      <td>5197</td>\n",
              "      <td>152.0</td>\n",
              "      <td>4208</td>\n",
              "      <td>34.19</td>\n",
              "    </tr>\n",
              "    <tr>\n",
              "      <th>AB de Villiers</th>\n",
              "      <td>4849</td>\n",
              "      <td>114.0</td>\n",
              "      <td>3264</td>\n",
              "      <td>42.54</td>\n",
              "    </tr>\n",
              "    <tr>\n",
              "      <th>CH Gayle</th>\n",
              "      <td>4772</td>\n",
              "      <td>116.0</td>\n",
              "      <td>3342</td>\n",
              "      <td>41.14</td>\n",
              "    </tr>\n",
              "    <tr>\n",
              "      <th>MS Dhoni</th>\n",
              "      <td>4632</td>\n",
              "      <td>126.0</td>\n",
              "      <td>3493</td>\n",
              "      <td>36.76</td>\n",
              "    </tr>\n",
              "    <tr>\n",
              "      <th>RV Uthappa</th>\n",
              "      <td>4607</td>\n",
              "      <td>169.0</td>\n",
              "      <td>3658</td>\n",
              "      <td>27.26</td>\n",
              "    </tr>\n",
              "    <tr>\n",
              "      <th>G Gambhir</th>\n",
              "      <td>4217</td>\n",
              "      <td>135.0</td>\n",
              "      <td>3524</td>\n",
              "      <td>31.24</td>\n",
              "    </tr>\n",
              "  </tbody>\n",
              "</table>\n",
              "</div>"
            ],
            "text/plain": [
              "                batsman_runs  is_wicket  Total balls faced  Average\n",
              "V Kohli                 5878      163.0               4609    36.06\n",
              "SK Raina                5368      160.0               4041    33.55\n",
              "DA Warner               5254      126.0               3819    41.70\n",
              "RG Sharma               5230      177.0               4088    29.55\n",
              "S Dhawan                5197      152.0               4208    34.19\n",
              "AB de Villiers          4849      114.0               3264    42.54\n",
              "CH Gayle                4772      116.0               3342    41.14\n",
              "MS Dhoni                4632      126.0               3493    36.76\n",
              "RV Uthappa              4607      169.0               3658    27.26\n",
              "G Gambhir               4217      135.0               3524    31.24"
            ]
          },
          "metadata": {
            "tags": []
          },
          "execution_count": 62
        }
      ]
    },
    {
      "cell_type": "code",
      "metadata": {
        "id": "4_IJuvub6AzU"
      },
      "source": [
        ""
      ],
      "execution_count": 62,
      "outputs": []
    },
    {
      "cell_type": "code",
      "metadata": {
        "id": "pgy8YAfS6c30"
      },
      "source": [
        "df_batsman['Strike Rate'] = round((df_batsman['batsman_runs']/df_batsman['Total balls faced'])* 100 , 2)"
      ],
      "execution_count": 63,
      "outputs": []
    },
    {
      "cell_type": "code",
      "metadata": {
        "id": "Ns5R4YetzEGH"
      },
      "source": [
        ""
      ],
      "execution_count": null,
      "outputs": []
    },
    {
      "cell_type": "code",
      "metadata": {
        "colab": {
          "base_uri": "https://localhost:8080/",
          "height": 662
        },
        "id": "tQ5ivyJLy4z4",
        "outputId": "47c50ab3-cbf5-4140-d7fc-31465b71151a"
      },
      "source": [
        "df_batsman.head(20)"
      ],
      "execution_count": 64,
      "outputs": [
        {
          "output_type": "execute_result",
          "data": {
            "text/html": [
              "<div>\n",
              "<style scoped>\n",
              "    .dataframe tbody tr th:only-of-type {\n",
              "        vertical-align: middle;\n",
              "    }\n",
              "\n",
              "    .dataframe tbody tr th {\n",
              "        vertical-align: top;\n",
              "    }\n",
              "\n",
              "    .dataframe thead th {\n",
              "        text-align: right;\n",
              "    }\n",
              "</style>\n",
              "<table border=\"1\" class=\"dataframe\">\n",
              "  <thead>\n",
              "    <tr style=\"text-align: right;\">\n",
              "      <th></th>\n",
              "      <th>batsman_runs</th>\n",
              "      <th>is_wicket</th>\n",
              "      <th>Total balls faced</th>\n",
              "      <th>Average</th>\n",
              "      <th>Strike Rate</th>\n",
              "    </tr>\n",
              "  </thead>\n",
              "  <tbody>\n",
              "    <tr>\n",
              "      <th>V Kohli</th>\n",
              "      <td>5878</td>\n",
              "      <td>163.0</td>\n",
              "      <td>4609</td>\n",
              "      <td>36.06</td>\n",
              "      <td>127.53</td>\n",
              "    </tr>\n",
              "    <tr>\n",
              "      <th>SK Raina</th>\n",
              "      <td>5368</td>\n",
              "      <td>160.0</td>\n",
              "      <td>4041</td>\n",
              "      <td>33.55</td>\n",
              "      <td>132.84</td>\n",
              "    </tr>\n",
              "    <tr>\n",
              "      <th>DA Warner</th>\n",
              "      <td>5254</td>\n",
              "      <td>126.0</td>\n",
              "      <td>3819</td>\n",
              "      <td>41.70</td>\n",
              "      <td>137.58</td>\n",
              "    </tr>\n",
              "    <tr>\n",
              "      <th>RG Sharma</th>\n",
              "      <td>5230</td>\n",
              "      <td>177.0</td>\n",
              "      <td>4088</td>\n",
              "      <td>29.55</td>\n",
              "      <td>127.94</td>\n",
              "    </tr>\n",
              "    <tr>\n",
              "      <th>S Dhawan</th>\n",
              "      <td>5197</td>\n",
              "      <td>152.0</td>\n",
              "      <td>4208</td>\n",
              "      <td>34.19</td>\n",
              "      <td>123.50</td>\n",
              "    </tr>\n",
              "    <tr>\n",
              "      <th>AB de Villiers</th>\n",
              "      <td>4849</td>\n",
              "      <td>114.0</td>\n",
              "      <td>3264</td>\n",
              "      <td>42.54</td>\n",
              "      <td>148.56</td>\n",
              "    </tr>\n",
              "    <tr>\n",
              "      <th>CH Gayle</th>\n",
              "      <td>4772</td>\n",
              "      <td>116.0</td>\n",
              "      <td>3342</td>\n",
              "      <td>41.14</td>\n",
              "      <td>142.79</td>\n",
              "    </tr>\n",
              "    <tr>\n",
              "      <th>MS Dhoni</th>\n",
              "      <td>4632</td>\n",
              "      <td>126.0</td>\n",
              "      <td>3493</td>\n",
              "      <td>36.76</td>\n",
              "      <td>132.61</td>\n",
              "    </tr>\n",
              "    <tr>\n",
              "      <th>RV Uthappa</th>\n",
              "      <td>4607</td>\n",
              "      <td>169.0</td>\n",
              "      <td>3658</td>\n",
              "      <td>27.26</td>\n",
              "      <td>125.94</td>\n",
              "    </tr>\n",
              "    <tr>\n",
              "      <th>G Gambhir</th>\n",
              "      <td>4217</td>\n",
              "      <td>135.0</td>\n",
              "      <td>3524</td>\n",
              "      <td>31.24</td>\n",
              "      <td>119.67</td>\n",
              "    </tr>\n",
              "    <tr>\n",
              "      <th>AM Rahane</th>\n",
              "      <td>3933</td>\n",
              "      <td>125.0</td>\n",
              "      <td>3325</td>\n",
              "      <td>31.46</td>\n",
              "      <td>118.29</td>\n",
              "    </tr>\n",
              "    <tr>\n",
              "      <th>SR Watson</th>\n",
              "      <td>3874</td>\n",
              "      <td>125.0</td>\n",
              "      <td>2888</td>\n",
              "      <td>30.99</td>\n",
              "      <td>134.14</td>\n",
              "    </tr>\n",
              "    <tr>\n",
              "      <th>KD Karthik</th>\n",
              "      <td>3823</td>\n",
              "      <td>152.0</td>\n",
              "      <td>3023</td>\n",
              "      <td>25.15</td>\n",
              "      <td>126.46</td>\n",
              "    </tr>\n",
              "    <tr>\n",
              "      <th>AT Rayudu</th>\n",
              "      <td>3659</td>\n",
              "      <td>123.0</td>\n",
              "      <td>2970</td>\n",
              "      <td>29.75</td>\n",
              "      <td>123.20</td>\n",
              "    </tr>\n",
              "    <tr>\n",
              "      <th>MK Pandey</th>\n",
              "      <td>3268</td>\n",
              "      <td>109.0</td>\n",
              "      <td>2772</td>\n",
              "      <td>29.98</td>\n",
              "      <td>117.89</td>\n",
              "    </tr>\n",
              "    <tr>\n",
              "      <th>YK Pathan</th>\n",
              "      <td>3204</td>\n",
              "      <td>111.0</td>\n",
              "      <td>2330</td>\n",
              "      <td>28.86</td>\n",
              "      <td>137.51</td>\n",
              "    </tr>\n",
              "    <tr>\n",
              "      <th>KA Pollard</th>\n",
              "      <td>3023</td>\n",
              "      <td>106.0</td>\n",
              "      <td>2107</td>\n",
              "      <td>28.52</td>\n",
              "      <td>143.47</td>\n",
              "    </tr>\n",
              "    <tr>\n",
              "      <th>BB McCullum</th>\n",
              "      <td>2880</td>\n",
              "      <td>106.0</td>\n",
              "      <td>2267</td>\n",
              "      <td>27.17</td>\n",
              "      <td>127.04</td>\n",
              "    </tr>\n",
              "    <tr>\n",
              "      <th>PA Patel</th>\n",
              "      <td>2848</td>\n",
              "      <td>127.0</td>\n",
              "      <td>2442</td>\n",
              "      <td>22.43</td>\n",
              "      <td>116.63</td>\n",
              "    </tr>\n",
              "    <tr>\n",
              "      <th>Yuvraj Singh</th>\n",
              "      <td>2750</td>\n",
              "      <td>109.0</td>\n",
              "      <td>2205</td>\n",
              "      <td>25.23</td>\n",
              "      <td>124.72</td>\n",
              "    </tr>\n",
              "  </tbody>\n",
              "</table>\n",
              "</div>"
            ],
            "text/plain": [
              "                batsman_runs  is_wicket  ...  Average  Strike Rate\n",
              "V Kohli                 5878      163.0  ...    36.06       127.53\n",
              "SK Raina                5368      160.0  ...    33.55       132.84\n",
              "DA Warner               5254      126.0  ...    41.70       137.58\n",
              "RG Sharma               5230      177.0  ...    29.55       127.94\n",
              "S Dhawan                5197      152.0  ...    34.19       123.50\n",
              "AB de Villiers          4849      114.0  ...    42.54       148.56\n",
              "CH Gayle                4772      116.0  ...    41.14       142.79\n",
              "MS Dhoni                4632      126.0  ...    36.76       132.61\n",
              "RV Uthappa              4607      169.0  ...    27.26       125.94\n",
              "G Gambhir               4217      135.0  ...    31.24       119.67\n",
              "AM Rahane               3933      125.0  ...    31.46       118.29\n",
              "SR Watson               3874      125.0  ...    30.99       134.14\n",
              "KD Karthik              3823      152.0  ...    25.15       126.46\n",
              "AT Rayudu               3659      123.0  ...    29.75       123.20\n",
              "MK Pandey               3268      109.0  ...    29.98       117.89\n",
              "YK Pathan               3204      111.0  ...    28.86       137.51\n",
              "KA Pollard              3023      106.0  ...    28.52       143.47\n",
              "BB McCullum             2880      106.0  ...    27.17       127.04\n",
              "PA Patel                2848      127.0  ...    22.43       116.63\n",
              "Yuvraj Singh            2750      109.0  ...    25.23       124.72\n",
              "\n",
              "[20 rows x 5 columns]"
            ]
          },
          "metadata": {
            "tags": []
          },
          "execution_count": 64
        }
      ]
    },
    {
      "cell_type": "code",
      "metadata": {
        "colab": {
          "base_uri": "https://localhost:8080/",
          "height": 351
        },
        "id": "Xd9bBqge6x0u",
        "outputId": "ee303a39-b0e3-482b-b7c1-71f0c2571739"
      },
      "source": [
        "df_batsman.sort_values(by='Average', ascending=False).head(20)['Average'].plot(kind='bar')"
      ],
      "execution_count": 74,
      "outputs": [
        {
          "output_type": "execute_result",
          "data": {
            "text/plain": [
              "<matplotlib.axes._subplots.AxesSubplot at 0x7f422fef1d90>"
            ]
          },
          "metadata": {
            "tags": []
          },
          "execution_count": 74
        },
        {
          "output_type": "display_data",
          "data": {
            "image/png": "[encoded data removed]",
            "text/plain": [
              "<Figure size 432x288 with 1 Axes>"
            ]
          },
          "metadata": {
            "tags": [],
            "needs_background": "light"
          }
        }
      ]
    },
    {
      "cell_type": "code",
      "metadata": {
        "id": "xjcA_3co8Jg-"
      },
      "source": [
        ""
      ],
      "execution_count": null,
      "outputs": []
    },
    {
      "cell_type": "code",
      "metadata": {
        "id": "sDhn_9Yn77EB"
      },
      "source": [
        ""
      ],
      "execution_count": null,
      "outputs": []
    },
    {
      "cell_type": "code",
      "metadata": {
        "id": "r00rjlmz7yNG"
      },
      "source": [
        ""
      ],
      "execution_count": null,
      "outputs": []
    },
    {
      "cell_type": "code",
      "metadata": {
        "id": "_2z7Tqa_7ief"
      },
      "source": [
        ""
      ],
      "execution_count": null,
      "outputs": []
    },
    {
      "cell_type": "code",
      "metadata": {
        "id": "lejNG8B07dF7"
      },
      "source": [
        ""
      ],
      "execution_count": null,
      "outputs": []
    },
    {
      "cell_type": "code",
      "metadata": {
        "id": "RanVbcs87bg4"
      },
      "source": [
        ""
      ],
      "execution_count": null,
      "outputs": []
    },
    {
      "cell_type": "code",
      "metadata": {
        "id": "RwXS1XUG7WS8"
      },
      "source": [
        ""
      ],
      "execution_count": null,
      "outputs": []
    },
    {
      "cell_type": "code",
      "metadata": {
        "id": "isKzk2wG7RTv"
      },
      "source": [
        ""
      ],
      "execution_count": null,
      "outputs": []
    },
    {
      "cell_type": "code",
      "metadata": {
        "id": "o58tmCX97Gl2"
      },
      "source": [
        ""
      ],
      "execution_count": null,
      "outputs": []
    },
    {
      "cell_type": "code",
      "metadata": {
        "id": "eGK2_OFo7C9k"
      },
      "source": [
        ""
      ],
      "execution_count": null,
      "outputs": []
    },
    {
      "cell_type": "code",
      "metadata": {
        "id": "VvhPQdrbxZkw"
      },
      "source": [
        ""
      ],
      "execution_count": null,
      "outputs": []
    },
    {
      "cell_type": "code",
      "metadata": {
        "id": "1u0aimX7xO9R"
      },
      "source": [
        ""
      ],
      "execution_count": null,
      "outputs": []
    },
    {
      "cell_type": "code",
      "metadata": {
        "id": "8Gz00x0gxMAf"
      },
      "source": [
        ""
      ],
      "execution_count": null,
      "outputs": []
    },
    {
      "cell_type": "code",
      "metadata": {
        "id": "AYpiLLlSwnqn"
      },
      "source": [
        ""
      ],
      "execution_count": null,
      "outputs": []
    },
    {
      "cell_type": "code",
      "metadata": {
        "id": "daWxzxKAwisW"
      },
      "source": [
        ""
      ],
      "execution_count": null,
      "outputs": []
    },
    {
      "cell_type": "code",
      "metadata": {
        "id": "HN2fgfcGv14R"
      },
      "source": [
        ""
      ],
      "execution_count": null,
      "outputs": []
    },
    {
      "cell_type": "code",
      "metadata": {
        "id": "KRl1pBnMvvfW"
      },
      "source": [
        ""
      ],
      "execution_count": null,
      "outputs": []
    },
    {
      "cell_type": "code",
      "metadata": {
        "id": "7NADtin-vrwm"
      },
      "source": [
        ""
      ],
      "execution_count": null,
      "outputs": []
    },
    {
      "cell_type": "code",
      "metadata": {
        "id": "D8TGEBs4uyL4"
      },
      "source": [
        ""
      ],
      "execution_count": null,
      "outputs": []
    },
    {
      "cell_type": "code",
      "metadata": {
        "id": "iOgDh3wxuenh"
      },
      "source": [
        ""
      ],
      "execution_count": null,
      "outputs": []
    },
    {
      "cell_type": "code",
      "metadata": {
        "id": "nPeyGYFRuU8G"
      },
      "source": [
        ""
      ],
      "execution_count": null,
      "outputs": []
    },
    {
      "cell_type": "code",
      "metadata": {
        "id": "mKpQNqSkuLCv"
      },
      "source": [
        ""
      ],
      "execution_count": null,
      "outputs": []
    },
    {
      "cell_type": "code",
      "metadata": {
        "id": "dmHfg4q9uDsc"
      },
      "source": [
        ""
      ],
      "execution_count": null,
      "outputs": []
    },
    {
      "cell_type": "code",
      "metadata": {
        "id": "KAeGn_1Ct_rV"
      },
      "source": [
        ""
      ],
      "execution_count": null,
      "outputs": []
    },
    {
      "cell_type": "code",
      "metadata": {
        "id": "HLsQw0pIt83z"
      },
      "source": [
        ""
      ],
      "execution_count": null,
      "outputs": []
    },
    {
      "cell_type": "code",
      "metadata": {
        "id": "HOL4H8Aut7CK"
      },
      "source": [
        ""
      ],
      "execution_count": null,
      "outputs": []
    },
    {
      "cell_type": "code",
      "metadata": {
        "id": "KRoVCTkBt1og"
      },
      "source": [
        ""
      ],
      "execution_count": null,
      "outputs": []
    },
    {
      "cell_type": "code",
      "metadata": {
        "id": "DQwzktqVtsAy"
      },
      "source": [
        ""
      ],
      "execution_count": null,
      "outputs": []
    },
    {
      "cell_type": "code",
      "metadata": {
        "id": "Uc__QzVwtfvb"
      },
      "source": [
        ""
      ],
      "execution_count": null,
      "outputs": []
    },
    {
      "cell_type": "code",
      "metadata": {
        "id": "4UDjWgdgtR0G"
      },
      "source": [
        ""
      ],
      "execution_count": null,
      "outputs": []
    },
    {
      "cell_type": "code",
      "metadata": {
        "id": "Z5l9UeyMtG2h"
      },
      "source": [
        ""
      ],
      "execution_count": null,
      "outputs": []
    },
    {
      "cell_type": "code",
      "metadata": {
        "id": "Uw0sIkEZqhuF"
      },
      "source": [
        ""
      ],
      "execution_count": null,
      "outputs": []
    },
    {
      "cell_type": "code",
      "metadata": {
        "id": "-fcBY2edqZO6"
      },
      "source": [
        ""
      ],
      "execution_count": null,
      "outputs": []
    },
    {
      "cell_type": "code",
      "metadata": {
        "id": "vSvBuw92qNTw"
      },
      "source": [
        ""
      ],
      "execution_count": null,
      "outputs": []
    },
    {
      "cell_type": "code",
      "metadata": {
        "id": "wxQiEuUNpS5-"
      },
      "source": [
        ""
      ],
      "execution_count": null,
      "outputs": []
    }
  ]
}