{
  "nbformat": 4,
  "nbformat_minor": 0,
  "metadata": {
    "colab": {
      "name": "All time best IPL team.ipynb",
      "provenance": [],
      "collapsed_sections": [],
      "authorship_tag": "ABX9TyNfigdnbG2lC4u148rIBGMT",
      "include_colab_link": true
    },
    "kernelspec": {
      "name": "python3",
      "display_name": "Python 3"
    },
    "language_info": {
      "name": "python"
    }
  },
  "cells": [
    {
      "cell_type": "markdown",
      "metadata": {
        "id": "view-in-github",
        "colab_type": "text"
      },
      "source": [
        "<a href=\"https://colab.research.google.com/github/dhrubjun/All-time-best-IPL-team/blob/main/All_time_best_IPL_team.ipynb\" target=\"_parent\"><img src=\"https://colab.research.google.com/assets/colab-badge.svg\" alt=\"Open In Colab\"/></a>"
      ]
    },
    {
      "cell_type": "code",
      "metadata": {
        "colab": {
          "base_uri": "https://localhost:8080/"
        },
        "id": "bdADmyEulZRr",
        "outputId": "b05a5f12-85f3-4ee6-b388-9ca3ee52f22f"
      },
      "source": [
        "from google.colab import drive\n",
        "drive.mount('/content/drive')"
      ],
      "execution_count": 2,
      "outputs": [
        {
          "output_type": "stream",
          "text": [
            "Mounted at /content/drive\n"
          ],
          "name": "stdout"
        }
      ]
    },
    {
      "cell_type": "markdown",
      "metadata": {
        "id": "XW6cVuD9m1oa"
      },
      "source": [
        "The team team will consists of 12 player (1 extra player). \n",
        "It will have -\n",
        "1. 5 Batsman\n",
        "2. 1 Wicket keeper batsman\n",
        "3. 1 all rounder\n",
        "4. 4 bowlers (2 spinners and 2 pacers)"
      ]
    },
    {
      "cell_type": "code",
      "metadata": {
        "id": "TS10cRillaOU"
      },
      "source": [
        "import pandas as pd\n",
        "import numpy as np\n",
        "import matplotlib.pyplot as plt\n",
        "import seaborn as sns\n",
        "%matplotlib inline\n",
        "\n",
        "path = \"/content/drive/MyDrive/data/IPL Ball-by-Ball 2008-2020.csv\"\n",
        "df = pd.read_csv(path)\n"
      ],
      "execution_count": 3,
      "outputs": []
    },
    {
      "cell_type": "code",
      "metadata": {
        "colab": {
          "base_uri": "https://localhost:8080/",
          "height": 395
        },
        "id": "uAB0aIQ4l-yR",
        "outputId": "b2036996-a6f1-4a85-b430-3b1571b195ef"
      },
      "source": [
        "df.head()"
      ],
      "execution_count": 8,
      "outputs": [
        {
          "output_type": "execute_result",
          "data": {
            "text/html": [
              "<div>\n",
              "<style scoped>\n",
              "    .dataframe tbody tr th:only-of-type {\n",
              "        vertical-align: middle;\n",
              "    }\n",
              "\n",
              "    .dataframe tbody tr th {\n",
              "        vertical-align: top;\n",
              "    }\n",
              "\n",
              "    .dataframe thead th {\n",
              "        text-align: right;\n",
              "    }\n",
              "</style>\n",
              "<table border=\"1\" class=\"dataframe\">\n",
              "  <thead>\n",
              "    <tr style=\"text-align: right;\">\n",
              "      <th></th>\n",
              "      <th>id</th>\n",
              "      <th>inning</th>\n",
              "      <th>over</th>\n",
              "      <th>ball</th>\n",
              "      <th>batsman</th>\n",
              "      <th>non_striker</th>\n",
              "      <th>bowler</th>\n",
              "      <th>batsman_runs</th>\n",
              "      <th>extra_runs</th>\n",
              "      <th>total_runs</th>\n",
              "      <th>non_boundary</th>\n",
              "      <th>is_wicket</th>\n",
              "      <th>dismissal_kind</th>\n",
              "      <th>player_dismissed</th>\n",
              "      <th>fielder</th>\n",
              "      <th>extras_type</th>\n",
              "      <th>batting_team</th>\n",
              "      <th>bowling_team</th>\n",
              "    </tr>\n",
              "  </thead>\n",
              "  <tbody>\n",
              "    <tr>\n",
              "      <th>0</th>\n",
              "      <td>335982</td>\n",
              "      <td>1</td>\n",
              "      <td>6</td>\n",
              "      <td>5</td>\n",
              "      <td>RT Ponting</td>\n",
              "      <td>BB McCullum</td>\n",
              "      <td>AA Noffke</td>\n",
              "      <td>1</td>\n",
              "      <td>0</td>\n",
              "      <td>1</td>\n",
              "      <td>0</td>\n",
              "      <td>0</td>\n",
              "      <td>NaN</td>\n",
              "      <td>NaN</td>\n",
              "      <td>NaN</td>\n",
              "      <td>NaN</td>\n",
              "      <td>Kolkata Knight Riders</td>\n",
              "      <td>Royal Challengers Bangalore</td>\n",
              "    </tr>\n",
              "    <tr>\n",
              "      <th>1</th>\n",
              "      <td>335982</td>\n",
              "      <td>1</td>\n",
              "      <td>6</td>\n",
              "      <td>6</td>\n",
              "      <td>BB McCullum</td>\n",
              "      <td>RT Ponting</td>\n",
              "      <td>AA Noffke</td>\n",
              "      <td>1</td>\n",
              "      <td>0</td>\n",
              "      <td>1</td>\n",
              "      <td>0</td>\n",
              "      <td>0</td>\n",
              "      <td>NaN</td>\n",
              "      <td>NaN</td>\n",
              "      <td>NaN</td>\n",
              "      <td>NaN</td>\n",
              "      <td>Kolkata Knight Riders</td>\n",
              "      <td>Royal Challengers Bangalore</td>\n",
              "    </tr>\n",
              "    <tr>\n",
              "      <th>2</th>\n",
              "      <td>335982</td>\n",
              "      <td>1</td>\n",
              "      <td>7</td>\n",
              "      <td>1</td>\n",
              "      <td>BB McCullum</td>\n",
              "      <td>RT Ponting</td>\n",
              "      <td>Z Khan</td>\n",
              "      <td>0</td>\n",
              "      <td>0</td>\n",
              "      <td>0</td>\n",
              "      <td>0</td>\n",
              "      <td>0</td>\n",
              "      <td>NaN</td>\n",
              "      <td>NaN</td>\n",
              "      <td>NaN</td>\n",
              "      <td>NaN</td>\n",
              "      <td>Kolkata Knight Riders</td>\n",
              "      <td>Royal Challengers Bangalore</td>\n",
              "    </tr>\n",
              "    <tr>\n",
              "      <th>3</th>\n",
              "      <td>335982</td>\n",
              "      <td>1</td>\n",
              "      <td>7</td>\n",
              "      <td>2</td>\n",
              "      <td>BB McCullum</td>\n",
              "      <td>RT Ponting</td>\n",
              "      <td>Z Khan</td>\n",
              "      <td>1</td>\n",
              "      <td>0</td>\n",
              "      <td>1</td>\n",
              "      <td>0</td>\n",
              "      <td>0</td>\n",
              "      <td>NaN</td>\n",
              "      <td>NaN</td>\n",
              "      <td>NaN</td>\n",
              "      <td>NaN</td>\n",
              "      <td>Kolkata Knight Riders</td>\n",
              "      <td>Royal Challengers Bangalore</td>\n",
              "    </tr>\n",
              "    <tr>\n",
              "      <th>4</th>\n",
              "      <td>335982</td>\n",
              "      <td>1</td>\n",
              "      <td>7</td>\n",
              "      <td>3</td>\n",
              "      <td>RT Ponting</td>\n",
              "      <td>BB McCullum</td>\n",
              "      <td>Z Khan</td>\n",
              "      <td>1</td>\n",
              "      <td>0</td>\n",
              "      <td>1</td>\n",
              "      <td>0</td>\n",
              "      <td>0</td>\n",
              "      <td>NaN</td>\n",
              "      <td>NaN</td>\n",
              "      <td>NaN</td>\n",
              "      <td>NaN</td>\n",
              "      <td>Kolkata Knight Riders</td>\n",
              "      <td>Royal Challengers Bangalore</td>\n",
              "    </tr>\n",
              "  </tbody>\n",
              "</table>\n",
              "</div>"
            ],
            "text/plain": [
              "       id  inning  ...           batting_team                 bowling_team\n",
              "0  335982       1  ...  Kolkata Knight Riders  Royal Challengers Bangalore\n",
              "1  335982       1  ...  Kolkata Knight Riders  Royal Challengers Bangalore\n",
              "2  335982       1  ...  Kolkata Knight Riders  Royal Challengers Bangalore\n",
              "3  335982       1  ...  Kolkata Knight Riders  Royal Challengers Bangalore\n",
              "4  335982       1  ...  Kolkata Knight Riders  Royal Challengers Bangalore\n",
              "\n",
              "[5 rows x 18 columns]"
            ]
          },
          "metadata": {
            "tags": []
          },
          "execution_count": 8
        }
      ]
    },
    {
      "cell_type": "code",
      "metadata": {
        "id": "fmT4HQfQmBGa"
      },
      "source": [
        ""
      ],
      "execution_count": null,
      "outputs": []
    },
    {
      "cell_type": "markdown",
      "metadata": {
        "id": "UOAGv3CTnbGV"
      },
      "source": [
        "Selection of batsman will be on following criteria-\n",
        "1. Batting Avg.\n",
        "2. Strike Rate\n"
      ]
    },
    {
      "cell_type": "code",
      "metadata": {
        "id": "e43dYSPocxRm"
      },
      "source": [
        "df1 = df.copy()"
      ],
      "execution_count": 6,
      "outputs": []
    },
    {
      "cell_type": "code",
      "metadata": {
        "colab": {
          "base_uri": "https://localhost:8080/"
        },
        "id": "k7PjvSxrc959",
        "outputId": "91102e33-2599-4cf5-e8fd-6c113a240997"
      },
      "source": [
        "df1['extras_type'].unique()"
      ],
      "execution_count": 10,
      "outputs": [
        {
          "output_type": "execute_result",
          "data": {
            "text/plain": [
              "array([nan, 'byes', 'wides', 'legbyes', 'noballs', 'penalty'],\n",
              "      dtype=object)"
            ]
          },
          "metadata": {
            "tags": []
          },
          "execution_count": 10
        }
      ]
    },
    {
      "cell_type": "code",
      "metadata": {
        "id": "7JLvh7XTdP6X"
      },
      "source": [
        ""
      ],
      "execution_count": null,
      "outputs": []
    },
    {
      "cell_type": "code",
      "metadata": {
        "id": "6Ltf4Z1SdLxe"
      },
      "source": [
        ""
      ],
      "execution_count": null,
      "outputs": []
    },
    {
      "cell_type": "markdown",
      "metadata": {
        "id": "AV9PMdWCdpG2"
      },
      "source": [
        ""
      ]
    },
    {
      "cell_type": "code",
      "metadata": {
        "id": "RaM42RS0nl5I"
      },
      "source": [
        "df_total_run = df.groupby('batsman').sum().sort_values(by='batsman_runs', ascending=False)['batsman_runs']"
      ],
      "execution_count": 11,
      "outputs": []
    },
    {
      "cell_type": "code",
      "metadata": {
        "colab": {
          "base_uri": "https://localhost:8080/"
        },
        "id": "aWOmTKc8dtjQ",
        "outputId": "5e964c15-e106-4ede-edc2-b3069791e60c"
      },
      "source": [
        "df_total_run.head()"
      ],
      "execution_count": 12,
      "outputs": [
        {
          "output_type": "execute_result",
          "data": {
            "text/plain": [
              "batsman\n",
              "V Kohli      5878\n",
              "SK Raina     5368\n",
              "DA Warner    5254\n",
              "RG Sharma    5230\n",
              "S Dhawan     5197\n",
              "Name: batsman_runs, dtype: int64"
            ]
          },
          "metadata": {
            "tags": []
          },
          "execution_count": 12
        }
      ]
    },
    {
      "cell_type": "markdown",
      "metadata": {
        "id": "Cbxnjn_fsJ7Z"
      },
      "source": [
        ""
      ]
    },
    {
      "cell_type": "code",
      "metadata": {
        "id": "4hSt1DuIrf_7"
      },
      "source": [
        "df_total_ball_faced = df[df['extras_type']!='wides'].groupby('batsman').count().sort_values(by='batsman_runs', ascending=False)['batsman_runs']"
      ],
      "execution_count": 15,
      "outputs": []
    },
    {
      "cell_type": "code",
      "metadata": {
        "id": "8vGQgsVN20yt"
      },
      "source": [
        ""
      ],
      "execution_count": null,
      "outputs": []
    },
    {
      "cell_type": "code",
      "metadata": {
        "id": "lwqC4yuN1Lpi"
      },
      "source": [
        ""
      ],
      "execution_count": null,
      "outputs": []
    },
    {
      "cell_type": "code",
      "metadata": {
        "id": "-ZR-M5XprwD0"
      },
      "source": [
        ""
      ],
      "execution_count": null,
      "outputs": []
    },
    {
      "cell_type": "code",
      "metadata": {
        "id": "ajVrkNX_rLZP"
      },
      "source": [
        "total_out = df[df['is_wicket']==1].groupby('batsman').count().sort_values(by='is_wicket', ascending=False)['is_wicket']"
      ],
      "execution_count": 16,
      "outputs": []
    },
    {
      "cell_type": "code",
      "metadata": {
        "id": "ukLjA4l71FwG"
      },
      "source": [
        ""
      ],
      "execution_count": null,
      "outputs": []
    },
    {
      "cell_type": "code",
      "metadata": {
        "id": "PhQOBZy3zS3k"
      },
      "source": [
        "df_batsman = pd.concat([df_total_run,total_out], axis=1)"
      ],
      "execution_count": 17,
      "outputs": []
    },
    {
      "cell_type": "code",
      "metadata": {
        "id": "P9QCBDJB5BhI"
      },
      "source": [
        "df_batsman['Total balls faced'] = df_total_ball_faced"
      ],
      "execution_count": 18,
      "outputs": []
    },
    {
      "cell_type": "code",
      "metadata": {
        "id": "VN0XGCOE5QgC"
      },
      "source": [
        ""
      ],
      "execution_count": null,
      "outputs": []
    },
    {
      "cell_type": "code",
      "metadata": {
        "colab": {
          "base_uri": "https://localhost:8080/",
          "height": 355
        },
        "id": "ldlDQYtZzMRV",
        "outputId": "af9ce3ad-05eb-4091-bf93-adffa19e87f8"
      },
      "source": [
        "df_batsman.head(10)"
      ],
      "execution_count": 19,
      "outputs": [
        {
          "output_type": "execute_result",
          "data": {
            "text/html": [
              "<div>\n",
              "<style scoped>\n",
              "    .dataframe tbody tr th:only-of-type {\n",
              "        vertical-align: middle;\n",
              "    }\n",
              "\n",
              "    .dataframe tbody tr th {\n",
              "        vertical-align: top;\n",
              "    }\n",
              "\n",
              "    .dataframe thead th {\n",
              "        text-align: right;\n",
              "    }\n",
              "</style>\n",
              "<table border=\"1\" class=\"dataframe\">\n",
              "  <thead>\n",
              "    <tr style=\"text-align: right;\">\n",
              "      <th></th>\n",
              "      <th>batsman_runs</th>\n",
              "      <th>is_wicket</th>\n",
              "      <th>Total balls faced</th>\n",
              "    </tr>\n",
              "  </thead>\n",
              "  <tbody>\n",
              "    <tr>\n",
              "      <th>V Kohli</th>\n",
              "      <td>5878</td>\n",
              "      <td>163.0</td>\n",
              "      <td>4496</td>\n",
              "    </tr>\n",
              "    <tr>\n",
              "      <th>SK Raina</th>\n",
              "      <td>5368</td>\n",
              "      <td>160.0</td>\n",
              "      <td>3914</td>\n",
              "    </tr>\n",
              "    <tr>\n",
              "      <th>DA Warner</th>\n",
              "      <td>5254</td>\n",
              "      <td>126.0</td>\n",
              "      <td>3712</td>\n",
              "    </tr>\n",
              "    <tr>\n",
              "      <th>RG Sharma</th>\n",
              "      <td>5230</td>\n",
              "      <td>177.0</td>\n",
              "      <td>4004</td>\n",
              "    </tr>\n",
              "    <tr>\n",
              "      <th>S Dhawan</th>\n",
              "      <td>5197</td>\n",
              "      <td>152.0</td>\n",
              "      <td>4096</td>\n",
              "    </tr>\n",
              "    <tr>\n",
              "      <th>AB de Villiers</th>\n",
              "      <td>4849</td>\n",
              "      <td>114.0</td>\n",
              "      <td>3192</td>\n",
              "    </tr>\n",
              "    <tr>\n",
              "      <th>CH Gayle</th>\n",
              "      <td>4772</td>\n",
              "      <td>116.0</td>\n",
              "      <td>3179</td>\n",
              "    </tr>\n",
              "    <tr>\n",
              "      <th>MS Dhoni</th>\n",
              "      <td>4632</td>\n",
              "      <td>126.0</td>\n",
              "      <td>3387</td>\n",
              "    </tr>\n",
              "    <tr>\n",
              "      <th>RV Uthappa</th>\n",
              "      <td>4607</td>\n",
              "      <td>169.0</td>\n",
              "      <td>3544</td>\n",
              "    </tr>\n",
              "    <tr>\n",
              "      <th>G Gambhir</th>\n",
              "      <td>4217</td>\n",
              "      <td>135.0</td>\n",
              "      <td>3404</td>\n",
              "    </tr>\n",
              "  </tbody>\n",
              "</table>\n",
              "</div>"
            ],
            "text/plain": [
              "                batsman_runs  is_wicket  Total balls faced\n",
              "V Kohli                 5878      163.0               4496\n",
              "SK Raina                5368      160.0               3914\n",
              "DA Warner               5254      126.0               3712\n",
              "RG Sharma               5230      177.0               4004\n",
              "S Dhawan                5197      152.0               4096\n",
              "AB de Villiers          4849      114.0               3192\n",
              "CH Gayle                4772      116.0               3179\n",
              "MS Dhoni                4632      126.0               3387\n",
              "RV Uthappa              4607      169.0               3544\n",
              "G Gambhir               4217      135.0               3404"
            ]
          },
          "metadata": {
            "tags": []
          },
          "execution_count": 19
        }
      ]
    },
    {
      "cell_type": "code",
      "metadata": {
        "id": "-yO11-9I6M0P"
      },
      "source": [
        ""
      ],
      "execution_count": 76,
      "outputs": []
    },
    {
      "cell_type": "code",
      "metadata": {
        "id": "O1uBEmoE-ZeN"
      },
      "source": [
        ""
      ],
      "execution_count": null,
      "outputs": []
    },
    {
      "cell_type": "code",
      "metadata": {
        "id": "MEZUt1j15CUG"
      },
      "source": [
        "df_batsman['Average'] = round(df_batsman['batsman_runs']/df_batsman['is_wicket'], 2)"
      ],
      "execution_count": 20,
      "outputs": []
    },
    {
      "cell_type": "code",
      "metadata": {
        "colab": {
          "base_uri": "https://localhost:8080/",
          "height": 355
        },
        "id": "LV9sIfp04pc9",
        "outputId": "2cb438bf-99c7-479f-db3b-8b597b7f05f5"
      },
      "source": [
        "df_batsman.head(10)"
      ],
      "execution_count": 21,
      "outputs": [
        {
          "output_type": "execute_result",
          "data": {
            "text/html": [
              "<div>\n",
              "<style scoped>\n",
              "    .dataframe tbody tr th:only-of-type {\n",
              "        vertical-align: middle;\n",
              "    }\n",
              "\n",
              "    .dataframe tbody tr th {\n",
              "        vertical-align: top;\n",
              "    }\n",
              "\n",
              "    .dataframe thead th {\n",
              "        text-align: right;\n",
              "    }\n",
              "</style>\n",
              "<table border=\"1\" class=\"dataframe\">\n",
              "  <thead>\n",
              "    <tr style=\"text-align: right;\">\n",
              "      <th></th>\n",
              "      <th>batsman_runs</th>\n",
              "      <th>is_wicket</th>\n",
              "      <th>Total balls faced</th>\n",
              "      <th>Average</th>\n",
              "    </tr>\n",
              "  </thead>\n",
              "  <tbody>\n",
              "    <tr>\n",
              "      <th>V Kohli</th>\n",
              "      <td>5878</td>\n",
              "      <td>163.0</td>\n",
              "      <td>4496</td>\n",
              "      <td>36.06</td>\n",
              "    </tr>\n",
              "    <tr>\n",
              "      <th>SK Raina</th>\n",
              "      <td>5368</td>\n",
              "      <td>160.0</td>\n",
              "      <td>3914</td>\n",
              "      <td>33.55</td>\n",
              "    </tr>\n",
              "    <tr>\n",
              "      <th>DA Warner</th>\n",
              "      <td>5254</td>\n",
              "      <td>126.0</td>\n",
              "      <td>3712</td>\n",
              "      <td>41.70</td>\n",
              "    </tr>\n",
              "    <tr>\n",
              "      <th>RG Sharma</th>\n",
              "      <td>5230</td>\n",
              "      <td>177.0</td>\n",
              "      <td>4004</td>\n",
              "      <td>29.55</td>\n",
              "    </tr>\n",
              "    <tr>\n",
              "      <th>S Dhawan</th>\n",
              "      <td>5197</td>\n",
              "      <td>152.0</td>\n",
              "      <td>4096</td>\n",
              "      <td>34.19</td>\n",
              "    </tr>\n",
              "    <tr>\n",
              "      <th>AB de Villiers</th>\n",
              "      <td>4849</td>\n",
              "      <td>114.0</td>\n",
              "      <td>3192</td>\n",
              "      <td>42.54</td>\n",
              "    </tr>\n",
              "    <tr>\n",
              "      <th>CH Gayle</th>\n",
              "      <td>4772</td>\n",
              "      <td>116.0</td>\n",
              "      <td>3179</td>\n",
              "      <td>41.14</td>\n",
              "    </tr>\n",
              "    <tr>\n",
              "      <th>MS Dhoni</th>\n",
              "      <td>4632</td>\n",
              "      <td>126.0</td>\n",
              "      <td>3387</td>\n",
              "      <td>36.76</td>\n",
              "    </tr>\n",
              "    <tr>\n",
              "      <th>RV Uthappa</th>\n",
              "      <td>4607</td>\n",
              "      <td>169.0</td>\n",
              "      <td>3544</td>\n",
              "      <td>27.26</td>\n",
              "    </tr>\n",
              "    <tr>\n",
              "      <th>G Gambhir</th>\n",
              "      <td>4217</td>\n",
              "      <td>135.0</td>\n",
              "      <td>3404</td>\n",
              "      <td>31.24</td>\n",
              "    </tr>\n",
              "  </tbody>\n",
              "</table>\n",
              "</div>"
            ],
            "text/plain": [
              "                batsman_runs  is_wicket  Total balls faced  Average\n",
              "V Kohli                 5878      163.0               4496    36.06\n",
              "SK Raina                5368      160.0               3914    33.55\n",
              "DA Warner               5254      126.0               3712    41.70\n",
              "RG Sharma               5230      177.0               4004    29.55\n",
              "S Dhawan                5197      152.0               4096    34.19\n",
              "AB de Villiers          4849      114.0               3192    42.54\n",
              "CH Gayle                4772      116.0               3179    41.14\n",
              "MS Dhoni                4632      126.0               3387    36.76\n",
              "RV Uthappa              4607      169.0               3544    27.26\n",
              "G Gambhir               4217      135.0               3404    31.24"
            ]
          },
          "metadata": {
            "tags": []
          },
          "execution_count": 21
        }
      ]
    },
    {
      "cell_type": "code",
      "metadata": {
        "id": "4_IJuvub6AzU"
      },
      "source": [
        ""
      ],
      "execution_count": 76,
      "outputs": []
    },
    {
      "cell_type": "code",
      "metadata": {
        "id": "1HOESyPs-XiP"
      },
      "source": [
        ""
      ],
      "execution_count": null,
      "outputs": []
    },
    {
      "cell_type": "code",
      "metadata": {
        "id": "pgy8YAfS6c30"
      },
      "source": [
        "df_batsman['Strike Rate'] = round((df_batsman['batsman_runs']/df_batsman['Total balls faced'])* 100 , 2)"
      ],
      "execution_count": 23,
      "outputs": []
    },
    {
      "cell_type": "code",
      "metadata": {
        "id": "Ns5R4YetzEGH"
      },
      "source": [
        ""
      ],
      "execution_count": null,
      "outputs": []
    },
    {
      "cell_type": "code",
      "metadata": {
        "colab": {
          "base_uri": "https://localhost:8080/",
          "height": 662
        },
        "id": "tQ5ivyJLy4z4",
        "outputId": "f6cc9639-e8eb-4a2e-f21c-0dec2a0d228b"
      },
      "source": [
        "df_batsman.head(20)"
      ],
      "execution_count": 24,
      "outputs": [
        {
          "output_type": "execute_result",
          "data": {
            "text/html": [
              "<div>\n",
              "<style scoped>\n",
              "    .dataframe tbody tr th:only-of-type {\n",
              "        vertical-align: middle;\n",
              "    }\n",
              "\n",
              "    .dataframe tbody tr th {\n",
              "        vertical-align: top;\n",
              "    }\n",
              "\n",
              "    .dataframe thead th {\n",
              "        text-align: right;\n",
              "    }\n",
              "</style>\n",
              "<table border=\"1\" class=\"dataframe\">\n",
              "  <thead>\n",
              "    <tr style=\"text-align: right;\">\n",
              "      <th></th>\n",
              "      <th>batsman_runs</th>\n",
              "      <th>is_wicket</th>\n",
              "      <th>Total balls faced</th>\n",
              "      <th>Average</th>\n",
              "      <th>Strike Rate</th>\n",
              "    </tr>\n",
              "  </thead>\n",
              "  <tbody>\n",
              "    <tr>\n",
              "      <th>V Kohli</th>\n",
              "      <td>5878</td>\n",
              "      <td>163.0</td>\n",
              "      <td>4496</td>\n",
              "      <td>36.06</td>\n",
              "      <td>130.74</td>\n",
              "    </tr>\n",
              "    <tr>\n",
              "      <th>SK Raina</th>\n",
              "      <td>5368</td>\n",
              "      <td>160.0</td>\n",
              "      <td>3914</td>\n",
              "      <td>33.55</td>\n",
              "      <td>137.15</td>\n",
              "    </tr>\n",
              "    <tr>\n",
              "      <th>DA Warner</th>\n",
              "      <td>5254</td>\n",
              "      <td>126.0</td>\n",
              "      <td>3712</td>\n",
              "      <td>41.70</td>\n",
              "      <td>141.54</td>\n",
              "    </tr>\n",
              "    <tr>\n",
              "      <th>RG Sharma</th>\n",
              "      <td>5230</td>\n",
              "      <td>177.0</td>\n",
              "      <td>4004</td>\n",
              "      <td>29.55</td>\n",
              "      <td>130.62</td>\n",
              "    </tr>\n",
              "    <tr>\n",
              "      <th>S Dhawan</th>\n",
              "      <td>5197</td>\n",
              "      <td>152.0</td>\n",
              "      <td>4096</td>\n",
              "      <td>34.19</td>\n",
              "      <td>126.88</td>\n",
              "    </tr>\n",
              "    <tr>\n",
              "      <th>AB de Villiers</th>\n",
              "      <td>4849</td>\n",
              "      <td>114.0</td>\n",
              "      <td>3192</td>\n",
              "      <td>42.54</td>\n",
              "      <td>151.91</td>\n",
              "    </tr>\n",
              "    <tr>\n",
              "      <th>CH Gayle</th>\n",
              "      <td>4772</td>\n",
              "      <td>116.0</td>\n",
              "      <td>3179</td>\n",
              "      <td>41.14</td>\n",
              "      <td>150.11</td>\n",
              "    </tr>\n",
              "    <tr>\n",
              "      <th>MS Dhoni</th>\n",
              "      <td>4632</td>\n",
              "      <td>126.0</td>\n",
              "      <td>3387</td>\n",
              "      <td>36.76</td>\n",
              "      <td>136.76</td>\n",
              "    </tr>\n",
              "    <tr>\n",
              "      <th>RV Uthappa</th>\n",
              "      <td>4607</td>\n",
              "      <td>169.0</td>\n",
              "      <td>3544</td>\n",
              "      <td>27.26</td>\n",
              "      <td>129.99</td>\n",
              "    </tr>\n",
              "    <tr>\n",
              "      <th>G Gambhir</th>\n",
              "      <td>4217</td>\n",
              "      <td>135.0</td>\n",
              "      <td>3404</td>\n",
              "      <td>31.24</td>\n",
              "      <td>123.88</td>\n",
              "    </tr>\n",
              "    <tr>\n",
              "      <th>AM Rahane</th>\n",
              "      <td>3933</td>\n",
              "      <td>125.0</td>\n",
              "      <td>3240</td>\n",
              "      <td>31.46</td>\n",
              "      <td>121.39</td>\n",
              "    </tr>\n",
              "    <tr>\n",
              "      <th>SR Watson</th>\n",
              "      <td>3874</td>\n",
              "      <td>125.0</td>\n",
              "      <td>2809</td>\n",
              "      <td>30.99</td>\n",
              "      <td>137.91</td>\n",
              "    </tr>\n",
              "    <tr>\n",
              "      <th>KD Karthik</th>\n",
              "      <td>3823</td>\n",
              "      <td>152.0</td>\n",
              "      <td>2949</td>\n",
              "      <td>25.15</td>\n",
              "      <td>129.64</td>\n",
              "    </tr>\n",
              "    <tr>\n",
              "      <th>AT Rayudu</th>\n",
              "      <td>3659</td>\n",
              "      <td>123.0</td>\n",
              "      <td>2902</td>\n",
              "      <td>29.75</td>\n",
              "      <td>126.09</td>\n",
              "    </tr>\n",
              "    <tr>\n",
              "      <th>MK Pandey</th>\n",
              "      <td>3268</td>\n",
              "      <td>109.0</td>\n",
              "      <td>2686</td>\n",
              "      <td>29.98</td>\n",
              "      <td>121.67</td>\n",
              "    </tr>\n",
              "    <tr>\n",
              "      <th>YK Pathan</th>\n",
              "      <td>3204</td>\n",
              "      <td>111.0</td>\n",
              "      <td>2241</td>\n",
              "      <td>28.86</td>\n",
              "      <td>142.97</td>\n",
              "    </tr>\n",
              "    <tr>\n",
              "      <th>KA Pollard</th>\n",
              "      <td>3023</td>\n",
              "      <td>106.0</td>\n",
              "      <td>2017</td>\n",
              "      <td>28.52</td>\n",
              "      <td>149.88</td>\n",
              "    </tr>\n",
              "    <tr>\n",
              "      <th>BB McCullum</th>\n",
              "      <td>2880</td>\n",
              "      <td>106.0</td>\n",
              "      <td>2186</td>\n",
              "      <td>27.17</td>\n",
              "      <td>131.75</td>\n",
              "    </tr>\n",
              "    <tr>\n",
              "      <th>PA Patel</th>\n",
              "      <td>2848</td>\n",
              "      <td>127.0</td>\n",
              "      <td>2358</td>\n",
              "      <td>22.43</td>\n",
              "      <td>120.78</td>\n",
              "    </tr>\n",
              "    <tr>\n",
              "      <th>Yuvraj Singh</th>\n",
              "      <td>2750</td>\n",
              "      <td>109.0</td>\n",
              "      <td>2120</td>\n",
              "      <td>25.23</td>\n",
              "      <td>129.72</td>\n",
              "    </tr>\n",
              "  </tbody>\n",
              "</table>\n",
              "</div>"
            ],
            "text/plain": [
              "                batsman_runs  is_wicket  ...  Average  Strike Rate\n",
              "V Kohli                 5878      163.0  ...    36.06       130.74\n",
              "SK Raina                5368      160.0  ...    33.55       137.15\n",
              "DA Warner               5254      126.0  ...    41.70       141.54\n",
              "RG Sharma               5230      177.0  ...    29.55       130.62\n",
              "S Dhawan                5197      152.0  ...    34.19       126.88\n",
              "AB de Villiers          4849      114.0  ...    42.54       151.91\n",
              "CH Gayle                4772      116.0  ...    41.14       150.11\n",
              "MS Dhoni                4632      126.0  ...    36.76       136.76\n",
              "RV Uthappa              4607      169.0  ...    27.26       129.99\n",
              "G Gambhir               4217      135.0  ...    31.24       123.88\n",
              "AM Rahane               3933      125.0  ...    31.46       121.39\n",
              "SR Watson               3874      125.0  ...    30.99       137.91\n",
              "KD Karthik              3823      152.0  ...    25.15       129.64\n",
              "AT Rayudu               3659      123.0  ...    29.75       126.09\n",
              "MK Pandey               3268      109.0  ...    29.98       121.67\n",
              "YK Pathan               3204      111.0  ...    28.86       142.97\n",
              "KA Pollard              3023      106.0  ...    28.52       149.88\n",
              "BB McCullum             2880      106.0  ...    27.17       131.75\n",
              "PA Patel                2848      127.0  ...    22.43       120.78\n",
              "Yuvraj Singh            2750      109.0  ...    25.23       129.72\n",
              "\n",
              "[20 rows x 5 columns]"
            ]
          },
          "metadata": {
            "tags": []
          },
          "execution_count": 24
        }
      ]
    },
    {
      "cell_type": "code",
      "metadata": {
        "id": "xjcA_3co8Jg-"
      },
      "source": [
        ""
      ],
      "execution_count": null,
      "outputs": []
    },
    {
      "cell_type": "code",
      "metadata": {
        "colab": {
          "base_uri": "https://localhost:8080/",
          "height": 415
        },
        "id": "sDhn_9Yn77EB",
        "outputId": "6fac29ff-2e26-4992-f81a-026069c6e719"
      },
      "source": [
        "df_batsman[df_batsman['batsman_runs']>1000]"
      ],
      "execution_count": 25,
      "outputs": [
        {
          "output_type": "execute_result",
          "data": {
            "text/html": [
              "<div>\n",
              "<style scoped>\n",
              "    .dataframe tbody tr th:only-of-type {\n",
              "        vertical-align: middle;\n",
              "    }\n",
              "\n",
              "    .dataframe tbody tr th {\n",
              "        vertical-align: top;\n",
              "    }\n",
              "\n",
              "    .dataframe thead th {\n",
              "        text-align: right;\n",
              "    }\n",
              "</style>\n",
              "<table border=\"1\" class=\"dataframe\">\n",
              "  <thead>\n",
              "    <tr style=\"text-align: right;\">\n",
              "      <th></th>\n",
              "      <th>batsman_runs</th>\n",
              "      <th>is_wicket</th>\n",
              "      <th>Total balls faced</th>\n",
              "      <th>Average</th>\n",
              "      <th>Strike Rate</th>\n",
              "    </tr>\n",
              "  </thead>\n",
              "  <tbody>\n",
              "    <tr>\n",
              "      <th>V Kohli</th>\n",
              "      <td>5878</td>\n",
              "      <td>163.0</td>\n",
              "      <td>4496</td>\n",
              "      <td>36.06</td>\n",
              "      <td>130.74</td>\n",
              "    </tr>\n",
              "    <tr>\n",
              "      <th>SK Raina</th>\n",
              "      <td>5368</td>\n",
              "      <td>160.0</td>\n",
              "      <td>3914</td>\n",
              "      <td>33.55</td>\n",
              "      <td>137.15</td>\n",
              "    </tr>\n",
              "    <tr>\n",
              "      <th>DA Warner</th>\n",
              "      <td>5254</td>\n",
              "      <td>126.0</td>\n",
              "      <td>3712</td>\n",
              "      <td>41.70</td>\n",
              "      <td>141.54</td>\n",
              "    </tr>\n",
              "    <tr>\n",
              "      <th>RG Sharma</th>\n",
              "      <td>5230</td>\n",
              "      <td>177.0</td>\n",
              "      <td>4004</td>\n",
              "      <td>29.55</td>\n",
              "      <td>130.62</td>\n",
              "    </tr>\n",
              "    <tr>\n",
              "      <th>S Dhawan</th>\n",
              "      <td>5197</td>\n",
              "      <td>152.0</td>\n",
              "      <td>4096</td>\n",
              "      <td>34.19</td>\n",
              "      <td>126.88</td>\n",
              "    </tr>\n",
              "    <tr>\n",
              "      <th>...</th>\n",
              "      <td>...</td>\n",
              "      <td>...</td>\n",
              "      <td>...</td>\n",
              "      <td>...</td>\n",
              "      <td>...</td>\n",
              "    </tr>\n",
              "    <tr>\n",
              "      <th>ML Hayden</th>\n",
              "      <td>1107</td>\n",
              "      <td>27.0</td>\n",
              "      <td>805</td>\n",
              "      <td>41.00</td>\n",
              "      <td>137.52</td>\n",
              "    </tr>\n",
              "    <tr>\n",
              "      <th>LMP Simmons</th>\n",
              "      <td>1079</td>\n",
              "      <td>27.0</td>\n",
              "      <td>852</td>\n",
              "      <td>39.96</td>\n",
              "      <td>126.64</td>\n",
              "    </tr>\n",
              "    <tr>\n",
              "      <th>LRPL Taylor</th>\n",
              "      <td>1017</td>\n",
              "      <td>41.0</td>\n",
              "      <td>822</td>\n",
              "      <td>24.80</td>\n",
              "      <td>123.72</td>\n",
              "    </tr>\n",
              "    <tr>\n",
              "      <th>M Vohra</th>\n",
              "      <td>1012</td>\n",
              "      <td>42.0</td>\n",
              "      <td>768</td>\n",
              "      <td>24.10</td>\n",
              "      <td>131.77</td>\n",
              "    </tr>\n",
              "    <tr>\n",
              "      <th>KP Pietersen</th>\n",
              "      <td>1001</td>\n",
              "      <td>29.0</td>\n",
              "      <td>743</td>\n",
              "      <td>34.52</td>\n",
              "      <td>134.72</td>\n",
              "    </tr>\n",
              "  </tbody>\n",
              "</table>\n",
              "<p>72 rows × 5 columns</p>\n",
              "</div>"
            ],
            "text/plain": [
              "              batsman_runs  is_wicket  Total balls faced  Average  Strike Rate\n",
              "V Kohli               5878      163.0               4496    36.06       130.74\n",
              "SK Raina              5368      160.0               3914    33.55       137.15\n",
              "DA Warner             5254      126.0               3712    41.70       141.54\n",
              "RG Sharma             5230      177.0               4004    29.55       130.62\n",
              "S Dhawan              5197      152.0               4096    34.19       126.88\n",
              "...                    ...        ...                ...      ...          ...\n",
              "ML Hayden             1107       27.0                805    41.00       137.52\n",
              "LMP Simmons           1079       27.0                852    39.96       126.64\n",
              "LRPL Taylor           1017       41.0                822    24.80       123.72\n",
              "M Vohra               1012       42.0                768    24.10       131.77\n",
              "KP Pietersen          1001       29.0                743    34.52       134.72\n",
              "\n",
              "[72 rows x 5 columns]"
            ]
          },
          "metadata": {
            "tags": []
          },
          "execution_count": 25
        }
      ]
    },
    {
      "cell_type": "code",
      "metadata": {
        "id": "yC-YLnle-FnM"
      },
      "source": [
        ""
      ],
      "execution_count": null,
      "outputs": []
    },
    {
      "cell_type": "code",
      "metadata": {
        "id": "Wh_GTixm-CGY"
      },
      "source": [
        "df_batsman = df_batsman[df_batsman['batsman_runs']>1000]"
      ],
      "execution_count": 26,
      "outputs": []
    },
    {
      "cell_type": "code",
      "metadata": {
        "id": "r00rjlmz7yNG"
      },
      "source": [
        ""
      ],
      "execution_count": null,
      "outputs": []
    },
    {
      "cell_type": "code",
      "metadata": {
        "colab": {
          "base_uri": "https://localhost:8080/"
        },
        "id": "_2z7Tqa_7ief",
        "outputId": "4bedb23b-02b0-4aa3-fff7-70009dbddabb"
      },
      "source": [
        "df_batsman.sort_values(by='Average', ascending=False).head(20)['Average']"
      ],
      "execution_count": 34,
      "outputs": [
        {
          "output_type": "execute_result",
          "data": {
            "text/plain": [
              "KL Rahul          42.69\n",
              "AB de Villiers    42.54\n",
              "DA Warner         41.70\n",
              "JP Duminy         41.41\n",
              "CH Gayle          41.14\n",
              "ML Hayden         41.00\n",
              "LMP Simmons       39.96\n",
              "KS Williamson     39.49\n",
              "SE Marsh          38.70\n",
              "MEK Hussey        38.02\n",
              "MS Dhoni          36.76\n",
              "V Kohli           36.06\n",
              "JC Buttler        35.71\n",
              "RR Pant           35.24\n",
              "CA Lynn           34.59\n",
              "KP Pietersen      34.52\n",
              "F du Plessis      34.36\n",
              "DA Miller         34.26\n",
              "S Dhawan          34.19\n",
              "SK Raina          33.55\n",
              "Name: Average, dtype: float64"
            ]
          },
          "metadata": {
            "tags": []
          },
          "execution_count": 34
        }
      ]
    },
    {
      "cell_type": "code",
      "metadata": {
        "id": "oA0POdta-89s"
      },
      "source": [
        ""
      ],
      "execution_count": null,
      "outputs": []
    },
    {
      "cell_type": "code",
      "metadata": {
        "colab": {
          "base_uri": "https://localhost:8080/"
        },
        "id": "PjEGlDER-40q",
        "outputId": "538ae438-6e0c-4373-fb4b-21a2a1f75a84"
      },
      "source": [
        "df_batsman.sort_values(by='Strike Rate', ascending=False).head(20)['Strike Rate']"
      ],
      "execution_count": 33,
      "outputs": [
        {
          "output_type": "execute_result",
          "data": {
            "text/plain": [
              "AD Russell        182.33\n",
              "HH Pandya         159.27\n",
              "V Sehwag          155.44\n",
              "GJ Maxwell        154.68\n",
              "RR Pant           151.97\n",
              "AB de Villiers    151.91\n",
              "CH Gayle          150.11\n",
              "KA Pollard        149.88\n",
              "JC Buttler        149.56\n",
              "YK Pathan         142.97\n",
              "DA Warner         141.54\n",
              "CA Lynn           140.66\n",
              "DA Miller         138.78\n",
              "AC Gilchrist      138.39\n",
              "SR Watson         137.91\n",
              "ML Hayden         137.52\n",
              "SK Raina          137.15\n",
              "Ishan Kishan      136.84\n",
              "MS Dhoni          136.76\n",
              "KL Rahul          135.81\n",
              "Name: Strike Rate, dtype: float64"
            ]
          },
          "metadata": {
            "tags": []
          },
          "execution_count": 33
        }
      ]
    },
    {
      "cell_type": "code",
      "metadata": {
        "id": "qQ-SH0qkioKz"
      },
      "source": [
        ""
      ],
      "execution_count": null,
      "outputs": []
    },
    {
      "cell_type": "code",
      "metadata": {
        "id": "5oCo_091iDWf"
      },
      "source": [
        ""
      ],
      "execution_count": null,
      "outputs": []
    },
    {
      "cell_type": "markdown",
      "metadata": {
        "id": "xtQxudwOjZev"
      },
      "source": [
        "Strike rate and average from 16th to 20th Over"
      ]
    },
    {
      "cell_type": "code",
      "metadata": {
        "id": "DKhBz0dfkho_"
      },
      "source": [
        "df_powerplay = df[df['over']>15]"
      ],
      "execution_count": 49,
      "outputs": []
    },
    {
      "cell_type": "code",
      "metadata": {
        "id": "2FmJV5j8h-7y"
      },
      "source": [
        "df_batsman_run_power = df_powerplay.groupby('batsman').sum().sort_values(by='batsman_runs', ascending=False)['batsman_runs']"
      ],
      "execution_count": 50,
      "outputs": []
    },
    {
      "cell_type": "code",
      "metadata": {
        "id": "8Njobgikmm-T"
      },
      "source": [
        "df_balls_faced_power  = df_powerplay[df_powerplay['extras_type']!='wides'].groupby('batsman').count().sort_values(by='batsman_runs', ascending=False)['batsman_runs']"
      ],
      "execution_count": 58,
      "outputs": []
    },
    {
      "cell_type": "code",
      "metadata": {
        "id": "s2X1YFrBnvUm"
      },
      "source": [
        "df_number_of_out_power = df_powerplay[df_powerplay['is_wicket']==1].groupby('batsman').count().sort_values(by='is_wicket', ascending=False)['is_wicket']"
      ],
      "execution_count": 63,
      "outputs": []
    },
    {
      "cell_type": "code",
      "metadata": {
        "id": "iTHJzxV0nKiv"
      },
      "source": [
        "df_powerplay_stat = pd.concat([df_batsman_run_power, df_number_of_out_power], axis=1)"
      ],
      "execution_count": 67,
      "outputs": []
    },
    {
      "cell_type": "code",
      "metadata": {
        "id": "TepvOhZhj-5a"
      },
      "source": [
        "df_powerplay_stat['Total balls faced'] = df_balls_faced_power "
      ],
      "execution_count": 68,
      "outputs": []
    },
    {
      "cell_type": "code",
      "metadata": {
        "colab": {
          "base_uri": "https://localhost:8080/",
          "height": 662
        },
        "id": "Fmi2ZX84j8lo",
        "outputId": "209962fd-77e8-49cc-9e6d-001646d56d0e"
      },
      "source": [
        "df_powerplay_stat.head(20)"
      ],
      "execution_count": 70,
      "outputs": [
        {
          "output_type": "execute_result",
          "data": {
            "text/html": [
              "<div>\n",
              "<style scoped>\n",
              "    .dataframe tbody tr th:only-of-type {\n",
              "        vertical-align: middle;\n",
              "    }\n",
              "\n",
              "    .dataframe tbody tr th {\n",
              "        vertical-align: top;\n",
              "    }\n",
              "\n",
              "    .dataframe thead th {\n",
              "        text-align: right;\n",
              "    }\n",
              "</style>\n",
              "<table border=\"1\" class=\"dataframe\">\n",
              "  <thead>\n",
              "    <tr style=\"text-align: right;\">\n",
              "      <th></th>\n",
              "      <th>batsman_runs</th>\n",
              "      <th>is_wicket</th>\n",
              "      <th>Total balls faced</th>\n",
              "    </tr>\n",
              "  </thead>\n",
              "  <tbody>\n",
              "    <tr>\n",
              "      <th>MS Dhoni</th>\n",
              "      <td>2303</td>\n",
              "      <td>73.0</td>\n",
              "      <td>1218</td>\n",
              "    </tr>\n",
              "    <tr>\n",
              "      <th>KA Pollard</th>\n",
              "      <td>1487</td>\n",
              "      <td>63.0</td>\n",
              "      <td>802</td>\n",
              "    </tr>\n",
              "    <tr>\n",
              "      <th>AB de Villiers</th>\n",
              "      <td>1254</td>\n",
              "      <td>31.0</td>\n",
              "      <td>538</td>\n",
              "    </tr>\n",
              "    <tr>\n",
              "      <th>RG Sharma</th>\n",
              "      <td>1144</td>\n",
              "      <td>49.0</td>\n",
              "      <td>577</td>\n",
              "    </tr>\n",
              "    <tr>\n",
              "      <th>V Kohli</th>\n",
              "      <td>968</td>\n",
              "      <td>36.0</td>\n",
              "      <td>471</td>\n",
              "    </tr>\n",
              "    <tr>\n",
              "      <th>KD Karthik</th>\n",
              "      <td>921</td>\n",
              "      <td>47.0</td>\n",
              "      <td>505</td>\n",
              "    </tr>\n",
              "    <tr>\n",
              "      <th>RA Jadeja</th>\n",
              "      <td>906</td>\n",
              "      <td>48.0</td>\n",
              "      <td>596</td>\n",
              "    </tr>\n",
              "    <tr>\n",
              "      <th>YK Pathan</th>\n",
              "      <td>858</td>\n",
              "      <td>34.0</td>\n",
              "      <td>515</td>\n",
              "    </tr>\n",
              "    <tr>\n",
              "      <th>HH Pandya</th>\n",
              "      <td>838</td>\n",
              "      <td>29.0</td>\n",
              "      <td>436</td>\n",
              "    </tr>\n",
              "    <tr>\n",
              "      <th>DJ Bravo</th>\n",
              "      <td>742</td>\n",
              "      <td>32.0</td>\n",
              "      <td>401</td>\n",
              "    </tr>\n",
              "    <tr>\n",
              "      <th>JP Duminy</th>\n",
              "      <td>712</td>\n",
              "      <td>21.0</td>\n",
              "      <td>395</td>\n",
              "    </tr>\n",
              "    <tr>\n",
              "      <th>AT Rayudu</th>\n",
              "      <td>709</td>\n",
              "      <td>34.0</td>\n",
              "      <td>417</td>\n",
              "    </tr>\n",
              "    <tr>\n",
              "      <th>AD Russell</th>\n",
              "      <td>665</td>\n",
              "      <td>27.0</td>\n",
              "      <td>305</td>\n",
              "    </tr>\n",
              "    <tr>\n",
              "      <th>SK Raina</th>\n",
              "      <td>633</td>\n",
              "      <td>22.0</td>\n",
              "      <td>369</td>\n",
              "    </tr>\n",
              "    <tr>\n",
              "      <th>Yuvraj Singh</th>\n",
              "      <td>601</td>\n",
              "      <td>33.0</td>\n",
              "      <td>337</td>\n",
              "    </tr>\n",
              "    <tr>\n",
              "      <th>DA Miller</th>\n",
              "      <td>590</td>\n",
              "      <td>21.0</td>\n",
              "      <td>317</td>\n",
              "    </tr>\n",
              "    <tr>\n",
              "      <th>Harbhajan Singh</th>\n",
              "      <td>577</td>\n",
              "      <td>41.0</td>\n",
              "      <td>366</td>\n",
              "    </tr>\n",
              "    <tr>\n",
              "      <th>JA Morkel</th>\n",
              "      <td>571</td>\n",
              "      <td>26.0</td>\n",
              "      <td>351</td>\n",
              "    </tr>\n",
              "    <tr>\n",
              "      <th>IK Pathan</th>\n",
              "      <td>563</td>\n",
              "      <td>25.0</td>\n",
              "      <td>359</td>\n",
              "    </tr>\n",
              "    <tr>\n",
              "      <th>SPD Smith</th>\n",
              "      <td>534</td>\n",
              "      <td>23.0</td>\n",
              "      <td>312</td>\n",
              "    </tr>\n",
              "  </tbody>\n",
              "</table>\n",
              "</div>"
            ],
            "text/plain": [
              "                 batsman_runs  is_wicket  Total balls faced\n",
              "MS Dhoni                 2303       73.0               1218\n",
              "KA Pollard               1487       63.0                802\n",
              "AB de Villiers           1254       31.0                538\n",
              "RG Sharma                1144       49.0                577\n",
              "V Kohli                   968       36.0                471\n",
              "KD Karthik                921       47.0                505\n",
              "RA Jadeja                 906       48.0                596\n",
              "YK Pathan                 858       34.0                515\n",
              "HH Pandya                 838       29.0                436\n",
              "DJ Bravo                  742       32.0                401\n",
              "JP Duminy                 712       21.0                395\n",
              "AT Rayudu                 709       34.0                417\n",
              "AD Russell                665       27.0                305\n",
              "SK Raina                  633       22.0                369\n",
              "Yuvraj Singh              601       33.0                337\n",
              "DA Miller                 590       21.0                317\n",
              "Harbhajan Singh           577       41.0                366\n",
              "JA Morkel                 571       26.0                351\n",
              "IK Pathan                 563       25.0                359\n",
              "SPD Smith                 534       23.0                312"
            ]
          },
          "metadata": {
            "tags": []
          },
          "execution_count": 70
        }
      ]
    },
    {
      "cell_type": "code",
      "metadata": {
        "id": "VHsA05hKqll9"
      },
      "source": [
        "df_powerplay_stat['Average'] = round(df_powerplay_stat['batsman_runs']/df_powerplay_stat['is_wicket'], 2)"
      ],
      "execution_count": 71,
      "outputs": []
    },
    {
      "cell_type": "code",
      "metadata": {
        "id": "6aRhNYvfqjo_"
      },
      "source": [
        "df_powerplay_stat['Strike Rate'] = round((df_powerplay_stat['batsman_runs']/df_powerplay_stat['Total balls faced'])*100, 2)"
      ],
      "execution_count": 72,
      "outputs": []
    },
    {
      "cell_type": "code",
      "metadata": {
        "id": "6xD7ux-9_JVc"
      },
      "source": [
        "df_powerplay_stat = df_powerplay_stat[df_powerplay_stat['batsman_runs']>500]"
      ],
      "execution_count": 75,
      "outputs": []
    },
    {
      "cell_type": "code",
      "metadata": {
        "colab": {
          "base_uri": "https://localhost:8080/",
          "height": 693
        },
        "id": "aRCwCWgmrYA8",
        "outputId": "c6adefb4-acb3-42c4-a014-ce1bd4503793"
      },
      "source": [
        "df_powerplay_stat.sort_values(by='Average', ascending=False)"
      ],
      "execution_count": 76,
      "outputs": [
        {
          "output_type": "execute_result",
          "data": {
            "text/html": [
              "<div>\n",
              "<style scoped>\n",
              "    .dataframe tbody tr th:only-of-type {\n",
              "        vertical-align: middle;\n",
              "    }\n",
              "\n",
              "    .dataframe tbody tr th {\n",
              "        vertical-align: top;\n",
              "    }\n",
              "\n",
              "    .dataframe thead th {\n",
              "        text-align: right;\n",
              "    }\n",
              "</style>\n",
              "<table border=\"1\" class=\"dataframe\">\n",
              "  <thead>\n",
              "    <tr style=\"text-align: right;\">\n",
              "      <th></th>\n",
              "      <th>batsman_runs</th>\n",
              "      <th>is_wicket</th>\n",
              "      <th>Total balls faced</th>\n",
              "      <th>Average</th>\n",
              "      <th>Strike Rate</th>\n",
              "    </tr>\n",
              "  </thead>\n",
              "  <tbody>\n",
              "    <tr>\n",
              "      <th>AB de Villiers</th>\n",
              "      <td>1254</td>\n",
              "      <td>31.0</td>\n",
              "      <td>538</td>\n",
              "      <td>40.45</td>\n",
              "      <td>233.09</td>\n",
              "    </tr>\n",
              "    <tr>\n",
              "      <th>JP Duminy</th>\n",
              "      <td>712</td>\n",
              "      <td>21.0</td>\n",
              "      <td>395</td>\n",
              "      <td>33.90</td>\n",
              "      <td>180.25</td>\n",
              "    </tr>\n",
              "    <tr>\n",
              "      <th>MS Dhoni</th>\n",
              "      <td>2303</td>\n",
              "      <td>73.0</td>\n",
              "      <td>1218</td>\n",
              "      <td>31.55</td>\n",
              "      <td>189.08</td>\n",
              "    </tr>\n",
              "    <tr>\n",
              "      <th>HH Pandya</th>\n",
              "      <td>838</td>\n",
              "      <td>29.0</td>\n",
              "      <td>436</td>\n",
              "      <td>28.90</td>\n",
              "      <td>192.20</td>\n",
              "    </tr>\n",
              "    <tr>\n",
              "      <th>SK Raina</th>\n",
              "      <td>633</td>\n",
              "      <td>22.0</td>\n",
              "      <td>369</td>\n",
              "      <td>28.77</td>\n",
              "      <td>171.54</td>\n",
              "    </tr>\n",
              "    <tr>\n",
              "      <th>DA Miller</th>\n",
              "      <td>590</td>\n",
              "      <td>21.0</td>\n",
              "      <td>317</td>\n",
              "      <td>28.10</td>\n",
              "      <td>186.12</td>\n",
              "    </tr>\n",
              "    <tr>\n",
              "      <th>V Kohli</th>\n",
              "      <td>968</td>\n",
              "      <td>36.0</td>\n",
              "      <td>471</td>\n",
              "      <td>26.89</td>\n",
              "      <td>205.52</td>\n",
              "    </tr>\n",
              "    <tr>\n",
              "      <th>YK Pathan</th>\n",
              "      <td>858</td>\n",
              "      <td>34.0</td>\n",
              "      <td>515</td>\n",
              "      <td>25.24</td>\n",
              "      <td>166.60</td>\n",
              "    </tr>\n",
              "    <tr>\n",
              "      <th>AD Russell</th>\n",
              "      <td>665</td>\n",
              "      <td>27.0</td>\n",
              "      <td>305</td>\n",
              "      <td>24.63</td>\n",
              "      <td>218.03</td>\n",
              "    </tr>\n",
              "    <tr>\n",
              "      <th>KA Pollard</th>\n",
              "      <td>1487</td>\n",
              "      <td>63.0</td>\n",
              "      <td>802</td>\n",
              "      <td>23.60</td>\n",
              "      <td>185.41</td>\n",
              "    </tr>\n",
              "    <tr>\n",
              "      <th>RG Sharma</th>\n",
              "      <td>1144</td>\n",
              "      <td>49.0</td>\n",
              "      <td>577</td>\n",
              "      <td>23.35</td>\n",
              "      <td>198.27</td>\n",
              "    </tr>\n",
              "    <tr>\n",
              "      <th>SPD Smith</th>\n",
              "      <td>534</td>\n",
              "      <td>23.0</td>\n",
              "      <td>312</td>\n",
              "      <td>23.22</td>\n",
              "      <td>171.15</td>\n",
              "    </tr>\n",
              "    <tr>\n",
              "      <th>DJ Bravo</th>\n",
              "      <td>742</td>\n",
              "      <td>32.0</td>\n",
              "      <td>401</td>\n",
              "      <td>23.19</td>\n",
              "      <td>185.04</td>\n",
              "    </tr>\n",
              "    <tr>\n",
              "      <th>IK Pathan</th>\n",
              "      <td>563</td>\n",
              "      <td>25.0</td>\n",
              "      <td>359</td>\n",
              "      <td>22.52</td>\n",
              "      <td>156.82</td>\n",
              "    </tr>\n",
              "    <tr>\n",
              "      <th>JA Morkel</th>\n",
              "      <td>571</td>\n",
              "      <td>26.0</td>\n",
              "      <td>351</td>\n",
              "      <td>21.96</td>\n",
              "      <td>162.68</td>\n",
              "    </tr>\n",
              "    <tr>\n",
              "      <th>AT Rayudu</th>\n",
              "      <td>709</td>\n",
              "      <td>34.0</td>\n",
              "      <td>417</td>\n",
              "      <td>20.85</td>\n",
              "      <td>170.02</td>\n",
              "    </tr>\n",
              "    <tr>\n",
              "      <th>KD Karthik</th>\n",
              "      <td>921</td>\n",
              "      <td>47.0</td>\n",
              "      <td>505</td>\n",
              "      <td>19.60</td>\n",
              "      <td>182.38</td>\n",
              "    </tr>\n",
              "    <tr>\n",
              "      <th>MK Tiwary</th>\n",
              "      <td>501</td>\n",
              "      <td>26.0</td>\n",
              "      <td>326</td>\n",
              "      <td>19.27</td>\n",
              "      <td>153.68</td>\n",
              "    </tr>\n",
              "    <tr>\n",
              "      <th>RA Jadeja</th>\n",
              "      <td>906</td>\n",
              "      <td>48.0</td>\n",
              "      <td>596</td>\n",
              "      <td>18.88</td>\n",
              "      <td>152.01</td>\n",
              "    </tr>\n",
              "    <tr>\n",
              "      <th>Yuvraj Singh</th>\n",
              "      <td>601</td>\n",
              "      <td>33.0</td>\n",
              "      <td>337</td>\n",
              "      <td>18.21</td>\n",
              "      <td>178.34</td>\n",
              "    </tr>\n",
              "    <tr>\n",
              "      <th>Harbhajan Singh</th>\n",
              "      <td>577</td>\n",
              "      <td>41.0</td>\n",
              "      <td>366</td>\n",
              "      <td>14.07</td>\n",
              "      <td>157.65</td>\n",
              "    </tr>\n",
              "  </tbody>\n",
              "</table>\n",
              "</div>"
            ],
            "text/plain": [
              "                 batsman_runs  is_wicket  ...  Average  Strike Rate\n",
              "AB de Villiers           1254       31.0  ...    40.45       233.09\n",
              "JP Duminy                 712       21.0  ...    33.90       180.25\n",
              "MS Dhoni                 2303       73.0  ...    31.55       189.08\n",
              "HH Pandya                 838       29.0  ...    28.90       192.20\n",
              "SK Raina                  633       22.0  ...    28.77       171.54\n",
              "DA Miller                 590       21.0  ...    28.10       186.12\n",
              "V Kohli                   968       36.0  ...    26.89       205.52\n",
              "YK Pathan                 858       34.0  ...    25.24       166.60\n",
              "AD Russell                665       27.0  ...    24.63       218.03\n",
              "KA Pollard               1487       63.0  ...    23.60       185.41\n",
              "RG Sharma                1144       49.0  ...    23.35       198.27\n",
              "SPD Smith                 534       23.0  ...    23.22       171.15\n",
              "DJ Bravo                  742       32.0  ...    23.19       185.04\n",
              "IK Pathan                 563       25.0  ...    22.52       156.82\n",
              "JA Morkel                 571       26.0  ...    21.96       162.68\n",
              "AT Rayudu                 709       34.0  ...    20.85       170.02\n",
              "KD Karthik                921       47.0  ...    19.60       182.38\n",
              "MK Tiwary                 501       26.0  ...    19.27       153.68\n",
              "RA Jadeja                 906       48.0  ...    18.88       152.01\n",
              "Yuvraj Singh              601       33.0  ...    18.21       178.34\n",
              "Harbhajan Singh           577       41.0  ...    14.07       157.65\n",
              "\n",
              "[21 rows x 5 columns]"
            ]
          },
          "metadata": {
            "tags": []
          },
          "execution_count": 76
        }
      ]
    },
    {
      "cell_type": "code",
      "metadata": {
        "colab": {
          "base_uri": "https://localhost:8080/",
          "height": 693
        },
        "id": "JMFi5CDq-zxz",
        "outputId": "847d590f-4896-4397-bc0f-ef42f7b3b30f"
      },
      "source": [
        "df_powerplay_stat.sort_values(by='Strike Rate', ascending=False)"
      ],
      "execution_count": 77,
      "outputs": [
        {
          "output_type": "execute_result",
          "data": {
            "text/html": [
              "<div>\n",
              "<style scoped>\n",
              "    .dataframe tbody tr th:only-of-type {\n",
              "        vertical-align: middle;\n",
              "    }\n",
              "\n",
              "    .dataframe tbody tr th {\n",
              "        vertical-align: top;\n",
              "    }\n",
              "\n",
              "    .dataframe thead th {\n",
              "        text-align: right;\n",
              "    }\n",
              "</style>\n",
              "<table border=\"1\" class=\"dataframe\">\n",
              "  <thead>\n",
              "    <tr style=\"text-align: right;\">\n",
              "      <th></th>\n",
              "      <th>batsman_runs</th>\n",
              "      <th>is_wicket</th>\n",
              "      <th>Total balls faced</th>\n",
              "      <th>Average</th>\n",
              "      <th>Strike Rate</th>\n",
              "    </tr>\n",
              "  </thead>\n",
              "  <tbody>\n",
              "    <tr>\n",
              "      <th>AB de Villiers</th>\n",
              "      <td>1254</td>\n",
              "      <td>31.0</td>\n",
              "      <td>538</td>\n",
              "      <td>40.45</td>\n",
              "      <td>233.09</td>\n",
              "    </tr>\n",
              "    <tr>\n",
              "      <th>AD Russell</th>\n",
              "      <td>665</td>\n",
              "      <td>27.0</td>\n",
              "      <td>305</td>\n",
              "      <td>24.63</td>\n",
              "      <td>218.03</td>\n",
              "    </tr>\n",
              "    <tr>\n",
              "      <th>V Kohli</th>\n",
              "      <td>968</td>\n",
              "      <td>36.0</td>\n",
              "      <td>471</td>\n",
              "      <td>26.89</td>\n",
              "      <td>205.52</td>\n",
              "    </tr>\n",
              "    <tr>\n",
              "      <th>RG Sharma</th>\n",
              "      <td>1144</td>\n",
              "      <td>49.0</td>\n",
              "      <td>577</td>\n",
              "      <td>23.35</td>\n",
              "      <td>198.27</td>\n",
              "    </tr>\n",
              "    <tr>\n",
              "      <th>HH Pandya</th>\n",
              "      <td>838</td>\n",
              "      <td>29.0</td>\n",
              "      <td>436</td>\n",
              "      <td>28.90</td>\n",
              "      <td>192.20</td>\n",
              "    </tr>\n",
              "    <tr>\n",
              "      <th>MS Dhoni</th>\n",
              "      <td>2303</td>\n",
              "      <td>73.0</td>\n",
              "      <td>1218</td>\n",
              "      <td>31.55</td>\n",
              "      <td>189.08</td>\n",
              "    </tr>\n",
              "    <tr>\n",
              "      <th>DA Miller</th>\n",
              "      <td>590</td>\n",
              "      <td>21.0</td>\n",
              "      <td>317</td>\n",
              "      <td>28.10</td>\n",
              "      <td>186.12</td>\n",
              "    </tr>\n",
              "    <tr>\n",
              "      <th>KA Pollard</th>\n",
              "      <td>1487</td>\n",
              "      <td>63.0</td>\n",
              "      <td>802</td>\n",
              "      <td>23.60</td>\n",
              "      <td>185.41</td>\n",
              "    </tr>\n",
              "    <tr>\n",
              "      <th>DJ Bravo</th>\n",
              "      <td>742</td>\n",
              "      <td>32.0</td>\n",
              "      <td>401</td>\n",
              "      <td>23.19</td>\n",
              "      <td>185.04</td>\n",
              "    </tr>\n",
              "    <tr>\n",
              "      <th>KD Karthik</th>\n",
              "      <td>921</td>\n",
              "      <td>47.0</td>\n",
              "      <td>505</td>\n",
              "      <td>19.60</td>\n",
              "      <td>182.38</td>\n",
              "    </tr>\n",
              "    <tr>\n",
              "      <th>JP Duminy</th>\n",
              "      <td>712</td>\n",
              "      <td>21.0</td>\n",
              "      <td>395</td>\n",
              "      <td>33.90</td>\n",
              "      <td>180.25</td>\n",
              "    </tr>\n",
              "    <tr>\n",
              "      <th>Yuvraj Singh</th>\n",
              "      <td>601</td>\n",
              "      <td>33.0</td>\n",
              "      <td>337</td>\n",
              "      <td>18.21</td>\n",
              "      <td>178.34</td>\n",
              "    </tr>\n",
              "    <tr>\n",
              "      <th>SK Raina</th>\n",
              "      <td>633</td>\n",
              "      <td>22.0</td>\n",
              "      <td>369</td>\n",
              "      <td>28.77</td>\n",
              "      <td>171.54</td>\n",
              "    </tr>\n",
              "    <tr>\n",
              "      <th>SPD Smith</th>\n",
              "      <td>534</td>\n",
              "      <td>23.0</td>\n",
              "      <td>312</td>\n",
              "      <td>23.22</td>\n",
              "      <td>171.15</td>\n",
              "    </tr>\n",
              "    <tr>\n",
              "      <th>AT Rayudu</th>\n",
              "      <td>709</td>\n",
              "      <td>34.0</td>\n",
              "      <td>417</td>\n",
              "      <td>20.85</td>\n",
              "      <td>170.02</td>\n",
              "    </tr>\n",
              "    <tr>\n",
              "      <th>YK Pathan</th>\n",
              "      <td>858</td>\n",
              "      <td>34.0</td>\n",
              "      <td>515</td>\n",
              "      <td>25.24</td>\n",
              "      <td>166.60</td>\n",
              "    </tr>\n",
              "    <tr>\n",
              "      <th>JA Morkel</th>\n",
              "      <td>571</td>\n",
              "      <td>26.0</td>\n",
              "      <td>351</td>\n",
              "      <td>21.96</td>\n",
              "      <td>162.68</td>\n",
              "    </tr>\n",
              "    <tr>\n",
              "      <th>Harbhajan Singh</th>\n",
              "      <td>577</td>\n",
              "      <td>41.0</td>\n",
              "      <td>366</td>\n",
              "      <td>14.07</td>\n",
              "      <td>157.65</td>\n",
              "    </tr>\n",
              "    <tr>\n",
              "      <th>IK Pathan</th>\n",
              "      <td>563</td>\n",
              "      <td>25.0</td>\n",
              "      <td>359</td>\n",
              "      <td>22.52</td>\n",
              "      <td>156.82</td>\n",
              "    </tr>\n",
              "    <tr>\n",
              "      <th>MK Tiwary</th>\n",
              "      <td>501</td>\n",
              "      <td>26.0</td>\n",
              "      <td>326</td>\n",
              "      <td>19.27</td>\n",
              "      <td>153.68</td>\n",
              "    </tr>\n",
              "    <tr>\n",
              "      <th>RA Jadeja</th>\n",
              "      <td>906</td>\n",
              "      <td>48.0</td>\n",
              "      <td>596</td>\n",
              "      <td>18.88</td>\n",
              "      <td>152.01</td>\n",
              "    </tr>\n",
              "  </tbody>\n",
              "</table>\n",
              "</div>"
            ],
            "text/plain": [
              "                 batsman_runs  is_wicket  ...  Average  Strike Rate\n",
              "AB de Villiers           1254       31.0  ...    40.45       233.09\n",
              "AD Russell                665       27.0  ...    24.63       218.03\n",
              "V Kohli                   968       36.0  ...    26.89       205.52\n",
              "RG Sharma                1144       49.0  ...    23.35       198.27\n",
              "HH Pandya                 838       29.0  ...    28.90       192.20\n",
              "MS Dhoni                 2303       73.0  ...    31.55       189.08\n",
              "DA Miller                 590       21.0  ...    28.10       186.12\n",
              "KA Pollard               1487       63.0  ...    23.60       185.41\n",
              "DJ Bravo                  742       32.0  ...    23.19       185.04\n",
              "KD Karthik                921       47.0  ...    19.60       182.38\n",
              "JP Duminy                 712       21.0  ...    33.90       180.25\n",
              "Yuvraj Singh              601       33.0  ...    18.21       178.34\n",
              "SK Raina                  633       22.0  ...    28.77       171.54\n",
              "SPD Smith                 534       23.0  ...    23.22       171.15\n",
              "AT Rayudu                 709       34.0  ...    20.85       170.02\n",
              "YK Pathan                 858       34.0  ...    25.24       166.60\n",
              "JA Morkel                 571       26.0  ...    21.96       162.68\n",
              "Harbhajan Singh           577       41.0  ...    14.07       157.65\n",
              "IK Pathan                 563       25.0  ...    22.52       156.82\n",
              "MK Tiwary                 501       26.0  ...    19.27       153.68\n",
              "RA Jadeja                 906       48.0  ...    18.88       152.01\n",
              "\n",
              "[21 rows x 5 columns]"
            ]
          },
          "metadata": {
            "tags": []
          },
          "execution_count": 77
        }
      ]
    },
    {
      "cell_type": "code",
      "metadata": {
        "id": "lejNG8B07dF7"
      },
      "source": [
        ""
      ],
      "execution_count": null,
      "outputs": []
    },
    {
      "cell_type": "code",
      "metadata": {
        "id": "RanVbcs87bg4"
      },
      "source": [
        ""
      ],
      "execution_count": null,
      "outputs": []
    },
    {
      "cell_type": "code",
      "metadata": {
        "id": "RwXS1XUG7WS8"
      },
      "source": [
        ""
      ],
      "execution_count": null,
      "outputs": []
    },
    {
      "cell_type": "code",
      "metadata": {
        "id": "isKzk2wG7RTv"
      },
      "source": [
        ""
      ],
      "execution_count": null,
      "outputs": []
    },
    {
      "cell_type": "code",
      "metadata": {
        "id": "o58tmCX97Gl2"
      },
      "source": [
        ""
      ],
      "execution_count": null,
      "outputs": []
    },
    {
      "cell_type": "code",
      "metadata": {
        "id": "eGK2_OFo7C9k"
      },
      "source": [
        ""
      ],
      "execution_count": null,
      "outputs": []
    },
    {
      "cell_type": "code",
      "metadata": {
        "id": "VvhPQdrbxZkw"
      },
      "source": [
        ""
      ],
      "execution_count": null,
      "outputs": []
    },
    {
      "cell_type": "code",
      "metadata": {
        "id": "1u0aimX7xO9R"
      },
      "source": [
        ""
      ],
      "execution_count": null,
      "outputs": []
    },
    {
      "cell_type": "code",
      "metadata": {
        "id": "8Gz00x0gxMAf"
      },
      "source": [
        ""
      ],
      "execution_count": null,
      "outputs": []
    },
    {
      "cell_type": "code",
      "metadata": {
        "id": "AYpiLLlSwnqn"
      },
      "source": [
        ""
      ],
      "execution_count": null,
      "outputs": []
    },
    {
      "cell_type": "code",
      "metadata": {
        "id": "daWxzxKAwisW"
      },
      "source": [
        ""
      ],
      "execution_count": null,
      "outputs": []
    },
    {
      "cell_type": "code",
      "metadata": {
        "id": "HN2fgfcGv14R"
      },
      "source": [
        ""
      ],
      "execution_count": null,
      "outputs": []
    },
    {
      "cell_type": "code",
      "metadata": {
        "id": "KRl1pBnMvvfW"
      },
      "source": [
        ""
      ],
      "execution_count": null,
      "outputs": []
    },
    {
      "cell_type": "code",
      "metadata": {
        "id": "7NADtin-vrwm"
      },
      "source": [
        ""
      ],
      "execution_count": null,
      "outputs": []
    },
    {
      "cell_type": "code",
      "metadata": {
        "id": "D8TGEBs4uyL4"
      },
      "source": [
        ""
      ],
      "execution_count": null,
      "outputs": []
    },
    {
      "cell_type": "code",
      "metadata": {
        "id": "iOgDh3wxuenh"
      },
      "source": [
        ""
      ],
      "execution_count": null,
      "outputs": []
    },
    {
      "cell_type": "code",
      "metadata": {
        "id": "nPeyGYFRuU8G"
      },
      "source": [
        ""
      ],
      "execution_count": null,
      "outputs": []
    },
    {
      "cell_type": "code",
      "metadata": {
        "id": "mKpQNqSkuLCv"
      },
      "source": [
        ""
      ],
      "execution_count": null,
      "outputs": []
    },
    {
      "cell_type": "code",
      "metadata": {
        "id": "dmHfg4q9uDsc"
      },
      "source": [
        ""
      ],
      "execution_count": null,
      "outputs": []
    },
    {
      "cell_type": "code",
      "metadata": {
        "id": "KAeGn_1Ct_rV"
      },
      "source": [
        ""
      ],
      "execution_count": null,
      "outputs": []
    },
    {
      "cell_type": "code",
      "metadata": {
        "id": "HLsQw0pIt83z"
      },
      "source": [
        ""
      ],
      "execution_count": null,
      "outputs": []
    },
    {
      "cell_type": "code",
      "metadata": {
        "id": "HOL4H8Aut7CK"
      },
      "source": [
        ""
      ],
      "execution_count": null,
      "outputs": []
    },
    {
      "cell_type": "code",
      "metadata": {
        "id": "KRoVCTkBt1og"
      },
      "source": [
        ""
      ],
      "execution_count": null,
      "outputs": []
    },
    {
      "cell_type": "code",
      "metadata": {
        "id": "DQwzktqVtsAy"
      },
      "source": [
        ""
      ],
      "execution_count": null,
      "outputs": []
    },
    {
      "cell_type": "code",
      "metadata": {
        "id": "Uc__QzVwtfvb"
      },
      "source": [
        ""
      ],
      "execution_count": null,
      "outputs": []
    },
    {
      "cell_type": "code",
      "metadata": {
        "id": "4UDjWgdgtR0G"
      },
      "source": [
        ""
      ],
      "execution_count": null,
      "outputs": []
    },
    {
      "cell_type": "code",
      "metadata": {
        "id": "Z5l9UeyMtG2h"
      },
      "source": [
        ""
      ],
      "execution_count": null,
      "outputs": []
    },
    {
      "cell_type": "code",
      "metadata": {
        "id": "Uw0sIkEZqhuF"
      },
      "source": [
        ""
      ],
      "execution_count": null,
      "outputs": []
    },
    {
      "cell_type": "code",
      "metadata": {
        "id": "-fcBY2edqZO6"
      },
      "source": [
        ""
      ],
      "execution_count": null,
      "outputs": []
    },
    {
      "cell_type": "code",
      "metadata": {
        "id": "vSvBuw92qNTw"
      },
      "source": [
        ""
      ],
      "execution_count": null,
      "outputs": []
    },
    {
      "cell_type": "code",
      "metadata": {
        "id": "wxQiEuUNpS5-"
      },
      "source": [
        ""
      ],
      "execution_count": null,
      "outputs": []
    }
  ]
}